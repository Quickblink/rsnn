{
 "cells": [
  {
   "cell_type": "code",
   "execution_count": 19,
   "metadata": {
    "collapsed": true
   },
   "outputs": [
    {
     "name": "stdout",
     "output_type": "stream",
     "text": [
      "Using matplotlib backend: TkAgg\n"
     ]
    }
   ],
   "source": [
    "import sys\n",
    "sys.path.append('../')\n",
    "import torch\n",
    "from Code.NewNeurons import CooldownNeuron, NoResetNeuron, LIFNeuron, AdaptiveNeuron\n",
    "#from Code.everything6 import CooldownNeuron, NoResetNeuron, LIFNeuron, AdaptiveNeuron\n",
    "from matplotlib import pyplot as plt\n",
    "%matplotlib\n"
   ]
  },
  {
   "cell_type": "code",
   "execution_count": 20,
   "outputs": [],
   "source": [
    "base_config = {\n",
    "    'ALPHA': 0,\n",
    "    'TAU': 5,\n",
    "    'TAU_THR': 5,\n",
    "    'BETA': 0.8,\n",
    "    'ADAPDECAY': 1,\n",
    "    'OFFSET': 1.6,\n",
    "    'RESET_ZERO': False,\n",
    "    'DECODING': 'potential',\n",
    "    'SPIKE_FN': 'ss',\n",
    "    '1-beta': False,\n",
    "    'GAMMA': 1\n",
    "}"
   ],
   "metadata": {
    "collapsed": false,
    "pycharm": {
     "name": "#%%\n"
    }
   }
  },
  {
   "cell_type": "code",
   "execution_count": 21,
   "outputs": [],
   "source": [
    "x = torch.linspace(-3, 3, 100)\n",
    "\n",
    "elu = torch.nn.ELU()\n",
    "def cd_trans(x):\n",
    "    return elu(x-base_config['OFFSET']) + 1\n",
    "\n"
   ],
   "metadata": {
    "collapsed": false,
    "pycharm": {
     "name": "#%%\n"
    }
   }
  },
  {
   "cell_type": "code",
   "execution_count": 22,
   "outputs": [],
   "source": [
    "\n",
    "\n",
    "it = torch.linspace(0, 9, 10)\n",
    "ix = torch.tensor([0, 0.5, 2, -1, 0, -0.5, 2, 1, -0.3, -1]) *0.8\n",
    "ix = torch.tensor([0, -1, 1, 1, 0, -1, 1, 1, 0, 1], dtype=torch.float)\n",
    "\n",
    "#plt.plot(it, torch.cumsum(cd_trans(ix), 0))\n",
    "\n",
    "bt = torch.linspace(0, 1, 11)\n",
    "#cy = torch.cumsum(cd_trans(ix), 0)\n"
   ],
   "metadata": {
    "collapsed": false,
    "pycharm": {
     "name": "#%%\n"
    }
   }
  },
  {
   "cell_type": "code",
   "execution_count": 5,
   "outputs": [],
   "source": [
    "inp = [] # collect ix + trans\n",
    "mem = [] # collect out\n",
    "\n",
    "cd_neuron = CooldownNeuron(1, base_config)\n",
    "out = torch.empty([10])\n",
    "h = 0\n",
    "for i in range(10):\n",
    "    _, h = cd_neuron(ix[i], h)\n",
    "    out[i] = h\n",
    "\n",
    "inp.append(cd_trans(ix))\n",
    "mem.append(out)\n",
    "\n",
    "neuron = NoResetNeuron(1, base_config)\n",
    "out = torch.empty([10])\n",
    "h = [0]\n",
    "for i in range(10):\n",
    "    _, h = neuron(ix[i], h)\n",
    "    out[i] = h[0]\n",
    "\n",
    "inp.append(ix)\n",
    "mem.append(out)\n",
    "\n",
    "\n",
    "neuron = LIFNeuron(1, base_config)\n",
    "out = torch.empty([10])\n",
    "h = [0]\n",
    "for i in range(10):\n",
    "    _, h = neuron(ix[i], h)\n",
    "    out[i] = h[0]\n",
    "\n",
    "inp.append(ix)\n",
    "mem.append(out)\n",
    "\n",
    "xout = torch.empty([13])\n",
    "out2 = torch.empty([13])\n",
    "h = [0]\n",
    "k = 0\n",
    "for i in range(10):\n",
    "    spike, h = neuron(ix[i], h)\n",
    "    out2[k] = h[0] + spike\n",
    "    xout[k] = i\n",
    "    if spike == 1:\n",
    "        k += 1\n",
    "        out2[k] = h[0]\n",
    "        xout[k] = i\n",
    "    k += 1\n",
    "\n",
    "\n",
    "\n"
   ],
   "metadata": {
    "collapsed": false,
    "pycharm": {
     "name": "#%%\n"
    }
   }
  },
  {
   "cell_type": "code",
   "execution_count": 6,
   "outputs": [],
   "source": [
    "\n",
    "fig, axs = plt.subplots(1, 2, sharey=True, gridspec_kw={'width_ratios': [2, 1], 'wspace': 0.3, }, facecolor='white', figsize=(15,4))\n",
    "axs[0].plot(it, cd_trans(ix), label='Transformed Input')\n",
    "axs[0].plot(it, ix, label='Input')\n",
    "axs[1].plot(x, cd_trans(x), label='Input Tranformation')\n",
    "#axs[1].set_xticks([0,1,2])\n",
    "axs[0].set(xlabel='time steps', ylabel='input')\n",
    "axs[1].set(xlabel='input', ylabel='transformed input')\n",
    "for i in [0]:\n",
    "    axs[i].set_xticks(it)\n",
    "    axs[i].grid(axis='x')\n",
    "\n",
    "#axs[1].set_aspect(1)\n",
    "#axs[0].set_aspect('equal')\n",
    "#axs[0].set_ylim(-3,3)\n",
    "#for ax in axs.flat:\n",
    "#    ax.label_outer()\n",
    "\n",
    "for i in [0, 1]:\n",
    "    axs[i].axhline(0, c='grey')\n",
    "    axs[i].legend()\n",
    "    axs[i].yaxis.set_tick_params(labelleft=True)\n",
    "\n"
   ],
   "metadata": {
    "collapsed": false,
    "pycharm": {
     "name": "#%%\n"
    }
   }
  },
  {
   "cell_type": "code",
   "execution_count": 7,
   "outputs": [],
   "source": [
    "titles = ['Cooldown Neuron', 'No-Reset Neuron', 'LIF Neuron']\n",
    "\n",
    "fig, axs = plt.subplots(1, 3, sharey=True, sharex=True, gridspec_kw={'width_ratios': [1, 1, 1], 'wspace': 0, }, facecolor='white', figsize=(15,4))\n",
    "for i in range(2):\n",
    "    axs[i].plot(it, mem[i], label='Membrane Potential')\n",
    "\n",
    "axs[2].plot(xout, out2, label='Membrane Potential')\n",
    "\n",
    "for i in range(3):\n",
    "    #for k in range(9):\n",
    "    #    axs[i].plot(bt+k, 0.3**bt*mem[i][k], color='green', label='Projected Change: Decay' if k == 0 else None)\n",
    "    #    axs[i].plot((k, k+1), (mem[i][k], mem[i][k]+inp[i][k+1]), color='orange', label='Projected Change: Input' if k == 0 else None)\n",
    "    axs[i].set_xticks(it)\n",
    "    axs[i].grid(axis='x')\n",
    "    axs[i].axhline(1, c='black')\n",
    "    axs[i].axhline(0, c='grey')\n",
    "    axs[i].set(ylabel='potential')\n",
    "    axs[i].set_title(titles[i])\n",
    "    axs[i].axvspan(6, 8, alpha=0.3, color='grey')\n",
    "\n",
    "    #axs[i].yaxis.set_tick_params(labelleft=True)\n",
    "for i in range(1, 3):\n",
    "    axs[i].axvspan(2, 3, alpha=0.3, color='grey')\n",
    "\n",
    "\n",
    "axs[1].set(xlabel='time steps', ylabel='potential')\n",
    "axs[0].legend(loc='upper left')\n",
    "\n",
    "for ax in axs.flat:\n",
    "    ax.label_outer()"
   ],
   "metadata": {
    "collapsed": false,
    "pycharm": {
     "name": "#%%\n"
    }
   }
  },
  {
   "cell_type": "code",
   "execution_count": 23,
   "outputs": [],
   "source": [
    "titles = ['Adaptive Neuron', 'No-Reset Neuron', 'LIF Neuron']\n",
    "\n",
    "\n",
    "inp = [] # collect ix + trans\n",
    "mem = [] # collect out\n",
    "\n",
    "neuron = AdaptiveNeuron(1, base_config)\n",
    "\n",
    "xout = torch.empty([20])\n",
    "out2 = torch.empty([20])\n",
    "thresh = torch.empty([10])\n",
    "h = [0,1]\n",
    "k = 0\n",
    "for i in range(10):\n",
    "    thresh[i] = h[1]\n",
    "    spike, h = neuron(ix[i], h)\n",
    "    out2[k] = h[0] + thresh[i] * spike\n",
    "    xout[k] = i\n",
    "    if spike == 1:\n",
    "        k += 1\n",
    "        out2[k] = h[0]\n",
    "        xout[k] = i\n",
    "        #thresh[k] = h[1]\n",
    "    k += 1\n",
    "\n",
    "inp.append(xout[:k])\n",
    "mem.append(out2[:k])\n",
    "\n",
    "neuron = NoResetNeuron(1, base_config)\n",
    "out = torch.empty([10])\n",
    "h = [0]\n",
    "for i in range(10):\n",
    "    _, h = neuron(ix[i], h)\n",
    "    out[i] = h[0]\n",
    "\n",
    "inp.append(it)\n",
    "mem.append(out)\n",
    "\n",
    "\n",
    "neuron = LIFNeuron(1, base_config)\n",
    "\n",
    "xout = torch.empty([20])\n",
    "out2 = torch.empty([20])\n",
    "h = [0]\n",
    "k = 0\n",
    "for i in range(10):\n",
    "    spike, h = neuron(ix[i], h)\n",
    "    out2[k] = h[0] + spike\n",
    "    xout[k] = i\n",
    "    if spike == 1:\n",
    "        k += 1\n",
    "        out2[k] = h[0]\n",
    "        xout[k] = i\n",
    "    k += 1\n",
    "\n",
    "inp.append(xout[:k])\n",
    "mem.append(out2[:k])\n",
    "\n",
    "\n",
    "neuron = CooldownNeuron(1, base_config)\n",
    "out = torch.empty([10])\n",
    "h = 0\n",
    "for i in range(10):\n",
    "    _, h = neuron(ix[i], h)\n",
    "    out[i] = h\n",
    "\n",
    "inp.append(it)\n",
    "mem.append(out)"
   ],
   "metadata": {
    "collapsed": false,
    "pycharm": {
     "name": "#%%\n"
    }
   }
  },
  {
   "cell_type": "code",
   "execution_count": 26,
   "outputs": [
    {
     "data": {
      "text/plain": "<matplotlib.legend.Legend at 0x7f3435303748>"
     },
     "execution_count": 26,
     "metadata": {},
     "output_type": "execute_result"
    }
   ],
   "source": [
    "i=2\n",
    "plt.plot(inp[i], mem[i], label='Membrane Potential')\n",
    "plt.xticks(it)\n",
    "plt.grid(axis='x')\n",
    "plt.axhline(1, c='black')\n",
    "plt.axhline(0, c='grey')\n",
    "plt.ylabel('potential')\n",
    "plt.xlabel('time steps')\n",
    "#plt.title(titles[i])\n",
    "plt.axvspan(6, 8, alpha=0.3, color='grey')\n",
    "plt.axvspan(2, 3, alpha=0.3, color='grey')\n",
    "plt.legend()"
   ],
   "metadata": {
    "collapsed": false,
    "pycharm": {
     "name": "#%%\n"
    }
   }
  },
  {
   "cell_type": "code",
   "execution_count": 16,
   "outputs": [
    {
     "data": {
      "text/plain": "<matplotlib.legend.Legend at 0x7f8bd7ef06d8>"
     },
     "execution_count": 16,
     "metadata": {},
     "output_type": "execute_result"
    }
   ],
   "source": [
    "i=0\n",
    "plt.plot(inp[i], mem[i], label='Membrane Potential')\n",
    "plt.xticks(it)\n",
    "plt.grid(axis='x')\n",
    "plt.plot(it, thresh, color='black')\n",
    "plt.axhline(0, c='grey')\n",
    "plt.ylabel('potential')\n",
    "plt.xlabel('time steps')\n",
    "#plt.title(titles[i])\n",
    "plt.axvspan(7, 8, alpha=0.3, color='grey')\n",
    "plt.axvspan(2, 3, alpha=0.3, color='grey')\n",
    "plt.legend()"
   ],
   "metadata": {
    "collapsed": false,
    "pycharm": {
     "name": "#%%\n"
    }
   }
  },
  {
   "cell_type": "code",
   "execution_count": 17,
   "outputs": [
    {
     "data": {
      "text/plain": "<matplotlib.legend.Legend at 0x7f8bd7e70390>"
     },
     "execution_count": 17,
     "metadata": {},
     "output_type": "execute_result"
    }
   ],
   "source": [
    "i=1\n",
    "plt.plot(inp[i], mem[i], label='Membrane Potential')\n",
    "plt.xticks(it)\n",
    "plt.grid(axis='x')\n",
    "plt.axhline(1, c='black')\n",
    "plt.axhline(0, c='grey')\n",
    "plt.ylabel('potential')\n",
    "plt.xlabel('time steps')\n",
    "#plt.title(titles[i])\n",
    "plt.axvspan(6, 9, alpha=0.3, color='grey')\n",
    "plt.axvspan(2, 5, alpha=0.3, color='grey')\n",
    "plt.legend()"
   ],
   "metadata": {
    "collapsed": false,
    "pycharm": {
     "name": "#%%\n"
    }
   }
  },
  {
   "cell_type": "code",
   "execution_count": 24,
   "outputs": [
    {
     "data": {
      "text/plain": "<matplotlib.legend.Legend at 0x7f343525a320>"
     },
     "execution_count": 24,
     "metadata": {},
     "output_type": "execute_result"
    }
   ],
   "source": [
    "i=3\n",
    "plt.plot(inp[i], mem[i], label='Membrane Potential')\n",
    "plt.xticks(it)\n",
    "plt.grid(axis='x')\n",
    "plt.axhline(1, c='black')\n",
    "plt.axhline(0, c='grey')\n",
    "plt.ylabel('potential')\n",
    "plt.xlabel('time steps')\n",
    "#plt.title(titles[i])\n",
    "plt.axvspan(6, 9, alpha=0.3, color='grey')\n",
    "plt.axvspan(2, 5, alpha=0.3, color='grey')\n",
    "plt.legend()"
   ],
   "metadata": {
    "collapsed": false,
    "pycharm": {
     "name": "#%%\n"
    }
   }
  },
  {
   "cell_type": "code",
   "execution_count": null,
   "outputs": [],
   "source": [
    "\n",
    "import matplotlib as mpl\n",
    "mpl.rcParams['lines.linewidth'] = 3"
   ],
   "metadata": {
    "collapsed": false,
    "pycharm": {
     "name": "#%%\n"
    }
   }
  },
  {
   "cell_type": "code",
   "execution_count": null,
   "outputs": [],
   "source": [
    "fig, ax = plt.subplots()\n",
    "rects1 = ax.bar([0], [92.2])\n",
    "rects2 = ax.bar([1], [93.3])\n",
    "rects3 = ax.bar([2], [98.5])\n",
    "ax.set_xticks(range(3))\n",
    "ax.set_xticklabels(['NoReset', 'Adaptive', 'LSTM'])\n",
    "def autolabel(rects):\n",
    "    \"\"\"Attach a text label above each bar in *rects*, displaying its height.\"\"\"\n",
    "    for rect in rects:\n",
    "        height = rect.get_height()\n",
    "        ax.annotate('{}'.format(height),\n",
    "                    xy=(rect.get_x() + rect.get_width() / 2, height),\n",
    "                    xytext=(0, 1),  # 3 points vertical offset\n",
    "                    textcoords=\"offset points\",\n",
    "                    ha='center', va='bottom')\n",
    "autolabel(rects1)\n",
    "autolabel(rects2)\n",
    "autolabel(rects3)"
   ],
   "metadata": {
    "collapsed": false,
    "pycharm": {
     "name": "#%%\n"
    }
   }
  },
  {
   "cell_type": "code",
   "execution_count": 14,
   "outputs": [],
   "source": [
    "i = 3\n",
    "data = torch.cat((inp[i].view(-1,1), mem[i].view(-1,1)), dim=1).tolist()\n",
    "#data = torch.cat((it.view(-1,1), thresh.view(-1,1)), dim=1).tolist()\n",
    "\n",
    "import csv\n",
    "with open('../cooldown.csv', 'w') as csvfile: #, newline=''\n",
    "    spamwriter = csv.writer(csvfile, delimiter=' ',\n",
    "                            quotechar='|', quoting=csv.QUOTE_MINIMAL)\n",
    "    #spamwriter.writerow(['Spam'] * 5 + ['Baked Beans'])\n",
    "    #spamwriter.writerow(['Spam', 'Lovely Spam', 'Wonderful Spam'])\n",
    "    spamwriter.writerows(data)"
   ],
   "metadata": {
    "collapsed": false,
    "pycharm": {
     "name": "#%%\n"
    }
   }
  },
  {
   "cell_type": "code",
   "execution_count": null,
   "outputs": [],
   "source": [
    "thresh"
   ],
   "metadata": {
    "collapsed": false,
    "pycharm": {
     "name": "#%%\n"
    }
   }
  },
  {
   "cell_type": "code",
   "execution_count": null,
   "outputs": [],
   "source": [],
   "metadata": {
    "collapsed": false,
    "pycharm": {
     "name": "#%%\n"
    }
   }
  }
 ],
 "metadata": {
  "kernelspec": {
   "display_name": "Python 3",
   "language": "python",
   "name": "python3"
  },
  "language_info": {
   "codemirror_mode": {
    "name": "ipython",
    "version": 2
   },
   "file_extension": ".py",
   "mimetype": "text/x-python",
   "name": "python",
   "nbconvert_exporter": "python",
   "pygments_lexer": "ipython2",
   "version": "2.7.6"
  }
 },
 "nbformat": 4,
 "nbformat_minor": 0
}