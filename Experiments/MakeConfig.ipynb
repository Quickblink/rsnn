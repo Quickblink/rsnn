{
 "cells": [
  {
   "cell_type": "code",
   "execution_count": 2,
   "metadata": {
    "collapsed": true
   },
   "outputs": [],
   "source": [
    "import json\n",
    "import shlex"
   ]
  },
  {
   "cell_type": "code",
   "execution_count": 6,
   "outputs": [],
   "source": [
    "con_id = 'config8'\n",
    "\n",
    "config = {}\n",
    "\n",
    "#config['cmd'] = \"docker build -t imrsnn . && nvidia-docker run -v ~/eric/rsnn:/home/developer --net host --ipc host --rm -t imrsnn python3 Code/run_exp.py \"+con_id\n",
    "#config['cmd'] = \"docker build -t imrsnn . && nvidia-docker run -v /home/eric/PycharmProjects/rsnn:/home/developer --name \" +con_id+\" --net host --ipc host --rm -t imrsnn python3 Code/run_exp.py \"+con_id\n",
    "config['cmd'] = \"docker build -t imrsnn . && nvidia-docker run -v /home/ubuntu/eric/rsnn:/home/developer --name \" +con_id+\" --net host --ipc host --rm -t imrsnn python3 Code/run_exp.py \"+con_id\n",
    "#config['cmd'] = [\"nvidia-docker\", \"run\" , \"-v /home/eric/PycharmProjects/rsnn:/home/developer --net host --ipc host\", \"--rm\", \"-t\", \"imrsnn\", \"python3\", \"Code/run_exp.py\", str(con_id)]\n",
    "#config['cmd'] = shlex.split(\"nvidia-docker run -v /home/eric/PycharmProjects/rsnn:/home/developer --net host --ipc host --rm -t imrsnn python3 Code/run_exp.py\") + [str(con_id)]\n",
    "\n",
    "\n",
    "config['mem_req'] = 3000\n",
    "\n",
    "config['params'] = {\n",
    "    'spkfn' : 'ss',\n",
    "    'spkconfig' : 0,\n",
    "    'architecture': '1L',\n",
    "    'beta': 0.95,\n",
    "    'control_neuron': 'LIF',\n",
    "    'mem_neuron' : 'Adaptive',\n",
    "    'lr' : 1e-3,\n",
    "    '1-beta': False,\n",
    "    'decay_out': True,\n",
    "    'ported_weights': True,\n",
    "    'NoBias': True\n",
    "}"
   ],
   "metadata": {
    "collapsed": false,
    "pycharm": {
     "name": "#%%\n"
    }
   }
  },
  {
   "cell_type": "code",
   "execution_count": 7,
   "outputs": [],
   "source": [
    "with open('../configs/'+con_id+'.json', 'w') as myfile:\n",
    "    json.dump(config, myfile, indent=2)"
   ],
   "metadata": {
    "collapsed": false,
    "pycharm": {
     "name": "#%%\n"
    }
   }
  },
  {
   "cell_type": "code",
   "execution_count": 13,
   "outputs": [
    {
     "data": {
      "text/plain": "{'cmd': ['docker',\n  'build -t imrsnn . && nvidia-docker run -v /home/eric/PycharmProjects/rsnn:/home/developer --net host --ipc host --rm -t imrsnn python3 Code/run_exp.py config_home'],\n 'mem_req': 1000000000,\n 'params': {'spkfn': 'bellec',\n  'spkconfig': 0,\n  'architecture': '1L',\n  'beta': 0.95,\n  'control_neuron': 'LIF',\n  'mem_neuron': 'Adaptive',\n  'lr': 0.01,\n  '1-beta': True,\n  'decay_out': True}}"
     },
     "execution_count": 13,
     "metadata": {},
     "output_type": "execute_result"
    }
   ],
   "source": [
    "config"
   ],
   "metadata": {
    "collapsed": false,
    "pycharm": {
     "name": "#%%\n"
    }
   }
  },
  {
   "cell_type": "code",
   "execution_count": 9,
   "outputs": [
    {
     "data": {
      "text/plain": "['nvidia-docker',\n 'run',\n '-v',\n '~/eric/rsnn:/home/developer',\n '--net',\n 'host',\n '--ipc',\n 'host',\n '--rm',\n '-t',\n 'imrsnn',\n 'python3',\n 'Code/run_exp.py']"
     },
     "execution_count": 9,
     "metadata": {},
     "output_type": "execute_result"
    }
   ],
   "source": [],
   "metadata": {
    "collapsed": false,
    "pycharm": {
     "name": "#%%\n"
    }
   }
  },
  {
   "cell_type": "code",
   "execution_count": null,
   "outputs": [],
   "source": [
    "\n"
   ],
   "metadata": {
    "collapsed": false,
    "pycharm": {
     "name": "#%%\n"
    }
   }
  }
 ],
 "metadata": {
  "kernelspec": {
   "display_name": "Python 3",
   "language": "python",
   "name": "python3"
  },
  "language_info": {
   "codemirror_mode": {
    "name": "ipython",
    "version": 2
   },
   "file_extension": ".py",
   "mimetype": "text/x-python",
   "name": "python",
   "nbconvert_exporter": "python",
   "pygments_lexer": "ipython2",
   "version": "2.7.6"
  }
 },
 "nbformat": 4,
 "nbformat_minor": 0
}