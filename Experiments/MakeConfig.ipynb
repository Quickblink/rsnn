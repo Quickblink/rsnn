{
 "cells": [
  {
   "cell_type": "code",
   "execution_count": 2,
   "metadata": {
    "collapsed": true
   },
   "outputs": [],
   "source": [
    "import json\n",
    "import shlex"
   ]
  },
  {
   "cell_type": "code",
   "execution_count": 10,
   "outputs": [],
   "source": [
    "con_id = 'sq_nores4'#'flip_config1d'#'config40'\n",
    "\n",
    "config = {}\n",
    "\n",
    "#config['cmd'] = \"docker build -t imrsnn . && nvidia-docker run -v /home/ubuntu/eric/rsnn:/home/developer --name \" +con_id+\" --net host --ipc host --rm -t imrsnn python3 Code/run_exp.py \"+con_id\n",
    "config['cmd'] = \"docker build -t imrsnn . && nvidia-docker run -v /home/ubuntu/eric/rsnn:/home/developer --name \" +con_id+\" --net host --ipc host --rm -t imrsnn python3 Code/run_exp_new.py \"+con_id\n",
    "#config['cmd'] = \"docker build -t imrsnn . && nvidia-docker run -v /home/ubuntu/eric/rsnn:/home/developer --name \" +con_id+\" --net host --ipc host --rm -t imrsnn python3 Code/run_exp_lstm.py \"+con_id\n",
    "#config['cmd'] = \"docker build -t imrsnn . && nvidia-docker run -v /home/ubuntu/eric/rsnn:/home/developer --name \" +con_id+\" --net host --ipc host --rm -t imrsnn python3 Code/run_statemachine.py \"+con_id\n",
    "\n",
    "\n",
    "\n",
    "#config['cmd'] = \"docker build -t imrsnn . && nvidia-docker run -v ~/eric/rsnn:/home/developer --net host --ipc host --rm -t imrsnn python3 Code/run_exp.py \"+con_id\n",
    "#config['cmd'] = \"docker build -t imrsnn . && nvidia-docker run -v /home/eric/PycharmProjects/rsnn:/home/developer --name \" +con_id+\" --net host --ipc host --rm -t imrsnn python3 Code/run_exp.py \"+con_id\n",
    "#config['cmd'] = [\"nvidia-docker\", \"run\" , \"-v /home/eric/PycharmProjects/rsnn:/home/developer --net host --ipc host\", \"--rm\", \"-t\", \"imrsnn\", \"python3\", \"Code/run_exp.py\", str(con_id)]\n",
    "#config['cmd'] = shlex.split(\"nvidia-docker run -v /home/eric/PycharmProjects/rsnn:/home/developer --net host --ipc host --rm -t imrsnn python3 Code/run_exp.py\") + [str(con_id)]\n",
    "\n",
    "config['progress'] = 0\n",
    "\n",
    "config['mem_req'] = 4000\n",
    "\n",
    "\n",
    "config['params'] = {\n",
    "   '1-beta': 'improved',\n",
    "   'architecture': '1L',\n",
    "   'mem_neuron': 'Cooldown',\n",
    "   'char_dur': 20,\n",
    "   'n_mem': 10\n",
    "}\n",
    "\n",
    "config['params'] = {\n",
    "    'spkfn' : 'ss',\n",
    "    'architecture': '1L',\n",
    "    'beta': 0.9,\n",
    "    'mem_beta': 0.95,\n",
    "    'control_neuron': 'LIF',\n",
    "    'mem_neuron' : 'NoReset',\n",
    "    'lr' : 1e-3,\n",
    "    'lr_decay': 0.9,\n",
    "    '1-beta': 'improved',\n",
    "    'decay_out': False,\n",
    "    'iterations': 36000,\n",
    "    'batch_size': 256\n",
    "}\n"
   ],
   "metadata": {
    "collapsed": false,
    "pycharm": {
     "name": "#%%\n"
    }
   }
  },
  {
   "cell_type": "code",
   "execution_count": 11,
   "outputs": [],
   "source": [
    "with open('../configs/'+con_id+'.json', 'w') as myfile:\n",
    "    json.dump(config, myfile, indent=2)"
   ],
   "metadata": {
    "collapsed": false,
    "pycharm": {
     "name": "#%%\n"
    }
   }
  },
  {
   "cell_type": "code",
   "execution_count": 8,
   "outputs": [],
   "source": [
    "config['params'] = {\n",
    "    \"lr\": 0.001,\n",
    "    \"lr_decay\": 0.8,\n",
    "    \"iterations\": 36000,\n",
    "    \"batch_size\": 256,\n",
    "  }"
   ],
   "metadata": {
    "collapsed": false,
    "pycharm": {
     "name": "#%%\n"
    }
   }
  },
  {
   "cell_type": "code",
   "execution_count": 6,
   "outputs": [],
   "source": [
    "config['params'] = {\n",
    "    \"beta\": 0.9,\n",
    "    \"lr\": 0.001,\n",
    "    \"lr_decay\": 0.8,\n",
    "    \"1-beta\": False,\n",
    "    \"ported_weights\": True,\n",
    "    \"NoBias\": True,\n",
    "    \"iterations\": 36000,\n",
    "    \"batch_size\": 256,\n",
    "    \"mem_beta\": 0.9,\n",
    "    \"spkfn\": \"ss\",\n",
    "    \"decay_out\": False,\n",
    "    \"architecture\": \"1L\",\n",
    "    \"control_neuron\": \"LIF\",\n",
    "    \"mem_neuron\": \"FlipFlop\"\n",
    "  }"
   ],
   "metadata": {
    "collapsed": false,
    "pycharm": {
     "name": "#%%\n"
    }
   }
  },
  {
   "cell_type": "code",
   "execution_count": 6,
   "outputs": [
    {
     "name": "stdout",
     "output_type": "stream",
     "text": [
      "config19 Adaptive True\n",
      "config20 NoReset True\n",
      "config21 NoReset True\n",
      "config22 NoReset True\n",
      "config23 NoReset True\n",
      "config24 Cooldown False\n",
      "config25 Cooldown False\n",
      "config26 Cooldown False\n",
      "config27 Cooldown False\n",
      "config28 Cooldown False\n",
      "config29 Cooldown False\n",
      "config30 Cooldown False\n",
      "config31 Cooldown False\n",
      "config32 Cooldown False\n",
      "config33 Cooldown False\n",
      "config34 Cooldown True\n",
      "config35 Cooldown False\n",
      "config36 Cooldown False\n",
      "config37 Cooldown False\n",
      "config38 Cooldown False\n",
      "config39 NoReset False\n",
      "config40 NoReset False\n"
     ]
    }
   ],
   "source": [
    "ids = ['config'+str(x) for x in range(19,41)]\n",
    "#ids = ['config'+str(x) for x in range(25,37)]+['config2']\n",
    "\n",
    "for id in ids:\n",
    "    with open('../configs/'+id+'.json', 'r') as config_file:\n",
    "        rconfig = json.load(config_file)\n",
    "        print(id, rconfig['params']['mem_neuron'], rconfig['params']['ported_weights'])"
   ],
   "metadata": {
    "collapsed": false,
    "pycharm": {
     "name": "#%%\n"
    }
   }
  },
  {
   "cell_type": "code",
   "execution_count": 11,
   "outputs": [],
   "source": [
    "options = {\n",
    "    'spkfn' : ['bellec', 'superspike'],\n",
    "    'spkconfig' : [0, 1],\n",
    "    'architecture' : ['1L', '2L'],\n",
    "    'beta' : [0.95, 0.9],\n",
    "    'control_neuron' : ['Disc', 'LIF', 'NoReset'],\n",
    "    'mem_neuron' : ['Adaptive', 'Cooldown', 'NoReset'],\n",
    "    'lr' : [1e-2, 1e-3],\n",
    "    '1-beta' : [True, False],\n",
    "    'decay_out': [True, False]\n",
    "}\n",
    "\n",
    "series_name = 'auto1_'\n",
    "\n",
    "id_cnt = 0\n",
    "\n",
    "def build_configs(options):\n",
    "    global id_cnt\n",
    "    if not options:\n",
    "        con_id = series_name+str(id_cnt)\n",
    "        config['cmd'] = \"docker build -t imrsnn . && nvidia-docker run -v /home/ubuntu/eric/rsnn:/home/developer --name \" +con_id+\" --net host --ipc host --rm -t imrsnn python3 Code/run_exp.py \"+con_id\n",
    "        with open('../configs/'+con_id+'.json', 'w') as myfile:\n",
    "            json.dump(config, myfile, indent=2)\n",
    "        id_cnt += 1\n",
    "        return\n",
    "    else:\n",
    "        new_options = options.copy()\n",
    "        attr, values = new_options.popitem()\n",
    "        for v in values:\n",
    "            config['params'][attr] = v\n",
    "            build_configs(new_options)"
   ],
   "metadata": {
    "collapsed": false,
    "pycharm": {
     "name": "#%%\n"
    }
   }
  },
  {
   "cell_type": "code",
   "execution_count": 12,
   "outputs": [],
   "source": [
    "config['params'] = {\n",
    "    'beta': 0.9,\n",
    "    'lr' : 3e-3,\n",
    "    'lr_decay': 0.8,\n",
    "    '1-beta': False,\n",
    "    'ported_weights': True,\n",
    "    'NoBias': True,\n",
    "    'iterations': 5000,\n",
    "    'batch_size': 128\n",
    "}\n",
    "\n",
    "some_options = {\n",
    "    'mem_neuron' : ['Adaptive', 'Cooldown', 'NoReset'],\n",
    "    'control_neuron' : ['Disc', 'LIF', 'NoReset'],\n",
    "    'architecture' : ['1L', '2L'],\n",
    "    'decay_out': [True, False],\n",
    "    'lr' : [1e-2, 1e-3],\n",
    "    'spkfn' : ['bellec', 'ss'],\n",
    "    'mem_beta' : [0.95, 1]\n",
    "}\n",
    "\n",
    "build_configs(some_options)\n",
    "\n"
   ],
   "metadata": {
    "collapsed": false,
    "pycharm": {
     "name": "#%%\n"
    }
   }
  },
  {
   "cell_type": "code",
   "execution_count": 3,
   "outputs": [],
   "source": [
    "\n",
    "n = 288#75\n",
    "ids = ['auto1_'+str(x) for x in range(n)]\n",
    "\n",
    "high_scores = []\n",
    "\n",
    "\n",
    "for id in ids:\n",
    "    with open('../configs/'+id+'.json', 'r') as config_file:\n",
    "        config1 = json.load(config_file)\n",
    "        high_scores.append((config1['stats']['val'][-1], config1['params']))\n",
    "\n",
    "sorted_high_scores = sorted(high_scores, key=(lambda x : x[0]), reverse=True)\n",
    "\n",
    "config['params'] = {\n",
    "    'beta': 0.9,\n",
    "    'lr' : 3e-3,\n",
    "    'lr_decay': 0.8,\n",
    "    '1-beta': False,\n",
    "    'ported_weights': True,\n",
    "    'NoBias': True,\n",
    "    'iterations': 36000,\n",
    "    'batch_size': 256\n",
    "}\n",
    "\n",
    "series_name = 'top1_'\n",
    "\n",
    "id_cnt = 0\n",
    "\n",
    "for score, params in sorted_high_scores[:10]:\n",
    "        con_id = series_name+str(id_cnt)\n",
    "        config['cmd'] = \"docker build -t imrsnn . && nvidia-docker run -v /home/ubuntu/eric/rsnn:/home/developer --name \" +con_id+\" --net host --ipc host --rm -t imrsnn python3 Code/run_exp.py \"+con_id\n",
    "        config['params'] = {\n",
    "            **params,\n",
    "            'iterations': 36000,\n",
    "            'batch_size': 256\n",
    "        }\n",
    "        with open('../configs/'+con_id+'.json', 'w') as myfile:\n",
    "            json.dump(config, myfile, indent=2)\n",
    "        id_cnt += 1"
   ],
   "metadata": {
    "collapsed": false,
    "pycharm": {
     "name": "#%%\n"
    }
   }
  },
  {
   "cell_type": "code",
   "execution_count": null,
   "outputs": [],
   "source": [
    "config['params'] = {\n",
    "    'spkfn' : 'ss',\n",
    "    'architecture': '1L',\n",
    "    'beta': 0.9,\n",
    "    'mem_beta': 0.9,\n",
    "    'control_neuron': 'LIF',\n",
    "    'mem_neuron' : 'Cooldown',\n",
    "    'lr' : 1e-3,\n",
    "    'lr_decay': 0.8,\n",
    "    '1-beta': 'improved',\n",
    "    'decay_out': False,\n",
    "    'iterations': 36000,\n",
    "    'batch_size': 256\n",
    "}\n",
    "\n",
    "config['params'] = {\n",
    "    'spkfn' : 'bellec',\n",
    "    'architecture': '1L',\n",
    "    'beta': 0.9,\n",
    "    'mem_beta': 0.95,\n",
    "    'control_neuron': 'LIF',\n",
    "    'mem_neuron' : 'Adaptive',\n",
    "    'lr' : 1e-2,\n",
    "    'lr_decay': 0.8,\n",
    "    '1-beta': 'improved',\n",
    "    'decay_out': False,\n",
    "    'iterations': 36000,\n",
    "    'batch_size': 256\n",
    "}"
   ],
   "metadata": {
    "collapsed": false,
    "pycharm": {
     "name": "#%%\n"
    }
   }
  },
  {
   "cell_type": "code",
   "execution_count": 4,
   "outputs": [],
   "source": [
    "#durs = [2, 4]#[20, 30, 40, 50]#[1,2,3,4,6,8,10,12,14,16,18]\n",
    "durs = [2, 4, 6, 8, 10 , 12, 14, 16, 18, 20, 30, 40, 50]\n",
    "#[1,3,4,5,6,7,8,9,10]\n",
    "\n",
    "for i, dur in enumerate(durs):\n",
    "    con_id = f'sm_nores_durs{i}'#'flip_config1d'#'config40'\n",
    "\n",
    "    config = {}\n",
    "    config['cmd'] = \"docker build -t imrsnn . && nvidia-docker run -v /home/ubuntu/eric/rsnn:/home/developer --name \" +con_id+\" --net host --ipc host --rm -t imrsnn python3 Code/run_statemachine.py \"+con_id\n",
    "\n",
    "    config['progress'] = 0\n",
    "\n",
    "    config['mem_req'] = 4000\n",
    "\n",
    "    config['params'] = {\n",
    "       '1-beta': 'improved',\n",
    "       'architecture': '1L',\n",
    "       'mem_neuron': 'NoReset',\n",
    "       'char_dur': dur,\n",
    "       'n_mem': 10,\n",
    "       #'decay_change': 2,\n",
    "    }\n",
    "\n",
    "    with open('../configs/'+con_id+'.json', 'w') as myfile:\n",
    "        json.dump(config, myfile, indent=2)"
   ],
   "metadata": {
    "collapsed": false,
    "pycharm": {
     "name": "#%%\n"
    }
   }
  },
  {
   "cell_type": "code",
   "execution_count": null,
   "outputs": [],
   "source": [],
   "metadata": {
    "collapsed": false,
    "pycharm": {
     "name": "#%%\n"
    }
   }
  }
 ],
 "metadata": {
  "kernelspec": {
   "display_name": "Python 3",
   "language": "python",
   "name": "python3"
  },
  "language_info": {
   "codemirror_mode": {
    "name": "ipython",
    "version": 2
   },
   "file_extension": ".py",
   "mimetype": "text/x-python",
   "name": "python",
   "nbconvert_exporter": "python",
   "pygments_lexer": "ipython2",
   "version": "2.7.6"
  }
 },
 "nbformat": 4,
 "nbformat_minor": 0
}