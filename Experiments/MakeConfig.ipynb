{
 "cells": [
  {
   "cell_type": "code",
   "execution_count": 1,
   "metadata": {
    "collapsed": true
   },
   "outputs": [],
   "source": [
    "import json\n",
    "import shlex"
   ]
  },
  {
   "cell_type": "code",
   "execution_count": 12,
   "outputs": [],
   "source": [
    "con_id = 'config28'\n",
    "\n",
    "config = {}\n",
    "\n",
    "#config['cmd'] = \"docker build -t imrsnn . && nvidia-docker run -v ~/eric/rsnn:/home/developer --net host --ipc host --rm -t imrsnn python3 Code/run_exp.py \"+con_id\n",
    "#config['cmd'] = \"docker build -t imrsnn . && nvidia-docker run -v /home/eric/PycharmProjects/rsnn:/home/developer --name \" +con_id+\" --net host --ipc host --rm -t imrsnn python3 Code/run_exp.py \"+con_id\n",
    "config['cmd'] = \"docker build -t imrsnn . && nvidia-docker run -v /home/ubuntu/eric/rsnn:/home/developer --name \" +con_id+\" --net host --ipc host --rm -t imrsnn python3 Code/run_exp.py \"+con_id\n",
    "#config['cmd'] = [\"nvidia-docker\", \"run\" , \"-v /home/eric/PycharmProjects/rsnn:/home/developer --net host --ipc host\", \"--rm\", \"-t\", \"imrsnn\", \"python3\", \"Code/run_exp.py\", str(con_id)]\n",
    "#config['cmd'] = shlex.split(\"nvidia-docker run -v /home/eric/PycharmProjects/rsnn:/home/developer --net host --ipc host --rm -t imrsnn python3 Code/run_exp.py\") + [str(con_id)]\n",
    "\n",
    "\n",
    "config['mem_req'] = 4000\n",
    "\n",
    "config['params'] = {\n",
    "    'spkfn' : 'bellec',\n",
    "    'spkconfig' : 0,\n",
    "    'architecture': '1L',\n",
    "    'beta': 0.95,\n",
    "    'mem_beta': 0.95,\n",
    "    'control_neuron': 'NoReset',\n",
    "    'mem_neuron' : 'NoReset',\n",
    "    'lr' : 1e-3,\n",
    "    'lr_decay': 0.8,\n",
    "    '1-beta': False,\n",
    "    'decay_out': True,\n",
    "    'ported_weights': True,\n",
    "    'NoBias': True\n",
    "}\n",
    "\n",
    "config['progress'] = 0"
   ],
   "metadata": {
    "collapsed": false,
    "pycharm": {
     "name": "#%%\n"
    }
   }
  },
  {
   "cell_type": "code",
   "execution_count": 14,
   "outputs": [],
   "source": [
    "with open('../configs/'+con_id+'.json', 'w') as myfile:\n",
    "    json.dump(config, myfile, indent=2)"
   ],
   "metadata": {
    "collapsed": false,
    "pycharm": {
     "name": "#%%\n"
    }
   }
  },
  {
   "cell_type": "code",
   "execution_count": 13,
   "outputs": [
    {
     "data": {
      "text/plain": "{'cmd': ['docker',\n  'build -t imrsnn . && nvidia-docker run -v /home/eric/PycharmProjects/rsnn:/home/developer --net host --ipc host --rm -t imrsnn python3 Code/run_exp.py config_home'],\n 'mem_req': 1000000000,\n 'params': {'spkfn': 'bellec',\n  'spkconfig': 0,\n  'architecture': '1L',\n  'beta': 0.95,\n  'control_neuron': 'LIF',\n  'mem_neuron': 'Adaptive',\n  'lr': 0.01,\n  '1-beta': True,\n  'decay_out': True}}"
     },
     "execution_count": 13,
     "metadata": {},
     "output_type": "execute_result"
    }
   ],
   "source": [
    "config"
   ],
   "metadata": {
    "collapsed": false,
    "pycharm": {
     "name": "#%%\n"
    }
   }
  },
  {
   "cell_type": "code",
   "execution_count": 13,
   "outputs": [],
   "source": [
    "config['params'] = {\n",
    "    'spkfn' : 'bellec',\n",
    "    'spkconfig' : 0,\n",
    "    'architecture': '2L',\n",
    "    'beta': 0.9,\n",
    "    'mem_beta': 1,\n",
    "    'control_neuron': 'NoReset',\n",
    "    'mem_neuron' : 'Cooldown',\n",
    "    'lr' : 1e-3,\n",
    "    'lr_decay': 0.9,\n",
    "    '1-beta': False,\n",
    "    'decay_out': False,\n",
    "    'ported_weights': False,\n",
    "    'NoBias': False\n",
    "}"
   ],
   "metadata": {
    "collapsed": false,
    "pycharm": {
     "name": "#%%\n"
    }
   }
  },
  {
   "cell_type": "code",
   "execution_count": null,
   "outputs": [],
   "source": [
    "\n"
   ],
   "metadata": {
    "collapsed": false,
    "pycharm": {
     "name": "#%%\n"
    }
   }
  }
 ],
 "metadata": {
  "kernelspec": {
   "display_name": "Python 3",
   "language": "python",
   "name": "python3"
  },
  "language_info": {
   "codemirror_mode": {
    "name": "ipython",
    "version": 2
   },
   "file_extension": ".py",
   "mimetype": "text/x-python",
   "name": "python",
   "nbconvert_exporter": "python",
   "pygments_lexer": "ipython2",
   "version": "2.7.6"
  }
 },
 "nbformat": 4,
 "nbformat_minor": 0
}