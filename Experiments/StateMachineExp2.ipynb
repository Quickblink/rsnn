{
 "cells": [
  {
   "cell_type": "code",
   "execution_count": 1,
   "metadata": {
    "collapsed": true
   },
   "outputs": [],
   "source": [
    "import sys\n",
    "sys.path.append('../')\n",
    "from Code.envs.statemachine import run, make_rythm, make_batch\n",
    "import torch\n",
    "import torch.nn as nn\n",
    "import torch.optim as optim\n",
    "import time\n",
    "from collections import OrderedDict\n",
    "\n",
    "from PIL import Image\n",
    "import numpy as np\n",
    "\n",
    "#from Code.everything5 import FlipFlopNFn"
   ]
  },
  {
   "cell_type": "code",
   "execution_count": 2,
   "outputs": [],
   "source": [
    "standard = {'beta': 0.8,\n",
    "   'lr': 0.001,\n",
    "   'NoBias': False, #no effect\n",
    "   'iterations': 5000,\n",
    "   'batch_size': 64,\n",
    "   'spkfn': 'bellec',\n",
    "   'decay_out': False,\n",
    "   'control_neuron': 'LIF',\n",
    "}\n",
    "\n",
    "spec = {\n",
    "    **standard,\n",
    "   '1-beta': 'improved',\n",
    "   'decay_change': 1,\n",
    "   'architecture': '1L',\n",
    "   'mem_neuron': 'FlipFlop',\n",
    "   'char_dur': 40,\n",
    "   'n_mem': 20\n",
    "}\n",
    "\n",
    "\n",
    "#spec['1-beta'] = False\n",
    "#spec['beta'] = 1"
   ],
   "metadata": {
    "collapsed": false,
    "pycharm": {
     "name": "#%%\n"
    }
   }
  },
  {
   "cell_type": "code",
   "execution_count": 3,
   "outputs": [],
   "source": [
    "BATCH_SIZE = spec['batch_size']\n",
    "\n",
    "device = torch.device('cuda')\n",
    "\n",
    "SEQ_LEN = 30\n",
    "CHAR_DUR = spec['char_dur']\n",
    "\n",
    "perm_num = 8\n",
    "n_input = perm_num + CHAR_DUR\n",
    "n_out = perm_num\n",
    "n_control = 100\n",
    "n_mem = spec['n_mem']\n",
    "\n",
    "MAIN_DECAY = np.exp(-1/(CHAR_DUR*spec['decay_change']))\n",
    "INPUT_RATE = 1.5/n_input"
   ],
   "metadata": {
    "collapsed": false,
    "pycharm": {
     "name": "#%%\n"
    }
   }
  },
  {
   "cell_type": "code",
   "execution_count": 4,
   "outputs": [],
   "source": [
    "#MAIN_DECAY = 1# = 0.99\n",
    "MAIN_DECAY = np.exp(-1/(CHAR_DUR)*0.5)\n",
    "ADAP_DECAY = np.exp(-1/(CHAR_DUR*2))\n",
    "\n"
   ],
   "metadata": {
    "collapsed": false,
    "pycharm": {
     "name": "#%%\n"
    }
   }
  },
  {
   "cell_type": "code",
   "execution_count": 65,
   "outputs": [
    {
     "name": "stdout",
     "output_type": "stream",
     "text": [
      "OrderedDict([('control', [[('input', 1), ('control', 1), ('mem', 1)], LIFNeuron(), <class 'torch.nn.modules.linear.Linear'>]), ('mem', [[('input', 1), ('control', 1), ('mem', 1)], NewFlipFlop(\n",
      "  (lif_on): LIFNeuron()\n",
      "  (lif_off): LIFNeuron()\n",
      "), <class 'torch.nn.modules.linear.Linear'>]), ('output', [[('control', 1), ('mem', 1)], BaseNeuron(), None])])\n"
     ]
    },
    {
     "data": {
      "text/plain": "OuterWrapper(\n  (model): DynNetwork(\n    (layers): ModuleDict(\n      (loop): SequenceWrapper(\n        (model): ParallelNetwork2(\n          (layers): ModuleDict(\n            (control): LIFNeuron()\n            (control_synapse): Linear(in_features=158, out_features=100, bias=True)\n            (mem): NoResetNeuron()\n            (mem_synapse): Linear(in_features=158, out_features=10, bias=True)\n            (output): BaseNeuron()\n          )\n        )\n      )\n      (output_synapse): Linear(in_features=110, out_features=8, bias=True)\n      (output): BaseNeuron()\n    )\n  )\n)"
     },
     "execution_count": 65,
     "metadata": {},
     "output_type": "execute_result"
    }
   ],
   "source": [
    "from Code.everything5 import DynNetwork, OuterWrapper, BaseNeuron, SequenceWrapper, ParallelNetwork, \\\n",
    " SeqOnlySpike, CooldownNeuron, OutputNeuron, LIFNeuron, NoResetNeuron, AdaptiveNeuron, FlipFlopNeuron, ParallelNetwork2, NewFlipFlop\n",
    "\n",
    "\n",
    "built_config = {\n",
    "    'BETA': spec['beta'],\n",
    "    'OFFSET': -np.log(1-MAIN_DECAY),#-np.log(1-spec['beta']),#3, # TODO: was 3 for config24\n",
    "    'SPIKE_FN': spec['spkfn'],\n",
    "    '1-beta': spec['1-beta'],\n",
    "    'ADAPDECAY': ADAP_DECAY, #0.9985,\n",
    "    'ADAPSCALE': 30,#180\n",
    "    'DECAY': MAIN_DECAY\n",
    "}\n",
    "\n",
    "#built_config['ADAPDECAY'] = 0.99\n",
    "\n",
    "mem_config = {\n",
    "    **built_config,\n",
    "    'BETA': spec['beta'] if spec['mem_neuron'] in ['Adaptive', 'LIF', 'FlipFlop'] else MAIN_DECAY\n",
    "}\n",
    "\n",
    "\n",
    "\n",
    "control_lookup = {\n",
    "    'LIF': LIFNeuron,\n",
    "    'Disc': SeqOnlySpike,\n",
    "    'NoReset': NoResetNeuron\n",
    "}\n",
    "\n",
    "mem_lookup = {\n",
    "    'Adaptive': AdaptiveNeuron,\n",
    "    'Cooldown': CooldownNeuron,\n",
    "    'NoReset': NoResetNeuron,\n",
    "    'FlipFlop': NewFlipFlop,#FlipFlopNeuron,\n",
    "    'LIF': LIFNeuron\n",
    "}\n",
    "\n",
    "control_neuron = control_lookup[spec['control_neuron']](n_control, built_config)\n",
    "mem_neuron = mem_lookup[spec['mem_neuron']](n_mem, mem_config)\n",
    "out_neuron_size = n_mem if spec['architecture'] == '2L' else n_mem+n_control\n",
    "out_neuron = OutputNeuron(out_neuron_size, built_config) if spec['decay_out'] else BaseNeuron(out_neuron_size, built_config)\n",
    "#out_neuron = LIFNeuron(n_control, built_config)\n",
    "#TODO: fix this for 1L\n",
    "\n",
    "#from mem only\n",
    "loop_2L = OrderedDict([\n",
    "    ('input', (n_input, INPUT_RATE)),\n",
    "    ('control', [['input', 'mem'], control_neuron, nn.Linear]),\n",
    "    ('mem', [['control'], mem_neuron, nn.Linear]),\n",
    "    ('output', [['mem'], out_neuron, nn.Linear]),\n",
    "])\n",
    "\n",
    "\n",
    "loop_1L = OrderedDict([\n",
    "    ('input', (n_input, INPUT_RATE)),\n",
    "    ('control', [['input', 'control', 'mem'], control_neuron, nn.Linear]),\n",
    "    ('mem', [['input', 'control', 'mem'], mem_neuron, nn.Linear]),\n",
    "    ('output', [['control', 'mem'], out_neuron, None]),\n",
    "])\n",
    "\n",
    "loop = loop_1L if spec['architecture'] == '1L' else loop_2L\n",
    "\n",
    "outer = OrderedDict([\n",
    "    ('input', n_input),\n",
    "    ('loop', [['input'], SequenceWrapper(ParallelNetwork2(loop, bias=(not spec['NoBias']))), None]),\n",
    "    ('output', [['loop'], BaseNeuron(n_out, None), nn.Linear]),\n",
    "])\n",
    "\n",
    "#model = OuterWrapper(DynNetwork(outer), device)\n",
    "\n",
    "model = OuterWrapper(torch.load('../models/sm_nores_durs11'))\n",
    "\n",
    "params = list(model.parameters())\n",
    "\n",
    "model.to(device)\n"
   ],
   "metadata": {
    "collapsed": false,
    "pycharm": {
     "name": "#%%\n"
    }
   }
  },
  {
   "cell_type": "code",
   "execution_count": 6,
   "outputs": [
    {
     "data": {
      "text/plain": "\"\\nfrom Code.everything4 import DynNetwork, OuterWrapper, LSTMWrapper, MeanModule, BaseNeuron\\n\\n\\nouter = OrderedDict([\\n    ('input', n_input),\\n    ('lstm', [['input'], LSTMWrapper(n_input, 128), None]),\\n    ('output', [['lstm'], BaseNeuron(n_out, None), nn.Linear]),\\n])\\n\\nmodel = OuterWrapper(DynNetwork(outer), device)\\n\\nwith torch.no_grad():\\n    model.model.layers.lstm.lstm.bias_hh_l0[:256] += 2\\n\\nparams = list(model.parameters())\\n\\n\\nmodel.to(device)\\n\\nspec['lr'] = 2e-4\\n\""
     },
     "execution_count": 6,
     "metadata": {},
     "output_type": "execute_result"
    }
   ],
   "source": [
    "'''\n",
    "from Code.everything4 import DynNetwork, OuterWrapper, LSTMWrapper, MeanModule, BaseNeuron\n",
    "\n",
    "\n",
    "outer = OrderedDict([\n",
    "    ('input', n_input),\n",
    "    ('lstm', [['input'], LSTMWrapper(n_input, 128), None]),\n",
    "    ('output', [['lstm'], BaseNeuron(n_out, None), nn.Linear]),\n",
    "])\n",
    "\n",
    "model = OuterWrapper(DynNetwork(outer), device)\n",
    "\n",
    "with torch.no_grad():\n",
    "    model.model.layers.lstm.lstm.bias_hh_l0[:256] += 2\n",
    "\n",
    "params = list(model.parameters())\n",
    "\n",
    "\n",
    "model.to(device)\n",
    "\n",
    "spec['lr'] = 2e-4\n",
    "'''"
   ],
   "metadata": {
    "collapsed": false,
    "pycharm": {
     "name": "#%%\n"
    }
   }
  },
  {
   "cell_type": "code",
   "execution_count": 6,
   "outputs": [],
   "source": [
    "lr = spec['lr']\n",
    "optimizer = optim.Adam(params, lr=lr)\n",
    "#bce = nn.BCEWithLogitsLoss(reduction='none')\n",
    "#ce = nn.CrossEntropyLoss() #reduction='none'\n",
    "\n",
    "\n",
    "ITERATIONS = spec['iterations']#36000\n",
    "\n",
    "\n",
    "lookup = torch.tensor([[6, 1, 4, 5, 7, 2, 0, 3],\n",
    "        [7, 0, 4, 2, 3, 1, 5, 6],\n",
    "        [0, 5, 6, 2, 4, 3, 7, 1],\n",
    "        [2, 7, 6, 4, 3, 1, 5, 0],\n",
    "        [0, 6, 4, 5, 2, 1, 7, 3],\n",
    "        [5, 1, 0, 6, 4, 7, 3, 2],\n",
    "        [4, 6, 1, 2, 5, 7, 0, 3],\n",
    "        [2, 7, 4, 3, 5, 6, 0, 1]], dtype=torch.long, device=device)"
   ],
   "metadata": {
    "collapsed": false,
    "pycharm": {
     "name": "#%%\n"
    }
   }
  },
  {
   "cell_type": "code",
   "execution_count": 7,
   "outputs": [],
   "source": [
    "seql = 100\n",
    "\n",
    "val_rythm = make_rythm(BATCH_SIZE, 100, CHAR_DUR, device)\n",
    "def validate():\n",
    "    acc, _, _ = run(model, lookup, val_rythm, BATCH_SIZE, 100, CHAR_DUR, perm_num, device)\n",
    "    print('Validation: ', acc)\n",
    "\n",
    "stats = {\n",
    "    'grad_norm': [],\n",
    "    'loss': [],\n",
    "    'acc': [],\n",
    "    'batch_var': [],\n",
    "    'val': []\n",
    "}\n",
    "\n",
    "grad_norm_history = []\n",
    "def record_norm():\n",
    "    norms = []\n",
    "    for p in params:\n",
    "        norms.append(p.grad.norm().item())\n",
    "    stats['grad_norm'].append(torch.tensor(norms).norm().item())\n",
    "    #print(stats['grad_norm'][-1])\n",
    "\n"
   ],
   "metadata": {
    "collapsed": false,
    "pycharm": {
     "name": "#%%\n"
    }
   }
  },
  {
   "cell_type": "code",
   "execution_count": 15,
   "outputs": [
    {
     "name": "stdout",
     "output_type": "stream",
     "text": [
      "0.36058728247880933 20\n",
      "0.35468750149011613 40\n",
      "0.36516702473163604 60\n",
      "0.3625269398093224 80\n",
      "0.3532596960663795 100\n",
      "Validation:  0.34564393758773804\n",
      "0.3478178858757019 120\n",
      "0.34385775625705717 140\n",
      "0.3506734862923622 160\n",
      "0.3750269368290901 180\n",
      "0.3841325432062149 200\n",
      "Validation:  0.3781565725803375\n",
      "0.40051185339689255 220\n",
      "0.4028825417160988 240\n",
      "0.3936152994632721 260\n",
      "0.39469288736581803 280\n",
      "0.41223060339689255 300\n",
      "Validation:  0.40956440567970276\n",
      "0.4039062514901161 320\n",
      "0.42737068682909013 340\n",
      "0.43973598927259444 360\n",
      "0.46231141984462737 380\n",
      "0.4656249970197678 400\n",
      "Validation:  0.4655934274196625\n",
      "0.47454202324151995 420\n",
      "0.4810883566737175 440\n",
      "0.4863415896892548 460\n",
      "0.4914062455296516 480\n",
      "0.5064116358757019 500\n",
      "Validation:  0.5134153962135315\n",
      "0.5116648659110069 520\n",
      "0.5158674508333206 540\n",
      "0.5252963364124298 560\n",
      "0.525377157330513 580\n",
      "0.5437230616807938 600\n",
      "Validation:  0.5317234992980957\n",
      "0.553232753276825 620\n",
      "0.5631196111440658 640\n",
      "0.5627155154943466 660\n",
      "0.5747575432062149 680\n",
      "0.5794181108474732 700\n",
      "Validation:  0.5694444179534912\n",
      "0.5803609907627105 720\n",
      "0.5913523674011231 740\n",
      "0.5983297467231751 760\n",
      "0.5924838334321976 780\n",
      "0.6062769383192063 800\n",
      "Validation:  0.6025883555412292\n",
      "0.605199345946312 820\n",
      "0.6101831793785095 840\n",
      "0.5949892282485962 860\n",
      "0.5863954663276673 880\n",
      "0.6060883641242981 900\n",
      "Validation:  0.6033775210380554\n",
      "0.6167025864124298 920\n",
      "0.6117726296186448 940\n",
      "0.6126885771751404 960\n",
      "0.6383890122175216 980\n",
      "0.6326777964830399 1000\n",
      "Validation:  0.6226325631141663\n",
      "0.6416217654943466 1020\n",
      "0.6554418057203293 1040\n",
      "0.6613416016101837 1060\n",
      "0.6647359818220139 1080\n",
      "0.6657596975564957 1100\n",
      "Validation:  0.669981062412262\n",
      "0.6812499940395356 1120\n",
      "0.6786637872457504 1140\n",
      "0.687095907330513 1160\n",
      "0.702101293206215 1180\n",
      "0.6972790956497192 1200\n",
      "Validation:  0.6925504803657532\n",
      "0.7016702562570571 1220\n",
      "0.7185344815254211 1240\n",
      "0.7059267222881317 1260\n",
      "0.7258890002965928 1280\n",
      "0.7253232717514038 1300\n",
      "Validation:  0.7189078330993652\n",
      "0.730064657330513 1320\n",
      "0.7318965524435044 1340\n",
      "0.7340786546468735 1360\n",
      "0.7445312470197678 1380\n",
      "0.7547683149576188 1400\n",
      "Validation:  0.7405303120613098\n",
      "0.7638739287853241 1420\n",
      "0.771955817937851 1440\n",
      "0.7758081763982773 1460\n",
      "0.7778556019067764 1480\n",
      "0.7834859848022461 1500\n",
      "Validation:  0.7732007503509521\n",
      "0.7872575432062149 1520\n",
      "0.7991648733615875 1540\n",
      "0.8004310250282287 1560\n",
      "0.8101023644208908 1580\n",
      "0.8150053799152375 1600\n",
      "Validation:  0.8227588534355164\n",
      "0.8201239168643951 1620\n",
      "0.816487067937851 1640\n",
      "0.824299567937851 1660\n",
      "0.8285290896892548 1680\n",
      "0.8323275804519653 1700\n",
      "Validation:  0.8268623948097229\n",
      "0.8349676698446273 1720\n",
      "0.8435614228248596 1740\n",
      "0.8494611978530884 1760\n",
      "0.84956896007061 1780\n",
      "0.8557381391525268 1800\n",
      "Validation:  0.8380681872367859\n",
      "0.8582165896892547 1820\n",
      "0.8669450372457504 1840\n",
      "0.8609374940395356 1860\n",
      "0.86640625 1880\n",
      "0.8702586174011231 1900\n",
      "Validation:  0.8663194179534912\n",
      "0.8702855587005616 1920\n",
      "0.879337278008461 1940\n",
      "0.8812230557203293 1960\n",
      "0.8864762902259826 1980\n",
      "0.8907596945762635 2000\n",
      "Validation:  0.8868371248245239\n",
      "0.892941802740097 2020\n",
      "0.8986799567937851 2040\n",
      "0.9006465464830399 2060\n",
      "0.9058728396892548 2080\n",
      "0.9082974076271058 2100\n",
      "Validation:  0.8967803120613098\n",
      "0.9117726176977158 2120\n",
      "0.9138200402259826 2140\n",
      "0.9120150834321976 2160\n",
      "0.917591592669487 2180\n",
      "0.9170258522033692 2200\n",
      "Validation:  0.9075126051902771\n",
      "0.916487067937851 2220\n",
      "0.919558185338974 2240\n",
      "0.925431028008461 2260\n",
      "0.9208782255649567 2280\n",
      "0.92535021007061 2300\n",
      "Validation:  0.9289772510528564\n",
      "0.9234105557203293 2320\n",
      "0.9248922348022461 2340\n",
      "0.9333512902259826 2360\n",
      "0.9257273644208908 2380\n",
      "0.9293372839689255 2400\n",
      "Validation:  0.9171401262283325\n",
      "0.9299568951129913 2420\n",
      "0.9299299567937851 2440\n",
      "0.9261314660310745 2460\n",
      "0.9275592625141144 2480\n",
      "0.9285560369491577 2500\n",
      "Validation:  0.9128788113594055\n",
      "0.9279094755649566 2520\n",
      "0.9352640062570572 2540\n",
      "0.9380387842655182 2560\n",
      "0.9364224165678025 2580\n",
      "0.9396551668643951 2600\n",
      "Validation:  0.9351325631141663\n",
      "0.9387930899858474 2620\n",
      "0.9307381451129914 2640\n",
      "0.9289870619773865 2660\n",
      "0.9451777935028076 2680\n",
      "0.9461745649576188 2700\n",
      "Validation:  0.9490214586257935\n",
      "0.9500538796186447 2720\n",
      "0.941783407330513 2740\n",
      "0.9412446081638336 2760\n",
      "0.9513739168643951 2780\n",
      "0.9536637872457504 2800\n",
      "Validation:  0.9461805820465088\n",
      "0.9470905184745788 2820\n",
      "0.9488146513700485 2840\n",
      "0.9408405125141144 2860\n",
      "0.9550646513700485 2880\n",
      "0.9499730557203293 2900\n",
      "Validation:  0.9395517706871033\n",
      "0.9538254290819168 2920\n",
      "0.955953660607338 2940\n",
      "0.9556303888559341 2960\n",
      "0.9593749940395355 2980\n",
      "0.9602640002965928 3000\n",
      "Validation:  0.955018937587738\n",
      "0.9592133581638336 3020\n",
      "0.9627155184745788 3040\n",
      "0.9626077532768249 3060\n",
      "0.9626616328954697 3080\n",
      "0.9642780125141144 3100\n",
      "Validation:  0.9537563323974609\n",
      "0.9682650864124298 3120\n",
      "0.9711206883192063 3140\n",
      "0.9721443891525269 3160\n",
      "0.9690463304519653 3180\n",
      "0.9739762902259826 3200\n",
      "Validation:  0.970643937587738\n",
      "0.9713362008333206 3220\n",
      "0.9730064600706101 3240\n",
      "0.9764277964830399 3260\n",
      "0.9745420277118683 3280\n",
      "0.972737067937851 3300\n",
      "Validation:  0.9696969985961914\n",
      "0.9679956883192062 3320\n",
      "0.9701778024435044 3340\n",
      "0.9767780125141143 3360\n",
      "0.9789062529802323 3380\n",
      "0.9764816701412201 3400\n",
      "Validation:  0.9769570827484131\n",
      "0.9779903024435044 3420\n",
      "0.9770474135875702 3440\n",
      "0.9784752130508423 3460\n",
      "0.9737338304519654 3480\n",
      "0.9714978396892547 3500\n",
      "Validation:  0.9654356241226196\n",
      "0.967133617401123 3520\n",
      "0.9694234877824783 3540\n",
      "0.9814655125141144 3560\n",
      "0.9843480557203292 3580\n",
      "0.9848329693078994 3600\n",
      "Validation:  0.9779040217399597\n",
      "0.9844019383192062 3620\n",
      "0.9838362008333206 3640\n",
      "0.982408395409584 3660\n",
      "0.9846982747316361 3680\n",
      "0.9837284475564957 3700\n",
      "Validation:  0.9848484992980957\n",
      "0.9815193891525269 3720\n",
      "0.9847790896892548 3740\n",
      "0.9838631361722946 3760\n",
      "0.9866648644208909 3780\n",
      "0.9859913766384125 3800\n",
      "Validation:  0.9851641654968262\n",
      "0.9819773703813552 3820\n",
      "0.9825161576271058 3840\n",
      "0.9866109848022461 3860\n",
      "0.9865032285451889 3880\n",
      "0.9871497839689255 3900\n",
      "Validation:  0.9865846037864685\n",
      "0.9824622720479965 3920\n",
      "0.9842133581638336 3940\n",
      "0.9854795217514039 3960\n",
      "0.9876077592372894 3980\n",
      "0.9905441790819168 4000\n",
      "Validation:  0.9895833134651184\n",
      "0.9889008581638337 4020\n",
      "0.9892510741949081 4040\n",
      "0.988011845946312 4060\n",
      "0.988442885875702 4080\n",
      "0.989547410607338 4100\n",
      "Validation:  0.9902146458625793\n",
      "0.991163793206215 4120\n",
      "0.9901400804519653 4140\n",
      "0.9914062410593033 4160\n",
      "0.990490299463272 4180\n",
      "0.9910560369491577 4200\n",
      "Validation:  0.9914772510528564\n",
      "0.991029092669487 4220\n",
      "0.9914062410593033 4240\n",
      "0.9920797348022461 4260\n",
      "0.9917834043502808 4280\n",
      "0.9919989168643951 4300\n",
      "Validation:  0.9943181872367859\n",
      "0.9932650774717331 4320\n",
      "0.9924030125141143 4340\n",
      "0.990813571214676 4360\n",
      "0.9914601236581803 4380\n",
      "0.9883620649576187 4400\n",
      "Validation:  0.9917929172515869\n",
      "0.9898976266384125 4420\n",
      "0.9896282225847244 4440\n",
      "0.9924838244915009 4460\n",
      "0.99453125 4480\n",
      "0.9926724106073379 4500\n",
      "Validation:  0.990688145160675\n",
      "0.9911099076271057 4520\n",
      "0.991675642132759 4540\n",
      "0.9937230527400971 4560\n",
      "0.9936152935028076 4580\n",
      "0.9914601296186447 4600\n",
      "Validation:  0.9905303120613098\n",
      "0.9938577592372895 4620\n",
      "0.9915678828954697 4640\n",
      "0.9931303828954696 4660\n",
      "0.9941540896892548 4680\n",
      "0.9917025834321975 4700\n",
      "Validation:  0.9902146458625793\n",
      "0.9936153024435044 4720\n",
      "0.9927262932062149 4740\n",
      "0.9920258611440659 4760\n",
      "0.9923221975564956 4780\n",
      "0.9947737008333206 4800\n",
      "Validation:  0.9910038113594055\n",
      "0.9933728456497193 4820\n",
      "0.9915948212146759 4840\n",
      "0.9942887842655181 4860\n",
      "0.9943157255649566 4880\n",
      "0.9943696141242981 4900\n",
      "Validation:  0.9930555820465088\n",
      "0.9944504261016845 4920\n",
      "0.9946120619773865 4940\n",
      "0.9923491328954697 4960\n",
      "0.9945312470197678 4980\n",
      "Total time:  10243.02176117897\n"
     ]
    }
   ],
   "source": [
    "train_rythm = make_rythm(BATCH_SIZE, SEQ_LEN, CHAR_DUR, device)\n",
    "\n",
    "\n",
    "start = time.time()\n",
    "i = 1\n",
    "sumloss = 0\n",
    "sumacc = 0\n",
    "\n",
    "while i < ITERATIONS:\n",
    "    batchstart = time.time()\n",
    "    optimizer.zero_grad()\n",
    "    acc, loss, _ = run(model, lookup, train_rythm, BATCH_SIZE, SEQ_LEN, CHAR_DUR, perm_num, device)\n",
    "\n",
    "    loss.backward()\n",
    "    optimizer.step()\n",
    "\n",
    "    with torch.no_grad():\n",
    "        record_norm()\n",
    "        stats['loss'].append(loss.item())\n",
    "        #acc = ((((output > 0).float() == target).float()*recall).sum()/recall.sum()).item()\n",
    "        #stats['acc'].append(acc)\n",
    "        batch_var = 3 #out_final.var(0).mean().item()\n",
    "        #stats['batch_var'].append(batch_var)\n",
    "\n",
    "        #print(loss.item(), acc1, acc2)\n",
    "\n",
    "\n",
    "    sumloss += loss.item()\n",
    "    sumacc += acc\n",
    "    if i%20 == 0:\n",
    "        print(sumacc/20, i)\n",
    "        #print(loss.item(), sumloss/20, sumacc/20, time.time()-batchstart, batch_var) #torch.argmax(outputs[-1], 1).float().var()\n",
    "        sumloss = 0\n",
    "        sumacc = 0\n",
    "    if i%100 == 0:\n",
    "        validate()\n",
    "    i += 1\n",
    "    #config['stats'] = stats\n",
    "    #config['progress'] = i\n",
    "    #with open('configs/' + run_id + '.json', 'w') as config_file:\n",
    "    #    json.dump(config, config_file, indent=2)\n",
    "    #model.save('models/'+run_id)\n",
    "\n",
    "\n",
    "print('Total time: ', time.time()-start)\n"
   ],
   "metadata": {
    "collapsed": false,
    "pycharm": {
     "name": "#%%\n"
    }
   }
  },
  {
   "cell_type": "code",
   "execution_count": null,
   "outputs": [],
   "source": [],
   "metadata": {
    "collapsed": false,
    "pycharm": {
     "name": "#%%\n"
    }
   }
  },
  {
   "cell_type": "code",
   "execution_count": null,
   "outputs": [],
   "source": [
    "MAIN_DECAY"
   ],
   "metadata": {
    "collapsed": false,
    "pycharm": {
     "name": "#%%\n"
    }
   }
  },
  {
   "cell_type": "code",
   "execution_count": 66,
   "outputs": [
    {
     "name": "stdout",
     "output_type": "stream",
     "text": [
      "Validation:  0.9976325631141663\n"
     ]
    }
   ],
   "source": [
    "validate()\n"
   ],
   "metadata": {
    "collapsed": false,
    "pycharm": {
     "name": "#%%\n"
    }
   }
  },
  {
   "cell_type": "code",
   "execution_count": null,
   "outputs": [],
   "source": [
    "lookup"
   ],
   "metadata": {
    "collapsed": false,
    "pycharm": {
     "name": "#%%\n"
    }
   }
  },
  {
   "cell_type": "code",
   "execution_count": 17,
   "outputs": [],
   "source": [
    "train_rythm = make_rythm(BATCH_SIZE, SEQ_LEN, CHAR_DUR, device)\n",
    "\n",
    "_, _, info = run(model, lookup, train_rythm, BATCH_SIZE, SEQ_LEN, CHAR_DUR, perm_num, device, logging=True)\n",
    "\n",
    "input, log = info\n",
    "ar_length = input.shape[0]\n",
    "array_list = [input, log['loop']['control'], log['loop']['mem'], log['loop']['output'], log['output']] #log['loop']['output']\n",
    "array_list2 = []\n",
    "for ar in array_list:\n",
    "    array_list2.append(ar[:, 0])\n",
    "    array_list2.append(torch.ones((ar_length, 1), device=input.device) * 0.5)\n",
    "big_ar = torch.cat(array_list2[:-1], dim=1).detach() * 255\n",
    "img = Image.fromarray(big_ar.cpu().numpy().astype(np.uint8), 'L')"
   ],
   "metadata": {
    "collapsed": false,
    "pycharm": {
     "name": "#%%\n"
    }
   }
  },
  {
   "cell_type": "code",
   "execution_count": 18,
   "outputs": [
    {
     "data": {
      "text/plain": "(280, 1200)"
     },
     "execution_count": 18,
     "metadata": {},
     "output_type": "execute_result"
    }
   ],
   "source": [
    "img.size"
   ],
   "metadata": {
    "collapsed": false,
    "pycharm": {
     "name": "#%%\n"
    }
   }
  },
  {
   "cell_type": "code",
   "execution_count": 19,
   "outputs": [
    {
     "data": {
      "text/plain": "<PIL.Image.Image image mode=L size=280x1200 at 0x7F943CC1A208>",
      "image/png": "[encoded data removed]"
     },
     "execution_count": 19,
     "metadata": {},
     "output_type": "execute_result"
    }
   ],
   "source": [
    "img\n",
    "#img.resize((239, 600))"
   ],
   "metadata": {
    "collapsed": false,
    "pycharm": {
     "name": "#%%\n"
    }
   }
  },
  {
   "cell_type": "code",
   "execution_count": null,
   "outputs": [],
   "source": [
    "log['loop']['control'].mean()"
   ],
   "metadata": {
    "collapsed": false,
    "pycharm": {
     "name": "#%%\n"
    }
   }
  },
  {
   "cell_type": "code",
   "execution_count": null,
   "outputs": [],
   "source": [
    "log['loop']['mem'].mean()\n",
    "\n"
   ],
   "metadata": {
    "collapsed": false,
    "pycharm": {
     "name": "#%%\n"
    }
   }
  },
  {
   "cell_type": "code",
   "execution_count": null,
   "outputs": [],
   "source": [
    "model.model.layers.loop.model.layers.control_synapse.weight.var()"
   ],
   "metadata": {
    "collapsed": false,
    "pycharm": {
     "name": "#%%\n"
    }
   }
  },
  {
   "cell_type": "code",
   "source": [
    "model.model.layers.loop.model.layers.mem_synapse.weight.var()"
   ],
   "metadata": {
    "collapsed": false,
    "pycharm": {
     "name": "#%%\n"
    }
   },
   "execution_count": null,
   "outputs": []
  },
  {
   "cell_type": "code",
   "execution_count": null,
   "outputs": [],
   "source": [
    "model.model.layers.loop.model.layers.control_synapse.weight.var() * log['loop']['mem'].mean()\n"
   ],
   "metadata": {
    "collapsed": false,
    "pycharm": {
     "name": "#%%\n"
    }
   }
  },
  {
   "cell_type": "code",
   "execution_count": null,
   "outputs": [],
   "source": [
    "#model.save('../models/state_adaptive1')"
   ],
   "metadata": {
    "collapsed": false,
    "pycharm": {
     "name": "#%%\n"
    }
   }
  },
  {
   "cell_type": "code",
   "execution_count": null,
   "outputs": [],
   "source": [
    "lookup.tolist()"
   ],
   "metadata": {
    "collapsed": false,
    "pycharm": {
     "name": "#%%\n"
    }
   }
  },
  {
   "cell_type": "code",
   "execution_count": null,
   "outputs": [],
   "source": [
    "train_rythm = make_rythm(BATCH_SIZE, SEQ_LEN, CHAR_DUR, device)\n",
    "\n",
    "optimizer.zero_grad()\n",
    "acc, loss, _ = run(model, lookup, train_rythm, BATCH_SIZE, SEQ_LEN, CHAR_DUR, perm_num, device)\n",
    "\n",
    "loss.backward()"
   ],
   "metadata": {
    "collapsed": false,
    "pycharm": {
     "name": "#%%\n"
    }
   }
  },
  {
   "cell_type": "code",
   "execution_count": null,
   "outputs": [],
   "source": [
    "for name, par in model.named_parameters():\n",
    "    print(name, par.grad.norm())"
   ],
   "metadata": {
    "collapsed": false,
    "pycharm": {
     "name": "#%%\n"
    }
   }
  },
  {
   "cell_type": "code",
   "execution_count": null,
   "outputs": [],
   "source": [
    "for name, par in model.named_parameters():\n",
    "    print(name, par.grad.norm())"
   ],
   "metadata": {
    "collapsed": false,
    "pycharm": {
     "name": "#%%\n"
    }
   }
  },
  {
   "cell_type": "code",
   "execution_count": null,
   "outputs": [],
   "source": [
    "import csv\n",
    "with open(f'../export/lookuplist.csv', 'w') as csvfile: #, newline=''\n",
    "    spamwriter = csv.writer(csvfile, delimiter=' ',\n",
    "                            quotechar='|', quoting=csv.QUOTE_MINIMAL)\n",
    "    spamwriter.writerows(lookuplist)"
   ],
   "metadata": {
    "collapsed": false,
    "pycharm": {
     "name": "#%%\n"
    }
   }
  },
  {
   "cell_type": "code",
   "execution_count": null,
   "outputs": [],
   "source": [
    "lookuplist = torch.cat((torch.tensor(range(8)).view(8,1), lookup.cpu()), dim=1).tolist()\n",
    "lookuplist.insert(0, [15]+list(range(8)))"
   ],
   "metadata": {
    "collapsed": false,
    "pycharm": {
     "name": "#%%\n"
    }
   }
  },
  {
   "cell_type": "code",
   "execution_count": null,
   "outputs": [],
   "source": [
    "lookuplist"
   ],
   "metadata": {
    "collapsed": false,
    "pycharm": {
     "name": "#%%\n"
    }
   }
  },
  {
   "cell_type": "code",
   "execution_count": null,
   "outputs": [],
   "source": [
    "ADAP_DECAY"
   ],
   "metadata": {
    "collapsed": false,
    "pycharm": {
     "name": "#%%\n"
    }
   }
  },
  {
   "cell_type": "code",
   "execution_count": null,
   "outputs": [],
   "source": [
    "decay = torch.tensor([0.9])\n",
    "dummy = torch.zeros([1], requires_grad=True)\n",
    "x1 = torch.zeros([5], requires_grad=True)\n",
    "x2 = torch.zeros([5], requires_grad=True)\n",
    "s1 = torch.zeros([5], requires_grad=True)\n",
    "out, dummy2 = FlipFlopNFn.apply(x1, x2, s1, decay, dummy)\n",
    "\n",
    "x12 = torch.zeros([5], requires_grad=True)\n",
    "x22 = torch.zeros([5], requires_grad=True)\n",
    "out2, dummy3 = FlipFlopNFn.apply(x12, x22, out, decay, dummy2)\n",
    "out2.sum().backward()"
   ],
   "metadata": {
    "collapsed": false,
    "pycharm": {
     "name": "#%%\n"
    }
   }
  },
  {
   "cell_type": "code",
   "execution_count": 23,
   "outputs": [],
   "source": [
    "#model.model.layers.output_synapse.weight[3].sort()"
   ],
   "metadata": {
    "collapsed": false,
    "pycharm": {
     "name": "#%%\n"
    }
   }
  },
  {
   "cell_type": "code",
   "execution_count": 24,
   "outputs": [
    {
     "data": {
      "text/plain": "ModuleDict(\n  (loop): SequenceWrapper(\n    (model): ParallelNetwork2(\n      (layers): ModuleDict(\n        (control): LIFNeuron()\n        (control_synapse): Linear(in_features=138, out_features=100, bias=True)\n        (mem): LIFNeuron()\n        (mem_synapse): Linear(in_features=138, out_features=10, bias=True)\n        (output): BaseNeuron()\n      )\n    )\n  )\n  (output_synapse): Linear(in_features=110, out_features=8, bias=True)\n  (output): BaseNeuron()\n)"
     },
     "execution_count": 24,
     "metadata": {},
     "output_type": "execute_result"
    }
   ],
   "source": [
    "model.model.layers"
   ],
   "metadata": {
    "collapsed": false,
    "pycharm": {
     "name": "#%%\n"
    }
   }
  },
  {
   "cell_type": "code",
   "execution_count": 67,
   "outputs": [
    {
     "name": "stdout",
     "output_type": "stream",
     "text": [
      "torch.Size([29, 20, 64, 1]) torch.Size([29, 20, 64, 10])\n"
     ]
    }
   ],
   "source": [
    "def run2(model, lookup, rythm, batch_size, seql, char_dur, perm_num, device, logging=False):\n",
    "    inp_dur = char_dur // 2\n",
    "    pause_dur = char_dur - inp_dur\n",
    "    input, raw_inp = make_batch(batch_size, seql, device, perm_num)\n",
    "    input = input.view(seql, 1, batch_size, perm_num).expand(seql, inp_dur, batch_size, perm_num)\n",
    "    input = torch.cat((input, torch.zeros((seql, pause_dur, batch_size, perm_num), device=device)), dim=1).view(seql*char_dur, batch_size, perm_num)\n",
    "    #input = input.repeat_interleave(char_dur, 0)\n",
    "    input = torch.cat((input, rythm), dim=-1)\n",
    "\n",
    "\n",
    "    dir_out = model(input, logging=logging)\n",
    "    output = dir_out[0]\n",
    "    output = output.view(seql, char_dur, batch_size, perm_num).mean(dim=1)\n",
    "    out_class = output.argmax(dim=-1, keepdim=True)\n",
    "    targets = lookup[out_class, raw_inp]\n",
    "\n",
    "    mask = (targets == 0).unsqueeze(1).expand(seql, char_dur, batch_size, 1)[1:, inp_dur:].clone()\n",
    "    #mask[:, :inp_dur] = False\n",
    "    activity = dir_out[2]['loop']['mem'].view(seql, char_dur, batch_size, 10)[:-1, inp_dur:]\n",
    "    print(mask.shape, activity.shape)\n",
    "    return mask,activity, dir_out[2]['loop']['mem'], dir_out[2]#activity * mask.float()\n",
    "    loss = nn.CrossEntropyLoss()(output[1:].view(-1, perm_num), targets[:-1].view(-1))\n",
    "\n",
    "    acc = (out_class[1:] == targets[:-1]).float().mean().item()\n",
    "\n",
    "mask,activity,mem_log,log = run2(model, lookup, train_rythm, BATCH_SIZE, SEQ_LEN, CHAR_DUR, perm_num, device, logging=True)\n",
    "\n",
    "    #return acc, loss, ((input, dir_out[2]) if logging else None)"
   ],
   "metadata": {
    "collapsed": false,
    "pycharm": {
     "name": "#%%\n"
    }
   }
  },
  {
   "cell_type": "code",
   "execution_count": 18,
   "outputs": [],
   "source": [
    "meaned = masked_act.mean(dim=2).mean(dim=0)"
   ],
   "metadata": {
    "collapsed": false,
    "pycharm": {
     "name": "#%%\n"
    }
   }
  },
  {
   "cell_type": "code",
   "execution_count": 21,
   "outputs": [],
   "source": [
    "img_ar = meaned / meaned.max() *255"
   ],
   "metadata": {
    "collapsed": false,
    "pycharm": {
     "name": "#%%\n"
    }
   }
  },
  {
   "cell_type": "code",
   "execution_count": 23,
   "outputs": [],
   "source": [
    "img = Image.fromarray(img_ar.detach().cpu().numpy().astype(np.uint8), 'L')"
   ],
   "metadata": {
    "collapsed": false,
    "pycharm": {
     "name": "#%%\n"
    }
   }
  },
  {
   "cell_type": "code",
   "execution_count": 27,
   "outputs": [
    {
     "data": {
      "text/plain": "<PIL.Image.Image image mode=L size=400x400 at 0x7F7ACEF38F98>",
      "image/png": "[encoded data removed]"
     },
     "execution_count": 27,
     "metadata": {},
     "output_type": "execute_result"
    }
   ],
   "source": [
    "img.resize((400,400))"
   ],
   "metadata": {
    "collapsed": false,
    "pycharm": {
     "name": "#%%\n"
    }
   }
  },
  {
   "cell_type": "code",
   "execution_count": 29,
   "outputs": [
    {
     "data": {
      "text/plain": "tensor([1, 3])"
     },
     "execution_count": 29,
     "metadata": {},
     "output_type": "execute_result"
    }
   ],
   "source": [
    "torch.tensor([1,2,3])[torch.tensor([True, False, True])]"
   ],
   "metadata": {
    "collapsed": false,
    "pycharm": {
     "name": "#%%\n"
    }
   }
  },
  {
   "cell_type": "code",
   "execution_count": 11,
   "outputs": [],
   "source": [
    "\n",
    "pmask = mask.transpose(1,2).reshape(-1, 10)\n",
    "pactivity = activity.transpose(1,2).reshape(-1, 10, 10)"
   ],
   "metadata": {
    "collapsed": false,
    "pycharm": {
     "name": "#%%\n"
    }
   }
  },
  {
   "cell_type": "code",
   "execution_count": 12,
   "outputs": [],
   "source": [
    "acts = pactivity[pmask[:, 0]]"
   ],
   "metadata": {
    "collapsed": false,
    "pycharm": {
     "name": "#%%\n"
    }
   }
  },
  {
   "cell_type": "code",
   "execution_count": 16,
   "outputs": [
    {
     "data": {
      "text/plain": "<PIL.Image.Image image mode=L size=400x400 at 0x7FBBE307DC88>",
      "image/png": "[encoded data removed]"
     },
     "execution_count": 16,
     "metadata": {},
     "output_type": "execute_result"
    }
   ],
   "source": [
    "i = 3\n",
    "Image.fromarray((acts[i]*255).detach().cpu().numpy().astype(np.uint8), 'L').resize((400,400))"
   ],
   "metadata": {
    "collapsed": false,
    "pycharm": {
     "name": "#%%\n"
    }
   }
  },
  {
   "cell_type": "code",
   "execution_count": 51,
   "outputs": [
    {
     "data": {
      "text/plain": "tensor([[0.0000, 0.5000, 0.0000,  ..., 0.5000, 0.6000, 0.8000],\n        [0.5000, 0.9000, 0.0000,  ..., 0.7000, 0.3000, 1.0000],\n        [0.0000, 0.1000, 0.1000,  ..., 0.3000, 0.0000, 0.9000],\n        ...,\n        [0.2000, 0.1000, 0.5000,  ..., 0.0000, 0.1000, 0.0000],\n        [0.0000, 0.1000, 0.3000,  ..., 0.0000, 0.0000, 0.8000],\n        [0.7000, 0.8000, 0.5000,  ..., 1.0000, 0.0000, 0.0000]],\n       device='cuda:0', grad_fn=<MeanBackward1>)"
     },
     "execution_count": 51,
     "metadata": {},
     "output_type": "execute_result"
    }
   ],
   "source": [
    "acts.mean(dim=1)"
   ],
   "metadata": {
    "collapsed": false,
    "pycharm": {
     "name": "#%%\n"
    }
   }
  },
  {
   "cell_type": "code",
   "execution_count": null,
   "outputs": [],
   "source": [
    "acts.shape"
   ],
   "metadata": {
    "collapsed": false,
    "pycharm": {
     "name": "#%%\n"
    }
   }
  },
  {
   "cell_type": "code",
   "execution_count": 53,
   "outputs": [
    {
     "data": {
      "text/plain": "<PIL.Image.Image image mode=L size=100x276 at 0x7F7ACECE2AC8>",
      "image/png": "[encoded data removed]"
     },
     "execution_count": 53,
     "metadata": {},
     "output_type": "execute_result"
    }
   ],
   "source": [
    "Image.fromarray((acts.mean(dim=1)*255).detach().cpu().numpy().astype(np.uint8), 'L')#.resize((400,400))"
   ],
   "metadata": {
    "collapsed": false,
    "pycharm": {
     "name": "#%%\n"
    }
   }
  },
  {
   "cell_type": "code",
   "execution_count": 83,
   "outputs": [],
   "source": [
    "i = 0\n",
    "\n",
    "changes = (mem_log[41:120, i]-mem_log[40:119, i]).abs()"
   ],
   "metadata": {
    "collapsed": false,
    "pycharm": {
     "name": "#%%\n"
    }
   }
  },
  {
   "cell_type": "code",
   "execution_count": 84,
   "outputs": [
    {
     "data": {
      "text/plain": "<PIL.Image.Image image mode=L size=200x600 at 0x7F94348CE780>",
      "image/png": "[encoded data removed]"
     },
     "execution_count": 84,
     "metadata": {},
     "output_type": "execute_result"
    }
   ],
   "source": [
    "Image.fromarray((mem_log[40:120, i]*255).detach().cpu().numpy().astype(np.uint8), 'L').resize((200,600))\n"
   ],
   "metadata": {
    "collapsed": false,
    "pycharm": {
     "name": "#%%\n"
    }
   }
  },
  {
   "cell_type": "code",
   "execution_count": 85,
   "outputs": [
    {
     "data": {
      "text/plain": "<PIL.Image.Image image mode=L size=200x600 at 0x7F94348CEF28>",
      "image/png": "[encoded data removed]"
     },
     "execution_count": 85,
     "metadata": {},
     "output_type": "execute_result"
    }
   ],
   "source": [
    "Image.fromarray((changes*255).detach().cpu().numpy().astype(np.uint8), 'L').resize((200,600))"
   ],
   "metadata": {
    "collapsed": false,
    "pycharm": {
     "name": "#%%\n"
    }
   }
  },
  {
   "cell_type": "code",
   "execution_count": 86,
   "outputs": [
    {
     "data": {
      "text/plain": "torch.Size([79, 10])"
     },
     "execution_count": 86,
     "metadata": {},
     "output_type": "execute_result"
    }
   ],
   "source": [
    "signal = changes\n",
    "\n",
    "signal.shape"
   ],
   "metadata": {
    "collapsed": false,
    "pycharm": {
     "name": "#%%\n"
    }
   }
  },
  {
   "cell_type": "code",
   "execution_count": 87,
   "outputs": [],
   "source": [
    "\n",
    "data = []\n",
    "data2 = []\n",
    "for x in range(79):\n",
    "    for y in range(10):\n",
    "        if signal[x, y] == 1:\n",
    "            #if y >= 8:\n",
    "            data.append([x,y+1])\n",
    "            #else:\n",
    "                #data2.append([x,y+1])\n",
    "\n"
   ],
   "metadata": {
    "collapsed": false,
    "pycharm": {
     "name": "#%%\n"
    }
   }
  },
  {
   "cell_type": "code",
   "execution_count": 88,
   "outputs": [],
   "source": [
    "import csv\n",
    "with open(f'../export/SL_nores.csv', 'w') as csvfile: #, newline=''\n",
    "    spamwriter = csv.writer(csvfile, delimiter=' ',\n",
    "                            quotechar='|', quoting=csv.QUOTE_MINIMAL)\n",
    "    spamwriter.writerows(data)"
   ],
   "metadata": {
    "collapsed": false,
    "pycharm": {
     "name": "#%%\n"
    }
   }
  },
  {
   "cell_type": "code",
   "execution_count": 55,
   "outputs": [
    {
     "data": {
      "text/plain": "<PIL.Image.Image image mode=L size=200x600 at 0x7FE603BC7F98>",
      "image/png": "[encoded data removed]"
     },
     "execution_count": 55,
     "metadata": {},
     "output_type": "execute_result"
    }
   ],
   "source": [
    "Image.fromarray((input[20:60, 7]*255).detach().cpu().numpy().astype(np.uint8), 'L').resize((200,600))"
   ],
   "metadata": {
    "collapsed": false,
    "pycharm": {
     "name": "#%%\n"
    }
   }
  },
  {
   "cell_type": "code",
   "execution_count": 13,
   "outputs": [
    {
     "data": {
      "text/plain": "torch.Size([1200, 64, 10])"
     },
     "execution_count": 13,
     "metadata": {},
     "output_type": "execute_result"
    }
   ],
   "source": [
    "mem_log.shape"
   ],
   "metadata": {
    "collapsed": false,
    "pycharm": {
     "name": "#%%\n"
    }
   }
  },
  {
   "cell_type": "code",
   "execution_count": null,
   "outputs": [],
   "source": [],
   "metadata": {
    "collapsed": false,
    "pycharm": {
     "name": "#%%\n"
    }
   }
  }
 ],
 "metadata": {
  "kernelspec": {
   "display_name": "Python 3",
   "language": "python",
   "name": "python3"
  },
  "language_info": {
   "codemirror_mode": {
    "name": "ipython",
    "version": 2
   },
   "file_extension": ".py",
   "mimetype": "text/x-python",
   "name": "python",
   "nbconvert_exporter": "python",
   "pygments_lexer": "ipython2",
   "version": "2.7.6"
  }
 },
 "nbformat": 4,
 "nbformat_minor": 0
}