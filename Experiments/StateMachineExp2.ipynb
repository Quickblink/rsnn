{
 "cells": [
  {
   "cell_type": "code",
   "execution_count": 1,
   "metadata": {
    "collapsed": true
   },
   "outputs": [],
   "source": [
    "import sys\n",
    "sys.path.append('../')\n",
    "from torch.distributions.bernoulli import Bernoulli\n",
    "from torch.distributions.geometric import Geometric\n",
    "from Code.envs.statemachine import run, make_rythm\n",
    "import torch\n",
    "import torch.nn as nn\n",
    "import torch.optim as optim\n",
    "import time\n",
    "from collections import OrderedDict\n",
    "\n",
    "from PIL import Image\n",
    "import numpy as np\n"
   ]
  },
  {
   "cell_type": "code",
   "execution_count": 2,
   "outputs": [],
   "source": [
    "standard = {'beta': 0.8,\n",
    "   'lr': 0.001,\n",
    "   'NoBias': False, #no effect\n",
    "   'iterations': 3000,\n",
    "   'batch_size': 64,\n",
    "   'spkfn': 'bellec',\n",
    "   'decay_out': False,\n",
    "   'control_neuron': 'LIF',\n",
    "}\n",
    "\n",
    "spec = {\n",
    "    **standard,\n",
    "   '1-beta': 'improved',\n",
    "   'decay_change': 1,\n",
    "   'architecture': '1L',\n",
    "   'mem_neuron': 'Adaptive',\n",
    "   'char_dur': 50,\n",
    "   'n_mem': 100\n",
    "}\n",
    "\n",
    "#spec['1-beta'] = False\n",
    "#spec['beta'] = 1"
   ],
   "metadata": {
    "collapsed": false,
    "pycharm": {
     "name": "#%%\n"
    }
   }
  },
  {
   "cell_type": "code",
   "execution_count": 3,
   "outputs": [],
   "source": [
    "BATCH_SIZE = spec['batch_size']\n",
    "\n",
    "device = torch.device('cuda')\n",
    "\n",
    "SEQ_LEN = 30\n",
    "CHAR_DUR = spec['char_dur']\n",
    "\n",
    "perm_num = 8\n",
    "n_input = perm_num + CHAR_DUR\n",
    "n_out = perm_num\n",
    "n_control = 100\n",
    "n_mem = spec['n_mem']\n",
    "\n",
    "MAIN_DECAY = np.exp(-1/(CHAR_DUR*spec['decay_change']))\n",
    "INPUT_RATE = 1.5/n_input"
   ],
   "metadata": {
    "collapsed": false,
    "pycharm": {
     "name": "#%%\n"
    }
   }
  },
  {
   "cell_type": "code",
   "execution_count": 4,
   "outputs": [],
   "source": [
    "#MAIN_DECAY = 1# = 0.99\n",
    "MAIN_DECAY = np.exp(-1/(CHAR_DUR)*0.5)\n",
    "ADAP_DECAY = np.exp(-1/(CHAR_DUR*3))\n",
    "\n"
   ],
   "metadata": {
    "collapsed": false,
    "pycharm": {
     "name": "#%%\n"
    }
   }
  },
  {
   "cell_type": "code",
   "execution_count": 5,
   "outputs": [
    {
     "name": "stdout",
     "output_type": "stream",
     "text": [
      "OrderedDict([('control', [[('input', 1), ('control', 1), ('mem', 1)], LIFNeuron(), <class 'torch.nn.modules.linear.Linear'>]), ('mem', [[('input', 1), ('control', 1), ('mem', 1)], AdaptiveNeuron(), <class 'torch.nn.modules.linear.Linear'>]), ('output', [[('control', 1), ('mem', 1)], BaseNeuron(), None])])\n"
     ]
    },
    {
     "data": {
      "text/plain": "OuterWrapper(\n  (model): DynNetwork(\n    (layers): ModuleDict(\n      (loop): SequenceWrapper(\n        (model): ParallelNetwork2(\n          (layers): ModuleDict(\n            (control): LIFNeuron()\n            (control_synapse): Linear(in_features=258, out_features=100, bias=True)\n            (mem): AdaptiveNeuron()\n            (mem_synapse): Linear(in_features=258, out_features=100, bias=True)\n            (output): BaseNeuron()\n          )\n        )\n      )\n      (output_synapse): Linear(in_features=200, out_features=8, bias=True)\n      (output): BaseNeuron()\n    )\n  )\n)"
     },
     "execution_count": 5,
     "metadata": {},
     "output_type": "execute_result"
    }
   ],
   "source": [
    "from Code.everything4 import DynNetwork, OuterWrapper, BaseNeuron, SequenceWrapper, ParallelNetwork, \\\n",
    " SeqOnlySpike, CooldownNeuron, OutputNeuron, LIFNeuron, NoResetNeuron, AdaptiveNeuron, FlipFlopNeuron, ParallelNetwork2\n",
    "\n",
    "\n",
    "built_config = {\n",
    "    'BETA': spec['beta'],\n",
    "    'OFFSET': -np.log(1-MAIN_DECAY),#-np.log(1-spec['beta']),#3, # TODO: was 3 for config24\n",
    "    'SPIKE_FN': spec['spkfn'],\n",
    "    '1-beta': spec['1-beta'],\n",
    "    'ADAPDECAY': ADAP_DECAY, #0.9985,\n",
    "    'ADAPSCALE': 180\n",
    "}\n",
    "\n",
    "#built_config['ADAPDECAY'] = 0.99\n",
    "\n",
    "mem_config = {\n",
    "    **built_config,\n",
    "    'BETA': spec['beta'] if spec['mem_neuron'] in ['Adaptive', 'LIF'] else MAIN_DECAY\n",
    "}\n",
    "\n",
    "\n",
    "\n",
    "control_lookup = {\n",
    "    'LIF': LIFNeuron,\n",
    "    'Disc': SeqOnlySpike,\n",
    "    'NoReset': NoResetNeuron\n",
    "}\n",
    "\n",
    "mem_lookup = {\n",
    "    'Adaptive': AdaptiveNeuron,\n",
    "    'Cooldown': CooldownNeuron,\n",
    "    'NoReset': NoResetNeuron,\n",
    "    'FlipFlop': FlipFlopNeuron,\n",
    "    'LIF': LIFNeuron\n",
    "}\n",
    "\n",
    "control_neuron = control_lookup[spec['control_neuron']](n_control, built_config)\n",
    "mem_neuron = mem_lookup[spec['mem_neuron']](n_mem, mem_config)\n",
    "out_neuron_size = n_mem if spec['architecture'] == '2L' else n_mem+n_control\n",
    "out_neuron = OutputNeuron(out_neuron_size, built_config) if spec['decay_out'] else BaseNeuron(out_neuron_size, built_config)\n",
    "#out_neuron = LIFNeuron(n_control, built_config)\n",
    "#TODO: fix this for 1L\n",
    "\n",
    "#from mem only\n",
    "loop_2L = OrderedDict([\n",
    "    ('input', (n_input, INPUT_RATE)),\n",
    "    ('control', [['input', 'mem'], control_neuron, nn.Linear]),\n",
    "    ('mem', [['control'], mem_neuron, nn.Linear]),\n",
    "    ('output', [['mem'], out_neuron, None]),\n",
    "])\n",
    "\n",
    "\n",
    "loop_1L = OrderedDict([\n",
    "    ('input', (n_input, INPUT_RATE)),\n",
    "    ('control', [['input', 'control', 'mem'], control_neuron, nn.Linear]),\n",
    "    ('mem', [['input', 'control', 'mem'], mem_neuron, nn.Linear]),\n",
    "    ('output', [['control', 'mem'], out_neuron, None]),\n",
    "])\n",
    "\n",
    "loop = loop_1L if spec['architecture'] == '1L' else loop_2L\n",
    "\n",
    "outer = OrderedDict([\n",
    "    ('input', n_input),\n",
    "    ('loop', [['input'], SequenceWrapper(ParallelNetwork2(loop, bias=(not spec['NoBias']))), None]),\n",
    "    ('output', [['loop'], BaseNeuron(n_out, None), nn.Linear]),\n",
    "])\n",
    "\n",
    "model = OuterWrapper(DynNetwork(outer), device)\n",
    "\n",
    "\n",
    "params = list(model.parameters())\n",
    "\n",
    "model.to(device)\n"
   ],
   "metadata": {
    "collapsed": false,
    "pycharm": {
     "name": "#%%\n"
    }
   }
  },
  {
   "cell_type": "code",
   "execution_count": 6,
   "outputs": [],
   "source": [
    "lr = spec['lr']\n",
    "optimizer = optim.Adam(params, lr=lr)\n",
    "#bce = nn.BCEWithLogitsLoss(reduction='none')\n",
    "#ce = nn.CrossEntropyLoss() #reduction='none'\n",
    "\n",
    "\n",
    "ITERATIONS = spec['iterations']#36000\n",
    "\n",
    "\n",
    "lookup = torch.tensor([[6, 1, 4, 5, 7, 2, 0, 3],\n",
    "        [7, 0, 4, 2, 3, 1, 5, 6],\n",
    "        [0, 5, 6, 2, 4, 3, 7, 1],\n",
    "        [2, 7, 6, 4, 3, 1, 5, 0],\n",
    "        [0, 6, 4, 5, 2, 1, 7, 3],\n",
    "        [5, 1, 0, 6, 4, 7, 3, 2],\n",
    "        [4, 6, 1, 2, 5, 7, 0, 3],\n",
    "        [2, 7, 4, 3, 5, 6, 0, 1]], dtype=torch.long, device=device)"
   ],
   "metadata": {
    "collapsed": false,
    "pycharm": {
     "name": "#%%\n"
    }
   }
  },
  {
   "cell_type": "code",
   "execution_count": 7,
   "outputs": [],
   "source": [
    "seql = 100\n",
    "\n",
    "val_rythm = make_rythm(BATCH_SIZE, 100, CHAR_DUR, device)\n",
    "def validate():\n",
    "    acc, _, _ = run(model, lookup, val_rythm, BATCH_SIZE, 100, CHAR_DUR, perm_num, device)\n",
    "    print('Validation: ', acc)\n",
    "\n",
    "stats = {\n",
    "    'grad_norm': [],\n",
    "    'loss': [],\n",
    "    'acc': [],\n",
    "    'batch_var': [],\n",
    "    'val': []\n",
    "}\n",
    "\n",
    "grad_norm_history = []\n",
    "def record_norm():\n",
    "    norms = []\n",
    "    for p in params:\n",
    "        norms.append(p.grad.norm().item())\n",
    "    stats['grad_norm'].append(torch.tensor(norms).norm().item())\n",
    "\n"
   ],
   "metadata": {
    "collapsed": false,
    "pycharm": {
     "name": "#%%\n"
    }
   }
  },
  {
   "cell_type": "code",
   "execution_count": 8,
   "outputs": [
    {
     "name": "stdout",
     "output_type": "stream",
     "text": [
      "0.12578124962747098 20\n",
      "0.13057650737464427 40\n",
      "0.13103448152542113 60\n",
      "0.1358028009533882 80\n",
      "0.12413793094456196 100\n",
      "Validation:  0.13099747896194458\n",
      "0.13882004357874395 120\n",
      "0.13601831831037997 140\n",
      "0.17483836114406587 160\n",
      "0.15331357792019845 180\n",
      "0.12960668057203292 200\n",
      "Validation:  0.1262626200914383\n",
      "0.13636853285133838 220\n",
      "0.12632004283368586 240\n",
      "0.13410560078918934 260\n",
      "0.1368534468114376 280\n",
      "0.20212823078036307 300\n",
      "Validation:  0.17866161465644836\n",
      "0.1784752145409584 320\n",
      "0.18248922228813172 340\n",
      "0.19162176698446273 360\n",
      "0.20686961114406585 380\n",
      "0.19590517356991768 400\n",
      "Validation:  0.18386994302272797\n",
      "0.18943965509533883 420\n",
      "0.19997306019067765 440\n",
      "0.2244073271751404 460\n",
      "0.2317618526518345 480\n",
      "0.24841055795550346 500\n",
      "Validation:  0.24289773404598236\n",
      "0.22904094830155372 520\n",
      "0.22160560116171837 540\n",
      "0.24108297228813172 560\n",
      "0.2801185354590416 580\n",
      "0.27696659192442896 600\n",
      "Validation:  0.27761995792388916\n",
      "0.29356142282485964 620\n",
      "0.2754310339689255 640\n",
      "0.3019127160310745 660\n",
      "0.2497844837605953 680\n",
      "0.3019127190113068 700\n",
      "Validation:  0.28630051016807556\n",
      "0.26279633343219755 720\n",
      "0.3015894412994385 740\n",
      "0.3134698286652565 760\n",
      "0.3194773688912392 780\n",
      "0.33523706793785096 800\n",
      "Validation:  0.3169191777706146\n",
      "0.35530711263418197 820\n",
      "0.3715247854590416 840\n",
      "0.3832704693078995 860\n",
      "0.40158943831920624 880\n",
      "0.42165948301553724 900\n",
      "Validation:  0.4575441777706146\n",
      "0.4483566790819168 920\n",
      "0.4316810339689255 940\n",
      "0.4411099120974541 960\n",
      "0.4483566790819168 980\n",
      "0.4446659475564957 1000\n",
      "Validation:  0.43071338534355164\n",
      "0.44967672377824786 1020\n",
      "0.4550107717514038 1040\n",
      "0.45824353247880933 1060\n",
      "0.4602909475564957 1080\n",
      "0.4674568951129913 1100\n",
      "Validation:  0.4586489796638489\n",
      "0.47292564809322357 1120\n",
      "0.4837823286652565 1140\n",
      "0.48892779648303986 1160\n",
      "0.48882003873586655 1180\n",
      "0.48785021603107454 1200\n",
      "Validation:  0.5167297720909119\n",
      "0.4978178799152374 1220\n",
      "0.5030172392725945 1240\n",
      "0.4958243504166603 1260\n",
      "0.4981950432062149 1280\n",
      "0.5058997824788094 1300\n",
      "Validation:  0.4908459484577179\n",
      "0.49197198152542115 1320\n",
      "0.49304957389831544 1340\n",
      "0.5013200432062149 1360\n",
      "0.5059267222881317 1380\n",
      "0.5035829737782478 1400\n",
      "Validation:  0.5239899158477783\n",
      "0.5112338304519654 1420\n",
      "0.5006465464830399 1440\n",
      "0.5154903009533882 1460\n",
      "0.5161907359957695 1480\n",
      "0.5169180989265442 1500\n",
      "Validation:  0.5056818127632141\n",
      "0.5256734907627105 1520\n",
      "0.5156519383192062 1540\n",
      "0.5149784445762634 1560\n",
      "0.5229795217514038 1580\n",
      "0.531977367401123 1600\n",
      "Validation:  0.5446653962135315\n",
      "0.544558185338974 1620\n",
      "0.5328663781285286 1640\n",
      "0.5534213364124299 1660\n",
      "0.5471713304519653 1680\n",
      "0.5661368489265441 1700\n",
      "Validation:  0.5536616444587708\n",
      "0.566029092669487 1720\n",
      "0.5758890032768249 1740\n",
      "0.5804418087005615 1760\n",
      "0.5871228456497193 1780\n",
      "0.5860721975564956 1800\n",
      "Validation:  0.5820707082748413\n",
      "0.5819773733615875 1820\n",
      "0.5877155184745788 1840\n",
      "0.5836476296186447 1860\n",
      "0.5858836203813553 1880\n",
      "0.5971713334321975 1900\n",
      "Validation:  0.6084280014038086\n",
      "0.5991379231214523 1920\n",
      "0.5983297437429428 1940\n",
      "0.6089709043502808 1960\n",
      "0.6172683149576187 1980\n",
      "0.613119614124298 2000\n",
      "Validation:  0.6036931872367859\n",
      "0.61605603992939 2020\n",
      "0.6101023703813553 2040\n",
      "0.6219288736581803 2060\n",
      "0.6200161635875702 2080\n",
      "0.6226293116807937 2100\n",
      "Validation:  0.6107954382896423\n",
      "0.6271012961864472 2120\n",
      "0.6307112008333207 2140\n",
      "0.6307650834321976 2160\n",
      "0.638011845946312 2180\n",
      "0.6380387902259826 2200\n",
      "Validation:  0.6414141654968262\n",
      "0.6409482687711716 2220\n",
      "0.6455010712146759 2240\n",
      "0.6489224076271057 2260\n",
      "0.6425107747316361 2280\n",
      "0.6492995649576188 2300\n",
      "Validation:  0.6502525210380554\n",
      "0.6493803888559342 2320\n",
      "0.6532866448163986 2340\n",
      "0.6524515062570572 2360\n",
      "0.6608297407627106 2380\n",
      "0.6589978396892547 2400\n",
      "Validation:  0.6527777910232544\n",
      "0.6662176728248597 2420\n",
      "0.6674299508333206 2440\n",
      "0.6714978367090225 2460\n",
      "0.6627424567937851 2480\n",
      "0.6566002100706101 2500\n",
      "Validation:  0.6688762903213501\n",
      "0.6604795277118682 2520\n",
      "0.6654364168643951 2540\n",
      "0.6609913796186447 2560\n",
      "0.6676185309886933 2580\n",
      "0.6704741299152375 2600\n",
      "Validation:  0.6759785413742065\n",
      "0.6792834043502808 2620\n",
      "0.6766971915960311 2640\n",
      "0.6761314600706101 2660\n",
      "0.6782866418361664 2680\n",
      "0.6699622809886933 2700\n",
      "Validation:  0.6753472089767456\n",
      "0.6847521543502808 2720\n",
      "0.6860991358757019 2740\n",
      "0.6874730616807938 2760\n",
      "0.6928879261016846 2780\n",
      "0.6811153054237366 2800\n",
      "Validation:  0.6780303120613098\n",
      "0.6831896543502808 2820\n",
      "0.6829202562570572 2840\n",
      "0.6834321111440659 2860\n",
      "0.6760775804519653 2880\n",
      "0.6947737097740173 2900\n",
      "Validation:  0.7001262903213501\n",
      "0.7007812440395356 2920\n",
      "0.6978448241949081 2940\n",
      "0.6960398614406585 2960\n",
      "0.6932920217514038 2980\n"
     ]
    },
    {
     "ename": "KeyboardInterrupt",
     "evalue": "",
     "output_type": "error",
     "traceback": [
      "\u001B[0;31m---------------------------------------------------------------------------\u001B[0m",
      "\u001B[0;31mKeyboardInterrupt\u001B[0m                         Traceback (most recent call last)",
      "\u001B[0;32m<ipython-input-8-6ed6b1dd35e6>\u001B[0m in \u001B[0;36m<module>\u001B[0;34m\u001B[0m\n\u001B[1;32m     12\u001B[0m     \u001B[0macc\u001B[0m\u001B[0;34m,\u001B[0m \u001B[0mloss\u001B[0m\u001B[0;34m,\u001B[0m \u001B[0m_\u001B[0m \u001B[0;34m=\u001B[0m \u001B[0mrun\u001B[0m\u001B[0;34m(\u001B[0m\u001B[0mmodel\u001B[0m\u001B[0;34m,\u001B[0m \u001B[0mlookup\u001B[0m\u001B[0;34m,\u001B[0m \u001B[0mtrain_rythm\u001B[0m\u001B[0;34m,\u001B[0m \u001B[0mBATCH_SIZE\u001B[0m\u001B[0;34m,\u001B[0m \u001B[0mSEQ_LEN\u001B[0m\u001B[0;34m,\u001B[0m \u001B[0mCHAR_DUR\u001B[0m\u001B[0;34m,\u001B[0m \u001B[0mperm_num\u001B[0m\u001B[0;34m,\u001B[0m \u001B[0mdevice\u001B[0m\u001B[0;34m)\u001B[0m\u001B[0;34m\u001B[0m\u001B[0;34m\u001B[0m\u001B[0m\n\u001B[1;32m     13\u001B[0m \u001B[0;34m\u001B[0m\u001B[0m\n\u001B[0;32m---> 14\u001B[0;31m     \u001B[0mloss\u001B[0m\u001B[0;34m.\u001B[0m\u001B[0mbackward\u001B[0m\u001B[0;34m(\u001B[0m\u001B[0;34m)\u001B[0m\u001B[0;34m\u001B[0m\u001B[0;34m\u001B[0m\u001B[0m\n\u001B[0m\u001B[1;32m     15\u001B[0m     \u001B[0moptimizer\u001B[0m\u001B[0;34m.\u001B[0m\u001B[0mstep\u001B[0m\u001B[0;34m(\u001B[0m\u001B[0;34m)\u001B[0m\u001B[0;34m\u001B[0m\u001B[0;34m\u001B[0m\u001B[0m\n\u001B[1;32m     16\u001B[0m \u001B[0;34m\u001B[0m\u001B[0m\n",
      "\u001B[0;32m/opt/conda/lib/python3.6/site-packages/torch/tensor.py\u001B[0m in \u001B[0;36mbackward\u001B[0;34m(self, gradient, retain_graph, create_graph)\u001B[0m\n\u001B[1;32m    193\u001B[0m                 \u001B[0mproducts\u001B[0m\u001B[0;34m.\u001B[0m \u001B[0mDefaults\u001B[0m \u001B[0mto\u001B[0m\u001B[0;31m \u001B[0m\u001B[0;31m`\u001B[0m\u001B[0;31m`\u001B[0m\u001B[0;32mFalse\u001B[0m\u001B[0;31m`\u001B[0m\u001B[0;31m`\u001B[0m\u001B[0;34m.\u001B[0m\u001B[0;34m\u001B[0m\u001B[0;34m\u001B[0m\u001B[0m\n\u001B[1;32m    194\u001B[0m         \"\"\"\n\u001B[0;32m--> 195\u001B[0;31m         \u001B[0mtorch\u001B[0m\u001B[0;34m.\u001B[0m\u001B[0mautograd\u001B[0m\u001B[0;34m.\u001B[0m\u001B[0mbackward\u001B[0m\u001B[0;34m(\u001B[0m\u001B[0mself\u001B[0m\u001B[0;34m,\u001B[0m \u001B[0mgradient\u001B[0m\u001B[0;34m,\u001B[0m \u001B[0mretain_graph\u001B[0m\u001B[0;34m,\u001B[0m \u001B[0mcreate_graph\u001B[0m\u001B[0;34m)\u001B[0m\u001B[0;34m\u001B[0m\u001B[0;34m\u001B[0m\u001B[0m\n\u001B[0m\u001B[1;32m    196\u001B[0m \u001B[0;34m\u001B[0m\u001B[0m\n\u001B[1;32m    197\u001B[0m     \u001B[0;32mdef\u001B[0m \u001B[0mregister_hook\u001B[0m\u001B[0;34m(\u001B[0m\u001B[0mself\u001B[0m\u001B[0;34m,\u001B[0m \u001B[0mhook\u001B[0m\u001B[0;34m)\u001B[0m\u001B[0;34m:\u001B[0m\u001B[0;34m\u001B[0m\u001B[0;34m\u001B[0m\u001B[0m\n",
      "\u001B[0;32m/opt/conda/lib/python3.6/site-packages/torch/autograd/__init__.py\u001B[0m in \u001B[0;36mbackward\u001B[0;34m(tensors, grad_tensors, retain_graph, create_graph, grad_variables)\u001B[0m\n\u001B[1;32m     97\u001B[0m     Variable._execution_engine.run_backward(\n\u001B[1;32m     98\u001B[0m         \u001B[0mtensors\u001B[0m\u001B[0;34m,\u001B[0m \u001B[0mgrad_tensors\u001B[0m\u001B[0;34m,\u001B[0m \u001B[0mretain_graph\u001B[0m\u001B[0;34m,\u001B[0m \u001B[0mcreate_graph\u001B[0m\u001B[0;34m,\u001B[0m\u001B[0;34m\u001B[0m\u001B[0;34m\u001B[0m\u001B[0m\n\u001B[0;32m---> 99\u001B[0;31m         allow_unreachable=True)  # allow_unreachable flag\n\u001B[0m\u001B[1;32m    100\u001B[0m \u001B[0;34m\u001B[0m\u001B[0m\n\u001B[1;32m    101\u001B[0m \u001B[0;34m\u001B[0m\u001B[0m\n",
      "\u001B[0;31mKeyboardInterrupt\u001B[0m: "
     ]
    }
   ],
   "source": [
    "train_rythm = make_rythm(BATCH_SIZE, SEQ_LEN, CHAR_DUR, device)\n",
    "\n",
    "\n",
    "start = time.time()\n",
    "i = 1\n",
    "sumloss = 0\n",
    "sumacc = 0\n",
    "\n",
    "while i < ITERATIONS:\n",
    "    batchstart = time.time()\n",
    "    optimizer.zero_grad()\n",
    "    acc, loss, _ = run(model, lookup, train_rythm, BATCH_SIZE, SEQ_LEN, CHAR_DUR, perm_num, device)\n",
    "\n",
    "    loss.backward()\n",
    "    optimizer.step()\n",
    "\n",
    "    with torch.no_grad():\n",
    "        record_norm()\n",
    "        stats['loss'].append(loss.item())\n",
    "        #acc = ((((output > 0).float() == target).float()*recall).sum()/recall.sum()).item()\n",
    "        #stats['acc'].append(acc)\n",
    "        batch_var = 3 #out_final.var(0).mean().item()\n",
    "        #stats['batch_var'].append(batch_var)\n",
    "\n",
    "        #print(loss.item(), acc1, acc2)\n",
    "\n",
    "\n",
    "    sumloss += loss.item()\n",
    "    sumacc += acc\n",
    "    if i%20 == 0:\n",
    "        print(sumacc/20, i)\n",
    "        #print(loss.item(), sumloss/20, sumacc/20, time.time()-batchstart, batch_var) #torch.argmax(outputs[-1], 1).float().var()\n",
    "        sumloss = 0\n",
    "        sumacc = 0\n",
    "    if i%100 == 0:\n",
    "        validate()\n",
    "    i += 1\n",
    "    #config['stats'] = stats\n",
    "    #config['progress'] = i\n",
    "    #with open('configs/' + run_id + '.json', 'w') as config_file:\n",
    "    #    json.dump(config, config_file, indent=2)\n",
    "    #model.save('models/'+run_id)\n",
    "\n",
    "\n",
    "print('Total time: ', time.time()-start)\n"
   ],
   "metadata": {
    "collapsed": false,
    "pycharm": {
     "name": "#%%\n"
    }
   }
  },
  {
   "cell_type": "code",
   "execution_count": null,
   "outputs": [],
   "source": [],
   "metadata": {
    "collapsed": false,
    "pycharm": {
     "name": "#%%\n"
    }
   }
  },
  {
   "cell_type": "code",
   "execution_count": null,
   "outputs": [],
   "source": [
    "MAIN_DECAY"
   ],
   "metadata": {
    "collapsed": false,
    "pycharm": {
     "name": "#%%\n"
    }
   }
  },
  {
   "cell_type": "code",
   "execution_count": null,
   "outputs": [],
   "source": [
    "validate()\n"
   ],
   "metadata": {
    "collapsed": false,
    "pycharm": {
     "name": "#%%\n"
    }
   }
  },
  {
   "cell_type": "code",
   "execution_count": null,
   "outputs": [],
   "source": [
    "lookup"
   ],
   "metadata": {
    "collapsed": false,
    "pycharm": {
     "name": "#%%\n"
    }
   }
  },
  {
   "cell_type": "code",
   "execution_count": null,
   "outputs": [],
   "source": [
    "train_rythm = make_rythm(BATCH_SIZE, SEQ_LEN, CHAR_DUR, device)\n",
    "\n",
    "_, _, info = run(model, lookup, train_rythm, BATCH_SIZE, SEQ_LEN, CHAR_DUR, perm_num, device, logging=True)\n",
    "\n",
    "input, log = info\n",
    "ar_length = input.shape[0]\n",
    "array_list = [input, log['loop']['control'], log['loop']['mem'], log['output']] #log['loop']['output']\n",
    "array_list2 = []\n",
    "for ar in array_list:\n",
    "    array_list2.append(ar[:, 0])\n",
    "    array_list2.append(torch.ones((ar_length, 1), device=input.device) * 0.5)\n",
    "big_ar = torch.cat(array_list2[:-1], dim=1).detach() * 255\n",
    "img = Image.fromarray(big_ar.cpu().numpy().astype(np.uint8), 'L')"
   ],
   "metadata": {
    "collapsed": false,
    "pycharm": {
     "name": "#%%\n"
    }
   }
  },
  {
   "cell_type": "code",
   "execution_count": null,
   "outputs": [],
   "source": [
    "img.size"
   ],
   "metadata": {
    "collapsed": false,
    "pycharm": {
     "name": "#%%\n"
    }
   }
  },
  {
   "cell_type": "code",
   "execution_count": null,
   "outputs": [],
   "source": [
    "img\n",
    "#img.resize((239, 600))"
   ],
   "metadata": {
    "collapsed": false,
    "pycharm": {
     "name": "#%%\n"
    }
   }
  },
  {
   "cell_type": "code",
   "execution_count": null,
   "outputs": [],
   "source": [
    "log['loop']['control'].mean()"
   ],
   "metadata": {
    "collapsed": false,
    "pycharm": {
     "name": "#%%\n"
    }
   }
  },
  {
   "cell_type": "code",
   "execution_count": null,
   "outputs": [],
   "source": [
    "log['loop']['mem'].mean()\n",
    "\n"
   ],
   "metadata": {
    "collapsed": false,
    "pycharm": {
     "name": "#%%\n"
    }
   }
  },
  {
   "cell_type": "code",
   "execution_count": null,
   "outputs": [],
   "source": [
    "model.model.layers.loop.model.layers.control_synapse.weight.var()"
   ],
   "metadata": {
    "collapsed": false,
    "pycharm": {
     "name": "#%%\n"
    }
   }
  },
  {
   "cell_type": "code",
   "source": [
    "model.model.layers.loop.model.layers.mem_synapse.weight.var()"
   ],
   "metadata": {
    "collapsed": false,
    "pycharm": {
     "name": "#%%\n"
    }
   },
   "execution_count": null,
   "outputs": []
  },
  {
   "cell_type": "code",
   "execution_count": null,
   "outputs": [],
   "source": [
    "model.model.layers.loop.model.layers.control_synapse.weight.var() * log['loop']['mem'].mean()\n"
   ],
   "metadata": {
    "collapsed": false,
    "pycharm": {
     "name": "#%%\n"
    }
   }
  },
  {
   "cell_type": "code",
   "execution_count": null,
   "outputs": [],
   "source": [
    "#model.save('../models/state_adaptive1')"
   ],
   "metadata": {
    "collapsed": false,
    "pycharm": {
     "name": "#%%\n"
    }
   }
  },
  {
   "cell_type": "code",
   "execution_count": null,
   "outputs": [],
   "source": [
    "lookup.tolist()"
   ],
   "metadata": {
    "collapsed": false,
    "pycharm": {
     "name": "#%%\n"
    }
   }
  },
  {
   "cell_type": "code",
   "execution_count": null,
   "outputs": [],
   "source": [
    "train_rythm = make_rythm(BATCH_SIZE, SEQ_LEN, CHAR_DUR, device)\n",
    "\n",
    "optimizer.zero_grad()\n",
    "acc, loss, _ = run(model, lookup, train_rythm, BATCH_SIZE, SEQ_LEN, CHAR_DUR, perm_num, device)\n",
    "\n",
    "loss.backward()"
   ],
   "metadata": {
    "collapsed": false,
    "pycharm": {
     "name": "#%%\n"
    }
   }
  },
  {
   "cell_type": "code",
   "execution_count": null,
   "outputs": [],
   "source": [
    "for name, par in model.named_parameters():\n",
    "    print(name, par.grad.norm())"
   ],
   "metadata": {
    "collapsed": false,
    "pycharm": {
     "name": "#%%\n"
    }
   }
  },
  {
   "cell_type": "code",
   "execution_count": null,
   "outputs": [],
   "source": [
    "for name, par in model.named_parameters():\n",
    "    print(name, par.grad.norm())"
   ],
   "metadata": {
    "collapsed": false,
    "pycharm": {
     "name": "#%%\n"
    }
   }
  },
  {
   "cell_type": "code",
   "execution_count": null,
   "outputs": [],
   "source": [
    "import csv\n",
    "with open(f'../export/lookuplist.csv', 'w') as csvfile: #, newline=''\n",
    "    spamwriter = csv.writer(csvfile, delimiter=' ',\n",
    "                            quotechar='|', quoting=csv.QUOTE_MINIMAL)\n",
    "    spamwriter.writerows(lookuplist)"
   ],
   "metadata": {
    "collapsed": false,
    "pycharm": {
     "name": "#%%\n"
    }
   }
  },
  {
   "cell_type": "code",
   "execution_count": null,
   "outputs": [],
   "source": [
    "lookuplist = torch.cat((torch.tensor(range(8)).view(8,1), lookup.cpu()), dim=1).tolist()\n",
    "lookuplist.insert(0, [15]+list(range(8)))"
   ],
   "metadata": {
    "collapsed": false,
    "pycharm": {
     "name": "#%%\n"
    }
   }
  },
  {
   "cell_type": "code",
   "execution_count": null,
   "outputs": [],
   "source": [
    "lookuplist"
   ],
   "metadata": {
    "collapsed": false,
    "pycharm": {
     "name": "#%%\n"
    }
   }
  },
  {
   "cell_type": "code",
   "execution_count": null,
   "outputs": [],
   "source": [],
   "metadata": {
    "collapsed": false,
    "pycharm": {
     "name": "#%%\n"
    }
   }
  }
 ],
 "metadata": {
  "kernelspec": {
   "display_name": "Python 3",
   "language": "python",
   "name": "python3"
  },
  "language_info": {
   "codemirror_mode": {
    "name": "ipython",
    "version": 2
   },
   "file_extension": ".py",
   "mimetype": "text/x-python",
   "name": "python",
   "nbconvert_exporter": "python",
   "pygments_lexer": "ipython2",
   "version": "2.7.6"
  }
 },
 "nbformat": 4,
 "nbformat_minor": 0
}