{
 "cells": [
  {
   "cell_type": "code",
   "execution_count": 2,
   "metadata": {
    "collapsed": true
   },
   "outputs": [],
   "source": [
    "import sys\n",
    "sys.path.append('../')\n",
    "from torch.distributions.bernoulli import Bernoulli\n",
    "from torch.distributions.geometric import Geometric\n",
    "from Code.envs.statemachine import run, make_rythm\n",
    "import torch\n",
    "import torch.nn as nn\n",
    "import torch.optim as optim\n",
    "import time\n",
    "from collections import OrderedDict\n",
    "\n",
    "from PIL import Image\n",
    "import numpy as np\n"
   ]
  },
  {
   "cell_type": "code",
   "execution_count": 3,
   "outputs": [],
   "source": [
    "standard = {'beta': 0.8,\n",
    "   'lr': 0.001,\n",
    "   'NoBias': False, #no effect\n",
    "   'iterations': 3000,\n",
    "   'batch_size': 128,\n",
    "   'spkfn': 'bellec',\n",
    "   'decay_out': False,\n",
    "   'control_neuron': 'LIF',\n",
    "}\n",
    "\n",
    "spec = {\n",
    "    **standard,\n",
    "   '1-beta': 'improved',\n",
    "   'decay_change': 1,\n",
    "   'architecture': '1L',\n",
    "   'mem_neuron': 'Cooldown',\n",
    "   'char_dur': 20,\n",
    "   'n_mem': 100\n",
    "}"
   ],
   "metadata": {
    "collapsed": false,
    "pycharm": {
     "name": "#%%\n"
    }
   }
  },
  {
   "cell_type": "code",
   "execution_count": 25,
   "outputs": [],
   "source": [
    "BATCH_SIZE = spec['batch_size']\n",
    "\n",
    "device = torch.device('cuda')\n",
    "\n",
    "SEQ_LEN = 30\n",
    "CHAR_DUR = spec['char_dur']\n",
    "\n",
    "perm_num = 8\n",
    "n_input = perm_num + CHAR_DUR\n",
    "n_out = perm_num\n",
    "n_control = 100\n",
    "n_mem = spec['n_mem']\n",
    "\n",
    "MAIN_DECAY = np.exp(-1/(CHAR_DUR*spec['decay_change']))\n",
    "INPUT_RATE = 1.5/n_input"
   ],
   "metadata": {
    "collapsed": false,
    "pycharm": {
     "name": "#%%\n"
    }
   }
  },
  {
   "cell_type": "code",
   "execution_count": 26,
   "outputs": [
    {
     "data": {
      "text/plain": "0.9900498337491681"
     },
     "execution_count": 26,
     "metadata": {},
     "output_type": "execute_result"
    }
   ],
   "source": [
    "MAIN_DECAY# = 0.99"
   ],
   "metadata": {
    "collapsed": false,
    "pycharm": {
     "name": "#%%\n"
    }
   }
  },
  {
   "cell_type": "code",
   "execution_count": 6,
   "outputs": [
    {
     "name": "stdout",
     "output_type": "stream",
     "text": [
      "OrderedDict([('control', [[('input', 1), ('control', 1), ('mem', 1)], LIFNeuron(), <class 'torch.nn.modules.linear.Linear'>]), ('mem', [[('input', 1), ('control', 1), ('mem', 1)], LIFNeuron(), <class 'torch.nn.modules.linear.Linear'>]), ('output', [[('control', 1), ('mem', 1)], BaseNeuron(), None])])\n"
     ]
    },
    {
     "data": {
      "text/plain": "OuterWrapper(\n  (model): DynNetwork(\n    (layers): ModuleDict(\n      (loop): SequenceWrapper(\n        (model): ParallelNetwork2(\n          (layers): ModuleDict(\n            (control): LIFNeuron()\n            (control_synapse): Linear(in_features=218, out_features=100, bias=True)\n            (mem): LIFNeuron()\n            (mem_synapse): Linear(in_features=218, out_features=100, bias=True)\n            (output): BaseNeuron()\n          )\n        )\n      )\n      (output_synapse): Linear(in_features=200, out_features=8, bias=True)\n      (output): BaseNeuron()\n    )\n  )\n)"
     },
     "execution_count": 6,
     "metadata": {},
     "output_type": "execute_result"
    }
   ],
   "source": [
    "from Code.everything4 import DynNetwork, OuterWrapper, BaseNeuron, SequenceWrapper, ParallelNetwork, \\\n",
    " SeqOnlySpike, CooldownNeuron, OutputNeuron, LIFNeuron, NoResetNeuron, AdaptiveNeuron, FlipFlopNeuron, ParallelNetwork2\n",
    "\n",
    "\n",
    "built_config = {\n",
    "    'BETA': spec['beta'],\n",
    "    'OFFSET': -np.log(1-spec['beta']),#3, # TODO: was 3 for config24\n",
    "    'SPIKE_FN': spec['spkfn'],\n",
    "    '1-beta': spec['1-beta'],\n",
    "    'ADAPDECAY': MAIN_DECAY, #0.9985,\n",
    "    'ADAPSCALE': 180\n",
    "}\n",
    "\n",
    "#built_config['ADAPDECAY'] = 0.99\n",
    "\n",
    "mem_config = {\n",
    "    **built_config,\n",
    "    'BETA': spec['beta'] if spec['mem_neuron'] in ['Adaptive', 'LIF'] else MAIN_DECAY\n",
    "}\n",
    "\n",
    "\n",
    "\n",
    "control_lookup = {\n",
    "    'LIF': LIFNeuron,\n",
    "    'Disc': SeqOnlySpike,\n",
    "    'NoReset': NoResetNeuron\n",
    "}\n",
    "\n",
    "mem_lookup = {\n",
    "    'Adaptive': AdaptiveNeuron,\n",
    "    'Cooldown': CooldownNeuron,\n",
    "    'NoReset': NoResetNeuron,\n",
    "    'FlipFlop': FlipFlopNeuron,\n",
    "    'LIF': LIFNeuron\n",
    "}\n",
    "\n",
    "control_neuron = control_lookup[spec['control_neuron']](n_control, built_config)\n",
    "mem_neuron = mem_lookup[spec['mem_neuron']](n_mem, mem_config)\n",
    "out_neuron_size = n_mem if spec['architecture'] == '2L' else n_mem+n_control\n",
    "out_neuron = OutputNeuron(out_neuron_size, built_config) if spec['decay_out'] else BaseNeuron(out_neuron_size, built_config)\n",
    "#out_neuron = LIFNeuron(n_control, built_config)\n",
    "#TODO: fix this for 1L\n",
    "\n",
    "#from mem only\n",
    "loop_2L = OrderedDict([\n",
    "    ('input', (n_input, INPUT_RATE)),\n",
    "    ('control', [['input', 'mem'], control_neuron, nn.Linear]),\n",
    "    ('mem', [['control'], mem_neuron, nn.Linear]),\n",
    "    ('output', [['mem'], out_neuron, None]),\n",
    "])\n",
    "\n",
    "\n",
    "loop_1L = OrderedDict([\n",
    "    ('input', (n_input, INPUT_RATE)),\n",
    "    ('control', [['input', 'control', 'mem'], control_neuron, nn.Linear]),\n",
    "    ('mem', [['input', 'control', 'mem'], mem_neuron, nn.Linear]),\n",
    "    ('output', [['control', 'mem'], out_neuron, None]),\n",
    "])\n",
    "\n",
    "loop = loop_1L if spec['architecture'] == '1L' else loop_2L\n",
    "\n",
    "outer = OrderedDict([\n",
    "    ('input', n_input),\n",
    "    ('loop', [['input'], SequenceWrapper(ParallelNetwork2(loop, bias=(not spec['NoBias']))), None]),\n",
    "    ('output', [['loop'], BaseNeuron(n_out, None), nn.Linear]),\n",
    "])\n",
    "\n",
    "model = OuterWrapper(DynNetwork(outer), device)\n",
    "\n",
    "\n",
    "params = list(model.parameters())\n",
    "\n",
    "model.to(device)\n"
   ],
   "metadata": {
    "collapsed": false,
    "pycharm": {
     "name": "#%%\n"
    }
   }
  },
  {
   "cell_type": "code",
   "execution_count": 7,
   "outputs": [],
   "source": [
    "lr = spec['lr']\n",
    "optimizer = optim.Adam(params, lr=lr)\n",
    "#bce = nn.BCEWithLogitsLoss(reduction='none')\n",
    "#ce = nn.CrossEntropyLoss() #reduction='none'\n",
    "\n",
    "\n",
    "ITERATIONS = spec['iterations']#36000\n",
    "\n",
    "\n",
    "lookup = torch.tensor([[6, 1, 4, 5, 7, 2, 0, 3],\n",
    "        [7, 0, 4, 2, 3, 1, 5, 6],\n",
    "        [0, 5, 6, 2, 4, 3, 7, 1],\n",
    "        [2, 7, 6, 4, 3, 1, 5, 0],\n",
    "        [0, 6, 4, 5, 2, 1, 7, 3],\n",
    "        [5, 1, 0, 6, 4, 7, 3, 2],\n",
    "        [4, 6, 1, 2, 5, 7, 0, 3],\n",
    "        [2, 7, 4, 3, 5, 6, 0, 1]], dtype=torch.long, device=device)"
   ],
   "metadata": {
    "collapsed": false,
    "pycharm": {
     "name": "#%%\n"
    }
   }
  },
  {
   "cell_type": "code",
   "execution_count": 7,
   "outputs": [],
   "source": [
    "seql = 100\n",
    "\n",
    "val_rythm = make_rythm(BATCH_SIZE, 100, CHAR_DUR, device)\n",
    "def validate():\n",
    "    acc, _, _ = run(model, lookup, val_rythm, BATCH_SIZE, 100, CHAR_DUR, perm_num, device)\n",
    "    print('Validation: ', acc)\n",
    "\n",
    "stats = {\n",
    "    'grad_norm': [],\n",
    "    'loss': [],\n",
    "    'acc': [],\n",
    "    'batch_var': [],\n",
    "    'val': []\n",
    "}\n",
    "\n",
    "grad_norm_history = []\n",
    "def record_norm():\n",
    "    norms = []\n",
    "    for p in params:\n",
    "        norms.append(p.grad.norm().item())\n",
    "    stats['grad_norm'].append(torch.tensor(norms).norm().item())\n",
    "\n"
   ],
   "metadata": {
    "collapsed": false,
    "pycharm": {
     "name": "#%%\n"
    }
   }
  },
  {
   "cell_type": "code",
   "execution_count": 8,
   "outputs": [
    {
     "name": "stdout",
     "output_type": "stream",
     "text": [
      "0.12316810376942158 20\n",
      "0.12988954707980155 40\n",
      "0.16738954707980155 60\n",
      "0.28327047675848005 80\n",
      "0.3240840509533882 100\n",
      "Validation:  0.3099747598171234\n",
      "0.34412715435028074 120\n",
      "0.3871093735098839 140\n",
      "0.37580818831920626 160\n",
      "0.3826104521751404 180\n",
      "0.3771147608757019 200\n",
      "Validation:  0.4039614796638489\n",
      "0.3804418072104454 220\n",
      "0.40418911576271055 240\n",
      "0.4224946081638336 260\n",
      "0.46969288438558576 280\n",
      "0.4792833998799324 300\n",
      "Validation:  0.45194128155708313\n",
      "0.4737742438912392 320\n",
      "0.4948949322104454 340\n",
      "0.5022898733615875 360\n",
      "0.5160964459180832 380\n",
      "0.5147898703813553 400\n",
      "Validation:  0.5256471037864685\n",
      "0.5182246685028076 420\n",
      "0.5018318951129913 440\n",
      "0.4979121744632721 460\n",
      "0.501643317937851 480\n",
      "0.5082435339689255 500\n",
      "Validation:  0.5184659361839294\n",
      "0.5114224076271057 520\n",
      "0.5112338319420815 540\n",
      "0.5171336174011231 560\n",
      "0.5120150819420815 580\n",
      "0.5305630370974541 600\n",
      "Validation:  0.5080492496490479\n",
      "0.5431977361440659 620\n",
      "0.5552128225564956 640\n",
      "0.5695581912994385 660\n",
      "0.5713227331638336 680\n",
      "0.5823410511016845 700\n",
      "Validation:  0.5704703330993652\n",
      "0.5978448212146759 720\n",
      "0.6095905184745789 740\n",
      "0.6181169092655182 760\n",
      "0.6247710108757019 780\n",
      "0.6294181019067764 800\n",
      "Validation:  0.6257102489471436\n",
      "0.6389816850423813 820\n",
      "0.6578125 840\n",
      "0.6590247839689255 860\n",
      "0.6506869614124298 880\n",
      "0.664843738079071 900\n",
      "Validation:  0.6632733345031738\n",
      "0.6818426728248597 920\n",
      "0.6727774828672409 940\n",
      "0.6703394383192063 960\n",
      "0.6729795217514039 980\n",
      "0.6766433179378509 1000\n",
      "Validation:  0.6973642706871033\n",
      "0.6973599076271058 1020\n",
      "0.7131869614124298 1040\n",
      "0.7105064630508423 1060\n",
      "0.7115301668643952 1080\n",
      "0.7014816790819168 1100\n",
      "Validation:  0.7111742496490479\n",
      "0.720096978545189 1120\n",
      "0.7511584043502808 1140\n",
      "0.7503232687711716 1160\n",
      "0.7623383611440658 1180\n",
      "0.7661368548870087 1200\n",
      "Validation:  0.7522096037864685\n",
      "0.7768992394208908 1220\n",
      "0.7913523614406586 1240\n",
      "0.8024649739265441 1260\n",
      "0.806263467669487 1280\n",
      "0.8185614198446274 1300\n",
      "Validation:  0.8278093338012695\n",
      "0.8146686404943466 1320\n",
      "0.8210533380508422 1340\n",
      "0.8297413766384125 1360\n",
      "0.8486664831638336 1380\n",
      "0.8481007546186448 1400\n",
      "Validation:  0.8511679172515869\n",
      "0.859765625 1420\n",
      "0.8683054983615875 1440\n",
      "0.8670932084321976 1460\n",
      "0.8844019383192062 1480\n",
      "0.8941002130508423 1500\n",
      "Validation:  0.8924400210380554\n",
      "0.9036772668361663 1520\n",
      "0.9147629290819168 1540\n",
      "0.9140624910593033 1560\n",
      "0.9173760741949082 1580\n",
      "0.918696117401123 1600\n",
      "Validation:  0.9144570827484131\n",
      "0.9205953657627106 1620\n",
      "0.9301454663276673 1640\n",
      "0.9281519293785095 1660\n",
      "0.9325565665960311 1680\n",
      "0.9388739198446274 1700\n",
      "Validation:  0.9439709782600403\n",
      "0.9428205817937851 1720\n",
      "0.9446524769067765 1740\n",
      "0.9507138937711715 1760\n",
      "0.9583782315254211 1780\n",
      "0.9573949247598648 1800\n",
      "Validation:  0.9619633555412292\n",
      "0.9586610853672027 1820\n",
      "0.9608566731214523 1840\n",
      "0.9688577502965927 1860\n",
      "0.9717403024435043 1880\n",
      "0.9703124910593033 1900\n",
      "Validation:  0.9792456030845642\n",
      "0.9643049508333206 1920\n",
      "0.9686826467514038 1940\n",
      "0.9736126065254211 1960\n",
      "0.9756465464830398 1980\n",
      "0.9797279089689255 2000\n",
      "Validation:  0.9812973737716675\n",
      "0.9806977301836014 2020\n",
      "0.9830818921327591 2040\n",
      "0.9813577502965927 2060\n",
      "0.978825432062149 2080\n",
      "0.9822198212146759 2100\n",
      "Validation:  0.9863478541374207\n",
      "0.9854929894208908 2120\n",
      "0.986759153008461 2140\n",
      "0.9872844785451889 2160\n",
      "0.9861530125141144 2180\n",
      "0.9863281190395355 2200\n",
      "Validation:  0.990688145160675\n",
      "0.9887661546468735 2220\n",
      "0.9867322206497192 2240\n",
      "0.9896821111440659 2260\n",
      "0.9896417021751404 2280\n",
      "0.9902747809886933 2300\n",
      "Validation:  0.9907670617103577\n",
      "0.9908000975847244 2320\n",
      "0.9810344874858856 2340\n",
      "0.9833647608757019 2360\n",
      "0.9875404000282287 2380\n",
      "0.9883890062570572 2400\n",
      "Validation:  0.9926609992980957\n",
      "0.9931573301553727 2420\n",
      "0.9929552733898163 2440\n",
      "0.9919450402259826 2460\n",
      "0.9922279000282288 2480\n",
      "0.9908943951129914 2500\n",
      "Validation:  0.9917140007019043\n",
      "0.9901535511016846 2520\n",
      "0.9940463334321976 2540\n",
      "0.9927666991949081 2560\n",
      "0.9932246714830398 2580\n",
      "0.9927936375141144 2600\n",
      "Validation:  0.9943971037864685\n",
      "0.9927936315536499 2620\n",
      "0.9920797348022461 2640\n",
      "0.9952451437711716 2660\n",
      "0.9948814600706101 2680\n",
      "0.9952047437429428 2700\n",
      "Validation:  0.9959753751754761\n",
      "0.9943696051836014 2720\n",
      "0.9945043087005615 2740\n",
      "0.9925511807203293 2760\n",
      "0.9912715524435043 2780\n",
      "0.9943022549152374 2800\n",
      "Validation:  0.9952651262283325\n",
      "0.993736520409584 2820\n",
      "0.9939251035451889 2840\n",
      "0.9954606682062149 2860\n",
      "0.996107217669487 2880\n",
      "0.9966729521751404 2900\n",
      "Validation:  0.9977903962135315\n",
      "0.9960398703813553 2920\n",
      "0.995622307062149 2940\n",
      "0.9952316820621491 2960\n",
      "0.9957165896892548 2980\n",
      "Total time:  1776.5238289833069\n"
     ]
    }
   ],
   "source": [
    "train_rythm = make_rythm(BATCH_SIZE, SEQ_LEN, CHAR_DUR, device)\n",
    "\n",
    "\n",
    "start = time.time()\n",
    "i = 1\n",
    "sumloss = 0\n",
    "sumacc = 0\n",
    "\n",
    "while i < ITERATIONS:\n",
    "    batchstart = time.time()\n",
    "    optimizer.zero_grad()\n",
    "    acc, loss, _ = run(model, lookup, train_rythm, BATCH_SIZE, SEQ_LEN, CHAR_DUR, perm_num, device)\n",
    "\n",
    "    loss.backward()\n",
    "    optimizer.step()\n",
    "\n",
    "    with torch.no_grad():\n",
    "        record_norm()\n",
    "        stats['loss'].append(loss.item())\n",
    "        #acc = ((((output > 0).float() == target).float()*recall).sum()/recall.sum()).item()\n",
    "        #stats['acc'].append(acc)\n",
    "        batch_var = 3 #out_final.var(0).mean().item()\n",
    "        #stats['batch_var'].append(batch_var)\n",
    "\n",
    "        #print(loss.item(), acc1, acc2)\n",
    "\n",
    "\n",
    "    sumloss += loss.item()\n",
    "    sumacc += acc\n",
    "    if i%20 == 0:\n",
    "        print(sumacc/20, i)\n",
    "        #print(loss.item(), sumloss/20, sumacc/20, time.time()-batchstart, batch_var) #torch.argmax(outputs[-1], 1).float().var()\n",
    "        sumloss = 0\n",
    "        sumacc = 0\n",
    "    if i%100 == 0:\n",
    "        validate()\n",
    "    i += 1\n",
    "    #config['stats'] = stats\n",
    "    #config['progress'] = i\n",
    "    #with open('configs/' + run_id + '.json', 'w') as config_file:\n",
    "    #    json.dump(config, config_file, indent=2)\n",
    "    #model.save('models/'+run_id)\n",
    "\n",
    "\n",
    "print('Total time: ', time.time()-start)\n"
   ],
   "metadata": {
    "collapsed": false,
    "pycharm": {
     "name": "#%%\n"
    }
   }
  },
  {
   "cell_type": "code",
   "execution_count": 8,
   "outputs": [],
   "source": [],
   "metadata": {
    "collapsed": false,
    "pycharm": {
     "name": "#%%\n"
    }
   }
  },
  {
   "cell_type": "code",
   "execution_count": 8,
   "outputs": [],
   "source": [],
   "metadata": {
    "collapsed": false,
    "pycharm": {
     "name": "#%%\n"
    }
   }
  },
  {
   "cell_type": "code",
   "execution_count": 9,
   "outputs": [
    {
     "name": "stdout",
     "output_type": "stream",
     "text": [
      "Validation:  0.9972379803657532\n"
     ]
    }
   ],
   "source": [
    "validate()\n"
   ],
   "metadata": {
    "collapsed": false,
    "pycharm": {
     "name": "#%%\n"
    }
   }
  },
  {
   "cell_type": "code",
   "execution_count": 10,
   "outputs": [
    {
     "data": {
      "text/plain": "tensor([[6, 1, 4, 5, 7, 2, 0, 3],\n        [7, 0, 4, 2, 3, 1, 5, 6],\n        [0, 5, 6, 2, 4, 3, 7, 1],\n        [2, 7, 6, 4, 3, 1, 5, 0],\n        [0, 6, 4, 5, 2, 1, 7, 3],\n        [5, 1, 0, 6, 4, 7, 3, 2],\n        [4, 6, 1, 2, 5, 7, 0, 3],\n        [2, 7, 4, 3, 5, 6, 0, 1]], device='cuda:0')"
     },
     "execution_count": 10,
     "metadata": {},
     "output_type": "execute_result"
    }
   ],
   "source": [
    "lookup"
   ],
   "metadata": {
    "collapsed": false,
    "pycharm": {
     "name": "#%%\n"
    }
   }
  },
  {
   "cell_type": "code",
   "execution_count": 11,
   "outputs": [],
   "source": [
    "\n",
    "_, _, info = run(model, lookup, train_rythm, BATCH_SIZE, SEQ_LEN, CHAR_DUR, perm_num, device, logging=True)\n",
    "\n",
    "input, log = info\n",
    "ar_length = input.shape[0]\n",
    "array_list = [input, log['loop']['control'], log['loop']['mem'], log['output']] #log['loop']['output']\n",
    "array_list2 = []\n",
    "for ar in array_list:\n",
    "    array_list2.append(ar[:, 0])\n",
    "    array_list2.append(torch.ones((ar_length, 1), device=input.device) * 0.5)\n",
    "big_ar = torch.cat(array_list2[:-1], dim=1).detach() * 255\n",
    "img = Image.fromarray(big_ar.cpu().numpy().astype(np.uint8), 'L')"
   ],
   "metadata": {
    "collapsed": false,
    "pycharm": {
     "name": "#%%\n"
    }
   }
  },
  {
   "cell_type": "code",
   "execution_count": 12,
   "outputs": [
    {
     "data": {
      "text/plain": "(229, 300)"
     },
     "execution_count": 12,
     "metadata": {},
     "output_type": "execute_result"
    }
   ],
   "source": [
    "img.size"
   ],
   "metadata": {
    "collapsed": false,
    "pycharm": {
     "name": "#%%\n"
    }
   }
  },
  {
   "cell_type": "code",
   "execution_count": 13,
   "outputs": [
    {
     "data": {
      "text/plain": "<PIL.Image.Image image mode=L size=229x300 at 0x7FD42C42CCF8>",
      "image/png": "[encoded data removed]"
     },
     "execution_count": 13,
     "metadata": {},
     "output_type": "execute_result"
    }
   ],
   "source": [
    "img\n",
    "#img.resize((239, 600))"
   ],
   "metadata": {
    "collapsed": false,
    "pycharm": {
     "name": "#%%\n"
    }
   }
  },
  {
   "cell_type": "code",
   "execution_count": 14,
   "outputs": [
    {
     "data": {
      "text/plain": "tensor(0.2875, device='cuda:0', grad_fn=<MeanBackward0>)"
     },
     "execution_count": 14,
     "metadata": {},
     "output_type": "execute_result"
    }
   ],
   "source": [
    "log['loop']['control'].mean()"
   ],
   "metadata": {
    "collapsed": false,
    "pycharm": {
     "name": "#%%\n"
    }
   }
  },
  {
   "cell_type": "code",
   "execution_count": 15,
   "outputs": [
    {
     "data": {
      "text/plain": "tensor(0.2675, device='cuda:0', grad_fn=<MeanBackward0>)"
     },
     "execution_count": 15,
     "metadata": {},
     "output_type": "execute_result"
    }
   ],
   "source": [
    "log['loop']['mem'].mean()\n",
    "\n"
   ],
   "metadata": {
    "collapsed": false,
    "pycharm": {
     "name": "#%%\n"
    }
   }
  },
  {
   "cell_type": "code",
   "execution_count": 16,
   "outputs": [
    {
     "data": {
      "text/plain": "tensor(0.0105, device='cuda:0', grad_fn=<VarBackward0>)"
     },
     "execution_count": 16,
     "metadata": {},
     "output_type": "execute_result"
    }
   ],
   "source": [
    "model.model.layers.loop.model.layers.control_synapse.weight.var()"
   ],
   "metadata": {
    "collapsed": false,
    "pycharm": {
     "name": "#%%\n"
    }
   }
  },
  {
   "cell_type": "code",
   "source": [
    "model.model.layers.loop.model.layers.mem_synapse.weight.var()"
   ],
   "metadata": {
    "collapsed": false,
    "pycharm": {
     "name": "#%%\n"
    }
   },
   "execution_count": 17,
   "outputs": [
    {
     "data": {
      "text/plain": "tensor(0.0105, device='cuda:0', grad_fn=<VarBackward0>)"
     },
     "execution_count": 17,
     "metadata": {},
     "output_type": "execute_result"
    }
   ]
  },
  {
   "cell_type": "code",
   "execution_count": 18,
   "outputs": [
    {
     "data": {
      "text/plain": "tensor(0.0028, device='cuda:0', grad_fn=<MulBackward0>)"
     },
     "execution_count": 18,
     "metadata": {},
     "output_type": "execute_result"
    }
   ],
   "source": [
    "model.model.layers.loop.model.layers.control_synapse.weight.var() * log['loop']['mem'].mean()\n"
   ],
   "metadata": {
    "collapsed": false,
    "pycharm": {
     "name": "#%%\n"
    }
   }
  },
  {
   "cell_type": "code",
   "execution_count": 19,
   "outputs": [],
   "source": [
    "#model.save('../models/state_adaptive1')"
   ],
   "metadata": {
    "collapsed": false,
    "pycharm": {
     "name": "#%%\n"
    }
   }
  },
  {
   "cell_type": "code",
   "execution_count": 9,
   "outputs": [
    {
     "data": {
      "text/plain": "[[6, 1, 4, 5, 7, 2, 0, 3],\n [7, 0, 4, 2, 3, 1, 5, 6],\n [0, 5, 6, 2, 4, 3, 7, 1],\n [2, 7, 6, 4, 3, 1, 5, 0],\n [0, 6, 4, 5, 2, 1, 7, 3],\n [5, 1, 0, 6, 4, 7, 3, 2],\n [4, 6, 1, 2, 5, 7, 0, 3],\n [2, 7, 4, 3, 5, 6, 0, 1]]"
     },
     "execution_count": 9,
     "metadata": {},
     "output_type": "execute_result"
    }
   ],
   "source": [
    "lookup.tolist()"
   ],
   "metadata": {
    "collapsed": false,
    "pycharm": {
     "name": "#%%\n"
    }
   }
  },
  {
   "cell_type": "code",
   "execution_count": 21,
   "outputs": [],
   "source": [
    "train_rythm = make_rythm(BATCH_SIZE, SEQ_LEN, CHAR_DUR, device)\n",
    "\n",
    "optimizer.zero_grad()\n",
    "acc, loss, _ = run(model, lookup, train_rythm, BATCH_SIZE, SEQ_LEN, CHAR_DUR, perm_num, device)\n",
    "\n",
    "loss.backward()"
   ],
   "metadata": {
    "collapsed": false,
    "pycharm": {
     "name": "#%%\n"
    }
   }
  },
  {
   "cell_type": "code",
   "execution_count": 22,
   "outputs": [
    {
     "name": "stdout",
     "output_type": "stream",
     "text": [
      "model.layers.loop.model.layers.control.initial_mem tensor(0.0004, device='cuda:0')\n",
      "model.layers.loop.model.layers.control_synapse.weight tensor(0.0869, device='cuda:0')\n",
      "model.layers.loop.model.layers.control_synapse.bias tensor(0.0181, device='cuda:0')\n",
      "model.layers.loop.model.layers.mem.initial_mem tensor(0.0005, device='cuda:0')\n",
      "model.layers.loop.model.layers.mem_synapse.weight tensor(0.0867, device='cuda:0')\n",
      "model.layers.loop.model.layers.mem_synapse.bias tensor(0.0180, device='cuda:0')\n",
      "model.layers.output_synapse.weight tensor(0.0073, device='cuda:0')\n",
      "model.layers.output_synapse.bias tensor(0.0013, device='cuda:0')\n"
     ]
    }
   ],
   "source": [
    "for name, par in model.named_parameters():\n",
    "    print(name, par.grad.norm())"
   ],
   "metadata": {
    "collapsed": false,
    "pycharm": {
     "name": "#%%\n"
    }
   }
  },
  {
   "cell_type": "code",
   "execution_count": 23,
   "outputs": [
    {
     "name": "stdout",
     "output_type": "stream",
     "text": [
      "model.layers.loop.model.layers.control.initial_mem tensor(0.0004, device='cuda:0')\n",
      "model.layers.loop.model.layers.control_synapse.weight tensor(0.0869, device='cuda:0')\n",
      "model.layers.loop.model.layers.control_synapse.bias tensor(0.0181, device='cuda:0')\n",
      "model.layers.loop.model.layers.mem.initial_mem tensor(0.0005, device='cuda:0')\n",
      "model.layers.loop.model.layers.mem_synapse.weight tensor(0.0867, device='cuda:0')\n",
      "model.layers.loop.model.layers.mem_synapse.bias tensor(0.0180, device='cuda:0')\n",
      "model.layers.output_synapse.weight tensor(0.0073, device='cuda:0')\n",
      "model.layers.output_synapse.bias tensor(0.0013, device='cuda:0')\n"
     ]
    }
   ],
   "source": [
    "for name, par in model.named_parameters():\n",
    "    print(name, par.grad.norm())"
   ],
   "metadata": {
    "collapsed": false,
    "pycharm": {
     "name": "#%%\n"
    }
   }
  },
  {
   "cell_type": "code",
   "execution_count": 17,
   "outputs": [],
   "source": [
    "import csv\n",
    "with open(f'../export/lookuplist.csv', 'w') as csvfile: #, newline=''\n",
    "    spamwriter = csv.writer(csvfile, delimiter=' ',\n",
    "                            quotechar='|', quoting=csv.QUOTE_MINIMAL)\n",
    "    spamwriter.writerows(lookuplist)"
   ],
   "metadata": {
    "collapsed": false,
    "pycharm": {
     "name": "#%%\n"
    }
   }
  },
  {
   "cell_type": "code",
   "execution_count": 15,
   "outputs": [],
   "source": [
    "lookuplist = torch.cat((torch.tensor(range(8)).view(8,1), lookup.cpu()), dim=1).tolist()\n",
    "lookuplist.insert(0, [15]+list(range(8)))"
   ],
   "metadata": {
    "collapsed": false,
    "pycharm": {
     "name": "#%%\n"
    }
   }
  },
  {
   "cell_type": "code",
   "execution_count": 16,
   "outputs": [
    {
     "data": {
      "text/plain": "[[15, 0, 1, 2, 3, 4, 5, 6, 7],\n [0, 6, 1, 4, 5, 7, 2, 0, 3],\n [1, 7, 0, 4, 2, 3, 1, 5, 6],\n [2, 0, 5, 6, 2, 4, 3, 7, 1],\n [3, 2, 7, 6, 4, 3, 1, 5, 0],\n [4, 0, 6, 4, 5, 2, 1, 7, 3],\n [5, 5, 1, 0, 6, 4, 7, 3, 2],\n [6, 4, 6, 1, 2, 5, 7, 0, 3],\n [7, 2, 7, 4, 3, 5, 6, 0, 1]]"
     },
     "execution_count": 16,
     "metadata": {},
     "output_type": "execute_result"
    }
   ],
   "source": [
    "lookuplist"
   ],
   "metadata": {
    "collapsed": false,
    "pycharm": {
     "name": "#%%\n"
    }
   }
  },
  {
   "cell_type": "code",
   "execution_count": null,
   "outputs": [],
   "source": [],
   "metadata": {
    "collapsed": false,
    "pycharm": {
     "name": "#%%\n"
    }
   }
  }
 ],
 "metadata": {
  "kernelspec": {
   "display_name": "Python 3",
   "language": "python",
   "name": "python3"
  },
  "language_info": {
   "codemirror_mode": {
    "name": "ipython",
    "version": 2
   },
   "file_extension": ".py",
   "mimetype": "text/x-python",
   "name": "python",
   "nbconvert_exporter": "python",
   "pygments_lexer": "ipython2",
   "version": "2.7.6"
  }
 },
 "nbformat": 4,
 "nbformat_minor": 0
}