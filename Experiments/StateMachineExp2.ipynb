{
 "cells": [
  {
   "cell_type": "code",
   "execution_count": 1,
   "metadata": {
    "collapsed": true
   },
   "outputs": [],
   "source": [
    "import sys\n",
    "sys.path.append('../')\n",
    "from torch.distributions.bernoulli import Bernoulli\n",
    "from torch.distributions.geometric import Geometric\n",
    "from Code.envs.statemachine import run, make_rythm\n",
    "import torch\n",
    "import torch.nn as nn\n",
    "import torch.optim as optim\n",
    "import time\n",
    "from collections import OrderedDict\n",
    "\n",
    "from PIL import Image\n",
    "import numpy as np\n"
   ]
  },
  {
   "cell_type": "code",
   "execution_count": 24,
   "outputs": [],
   "source": [
    "standard = {'beta': 0.8,\n",
    "   'lr': 0.001,\n",
    "   'NoBias': False, #no effect\n",
    "   'iterations': 3000,\n",
    "   'batch_size': 128,\n",
    "   'spkfn': 'bellec',\n",
    "   'decay_out': False,\n",
    "   'control_neuron': 'LIF',\n",
    "}\n",
    "\n",
    "spec = {\n",
    "    **standard,\n",
    "   '1-beta': 'improved',\n",
    "   'decay_change': 1,\n",
    "   'architecture': '1L',\n",
    "   'mem_neuron': 'Cooldown',\n",
    "   'char_dur': 20,\n",
    "   'n_mem': 100\n",
    "}"
   ],
   "metadata": {
    "collapsed": false,
    "pycharm": {
     "name": "#%%\n"
    }
   }
  },
  {
   "cell_type": "code",
   "execution_count": 25,
   "outputs": [],
   "source": [
    "BATCH_SIZE = spec['batch_size']\n",
    "\n",
    "device = torch.device('cuda')\n",
    "\n",
    "SEQ_LEN = 30\n",
    "CHAR_DUR = spec['char_dur']\n",
    "\n",
    "perm_num = 8\n",
    "n_input = perm_num + CHAR_DUR\n",
    "n_out = perm_num\n",
    "n_control = 100\n",
    "n_mem = spec['n_mem']\n",
    "\n",
    "MAIN_DECAY = np.exp(-1/(CHAR_DUR*spec['decay_change']))\n",
    "INPUT_RATE = 1.5/n_input"
   ],
   "metadata": {
    "collapsed": false,
    "pycharm": {
     "name": "#%%\n"
    }
   }
  },
  {
   "cell_type": "code",
   "execution_count": 26,
   "outputs": [
    {
     "data": {
      "text/plain": "0.9900498337491681"
     },
     "execution_count": 26,
     "metadata": {},
     "output_type": "execute_result"
    }
   ],
   "source": [
    "MAIN_DECAY# = 0.99"
   ],
   "metadata": {
    "collapsed": false,
    "pycharm": {
     "name": "#%%\n"
    }
   }
  },
  {
   "cell_type": "code",
   "execution_count": 5,
   "outputs": [
    {
     "name": "stdout",
     "output_type": "stream",
     "text": [
      "OrderedDict([('control', [[('input', 1), ('control', 1), ('mem', 1)], LIFNeuron(), <class 'torch.nn.modules.linear.Linear'>]), ('mem', [[('input', 1), ('control', 1), ('mem', 1)], CooldownNeuron(\n",
      "  (elu): ELU(alpha=1.0)\n",
      "), <class 'torch.nn.modules.linear.Linear'>]), ('output', [[('control', 1), ('mem', 1)], BaseNeuron(), None])])\n"
     ]
    },
    {
     "data": {
      "text/plain": "OuterWrapper(\n  (model): DynNetwork(\n    (layers): ModuleDict(\n      (loop): SequenceWrapper(\n        (model): ParallelNetwork2(\n          (layers): ModuleDict(\n            (control): LIFNeuron()\n            (control_synapse): Linear(in_features=228, out_features=100, bias=True)\n            (mem): CooldownNeuron(\n              (elu): ELU(alpha=1.0)\n            )\n            (mem_synapse): Linear(in_features=228, out_features=100, bias=True)\n            (output): BaseNeuron()\n          )\n        )\n      )\n      (output_synapse): Linear(in_features=200, out_features=8, bias=True)\n      (output): BaseNeuron()\n    )\n  )\n)"
     },
     "execution_count": 5,
     "metadata": {},
     "output_type": "execute_result"
    }
   ],
   "source": [
    "from Code.everything4 import DynNetwork, OuterWrapper, BaseNeuron, SequenceWrapper, ParallelNetwork, \\\n",
    " SeqOnlySpike, CooldownNeuron, OutputNeuron, LIFNeuron, NoResetNeuron, AdaptiveNeuron, FlipFlopNeuron, ParallelNetwork2\n",
    "\n",
    "\n",
    "built_config = {\n",
    "    'BETA': spec['beta'],\n",
    "    'OFFSET': -np.log(1-spec['beta']),#3, # TODO: was 3 for config24\n",
    "    'SPIKE_FN': spec['spkfn'],\n",
    "    '1-beta': spec['1-beta'],\n",
    "    'ADAPDECAY': MAIN_DECAY, #0.9985,\n",
    "    'ADAPSCALE': 180\n",
    "}\n",
    "\n",
    "#built_config['ADAPDECAY'] = 0.99\n",
    "\n",
    "mem_config = {\n",
    "    **built_config,\n",
    "    'BETA': spec['beta'] if spec['mem_neuron'] in ['Adaptive', 'LIF'] else MAIN_DECAY\n",
    "}\n",
    "\n",
    "\n",
    "\n",
    "control_lookup = {\n",
    "    'LIF': LIFNeuron,\n",
    "    'Disc': SeqOnlySpike,\n",
    "    'NoReset': NoResetNeuron\n",
    "}\n",
    "\n",
    "mem_lookup = {\n",
    "    'Adaptive': AdaptiveNeuron,\n",
    "    'Cooldown': CooldownNeuron,\n",
    "    'NoReset': NoResetNeuron,\n",
    "    'FlipFlop': FlipFlopNeuron,\n",
    "    'LIF': LIFNeuron\n",
    "}\n",
    "\n",
    "control_neuron = control_lookup[spec['control_neuron']](n_control, built_config)\n",
    "mem_neuron = mem_lookup[spec['mem_neuron']](n_mem, mem_config)\n",
    "out_neuron_size = n_mem if spec['architecture'] == '2L' else n_mem+n_control\n",
    "out_neuron = OutputNeuron(out_neuron_size, built_config) if spec['decay_out'] else BaseNeuron(out_neuron_size, built_config)\n",
    "#out_neuron = LIFNeuron(n_control, built_config)\n",
    "#TODO: fix this for 1L\n",
    "\n",
    "#from mem only\n",
    "loop_2L = OrderedDict([\n",
    "    ('input', (n_input, INPUT_RATE)),\n",
    "    ('control', [['input', 'mem'], control_neuron, nn.Linear]),\n",
    "    ('mem', [['control'], mem_neuron, nn.Linear]),\n",
    "    ('output', [['mem'], out_neuron, None]),\n",
    "])\n",
    "\n",
    "\n",
    "loop_1L = OrderedDict([\n",
    "    ('input', (n_input, INPUT_RATE)),\n",
    "    ('control', [['input', 'control', 'mem'], control_neuron, nn.Linear]),\n",
    "    ('mem', [['input', 'control', 'mem'], mem_neuron, nn.Linear]),\n",
    "    ('output', [['control', 'mem'], out_neuron, None]),\n",
    "])\n",
    "\n",
    "loop = loop_1L if spec['architecture'] == '1L' else loop_2L\n",
    "\n",
    "outer = OrderedDict([\n",
    "    ('input', n_input),\n",
    "    ('loop', [['input'], SequenceWrapper(ParallelNetwork2(loop, bias=(not spec['NoBias']))), None]),\n",
    "    ('output', [['loop'], BaseNeuron(n_out, None), nn.Linear]),\n",
    "])\n",
    "\n",
    "model = OuterWrapper(DynNetwork(outer), device)\n",
    "\n",
    "\n",
    "params = list(model.parameters())\n",
    "\n",
    "model.to(device)\n"
   ],
   "metadata": {
    "collapsed": false,
    "pycharm": {
     "name": "#%%\n"
    }
   }
  },
  {
   "cell_type": "code",
   "execution_count": 6,
   "outputs": [],
   "source": [
    "lr = spec['lr']\n",
    "optimizer = optim.Adam(params, lr=lr)\n",
    "#bce = nn.BCEWithLogitsLoss(reduction='none')\n",
    "#ce = nn.CrossEntropyLoss() #reduction='none'\n",
    "\n",
    "\n",
    "ITERATIONS = spec['iterations']#36000\n",
    "\n",
    "\n",
    "lookup = torch.tensor([[6, 1, 4, 5, 7, 2, 0, 3],\n",
    "        [7, 0, 4, 2, 3, 1, 5, 6],\n",
    "        [0, 5, 6, 2, 4, 3, 7, 1],\n",
    "        [2, 7, 6, 4, 3, 1, 5, 0],\n",
    "        [0, 6, 4, 5, 2, 1, 7, 3],\n",
    "        [5, 1, 0, 6, 4, 7, 3, 2],\n",
    "        [4, 6, 1, 2, 5, 7, 0, 3],\n",
    "        [2, 7, 4, 3, 5, 6, 0, 1]], dtype=torch.long, device=device)"
   ],
   "metadata": {
    "collapsed": false,
    "pycharm": {
     "name": "#%%\n"
    }
   }
  },
  {
   "cell_type": "code",
   "execution_count": 7,
   "outputs": [],
   "source": [
    "seql = 100\n",
    "\n",
    "val_rythm = make_rythm(BATCH_SIZE, 100, CHAR_DUR, device)\n",
    "def validate():\n",
    "    acc, _, _ = run(model, lookup, val_rythm, BATCH_SIZE, 100, CHAR_DUR, perm_num, device)\n",
    "    print('Validation: ', acc)\n",
    "\n",
    "stats = {\n",
    "    'grad_norm': [],\n",
    "    'loss': [],\n",
    "    'acc': [],\n",
    "    'batch_var': [],\n",
    "    'val': []\n",
    "}\n",
    "\n",
    "grad_norm_history = []\n",
    "def record_norm():\n",
    "    norms = []\n",
    "    for p in params:\n",
    "        norms.append(p.grad.norm().item())\n",
    "    stats['grad_norm'].append(torch.tensor(norms).norm().item())\n",
    "\n"
   ],
   "metadata": {
    "collapsed": false,
    "pycharm": {
     "name": "#%%\n"
    }
   }
  },
  {
   "cell_type": "code",
   "execution_count": 8,
   "outputs": [
    {
     "name": "stdout",
     "output_type": "stream",
     "text": [
      "0.12265624776482582 20\n",
      "0.1203125 40\n",
      "0.12640086077153684 60\n",
      "0.12478448376059532 80\n",
      "0.13273167945444583 100\n",
      "Validation:  0.15719696879386902\n",
      "0.13030711151659488 120\n",
      "0.1423221979290247 140\n",
      "0.12896012961864473 160\n",
      "0.1429418109357357 180\n",
      "0.16699892170727254 200\n",
      "Validation:  0.19002525508403778\n",
      "0.17206357643008233 220\n",
      "0.17871767058968543 240\n",
      "0.22168642282485962 260\n",
      "0.22764008566737176 280\n",
      "0.2714439630508423 300\n",
      "Validation:  0.29845327138900757\n",
      "0.3010775864124298 320\n",
      "0.2955818951129913 340\n",
      "0.33415948003530505 360\n",
      "0.3614762932062149 380\n",
      "0.36328124552965163 400\n",
      "Validation:  0.36647728085517883\n",
      "0.3600754290819168 420\n",
      "0.40358297526836395 440\n",
      "0.4143318936228752 460\n",
      "0.43348598927259446 480\n",
      "0.45447198301553726 500\n",
      "Validation:  0.46638256311416626\n",
      "0.47031249552965165 520\n",
      "0.4748114213347435 540\n",
      "0.4957165941596031 560\n",
      "0.5052532345056534 580\n",
      "0.5004579678177834 600\n",
      "Validation:  0.5228850841522217\n",
      "0.5089170217514039 620\n",
      "0.508620685338974 640\n",
      "0.5249191790819168 660\n",
      "0.534428882598877 680\n",
      "0.5524784415960312 700\n",
      "Validation:  0.5222538113594055\n",
      "0.5607219785451889 720\n",
      "0.5591594845056533 740\n",
      "0.5765355557203293 760\n",
      "0.5876077532768249 780\n",
      "0.601939657330513 800\n",
      "Validation:  0.6059027910232544\n",
      "0.6174838364124298 820\n",
      "0.6269935339689254 840\n",
      "0.6344827532768249 860\n",
      "0.644234910607338 880\n",
      "0.6497036635875701 900\n",
      "Validation:  0.6262626051902771\n",
      "0.6545258611440659 920\n",
      "0.6582435369491577 940\n",
      "0.6753232777118683 960\n",
      "0.6849407315254211 980\n",
      "0.6895204722881317 1000\n",
      "Validation:  0.6808711886405945\n",
      "0.6876077562570572 1020\n",
      "0.6985721945762634 1040\n",
      "0.708512932062149 1060\n",
      "0.7140894412994385 1080\n",
      "0.7228717625141143 1100\n",
      "Validation:  0.7244318127632141\n",
      "0.7303071111440659 1120\n",
      "0.7344288796186447 1140\n",
      "0.7409213334321976 1160\n",
      "0.7430765122175217 1180\n",
      "0.747440728545189 1200\n",
      "Validation:  0.7417929172515869\n",
      "0.7512661635875701 1220\n",
      "0.7597252130508423 1240\n",
      "0.7578663796186447 1260\n",
      "0.7751077562570572 1280\n",
      "0.7650862038135529 1300\n",
      "Validation:  0.7533143758773804\n",
      "0.7756196111440659 1320\n",
      "0.774542024731636 1340\n",
      "0.7770204722881318 1360\n",
      "0.7909482836723327 1380\n",
      "0.8057650864124298 1400\n",
      "Validation:  0.7889835834503174\n",
      "0.8033405154943466 1420\n",
      "0.8132273644208908 1440\n",
      "0.8190463364124299 1460\n",
      "0.8252424508333206 1480\n",
      "0.8248114138841629 1500\n",
      "Validation:  0.8347538113594055\n",
      "0.8421336144208909 1520\n",
      "0.8504310339689255 1540\n",
      "0.8526131421327591 1560\n",
      "0.8564924538135529 1580\n",
      "0.8575161606073379 1600\n",
      "Validation:  0.8584280014038086\n",
      "0.8535829693078995 1620\n",
      "0.8630657285451889 1640\n",
      "0.8596713244915009 1660\n",
      "0.8554687470197677 1680\n",
      "0.8633620649576187 1700\n",
      "Validation:  0.8653724789619446\n",
      "0.8666756451129913 1720\n",
      "0.8843480616807937 1740\n",
      "0.8941271543502808 1760\n",
      "0.9044450402259827 1780\n",
      "0.9045527964830399 1800\n",
      "Validation:  0.8934659361839294\n",
      "0.9026131480932236 1820\n",
      "0.9118265092372895 1840\n",
      "0.9171066790819168 1860\n",
      "0.9183458924293518 1880\n",
      "0.9220366299152374 1900\n",
      "Validation:  0.9086174368858337\n",
      "0.921417024731636 1920\n",
      "0.9253771483898163 1940\n",
      "0.9227370649576188 1960\n",
      "0.9233027994632721 1980\n",
      "0.9327047437429428 2000\n",
      "Validation:  0.9318181872367859\n",
      "0.9355603337287903 2020\n",
      "0.9344827473163605 2040\n",
      "0.9357758581638336 2060\n",
      "0.9414062470197677 2080\n",
      "0.9452316731214523 2100\n",
      "Validation:  0.9373421669006348\n",
      "0.9470905184745788 2120\n",
      "0.9501616269350052 2140\n",
      "0.9522359877824783 2160\n",
      "0.9513469785451889 2180\n",
      "0.9536637932062149 2200\n",
      "Validation:  0.9453914165496826\n",
      "0.95660021007061 2220\n",
      "0.9589708983898163 2240\n",
      "0.9597521543502807 2260\n",
      "0.9575969755649567 2280\n",
      "0.9638469815254211 2300\n",
      "Validation:  0.9581754803657532\n",
      "0.9642241328954697 2320\n",
      "0.9628232717514038 2340\n",
      "0.9643857717514038 2360\n",
      "0.9611799538135528 2380\n",
      "0.9669989228248597 2400\n",
      "Validation:  0.9681186676025391\n",
      "0.9693426728248596 2420\n",
      "0.9706896543502808 2440\n",
      "0.9686961323022842 2460\n",
      "0.9728178828954697 2480\n",
      "0.972386845946312 2500\n",
      "Validation:  0.9696969985961914\n",
      "0.9761314630508423 2520\n",
      "0.9742456793785095 2540\n",
      "0.9756196111440658 2560\n",
      "0.9760506480932236 2580\n",
      "0.9792564600706101 2600\n",
      "Validation:  0.9775883555412292\n",
      "0.9768318951129913 2620\n",
      "0.9572198182344437 2640\n",
      "0.9439924478530883 2660\n",
      "0.9535021513700486 2680\n",
      "0.9689116269350052 2700\n",
      "Validation:  0.9715909361839294\n",
      "0.978663781285286 2720\n",
      "0.9799838304519654 2740\n",
      "0.9820043057203293 2760\n",
      "0.9819504231214523 2780\n",
      "0.9827047377824784 2800\n",
      "Validation:  0.9850063323974609\n",
      "0.9844827502965927 2820\n",
      "0.9823006421327591 2840\n",
      "0.9813038766384125 2860\n",
      "0.9827855497598648 2880\n",
      "0.985883605480194 2900\n",
      "Validation:  0.9851641654968262\n",
      "0.9859375 2920\n",
      "0.9853717625141144 2940\n",
      "0.9874461233615875 2960\n",
      "0.9885775864124298 2980\n",
      "Total time:  3808.388892173767\n"
     ]
    }
   ],
   "source": [
    "train_rythm = make_rythm(BATCH_SIZE, SEQ_LEN, CHAR_DUR, device)\n",
    "\n",
    "\n",
    "start = time.time()\n",
    "i = 1\n",
    "sumloss = 0\n",
    "sumacc = 0\n",
    "\n",
    "while i < ITERATIONS:\n",
    "    batchstart = time.time()\n",
    "    optimizer.zero_grad()\n",
    "    acc, loss, _ = run(model, lookup, train_rythm, BATCH_SIZE, SEQ_LEN, CHAR_DUR, perm_num, device)\n",
    "\n",
    "    loss.backward()\n",
    "    optimizer.step()\n",
    "\n",
    "    with torch.no_grad():\n",
    "        record_norm()\n",
    "        stats['loss'].append(loss.item())\n",
    "        #acc = ((((output > 0).float() == target).float()*recall).sum()/recall.sum()).item()\n",
    "        #stats['acc'].append(acc)\n",
    "        batch_var = 3 #out_final.var(0).mean().item()\n",
    "        #stats['batch_var'].append(batch_var)\n",
    "\n",
    "        #print(loss.item(), acc1, acc2)\n",
    "\n",
    "\n",
    "    sumloss += loss.item()\n",
    "    sumacc += acc\n",
    "    if i%20 == 0:\n",
    "        print(sumacc/20, i)\n",
    "        #print(loss.item(), sumloss/20, sumacc/20, time.time()-batchstart, batch_var) #torch.argmax(outputs[-1], 1).float().var()\n",
    "        sumloss = 0\n",
    "        sumacc = 0\n",
    "    if i%100 == 0:\n",
    "        validate()\n",
    "    i += 1\n",
    "    #config['stats'] = stats\n",
    "    #config['progress'] = i\n",
    "    #with open('configs/' + run_id + '.json', 'w') as config_file:\n",
    "    #    json.dump(config, config_file, indent=2)\n",
    "    #model.save('models/'+run_id)\n",
    "\n",
    "\n",
    "print('Total time: ', time.time()-start)\n"
   ],
   "metadata": {
    "collapsed": false,
    "pycharm": {
     "name": "#%%\n"
    }
   }
  },
  {
   "cell_type": "code",
   "execution_count": 8,
   "outputs": [],
   "source": [],
   "metadata": {
    "collapsed": false,
    "pycharm": {
     "name": "#%%\n"
    }
   }
  },
  {
   "cell_type": "code",
   "execution_count": 8,
   "outputs": [],
   "source": [],
   "metadata": {
    "collapsed": false,
    "pycharm": {
     "name": "#%%\n"
    }
   }
  },
  {
   "cell_type": "code",
   "execution_count": 9,
   "outputs": [
    {
     "name": "stdout",
     "output_type": "stream",
     "text": [
      "Validation:  0.9876893758773804\n"
     ]
    }
   ],
   "source": [
    "validate()\n"
   ],
   "metadata": {
    "collapsed": false,
    "pycharm": {
     "name": "#%%\n"
    }
   }
  },
  {
   "cell_type": "code",
   "execution_count": 10,
   "outputs": [
    {
     "data": {
      "text/plain": "tensor([[6, 1, 4, 5, 7, 2, 0, 3],\n        [7, 0, 4, 2, 3, 1, 5, 6],\n        [0, 5, 6, 2, 4, 3, 7, 1],\n        [2, 7, 6, 4, 3, 1, 5, 0],\n        [0, 6, 4, 5, 2, 1, 7, 3],\n        [5, 1, 0, 6, 4, 7, 3, 2],\n        [4, 6, 1, 2, 5, 7, 0, 3],\n        [2, 7, 4, 3, 5, 6, 0, 1]], device='cuda:0')"
     },
     "execution_count": 10,
     "metadata": {},
     "output_type": "execute_result"
    }
   ],
   "source": [
    "lookup"
   ],
   "metadata": {
    "collapsed": false,
    "pycharm": {
     "name": "#%%\n"
    }
   }
  },
  {
   "cell_type": "code",
   "execution_count": 11,
   "outputs": [],
   "source": [
    "\n",
    "_, _, info = run(model, lookup, train_rythm, BATCH_SIZE, SEQ_LEN, CHAR_DUR, perm_num, device, logging=True)\n",
    "\n",
    "input, log = info\n",
    "ar_length = input.shape[0]\n",
    "array_list = [input, log['loop']['control'], log['loop']['mem'], log['output']] #log['loop']['output']\n",
    "array_list2 = []\n",
    "for ar in array_list:\n",
    "    array_list2.append(ar[:, 0])\n",
    "    array_list2.append(torch.ones((ar_length, 1), device=input.device) * 0.5)\n",
    "big_ar = torch.cat(array_list2[:-1], dim=1).detach() * 255\n",
    "img = Image.fromarray(big_ar.cpu().numpy().astype(np.uint8), 'L')"
   ],
   "metadata": {
    "collapsed": false,
    "pycharm": {
     "name": "#%%\n"
    }
   }
  },
  {
   "cell_type": "code",
   "execution_count": 12,
   "outputs": [
    {
     "data": {
      "text/plain": "(239, 600)"
     },
     "execution_count": 12,
     "metadata": {},
     "output_type": "execute_result"
    }
   ],
   "source": [
    "img.size"
   ],
   "metadata": {
    "collapsed": false,
    "pycharm": {
     "name": "#%%\n"
    }
   }
  },
  {
   "cell_type": "code",
   "execution_count": 13,
   "outputs": [
    {
     "data": {
      "text/plain": "<PIL.Image.Image image mode=L size=239x600 at 0x7FD115D0C0B8>",
      "image/png": "[encoded data removed]"
     },
     "execution_count": 13,
     "metadata": {},
     "output_type": "execute_result"
    }
   ],
   "source": [
    "img\n",
    "#img.resize((239, 600))"
   ],
   "metadata": {
    "collapsed": false,
    "pycharm": {
     "name": "#%%\n"
    }
   }
  },
  {
   "cell_type": "code",
   "execution_count": 14,
   "outputs": [
    {
     "data": {
      "text/plain": "tensor(0.3142, device='cuda:0', grad_fn=<MeanBackward0>)"
     },
     "execution_count": 14,
     "metadata": {},
     "output_type": "execute_result"
    }
   ],
   "source": [
    "log['loop']['control'].mean()"
   ],
   "metadata": {
    "collapsed": false,
    "pycharm": {
     "name": "#%%\n"
    }
   }
  },
  {
   "cell_type": "code",
   "execution_count": 15,
   "outputs": [
    {
     "data": {
      "text/plain": "tensor(0.4259, device='cuda:0', grad_fn=<MeanBackward0>)"
     },
     "execution_count": 15,
     "metadata": {},
     "output_type": "execute_result"
    }
   ],
   "source": [
    "log['loop']['mem'].mean()\n",
    "\n"
   ],
   "metadata": {
    "collapsed": false,
    "pycharm": {
     "name": "#%%\n"
    }
   }
  },
  {
   "cell_type": "code",
   "execution_count": 16,
   "outputs": [
    {
     "data": {
      "text/plain": "tensor(0.0104, device='cuda:0', grad_fn=<VarBackward0>)"
     },
     "execution_count": 16,
     "metadata": {},
     "output_type": "execute_result"
    }
   ],
   "source": [
    "model.model.layers.loop.model.layers.control_synapse.weight.var()"
   ],
   "metadata": {
    "collapsed": false,
    "pycharm": {
     "name": "#%%\n"
    }
   }
  },
  {
   "cell_type": "code",
   "source": [
    "model.model.layers.loop.model.layers.mem_synapse.weight.var()"
   ],
   "metadata": {
    "collapsed": false,
    "pycharm": {
     "name": "#%%\n"
    }
   },
   "execution_count": 17,
   "outputs": [
    {
     "data": {
      "text/plain": "tensor(0.0154, device='cuda:0', grad_fn=<VarBackward0>)"
     },
     "execution_count": 17,
     "metadata": {},
     "output_type": "execute_result"
    }
   ]
  },
  {
   "cell_type": "code",
   "execution_count": 18,
   "outputs": [
    {
     "data": {
      "text/plain": "tensor(0.0044, device='cuda:0', grad_fn=<MulBackward0>)"
     },
     "execution_count": 18,
     "metadata": {},
     "output_type": "execute_result"
    }
   ],
   "source": [
    "model.model.layers.loop.model.layers.control_synapse.weight.var() * log['loop']['mem'].mean()\n"
   ],
   "metadata": {
    "collapsed": false,
    "pycharm": {
     "name": "#%%\n"
    }
   }
  },
  {
   "cell_type": "code",
   "execution_count": 19,
   "outputs": [],
   "source": [
    "#model.save('../models/state_adaptive1')"
   ],
   "metadata": {
    "collapsed": false,
    "pycharm": {
     "name": "#%%\n"
    }
   }
  },
  {
   "cell_type": "code",
   "execution_count": 20,
   "outputs": [
    {
     "data": {
      "text/plain": "tensor([[6, 1, 4, 5, 7, 2, 0, 3],\n        [7, 0, 4, 2, 3, 1, 5, 6],\n        [0, 5, 6, 2, 4, 3, 7, 1],\n        [2, 7, 6, 4, 3, 1, 5, 0],\n        [0, 6, 4, 5, 2, 1, 7, 3],\n        [5, 1, 0, 6, 4, 7, 3, 2],\n        [4, 6, 1, 2, 5, 7, 0, 3],\n        [2, 7, 4, 3, 5, 6, 0, 1]], device='cuda:0')"
     },
     "execution_count": 20,
     "metadata": {},
     "output_type": "execute_result"
    }
   ],
   "source": [
    "lookup"
   ],
   "metadata": {
    "collapsed": false,
    "pycharm": {
     "name": "#%%\n"
    }
   }
  },
  {
   "cell_type": "code",
   "execution_count": 20,
   "outputs": [],
   "source": [],
   "metadata": {
    "collapsed": false,
    "pycharm": {
     "name": "#%%\n"
    }
   }
  }
 ],
 "metadata": {
  "kernelspec": {
   "display_name": "Python 3",
   "language": "python",
   "name": "python3"
  },
  "language_info": {
   "codemirror_mode": {
    "name": "ipython",
    "version": 2
   },
   "file_extension": ".py",
   "mimetype": "text/x-python",
   "name": "python",
   "nbconvert_exporter": "python",
   "pygments_lexer": "ipython2",
   "version": "2.7.6"
  }
 },
 "nbformat": 4,
 "nbformat_minor": 0
}