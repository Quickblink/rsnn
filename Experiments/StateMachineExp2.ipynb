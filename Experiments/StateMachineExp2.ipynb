{
 "cells": [
  {
   "cell_type": "code",
   "execution_count": 1,
   "metadata": {
    "collapsed": true
   },
   "outputs": [],
   "source": [
    "import sys\n",
    "sys.path.append('../')\n",
    "from Code.envs.statemachine import run, make_rythm\n",
    "import torch\n",
    "import torch.nn as nn\n",
    "import torch.optim as optim\n",
    "import time\n",
    "from collections import OrderedDict\n",
    "\n",
    "from PIL import Image\n",
    "import numpy as np\n",
    "\n",
    "#from Code.everything5 import FlipFlopNFn"
   ]
  },
  {
   "cell_type": "code",
   "execution_count": 2,
   "outputs": [],
   "source": [
    "standard = {'beta': 0.8,\n",
    "   'lr': 0.001,\n",
    "   'NoBias': False, #no effect\n",
    "   'iterations': 5000,\n",
    "   'batch_size': 64,\n",
    "   'spkfn': 'bellec',\n",
    "   'decay_out': False,\n",
    "   'control_neuron': 'LIF',\n",
    "}\n",
    "\n",
    "spec = {\n",
    "    **standard,\n",
    "   '1-beta': 'improved',\n",
    "   'decay_change': 1,\n",
    "   'architecture': '1L',\n",
    "   'mem_neuron': 'FlipFlop',\n",
    "   'char_dur': 20,\n",
    "   'n_mem': 20\n",
    "}\n",
    "\n",
    "\n",
    "#spec['1-beta'] = False\n",
    "#spec['beta'] = 1"
   ],
   "metadata": {
    "collapsed": false,
    "pycharm": {
     "name": "#%%\n"
    }
   }
  },
  {
   "cell_type": "code",
   "execution_count": 3,
   "outputs": [],
   "source": [
    "BATCH_SIZE = spec['batch_size']\n",
    "\n",
    "device = torch.device('cuda')\n",
    "\n",
    "SEQ_LEN = 30\n",
    "CHAR_DUR = spec['char_dur']\n",
    "\n",
    "perm_num = 8\n",
    "n_input = perm_num + CHAR_DUR\n",
    "n_out = perm_num\n",
    "n_control = 100\n",
    "n_mem = spec['n_mem']\n",
    "\n",
    "MAIN_DECAY = np.exp(-1/(CHAR_DUR*spec['decay_change']))\n",
    "INPUT_RATE = 1.5/n_input"
   ],
   "metadata": {
    "collapsed": false,
    "pycharm": {
     "name": "#%%\n"
    }
   }
  },
  {
   "cell_type": "code",
   "execution_count": 4,
   "outputs": [],
   "source": [
    "#MAIN_DECAY = 1# = 0.99\n",
    "MAIN_DECAY = np.exp(-1/(CHAR_DUR)*0.5)\n",
    "ADAP_DECAY = np.exp(-1/(CHAR_DUR*2))\n",
    "\n"
   ],
   "metadata": {
    "collapsed": false,
    "pycharm": {
     "name": "#%%\n"
    }
   }
  },
  {
   "cell_type": "code",
   "execution_count": 5,
   "outputs": [
    {
     "name": "stdout",
     "output_type": "stream",
     "text": [
      "OrderedDict([('control', [[('input', 1), ('control', 1), ('mem', 1)], LIFNeuron(), <class 'torch.nn.modules.linear.Linear'>]), ('mem', [[('input', 1), ('control', 1), ('mem', 1)], NewFlipFlop(\n",
      "  (lif_on): LIFNeuron()\n",
      "  (lif_off): LIFNeuron()\n",
      "), <class 'torch.nn.modules.linear.Linear'>]), ('output', [[('control', 1), ('mem', 1)], BaseNeuron(), None])])\n"
     ]
    },
    {
     "data": {
      "text/plain": "OuterWrapper(\n  (model): DynNetwork(\n    (layers): ModuleDict(\n      (loop): SequenceWrapper(\n        (model): ParallelNetwork2(\n          (layers): ModuleDict(\n            (control): LIFNeuron()\n            (control_synapse): Linear(in_features=148, out_features=100, bias=True)\n            (mem): NewFlipFlop(\n              (lif_on): LIFNeuron()\n              (lif_off): LIFNeuron()\n            )\n            (mem_synapse): Linear(in_features=148, out_features=20, bias=True)\n            (output): BaseNeuron()\n          )\n        )\n      )\n      (output_synapse): Linear(in_features=120, out_features=8, bias=True)\n      (output): BaseNeuron()\n    )\n  )\n)"
     },
     "execution_count": 5,
     "metadata": {},
     "output_type": "execute_result"
    }
   ],
   "source": [
    "from Code.everything5 import DynNetwork, OuterWrapper, BaseNeuron, SequenceWrapper, ParallelNetwork, \\\n",
    " SeqOnlySpike, CooldownNeuron, OutputNeuron, LIFNeuron, NoResetNeuron, AdaptiveNeuron, FlipFlopNeuron, ParallelNetwork2, NewFlipFlop\n",
    "\n",
    "\n",
    "built_config = {\n",
    "    'BETA': spec['beta'],\n",
    "    'OFFSET': -np.log(1-MAIN_DECAY),#-np.log(1-spec['beta']),#3, # TODO: was 3 for config24\n",
    "    'SPIKE_FN': spec['spkfn'],\n",
    "    '1-beta': spec['1-beta'],\n",
    "    'ADAPDECAY': ADAP_DECAY, #0.9985,\n",
    "    'ADAPSCALE': 30,#180\n",
    "    'DECAY': MAIN_DECAY\n",
    "}\n",
    "\n",
    "#built_config['ADAPDECAY'] = 0.99\n",
    "\n",
    "mem_config = {\n",
    "    **built_config,\n",
    "    'BETA': spec['beta'] if spec['mem_neuron'] in ['Adaptive', 'LIF', 'FlipFlop'] else MAIN_DECAY\n",
    "}\n",
    "\n",
    "\n",
    "\n",
    "control_lookup = {\n",
    "    'LIF': LIFNeuron,\n",
    "    'Disc': SeqOnlySpike,\n",
    "    'NoReset': NoResetNeuron\n",
    "}\n",
    "\n",
    "mem_lookup = {\n",
    "    'Adaptive': AdaptiveNeuron,\n",
    "    'Cooldown': CooldownNeuron,\n",
    "    'NoReset': NoResetNeuron,\n",
    "    'FlipFlop': NewFlipFlop,#FlipFlopNeuron,\n",
    "    'LIF': LIFNeuron\n",
    "}\n",
    "\n",
    "control_neuron = control_lookup[spec['control_neuron']](n_control, built_config)\n",
    "mem_neuron = mem_lookup[spec['mem_neuron']](n_mem, mem_config)\n",
    "out_neuron_size = n_mem if spec['architecture'] == '2L' else n_mem+n_control\n",
    "out_neuron = OutputNeuron(out_neuron_size, built_config) if spec['decay_out'] else BaseNeuron(out_neuron_size, built_config)\n",
    "#out_neuron = LIFNeuron(n_control, built_config)\n",
    "#TODO: fix this for 1L\n",
    "\n",
    "#from mem only\n",
    "loop_2L = OrderedDict([\n",
    "    ('input', (n_input, INPUT_RATE)),\n",
    "    ('control', [['input', 'mem'], control_neuron, nn.Linear]),\n",
    "    ('mem', [['control'], mem_neuron, nn.Linear]),\n",
    "    ('output', [['mem'], out_neuron, nn.Linear]),\n",
    "])\n",
    "\n",
    "\n",
    "loop_1L = OrderedDict([\n",
    "    ('input', (n_input, INPUT_RATE)),\n",
    "    ('control', [['input', 'control', 'mem'], control_neuron, nn.Linear]),\n",
    "    ('mem', [['input', 'control', 'mem'], mem_neuron, nn.Linear]),\n",
    "    ('output', [['control', 'mem'], out_neuron, None]),\n",
    "])\n",
    "\n",
    "loop = loop_1L if spec['architecture'] == '1L' else loop_2L\n",
    "\n",
    "outer = OrderedDict([\n",
    "    ('input', n_input),\n",
    "    ('loop', [['input'], SequenceWrapper(ParallelNetwork2(loop, bias=(not spec['NoBias']))), None]),\n",
    "    ('output', [['loop'], BaseNeuron(n_out, None), nn.Linear]),\n",
    "])\n",
    "\n",
    "model = OuterWrapper(DynNetwork(outer), device)\n",
    "\n",
    "\n",
    "params = list(model.parameters())\n",
    "\n",
    "model.to(device)\n"
   ],
   "metadata": {
    "collapsed": false,
    "pycharm": {
     "name": "#%%\n"
    }
   }
  },
  {
   "cell_type": "code",
   "execution_count": 6,
   "outputs": [
    {
     "data": {
      "text/plain": "\"\\nfrom Code.everything4 import DynNetwork, OuterWrapper, LSTMWrapper, MeanModule, BaseNeuron\\n\\n\\nouter = OrderedDict([\\n    ('input', n_input),\\n    ('lstm', [['input'], LSTMWrapper(n_input, 128), None]),\\n    ('output', [['lstm'], BaseNeuron(n_out, None), nn.Linear]),\\n])\\n\\nmodel = OuterWrapper(DynNetwork(outer), device)\\n\\nwith torch.no_grad():\\n    model.model.layers.lstm.lstm.bias_hh_l0[:256] += 2\\n\\nparams = list(model.parameters())\\n\\n\\nmodel.to(device)\\n\\nspec['lr'] = 2e-4\\n\""
     },
     "execution_count": 6,
     "metadata": {},
     "output_type": "execute_result"
    }
   ],
   "source": [
    "'''\n",
    "from Code.everything4 import DynNetwork, OuterWrapper, LSTMWrapper, MeanModule, BaseNeuron\n",
    "\n",
    "\n",
    "outer = OrderedDict([\n",
    "    ('input', n_input),\n",
    "    ('lstm', [['input'], LSTMWrapper(n_input, 128), None]),\n",
    "    ('output', [['lstm'], BaseNeuron(n_out, None), nn.Linear]),\n",
    "])\n",
    "\n",
    "model = OuterWrapper(DynNetwork(outer), device)\n",
    "\n",
    "with torch.no_grad():\n",
    "    model.model.layers.lstm.lstm.bias_hh_l0[:256] += 2\n",
    "\n",
    "params = list(model.parameters())\n",
    "\n",
    "\n",
    "model.to(device)\n",
    "\n",
    "spec['lr'] = 2e-4\n",
    "'''"
   ],
   "metadata": {
    "collapsed": false,
    "pycharm": {
     "name": "#%%\n"
    }
   }
  },
  {
   "cell_type": "code",
   "execution_count": 6,
   "outputs": [],
   "source": [
    "lr = spec['lr']\n",
    "optimizer = optim.Adam(params, lr=lr)\n",
    "#bce = nn.BCEWithLogitsLoss(reduction='none')\n",
    "#ce = nn.CrossEntropyLoss() #reduction='none'\n",
    "\n",
    "\n",
    "ITERATIONS = spec['iterations']#36000\n",
    "\n",
    "\n",
    "lookup = torch.tensor([[6, 1, 4, 5, 7, 2, 0, 3],\n",
    "        [7, 0, 4, 2, 3, 1, 5, 6],\n",
    "        [0, 5, 6, 2, 4, 3, 7, 1],\n",
    "        [2, 7, 6, 4, 3, 1, 5, 0],\n",
    "        [0, 6, 4, 5, 2, 1, 7, 3],\n",
    "        [5, 1, 0, 6, 4, 7, 3, 2],\n",
    "        [4, 6, 1, 2, 5, 7, 0, 3],\n",
    "        [2, 7, 4, 3, 5, 6, 0, 1]], dtype=torch.long, device=device)"
   ],
   "metadata": {
    "collapsed": false,
    "pycharm": {
     "name": "#%%\n"
    }
   }
  },
  {
   "cell_type": "code",
   "execution_count": 7,
   "outputs": [],
   "source": [
    "seql = 100\n",
    "\n",
    "val_rythm = make_rythm(BATCH_SIZE, 100, CHAR_DUR, device)\n",
    "def validate():\n",
    "    acc, _, _ = run(model, lookup, val_rythm, BATCH_SIZE, 100, CHAR_DUR, perm_num, device)\n",
    "    print('Validation: ', acc)\n",
    "\n",
    "stats = {\n",
    "    'grad_norm': [],\n",
    "    'loss': [],\n",
    "    'acc': [],\n",
    "    'batch_var': [],\n",
    "    'val': []\n",
    "}\n",
    "\n",
    "grad_norm_history = []\n",
    "def record_norm():\n",
    "    norms = []\n",
    "    for p in params:\n",
    "        norms.append(p.grad.norm().item())\n",
    "    stats['grad_norm'].append(torch.tensor(norms).norm().item())\n",
    "    #print(stats['grad_norm'][-1])\n",
    "\n"
   ],
   "metadata": {
    "collapsed": false,
    "pycharm": {
     "name": "#%%\n"
    }
   }
  },
  {
   "cell_type": "code",
   "execution_count": null,
   "outputs": [
    {
     "name": "stdout",
     "output_type": "stream",
     "text": [
      "0.36058728247880933 20\n",
      "0.35468750149011613 40\n",
      "0.36516702473163604 60\n",
      "0.3625269398093224 80\n",
      "0.3532596960663795 100\n",
      "Validation:  0.34564393758773804\n",
      "0.3478178858757019 120\n",
      "0.34385775625705717 140\n",
      "0.3506734862923622 160\n",
      "0.3750269368290901 180\n",
      "0.3841325432062149 200\n",
      "Validation:  0.3781565725803375\n",
      "0.40051185339689255 220\n",
      "0.4028825417160988 240\n",
      "0.3936152994632721 260\n",
      "0.39469288736581803 280\n",
      "0.41223060339689255 300\n",
      "Validation:  0.40956440567970276\n",
      "0.4039062514901161 320\n",
      "0.42737068682909013 340\n",
      "0.43973598927259444 360\n",
      "0.46231141984462737 380\n",
      "0.4656249970197678 400\n",
      "Validation:  0.4655934274196625\n",
      "0.47454202324151995 420\n",
      "0.4810883566737175 440\n",
      "0.4863415896892548 460\n",
      "0.4914062455296516 480\n",
      "0.5064116358757019 500\n",
      "Validation:  0.5134153962135315\n",
      "0.5116648659110069 520\n",
      "0.5158674508333206 540\n",
      "0.5252963364124298 560\n",
      "0.525377157330513 580\n",
      "0.5437230616807938 600\n",
      "Validation:  0.5317234992980957\n",
      "0.553232753276825 620\n",
      "0.5631196111440658 640\n",
      "0.5627155154943466 660\n",
      "0.5747575432062149 680\n",
      "0.5794181108474732 700\n",
      "Validation:  0.5694444179534912\n",
      "0.5803609907627105 720\n",
      "0.5913523674011231 740\n",
      "0.5983297467231751 760\n",
      "0.5924838334321976 780\n",
      "0.6062769383192063 800\n",
      "Validation:  0.6025883555412292\n",
      "0.605199345946312 820\n",
      "0.6101831793785095 840\n",
      "0.5949892282485962 860\n",
      "0.5863954663276673 880\n",
      "0.6060883641242981 900\n",
      "Validation:  0.6033775210380554\n",
      "0.6167025864124298 920\n",
      "0.6117726296186448 940\n",
      "0.6126885771751404 960\n",
      "0.6383890122175216 980\n",
      "0.6326777964830399 1000\n",
      "Validation:  0.6226325631141663\n",
      "0.6416217654943466 1020\n",
      "0.6554418057203293 1040\n",
      "0.6613416016101837 1060\n",
      "0.6647359818220139 1080\n",
      "0.6657596975564957 1100\n",
      "Validation:  0.669981062412262\n",
      "0.6812499940395356 1120\n",
      "0.6786637872457504 1140\n",
      "0.687095907330513 1160\n",
      "0.702101293206215 1180\n",
      "0.6972790956497192 1200\n",
      "Validation:  0.6925504803657532\n",
      "0.7016702562570571 1220\n",
      "0.7185344815254211 1240\n",
      "0.7059267222881317 1260\n",
      "0.7258890002965928 1280\n",
      "0.7253232717514038 1300\n",
      "Validation:  0.7189078330993652\n",
      "0.730064657330513 1320\n",
      "0.7318965524435044 1340\n",
      "0.7340786546468735 1360\n",
      "0.7445312470197678 1380\n",
      "0.7547683149576188 1400\n",
      "Validation:  0.7405303120613098\n",
      "0.7638739287853241 1420\n",
      "0.771955817937851 1440\n",
      "0.7758081763982773 1460\n",
      "0.7778556019067764 1480\n",
      "0.7834859848022461 1500\n",
      "Validation:  0.7732007503509521\n",
      "0.7872575432062149 1520\n",
      "0.7991648733615875 1540\n",
      "0.8004310250282287 1560\n",
      "0.8101023644208908 1580\n",
      "0.8150053799152375 1600\n",
      "Validation:  0.8227588534355164\n",
      "0.8201239168643951 1620\n",
      "0.816487067937851 1640\n",
      "0.824299567937851 1660\n",
      "0.8285290896892548 1680\n",
      "0.8323275804519653 1700\n",
      "Validation:  0.8268623948097229\n",
      "0.8349676698446273 1720\n",
      "0.8435614228248596 1740\n",
      "0.8494611978530884 1760\n",
      "0.84956896007061 1780\n",
      "0.8557381391525268 1800\n",
      "Validation:  0.8380681872367859\n",
      "0.8582165896892547 1820\n",
      "0.8669450372457504 1840\n",
      "0.8609374940395356 1860\n",
      "0.86640625 1880\n",
      "0.8702586174011231 1900\n",
      "Validation:  0.8663194179534912\n",
      "0.8702855587005616 1920\n",
      "0.879337278008461 1940\n",
      "0.8812230557203293 1960\n",
      "0.8864762902259826 1980\n",
      "0.8907596945762635 2000\n",
      "Validation:  0.8868371248245239\n",
      "0.892941802740097 2020\n",
      "0.8986799567937851 2040\n",
      "0.9006465464830399 2060\n",
      "0.9058728396892548 2080\n",
      "0.9082974076271058 2100\n",
      "Validation:  0.8967803120613098\n",
      "0.9117726176977158 2120\n",
      "0.9138200402259826 2140\n",
      "0.9120150834321976 2160\n",
      "0.917591592669487 2180\n",
      "0.9170258522033692 2200\n",
      "Validation:  0.9075126051902771\n",
      "0.916487067937851 2220\n",
      "0.919558185338974 2240\n",
      "0.925431028008461 2260\n",
      "0.9208782255649567 2280\n",
      "0.92535021007061 2300\n",
      "Validation:  0.9289772510528564\n",
      "0.9234105557203293 2320\n",
      "0.9248922348022461 2340\n",
      "0.9333512902259826 2360\n",
      "0.9257273644208908 2380\n",
      "0.9293372839689255 2400\n",
      "Validation:  0.9171401262283325\n",
      "0.9299568951129913 2420\n",
      "0.9299299567937851 2440\n",
      "0.9261314660310745 2460\n",
      "0.9275592625141144 2480\n",
      "0.9285560369491577 2500\n",
      "Validation:  0.9128788113594055\n",
      "0.9279094755649566 2520\n",
      "0.9352640062570572 2540\n",
      "0.9380387842655182 2560\n",
      "0.9364224165678025 2580\n",
      "0.9396551668643951 2600\n",
      "Validation:  0.9351325631141663\n",
      "0.9387930899858474 2620\n",
      "0.9307381451129914 2640\n",
      "0.9289870619773865 2660\n",
      "0.9451777935028076 2680\n",
      "0.9461745649576188 2700\n",
      "Validation:  0.9490214586257935\n",
      "0.9500538796186447 2720\n",
      "0.941783407330513 2740\n"
     ]
    }
   ],
   "source": [
    "train_rythm = make_rythm(BATCH_SIZE, SEQ_LEN, CHAR_DUR, device)\n",
    "\n",
    "\n",
    "start = time.time()\n",
    "i = 1\n",
    "sumloss = 0\n",
    "sumacc = 0\n",
    "\n",
    "while i < ITERATIONS:\n",
    "    batchstart = time.time()\n",
    "    optimizer.zero_grad()\n",
    "    acc, loss, _ = run(model, lookup, train_rythm, BATCH_SIZE, SEQ_LEN, CHAR_DUR, perm_num, device)\n",
    "\n",
    "    loss.backward()\n",
    "    optimizer.step()\n",
    "\n",
    "    with torch.no_grad():\n",
    "        record_norm()\n",
    "        stats['loss'].append(loss.item())\n",
    "        #acc = ((((output > 0).float() == target).float()*recall).sum()/recall.sum()).item()\n",
    "        #stats['acc'].append(acc)\n",
    "        batch_var = 3 #out_final.var(0).mean().item()\n",
    "        #stats['batch_var'].append(batch_var)\n",
    "\n",
    "        #print(loss.item(), acc1, acc2)\n",
    "\n",
    "\n",
    "    sumloss += loss.item()\n",
    "    sumacc += acc\n",
    "    if i%20 == 0:\n",
    "        print(sumacc/20, i)\n",
    "        #print(loss.item(), sumloss/20, sumacc/20, time.time()-batchstart, batch_var) #torch.argmax(outputs[-1], 1).float().var()\n",
    "        sumloss = 0\n",
    "        sumacc = 0\n",
    "    if i%100 == 0:\n",
    "        validate()\n",
    "    i += 1\n",
    "    #config['stats'] = stats\n",
    "    #config['progress'] = i\n",
    "    #with open('configs/' + run_id + '.json', 'w') as config_file:\n",
    "    #    json.dump(config, config_file, indent=2)\n",
    "    #model.save('models/'+run_id)\n",
    "\n",
    "\n",
    "print('Total time: ', time.time()-start)\n"
   ],
   "metadata": {
    "collapsed": false,
    "pycharm": {
     "name": "#%%\n",
     "is_executing": true
    }
   }
  },
  {
   "cell_type": "code",
   "execution_count": null,
   "outputs": [],
   "source": [],
   "metadata": {
    "collapsed": false,
    "pycharm": {
     "name": "#%%\n"
    }
   }
  },
  {
   "cell_type": "code",
   "execution_count": null,
   "outputs": [],
   "source": [
    "MAIN_DECAY"
   ],
   "metadata": {
    "collapsed": false,
    "pycharm": {
     "name": "#%%\n"
    }
   }
  },
  {
   "cell_type": "code",
   "execution_count": null,
   "outputs": [],
   "source": [
    "validate()\n"
   ],
   "metadata": {
    "collapsed": false,
    "pycharm": {
     "name": "#%%\n"
    }
   }
  },
  {
   "cell_type": "code",
   "execution_count": null,
   "outputs": [],
   "source": [
    "lookup"
   ],
   "metadata": {
    "collapsed": false,
    "pycharm": {
     "name": "#%%\n"
    }
   }
  },
  {
   "cell_type": "code",
   "execution_count": 12,
   "outputs": [],
   "source": [
    "train_rythm = make_rythm(BATCH_SIZE, SEQ_LEN, CHAR_DUR, device)\n",
    "\n",
    "_, _, info = run(model, lookup, train_rythm, BATCH_SIZE, SEQ_LEN, CHAR_DUR, perm_num, device, logging=True)\n",
    "\n",
    "input, log = info\n",
    "ar_length = input.shape[0]\n",
    "array_list = [input, log['loop']['control'], log['loop']['mem'], log['loop']['output'], log['output']] #log['loop']['output']\n",
    "array_list2 = []\n",
    "for ar in array_list:\n",
    "    array_list2.append(ar[:, 0])\n",
    "    array_list2.append(torch.ones((ar_length, 1), device=input.device) * 0.5)\n",
    "big_ar = torch.cat(array_list2[:-1], dim=1).detach() * 255\n",
    "img = Image.fromarray(big_ar.cpu().numpy().astype(np.uint8), 'L')"
   ],
   "metadata": {
    "collapsed": false,
    "pycharm": {
     "name": "#%%\n"
    }
   }
  },
  {
   "cell_type": "code",
   "execution_count": 13,
   "outputs": [
    {
     "data": {
      "text/plain": "(280, 600)"
     },
     "execution_count": 13,
     "metadata": {},
     "output_type": "execute_result"
    }
   ],
   "source": [
    "img.size"
   ],
   "metadata": {
    "collapsed": false,
    "pycharm": {
     "name": "#%%\n"
    }
   }
  },
  {
   "cell_type": "code",
   "execution_count": 14,
   "outputs": [
    {
     "data": {
      "text/plain": "<PIL.Image.Image image mode=L size=280x600 at 0x7FF1057CF278>",
      "image/png": "[encoded data removed]"
     },
     "execution_count": 14,
     "metadata": {},
     "output_type": "execute_result"
    }
   ],
   "source": [
    "img\n",
    "#img.resize((239, 600))"
   ],
   "metadata": {
    "collapsed": false,
    "pycharm": {
     "name": "#%%\n"
    }
   }
  },
  {
   "cell_type": "code",
   "execution_count": null,
   "outputs": [],
   "source": [
    "log['loop']['control'].mean()"
   ],
   "metadata": {
    "collapsed": false,
    "pycharm": {
     "name": "#%%\n"
    }
   }
  },
  {
   "cell_type": "code",
   "execution_count": null,
   "outputs": [],
   "source": [
    "log['loop']['mem'].mean()\n",
    "\n"
   ],
   "metadata": {
    "collapsed": false,
    "pycharm": {
     "name": "#%%\n"
    }
   }
  },
  {
   "cell_type": "code",
   "execution_count": null,
   "outputs": [],
   "source": [
    "model.model.layers.loop.model.layers.control_synapse.weight.var()"
   ],
   "metadata": {
    "collapsed": false,
    "pycharm": {
     "name": "#%%\n"
    }
   }
  },
  {
   "cell_type": "code",
   "source": [
    "model.model.layers.loop.model.layers.mem_synapse.weight.var()"
   ],
   "metadata": {
    "collapsed": false,
    "pycharm": {
     "name": "#%%\n"
    }
   },
   "execution_count": null,
   "outputs": []
  },
  {
   "cell_type": "code",
   "execution_count": null,
   "outputs": [],
   "source": [
    "model.model.layers.loop.model.layers.control_synapse.weight.var() * log['loop']['mem'].mean()\n"
   ],
   "metadata": {
    "collapsed": false,
    "pycharm": {
     "name": "#%%\n"
    }
   }
  },
  {
   "cell_type": "code",
   "execution_count": null,
   "outputs": [],
   "source": [
    "#model.save('../models/state_adaptive1')"
   ],
   "metadata": {
    "collapsed": false,
    "pycharm": {
     "name": "#%%\n"
    }
   }
  },
  {
   "cell_type": "code",
   "execution_count": null,
   "outputs": [],
   "source": [
    "lookup.tolist()"
   ],
   "metadata": {
    "collapsed": false,
    "pycharm": {
     "name": "#%%\n"
    }
   }
  },
  {
   "cell_type": "code",
   "execution_count": null,
   "outputs": [],
   "source": [
    "train_rythm = make_rythm(BATCH_SIZE, SEQ_LEN, CHAR_DUR, device)\n",
    "\n",
    "optimizer.zero_grad()\n",
    "acc, loss, _ = run(model, lookup, train_rythm, BATCH_SIZE, SEQ_LEN, CHAR_DUR, perm_num, device)\n",
    "\n",
    "loss.backward()"
   ],
   "metadata": {
    "collapsed": false,
    "pycharm": {
     "name": "#%%\n"
    }
   }
  },
  {
   "cell_type": "code",
   "execution_count": null,
   "outputs": [],
   "source": [
    "for name, par in model.named_parameters():\n",
    "    print(name, par.grad.norm())"
   ],
   "metadata": {
    "collapsed": false,
    "pycharm": {
     "name": "#%%\n"
    }
   }
  },
  {
   "cell_type": "code",
   "execution_count": null,
   "outputs": [],
   "source": [
    "for name, par in model.named_parameters():\n",
    "    print(name, par.grad.norm())"
   ],
   "metadata": {
    "collapsed": false,
    "pycharm": {
     "name": "#%%\n"
    }
   }
  },
  {
   "cell_type": "code",
   "execution_count": null,
   "outputs": [],
   "source": [
    "import csv\n",
    "with open(f'../export/lookuplist.csv', 'w') as csvfile: #, newline=''\n",
    "    spamwriter = csv.writer(csvfile, delimiter=' ',\n",
    "                            quotechar='|', quoting=csv.QUOTE_MINIMAL)\n",
    "    spamwriter.writerows(lookuplist)"
   ],
   "metadata": {
    "collapsed": false,
    "pycharm": {
     "name": "#%%\n"
    }
   }
  },
  {
   "cell_type": "code",
   "execution_count": null,
   "outputs": [],
   "source": [
    "lookuplist = torch.cat((torch.tensor(range(8)).view(8,1), lookup.cpu()), dim=1).tolist()\n",
    "lookuplist.insert(0, [15]+list(range(8)))"
   ],
   "metadata": {
    "collapsed": false,
    "pycharm": {
     "name": "#%%\n"
    }
   }
  },
  {
   "cell_type": "code",
   "execution_count": null,
   "outputs": [],
   "source": [
    "lookuplist"
   ],
   "metadata": {
    "collapsed": false,
    "pycharm": {
     "name": "#%%\n"
    }
   }
  },
  {
   "cell_type": "code",
   "execution_count": null,
   "outputs": [],
   "source": [
    "ADAP_DECAY"
   ],
   "metadata": {
    "collapsed": false,
    "pycharm": {
     "name": "#%%\n"
    }
   }
  },
  {
   "cell_type": "code",
   "execution_count": null,
   "outputs": [],
   "source": [
    "decay = torch.tensor([0.9])\n",
    "dummy = torch.zeros([1], requires_grad=True)\n",
    "x1 = torch.zeros([5], requires_grad=True)\n",
    "x2 = torch.zeros([5], requires_grad=True)\n",
    "s1 = torch.zeros([5], requires_grad=True)\n",
    "out, dummy2 = FlipFlopNFn.apply(x1, x2, s1, decay, dummy)\n",
    "\n",
    "x12 = torch.zeros([5], requires_grad=True)\n",
    "x22 = torch.zeros([5], requires_grad=True)\n",
    "out2, dummy3 = FlipFlopNFn.apply(x12, x22, out, decay, dummy2)\n",
    "out2.sum().backward()"
   ],
   "metadata": {
    "collapsed": false,
    "pycharm": {
     "name": "#%%\n"
    }
   }
  },
  {
   "cell_type": "code",
   "execution_count": null,
   "outputs": [],
   "source": [],
   "metadata": {
    "collapsed": false,
    "pycharm": {
     "name": "#%%\n"
    }
   }
  },
  {
   "cell_type": "code",
   "execution_count": null,
   "outputs": [],
   "source": [],
   "metadata": {
    "collapsed": false,
    "pycharm": {
     "name": "#%%\n"
    }
   }
  },
  {
   "cell_type": "code",
   "execution_count": null,
   "outputs": [],
   "source": [],
   "metadata": {
    "collapsed": false,
    "pycharm": {
     "name": "#%%\n"
    }
   }
  }
 ],
 "metadata": {
  "kernelspec": {
   "display_name": "Python 3",
   "language": "python",
   "name": "python3"
  },
  "language_info": {
   "codemirror_mode": {
    "name": "ipython",
    "version": 2
   },
   "file_extension": ".py",
   "mimetype": "text/x-python",
   "name": "python",
   "nbconvert_exporter": "python",
   "pygments_lexer": "ipython2",
   "version": "2.7.6"
  }
 },
 "nbformat": 4,
 "nbformat_minor": 0
}