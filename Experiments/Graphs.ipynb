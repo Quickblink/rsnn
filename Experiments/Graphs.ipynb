{
 "cells": [
  {
   "cell_type": "code",
   "execution_count": 1,
   "metadata": {
    "collapsed": true
   },
   "outputs": [
    {
     "name": "stdout",
     "output_type": "stream",
     "text": [
      "Using matplotlib backend: TkAgg\n"
     ]
    }
   ],
   "source": [
    "import sys\n",
    "sys.path.append('../')\n",
    "import torch\n",
    "from Code.NewNeurons import CooldownNeuron, NoResetNeuron, LIFNeuron\n",
    "from matplotlib import pyplot as plt\n",
    "%matplotlib\n",
    "import json\n",
    "import csv\n"
   ]
  },
  {
   "cell_type": "code",
   "execution_count": 2,
   "outputs": [
    {
     "data": {
      "text/plain": "[<matplotlib.lines.Line2D at 0x7f19ba2274e0>]"
     },
     "execution_count": 2,
     "metadata": {},
     "output_type": "execute_result"
    }
   ],
   "source": [
    "x = torch.linspace(-1, 1, 100)\n",
    "plt.plot(x, torch.sigmoid(x*5), linewidth=3, linestyle='dashed')\n",
    "plt.plot(x, (x>0).float(), linewidth=3)"
   ],
   "metadata": {
    "collapsed": false,
    "pycharm": {
     "name": "#%%\n"
    }
   }
  },
  {
   "cell_type": "code",
   "execution_count": 6,
   "outputs": [],
   "source": [
    "daba = ['config2', 'top1_0', 'lifonlynr1', 'lstm1']\n",
    "id = 'config40'\n",
    "\n",
    "with open(f'../configs/{id}.json', 'r') as config_file:\n",
    "    config = json.load(config_file)\n",
    "    stats = config['stats']\n",
    "\n",
    "with open(f'../export/{id}.csv', 'w') as csvfile: #, newline=''\n",
    "    spamwriter = csv.writer(csvfile, delimiter=' ',\n",
    "                            quotechar='|', quoting=csv.QUOTE_MINIMAL)\n",
    "    spamwriter.writerows(enumerate(stats['val']))"
   ],
   "metadata": {
    "collapsed": false,
    "pycharm": {
     "name": "#%%\n"
    }
   }
  },
  {
   "cell_type": "code",
   "execution_count": 5,
   "outputs": [
    {
     "data": {
      "text/plain": "[(0, 0.09648437798023224),\n (1, 0.56982421875),\n (2, 0.675976574420929),\n (3, 0.7259765863418579),\n (4, 0.779492199420929),\n (5, 0.7613281607627869),\n (6, 0.819531261920929),\n (7, 0.812695324420929),\n (8, 0.8534179925918579),\n (9, 0.868359386920929),\n (10, 0.8946289420127869),\n (11, 0.892871081829071),\n (12, 0.9013671875),\n (13, 0.9212890863418579),\n (14, 0.929980456829071),\n (15, 0.92626953125),\n (16, 0.9351562857627869),\n (17, 0.9375),\n (18, 0.9388672113418579),\n (19, 0.941699206829071),\n (20, 0.939160168170929),\n (21, 0.952441394329071),\n (22, 0.953320324420929),\n (23, 0.9512695670127869),\n (24, 0.9560546875),\n (25, 0.9571289420127869),\n (26, 0.9603515863418579),\n (27, 0.9560546875),\n (28, 0.962597668170929),\n (29, 0.9588867425918579),\n (30, 0.966503918170929),\n (31, 0.9517578482627869),\n (32, 0.966015636920929),\n (33, 0.96875),\n (34, 0.9681640863418579),\n (35, 0.9657226800918579),\n (36, 0.9644531607627869),\n (37, 0.962109386920929),\n (38, 0.9615234732627869),\n (39, 0.9632812738418579),\n (40, 0.965039074420929),\n (41, 0.9698242545127869),\n (42, 0.9691406488418579),\n (43, 0.9693359732627869),\n (44, 0.9703125357627869),\n (45, 0.970507800579071),\n (46, 0.97412109375),\n (47, 0.971972644329071),\n (48, 0.972460925579071),\n (49, 0.9715820550918579),\n (50, 0.969921886920929),\n (51, 0.9732422232627869),\n (52, 0.970410168170929),\n (53, 0.9740234613418579),\n (54, 0.974804699420929),\n (55, 0.9727539420127869),\n (56, 0.97509765625),\n (57, 0.973828136920929),\n (58, 0.973437488079071),\n (59, 0.971875011920929),\n (60, 0.97119140625),\n (61, 0.967968761920929),\n (62, 0.973339855670929),\n (63, 0.973828136920929),\n (64, 0.9697265625),\n (65, 0.97412109375),\n (66, 0.9759765863418579),\n (67, 0.974609375),\n (68, 0.9745117425918579),\n (69, 0.975390613079071),\n (70, 0.97607421875),\n (71, 0.973828136920929),\n (72, 0.9740234613418579),\n (73, 0.974316418170929),\n (74, 0.9740234613418579),\n (75, 0.973828136920929),\n (76, 0.97412109375),\n (77, 0.9747070670127869),\n (78, 0.972363293170929),\n (79, 0.9751953482627869),\n (80, 0.972949206829071),\n (81, 0.9736328125),\n (82, 0.9722656607627869),\n (83, 0.97509765625),\n (84, 0.972949206829071),\n (85, 0.97412109375),\n (86, 0.9754883050918579),\n (87, 0.976269543170929),\n (88, 0.974902331829071),\n (89, 0.9759765863418579),\n (90, 0.9761719107627869),\n (91, 0.9771484732627869),\n (92, 0.97412109375),\n (93, 0.9750000238418579),\n (94, 0.976269543170929),\n (95, 0.9747070670127869),\n (96, 0.974414050579071),\n (97, 0.973437488079071),\n (98, 0.97607421875),\n (99, 0.9751953482627869),\n (100, 0.975781261920929),\n (101, 0.975390613079071),\n (102, 0.973828136920929),\n (103, 0.9771484732627869),\n (104, 0.9771484732627869),\n (105, 0.9742187857627869),\n (106, 0.974316418170929),\n (107, 0.9755859375),\n (108, 0.9754883050918579),\n (109, 0.9765625),\n (110, 0.9740234613418579),\n (111, 0.975878894329071),\n (112, 0.9756836295127869),\n (113, 0.9754883050918579),\n (114, 0.973828136920929),\n (115, 0.9766601920127869),\n (116, 0.97509765625),\n (117, 0.9765625),\n (118, 0.9771484732627869),\n (119, 0.9759765863418579),\n (120, 0.976757824420929),\n (121, 0.9756836295127869),\n (122, 0.9765625),\n (123, 0.9761719107627869),\n (124, 0.975781261920929),\n (125, 0.9764648675918579),\n (126, 0.97705078125),\n (127, 0.9754883050918579),\n (128, 0.9754883050918579),\n (129, 0.975781261920929),\n (130, 0.9730468988418579),\n (131, 0.975390613079071),\n (132, 0.9755859375),\n (133, 0.9776367545127869),\n (134, 0.97607421875),\n (135, 0.9761719107627869),\n (136, 0.975390613079071),\n (137, 0.975781261920929),\n (138, 0.9742187857627869),\n (139, 0.9769531488418579),\n (140, 0.9761719107627869),\n (141, 0.975781261920929),\n (142, 0.9761719107627869),\n (143, 0.9761719107627869),\n (144, 0.9765625),\n (145, 0.9764648675918579),\n (146, 0.9765625),\n (147, 0.9747070670127869),\n (148, 0.9759765863418579),\n (149, 0.97705078125),\n (150, 0.9769531488418579),\n (151, 0.976855456829071),\n (152, 0.9745117425918579),\n (153, 0.9761719107627869)]"
     },
     "execution_count": 5,
     "metadata": {},
     "output_type": "execute_result"
    }
   ],
   "source": [
    "list()"
   ],
   "metadata": {
    "collapsed": false,
    "pycharm": {
     "name": "#%%\n"
    }
   }
  },
  {
   "cell_type": "code",
   "execution_count": 35,
   "outputs": [],
   "source": [
    "\n",
    "n = 288#75\n",
    "ids = ['auto1_'+str(x) for x in range(n)]\n",
    "#ids = [f'config{x}' for x in range(41)]\n",
    "\n",
    "buckets = 10\n",
    "attribute = 'spkfn'\n",
    "value = 'ss'\n",
    "\n",
    "data = torch.zeros([buckets, 2])\n",
    "data[:, 0] = torch.arange(buckets, dtype=torch.float)/buckets + 1/(2*buckets)\n",
    "\n",
    "for id in ids:\n",
    "    with open('../configs/'+id+'.json', 'r') as config_file:\n",
    "        config = json.load(config_file)\n",
    "        if config['params'][attribute] == value:\n",
    "            bucket = int(config['stats']['val'][-1] * buckets * 0.9999)\n",
    "            data[bucket, 1] += 1\n",
    "\n",
    "with open(f'../export/{value}.csv', 'w') as csvfile: #, newline=''\n",
    "    spamwriter = csv.writer(csvfile, delimiter=' ',\n",
    "                            quotechar='|', quoting=csv.QUOTE_MINIMAL)\n",
    "    spamwriter.writerows(data.tolist())"
   ],
   "metadata": {
    "collapsed": false,
    "pycharm": {
     "name": "#%%\n"
    }
   }
  },
  {
   "cell_type": "code",
   "execution_count": 26,
   "outputs": [
    {
     "data": {
      "text/plain": "tensor([[5.0000e-02, 0.0000e+00],\n        [1.5000e-01, 5.1000e+01],\n        [2.5000e-01, 4.0000e+00],\n        [3.5000e-01, 5.0000e+00],\n        [4.5000e-01, 8.0000e+00],\n        [5.5000e-01, 6.0000e+00],\n        [6.5000e-01, 9.0000e+00],\n        [7.5000e-01, 6.0000e+00],\n        [8.5000e-01, 6.0000e+00],\n        [9.5000e-01, 1.0000e+00]])"
     },
     "execution_count": 26,
     "metadata": {},
     "output_type": "execute_result"
    }
   ],
   "source": [
    "data"
   ],
   "metadata": {
    "collapsed": false,
    "pycharm": {
     "name": "#%%\n"
    }
   }
  },
  {
   "cell_type": "code",
   "execution_count": 9,
   "outputs": [
    {
     "data": {
      "text/plain": "tensor(0.1517)"
     },
     "execution_count": 9,
     "metadata": {},
     "output_type": "execute_result"
    }
   ],
   "source": [
    "id = 'auto1_0'\n",
    "\n",
    "with open(f'../configs/{id}.json', 'r') as config_file:\n",
    "    config = json.load(config_file)\n",
    "    stats = config['stats']\n",
    "\n",
    "torch.tensor(stats['val'][-20:]).mean()"
   ],
   "metadata": {
    "collapsed": false,
    "pycharm": {
     "name": "#%%\n"
    }
   }
  },
  {
   "cell_type": "code",
   "execution_count": 12,
   "outputs": [
    {
     "data": {
      "text/plain": "11"
     },
     "execution_count": 12,
     "metadata": {},
     "output_type": "execute_result"
    }
   ],
   "source": [
    "len(stats['val'])"
   ],
   "metadata": {
    "collapsed": false,
    "pycharm": {
     "name": "#%%\n"
    }
   }
  },
  {
   "cell_type": "code",
   "execution_count": 13,
   "outputs": [
    {
     "data": {
      "text/plain": "5148"
     },
     "execution_count": 13,
     "metadata": {},
     "output_type": "execute_result"
    }
   ],
   "source": [
    "len(stats['acc'])"
   ],
   "metadata": {
    "collapsed": false,
    "pycharm": {
     "name": "#%%\n"
    }
   }
  },
  {
   "cell_type": "code",
   "execution_count": 30,
   "outputs": [],
   "source": [
    "ind = [1,3,4,5,6,7,8,9,10]\n",
    "#neuron = 'adap'\n",
    "\n",
    "ids = [f'sm_adap_durs{x}' for x in ind]\n",
    "#ids = [f'config{x}' for x in range(41)]\n",
    "\n",
    "\n",
    "data = torch.zeros([len(ind)+4, 2])\n",
    "data[:len(ind), 0] = torch.arange(len(ind), dtype=torch.float)*2 + 2\n",
    "i = 0\n",
    "for id in ids:\n",
    "    with open('../configs/'+id+'.json', 'r') as config_file:\n",
    "        config = json.load(config_file)\n",
    "        data[i, 1] = config['stats']['val'][-1]\n",
    "    i += 1\n",
    "\n",
    "data[-4:, 0] = torch.tensor([20,30,40,50])\n",
    "\n",
    "ids = [f'sm_adap_adjs{x}' for x in range(4)]\n",
    "for id in ids:\n",
    "    with open('../configs/'+id+'.json', 'r') as config_file:\n",
    "        config = json.load(config_file)\n",
    "        data[i, 1] = config['stats']['val'][-1]\n",
    "    i += 1\n",
    "\n",
    "ids = [f'sm_adap_short{x}' for x in range(2)]\n",
    "i = 0\n",
    "for id in ids:\n",
    "    with open('../configs/'+id+'.json', 'r') as config_file:\n",
    "        config = json.load(config_file)\n",
    "        data[i, 1] = config['stats']['val'][-1]\n",
    "    i += 1\n"
   ],
   "metadata": {
    "collapsed": false,
    "pycharm": {
     "name": "#%%\n"
    }
   }
  },
  {
   "cell_type": "code",
   "execution_count": 31,
   "outputs": [
    {
     "data": {
      "text/plain": "tensor([[ 2.0000,  0.8036],\n        [ 4.0000,  0.8309],\n        [ 6.0000,  0.9724],\n        [ 8.0000,  0.9911],\n        [10.0000,  0.9970],\n        [12.0000,  0.9913],\n        [14.0000,  0.9970],\n        [16.0000,  0.9972],\n        [18.0000,  0.9941],\n        [20.0000,  0.9964],\n        [30.0000,  0.9893],\n        [40.0000,  0.9858],\n        [50.0000,  0.9240]])"
     },
     "execution_count": 31,
     "metadata": {},
     "output_type": "execute_result"
    }
   ],
   "source": [
    "data"
   ],
   "metadata": {
    "collapsed": false,
    "pycharm": {
     "name": "#%%\n"
    }
   }
  },
  {
   "cell_type": "code",
   "execution_count": 4,
   "outputs": [],
   "source": [
    "\n",
    "with open(f'../export/sm_nores.csv', 'w') as csvfile: #, newline=''\n",
    "    spamwriter = csv.writer(csvfile, delimiter=' ',\n",
    "                            quotechar='|', quoting=csv.QUOTE_MINIMAL)\n",
    "    spamwriter.writerows(data.tolist())"
   ],
   "metadata": {
    "collapsed": false,
    "pycharm": {
     "name": "#%%\n"
    }
   }
  },
  {
   "cell_type": "code",
   "execution_count": 3,
   "outputs": [],
   "source": [
    "\n",
    "data = torch.zeros([13, 2])\n",
    "data[:9, 0] = torch.arange(9, dtype=torch.float)*2 + 2\n",
    "i = 0\n",
    "\n",
    "\n",
    "data[-4:, 0] = torch.tensor([20,30,40,50])\n",
    "\n",
    "ids = [f'sm_nores_durs{x}' for x in range(13)]\n",
    "for id in ids:\n",
    "    with open('../configs/'+id+'.json', 'r') as config_file:\n",
    "        config = json.load(config_file)\n",
    "        data[i, 1] = config['stats']['val'][-1]\n",
    "    i += 1"
   ],
   "metadata": {
    "collapsed": false,
    "pycharm": {
     "name": "#%%\n"
    }
   }
  },
  {
   "cell_type": "code",
   "execution_count": 5,
   "outputs": [
    {
     "data": {
      "text/plain": "tensor([[ 2.0000,  0.7870],\n        [ 4.0000,  0.8848],\n        [ 6.0000,  0.9605],\n        [ 8.0000,  0.9862],\n        [10.0000,  0.9942],\n        [12.0000,  0.9967],\n        [14.0000,  0.9967],\n        [16.0000,  0.9972],\n        [18.0000,  0.9971],\n        [20.0000,  0.9984],\n        [30.0000,  0.9988],\n        [40.0000,  0.9976],\n        [50.0000,  0.9958]])"
     },
     "execution_count": 5,
     "metadata": {},
     "output_type": "execute_result"
    }
   ],
   "source": [
    "\n",
    "data"
   ],
   "metadata": {
    "collapsed": false,
    "pycharm": {
     "name": "#%%\n"
    }
   }
  },
  {
   "cell_type": "code",
   "execution_count": 18,
   "outputs": [],
   "source": [
    "with open('../export/config40.csv', 'r') as csvfile: #, newline=''\n",
    "    reader = csv.reader(csvfile, delimiter=' ',\n",
    "                            quotechar='|', quoting=csv.QUOTE_MINIMAL)\n",
    "    data = list(reader)"
   ],
   "metadata": {
    "collapsed": false,
    "pycharm": {
     "name": "#%%\n"
    }
   }
  },
  {
   "cell_type": "code",
   "execution_count": 19,
   "outputs": [],
   "source": [
    "for row in data:\n",
    "    row[1] = 1 - float(row[1])"
   ],
   "metadata": {
    "collapsed": false,
    "pycharm": {
     "name": "#%%\n"
    }
   }
  },
  {
   "cell_type": "code",
   "execution_count": 20,
   "outputs": [],
   "source": [
    "with open('../export/config40_rev.csv', 'w') as csvfile: #, newline=''\n",
    "    spamwriter = csv.writer(csvfile, delimiter=' ',\n",
    "                            quotechar='|', quoting=csv.QUOTE_MINIMAL)\n",
    "    spamwriter.writerows(data)"
   ],
   "metadata": {
    "collapsed": false,
    "pycharm": {
     "name": "#%%\n"
    }
   }
  },
  {
   "cell_type": "code",
   "execution_count": null,
   "outputs": [],
   "source": [],
   "metadata": {
    "collapsed": false,
    "pycharm": {
     "name": "#%%\n"
    }
   }
  }
 ],
 "metadata": {
  "kernelspec": {
   "display_name": "Python 3",
   "language": "python",
   "name": "python3"
  },
  "language_info": {
   "codemirror_mode": {
    "name": "ipython",
    "version": 2
   },
   "file_extension": ".py",
   "mimetype": "text/x-python",
   "name": "python",
   "nbconvert_exporter": "python",
   "pygments_lexer": "ipython2",
   "version": "2.7.6"
  }
 },
 "nbformat": 4,
 "nbformat_minor": 0
}