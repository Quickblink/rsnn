{
 "cells": [
  {
   "cell_type": "code",
   "execution_count": 1,
   "metadata": {
    "collapsed": true
   },
   "outputs": [],
   "source": [
    "import sys\n",
    "sys.path.append('../')\n",
    "from torch.distributions.bernoulli import Bernoulli\n",
    "from torch.distributions.geometric import Geometric\n",
    "from Code.envs.statemachine import run, make_rythm\n",
    "import torch\n",
    "import torch.nn as nn\n",
    "import torch.optim as optim\n",
    "import time\n",
    "from collections import OrderedDict\n",
    "\n",
    "from PIL import Image\n",
    "import numpy as np\n",
    "\n"
   ]
  },
  {
   "cell_type": "code",
   "execution_count": 2,
   "outputs": [],
   "source": [
    "BATCH_SIZE = 64#128\n",
    "\n",
    "USE_JIT = False\n",
    "\n",
    "#TODO: test device\n",
    "device = torch.device('cpu')\n",
    "\n",
    "SEQ_LEN = 30\n",
    "CHAR_DUR = 20 #10 #0 #100\n",
    "RESET_PROB = 0.1 #0.2\n",
    "\n",
    "perm_num = 8#4\n",
    "n_input = perm_num + CHAR_DUR\n",
    "n_out = perm_num\n",
    "n_control = 100\n",
    "n_mem = 100#20 #100\n"
   ],
   "metadata": {
    "collapsed": false,
    "pycharm": {
     "name": "#%%\n"
    }
   }
  },
  {
   "cell_type": "code",
   "execution_count": 3,
   "outputs": [],
   "source": [
    "spec2 = {'beta': 0.9,\n",
    "   'lr': 0.001,\n",
    "   'lr_decay': 0.8,\n",
    "   '1-beta': False,\n",
    "   'ported_weights': True,\n",
    "   'NoBias': True,\n",
    "   'iterations': 5000,\n",
    "   'batch_size': 128,\n",
    "   'mem_beta': 1,\n",
    "   'spkfn': 'ss',\n",
    "   'decay_out': False,\n",
    "   'architecture': '1L',\n",
    "   'control_neuron': 'LIF',\n",
    "   'mem_neuron': 'Cooldown'}\n",
    "\n",
    "spec = {'beta': 0.9,\n",
    "   'lr': 0.01,\n",
    "   'lr_decay': 0.8,\n",
    "   '1-beta': False,\n",
    "   'ported_weights': True,\n",
    "   'NoBias': True,\n",
    "   'iterations': 5000,\n",
    "   'batch_size': 128,\n",
    "   'mem_beta': 0.95,\n",
    "   'spkfn': 'bellec',\n",
    "   'decay_out': False,\n",
    "   'architecture': '2L',\n",
    "   'control_neuron': 'LIF',\n",
    "   'mem_neuron': 'Adaptive'}\n",
    "\n",
    "spec['iterations'] = 2000\n",
    "#spec['mem_beta'] = 0.9985\n",
    "#spec['mem_neuron'] = 'FlipFlop'\n",
    "#spec['1-beta'] = 'improved'\n",
    "spec['lr'] = 0.001\n",
    "spec['lr_decay'] = 0.9\n",
    "spec['beta'] = 0.8\n",
    "spec['mem_beta'] = 0.8\n",
    "spec['architecture'] = '1L'\n",
    "\n",
    "ADAP_DECAY = np.exp(-1/CHAR_DUR)"
   ],
   "metadata": {
    "collapsed": false,
    "pycharm": {
     "name": "#%%\n"
    }
   }
  },
  {
   "cell_type": "code",
   "execution_count": 4,
   "outputs": [
    {
     "name": "stdout",
     "output_type": "stream",
     "text": [
      "OrderedDict([('control', [[('input', 1), ('control', 1), ('mem', 1)], LIFNeuron(), <class 'torch.nn.modules.linear.Linear'>]), ('mem', [[('input', 1), ('control', 1), ('mem', 1)], AdaptiveNeuron(), <class 'torch.nn.modules.linear.Linear'>]), ('output', [[('control', 1), ('mem', 1)], BaseNeuron(), None])])\n"
     ]
    },
    {
     "data": {
      "text/plain": "OuterWrapper(\n  (model): DynNetwork(\n    (layers): ModuleDict(\n      (loop): SequenceWrapper(\n        (model): ParallelNetwork2(\n          (layers): ModuleDict(\n            (control): LIFNeuron()\n            (control_synapse): Linear(in_features=228, out_features=100, bias=True)\n            (mem): AdaptiveNeuron()\n            (mem_synapse): Linear(in_features=228, out_features=100, bias=True)\n            (output): BaseNeuron()\n          )\n        )\n      )\n      (output_synapse): Linear(in_features=200, out_features=8, bias=True)\n      (output): BaseNeuron()\n    )\n  )\n)"
     },
     "execution_count": 4,
     "metadata": {},
     "output_type": "execute_result"
    }
   ],
   "source": [
    "from Code.everything3 import DynNetwork, OuterWrapper, BaseNeuron, SequenceWrapper, ParallelNetwork, \\\n",
    " SeqOnlySpike, CooldownNeuron, OutputNeuron, LIFNeuron, NoResetNeuron, AdaptiveNeuron, FlipFlopNeuron, ParallelNetwork2\n",
    "\n",
    "\n",
    "built_config = {\n",
    "    'target_rate': 0.01,\n",
    "    'BETA': spec['beta'],\n",
    "    'OFFSET': 7, # TODO: was 3 for config24\n",
    "    'SPIKE_FN': spec['spkfn'],\n",
    "    '1-beta': spec['1-beta'],\n",
    "    'ADAPDECAY': ADAP_DECAY, #0.9985,\n",
    "    'ADAPSCALE': 180\n",
    "}\n",
    "\n",
    "#TODO: changed here\n",
    "built_config['ADAPDECAY'] = 0.99\n",
    "\n",
    "mem_config = {\n",
    "    **built_config,\n",
    "    'BETA': spec['mem_beta']\n",
    "}\n",
    "\n",
    "\n",
    "\n",
    "control_lookup = {\n",
    "    'LIF': LIFNeuron,\n",
    "    'Disc': SeqOnlySpike,\n",
    "    'NoReset': NoResetNeuron\n",
    "}\n",
    "\n",
    "mem_lookup = {\n",
    "    'Adaptive': AdaptiveNeuron,\n",
    "    'Cooldown': CooldownNeuron,\n",
    "    'NoReset': NoResetNeuron,\n",
    "    'FlipFlop': FlipFlopNeuron\n",
    "}\n",
    "\n",
    "control_neuron = control_lookup[spec['control_neuron']](n_control, built_config)\n",
    "mem_neuron = mem_lookup[spec['mem_neuron']](n_mem, mem_config)\n",
    "out_neuron = OutputNeuron(n_control+n_mem, built_config) if spec['decay_out'] else BaseNeuron(n_control+n_mem, built_config)\n",
    "\n",
    "\n",
    "loop_2L = OrderedDict([\n",
    "    ('input', n_input),\n",
    "    ('control', [['input', 'mem'], control_neuron, nn.Linear]),\n",
    "    ('mem', [['control'], mem_neuron, nn.Linear]),\n",
    "    ('output', [['control', 'mem'], out_neuron, None]),\n",
    "])\n",
    "\n",
    "loop_2L = OrderedDict([\n",
    "    ('input', (n_input, 0.1)),\n",
    "    ('control', [[('input', 0.8), ('mem', 0.2)], control_neuron, nn.Linear]),\n",
    "    ('mem', [['control'], mem_neuron, nn.Linear]),\n",
    "    ('output', [['control', 'mem'], out_neuron, None]),\n",
    "])\n",
    "\n",
    "\n",
    "loop_1L = OrderedDict([\n",
    "    ('input', n_input),\n",
    "    ('control', [['input', 'control', 'mem'], control_neuron, nn.Linear]),\n",
    "    ('mem', [['input', 'control', 'mem'], mem_neuron, nn.Linear]),\n",
    "    ('output', [['control', 'mem'], out_neuron, None]),\n",
    "])\n",
    "\n",
    "loop_1L = OrderedDict([\n",
    "    ('input', (n_input, 1.5/n_input)),\n",
    "    ('control', [['input', 'control', 'mem'], control_neuron, nn.Linear]),\n",
    "    ('mem', [['input', 'control', 'mem'], mem_neuron, nn.Linear]),\n",
    "    ('output', [['control', 'mem'], out_neuron, None]),\n",
    "])\n",
    "\n",
    "loop = loop_1L if spec['architecture'] == '1L' else loop_2L\n",
    "\n",
    "outer = OrderedDict([\n",
    "    ('input', n_input),\n",
    "    ('loop', [['input'], SequenceWrapper(ParallelNetwork2(loop, bias=(not spec['NoBias']))), None]),\n",
    "    ('output', [['loop'], BaseNeuron(n_out, None), nn.Linear]),\n",
    "])\n",
    "\n",
    "model = OuterWrapper(DynNetwork(outer), device)\n",
    "\n",
    "\n",
    "#loop_model = OuterWrapper(make_SequenceWrapper(ParallelNetwork(loop), USE_JIT), device, USE_JIT)\n",
    "\n",
    "#final_linear = nn.Linear(n_control+n_mem, 10).to(device)\n",
    "'''\n",
    "if spec['ported_weights']:\n",
    "    o_weights = pickle.load(open('weight_transplant_enc', 'rb'))\n",
    "\n",
    "    o1 = torch.tensor(o_weights['RecWeights/RecurrentWeight:0']).t()\n",
    "    o2 = torch.tensor(o_weights['InputWeights/InputWeight:0']).t()\n",
    "    o3 = torch.cat((o2, o1), dim=1)\n",
    "    with torch.no_grad():\n",
    "        model.pretrace.layers.loop.model.layers.control_synapse.weight.data[:,:300] = o3[:120] if spec['architecture'] == '1L' else o3[:120, :181]\n",
    "        model.pretrace.layers.loop.model.layers.mem_synapse.weight.data[:,:300] = o3[120:] if spec['architecture'] == '1L' else o3[120:, 180:]\n",
    "        model.pretrace.layers.output_synapse.weight.data = torch.tensor(o_weights['out_weight:0']).t()\n",
    "'''\n",
    "params = list(model.parameters())\n",
    "\n",
    "model.to(device)\n"
   ],
   "metadata": {
    "collapsed": false,
    "pycharm": {
     "name": "#%%\n"
    }
   }
  },
  {
   "cell_type": "code",
   "execution_count": 5,
   "outputs": [
    {
     "data": {
      "text/plain": "\"\\nfrom Code.everything3 import DynNetwork, OuterWrapper, LSTMWrapper, MeanModule, BaseNeuron\\n\\nlstm_size = 32\\n\\nouter = OrderedDict([\\n    ('input', n_input),\\n    ('lstm', [['input'], LSTMWrapper(n_input, lstm_size), None]),\\n    ('output', [['lstm'], BaseNeuron(n_out, None), nn.Linear]),\\n])\\n\\nmodel = OuterWrapper(DynNetwork(outer), device, USE_JIT)\\n\\n#with torch.no_grad():\\n#    model.model.layers.lstm.lstm.bias_hh_l0[:256] += 3\\n\\n\\n\\nparams = list(model.parameters())\\n\\n\\nmodel.to(device)\\n\""
     },
     "execution_count": 5,
     "metadata": {},
     "output_type": "execute_result"
    }
   ],
   "source": [
    "'''\n",
    "from Code.everything3 import DynNetwork, OuterWrapper, LSTMWrapper, MeanModule, BaseNeuron\n",
    "\n",
    "lstm_size = 32\n",
    "\n",
    "outer = OrderedDict([\n",
    "    ('input', n_input),\n",
    "    ('lstm', [['input'], LSTMWrapper(n_input, lstm_size), None]),\n",
    "    ('output', [['lstm'], BaseNeuron(n_out, None), nn.Linear]),\n",
    "])\n",
    "\n",
    "model = OuterWrapper(DynNetwork(outer), device, USE_JIT)\n",
    "\n",
    "#with torch.no_grad():\n",
    "#    model.model.layers.lstm.lstm.bias_hh_l0[:256] += 3\n",
    "\n",
    "\n",
    "\n",
    "params = list(model.parameters())\n",
    "\n",
    "\n",
    "model.to(device)\n",
    "'''"
   ],
   "metadata": {
    "collapsed": false,
    "pycharm": {
     "name": "#%%\n"
    }
   }
  },
  {
   "cell_type": "code",
   "execution_count": 6,
   "outputs": [
    {
     "data": {
      "text/plain": "\"\\nfrom Code.everything3 import DynNetwork, OuterWrapper, LSTMWrapper, MeanModule, BaseNeuron\\nmodel = OuterWrapper(torch.load('../models/perm_lstm2'), device, USE_JIT)\\nparams = list(model.parameters())\\n\""
     },
     "execution_count": 6,
     "metadata": {},
     "output_type": "execute_result"
    }
   ],
   "source": [
    "'''\n",
    "from Code.everything3 import DynNetwork, OuterWrapper, LSTMWrapper, MeanModule, BaseNeuron\n",
    "model = OuterWrapper(torch.load('../models/perm_lstm2'), device, USE_JIT)\n",
    "params = list(model.parameters())\n",
    "'''"
   ],
   "metadata": {
    "collapsed": false,
    "pycharm": {
     "name": "#%%\n"
    }
   }
  },
  {
   "cell_type": "code",
   "execution_count": 7,
   "outputs": [],
   "source": [
    "lr = spec['lr']\n",
    "optimizer = optim.Adam(params, lr=lr)\n",
    "#bce = nn.BCEWithLogitsLoss(reduction='none')\n",
    "#ce = nn.CrossEntropyLoss() #reduction='none'\n",
    "\n",
    "\n",
    "ITERATIONS = spec['iterations']#36000\n",
    "\n",
    "\n",
    "lookup = torch.tensor([[6, 1, 4, 5, 7, 2, 0, 3],\n",
    "        [7, 0, 4, 2, 3, 1, 5, 6],\n",
    "        [0, 5, 6, 2, 4, 3, 7, 1],\n",
    "        [2, 7, 6, 4, 3, 1, 5, 0],\n",
    "        [0, 6, 4, 5, 2, 1, 7, 3],\n",
    "        [5, 1, 0, 6, 4, 7, 3, 2],\n",
    "        [4, 6, 1, 2, 5, 7, 0, 3],\n",
    "        [2, 7, 4, 3, 5, 6, 0, 1]], dtype=torch.long, device=device)"
   ],
   "metadata": {
    "collapsed": false,
    "pycharm": {
     "name": "#%%\n"
    }
   }
  },
  {
   "cell_type": "code",
   "execution_count": 8,
   "outputs": [],
   "source": [
    "seql = 100\n",
    "\n",
    "val_rythm = make_rythm(BATCH_SIZE, 100, CHAR_DUR, device)\n",
    "\n",
    "def validate():\n",
    "    #seql = SEQ_LEN\n",
    "    acc, _, _ = run(model, lookup, val_rythm, BATCH_SIZE, 100, CHAR_DUR, perm_num, device)\n",
    "    print('Validation: ', acc)\n",
    "\n",
    "stats = {\n",
    "    'grad_norm': [],\n",
    "    'loss': [],\n",
    "    'acc': [],\n",
    "    'batch_var': [],\n",
    "    'val': []\n",
    "}\n",
    "\n",
    "grad_norm_history = []\n",
    "def record_norm():\n",
    "    norms = []\n",
    "    for p in params:\n",
    "        norms.append(p.grad.norm().item())\n",
    "    stats['grad_norm'].append(torch.tensor(norms).norm().item())\n",
    "\n"
   ],
   "metadata": {
    "collapsed": false,
    "pycharm": {
     "name": "#%%\n"
    }
   }
  },
  {
   "cell_type": "code",
   "execution_count": null,
   "outputs": [
    {
     "name": "stdout",
     "output_type": "stream",
     "text": [
      "0.3638200402259827 20\n",
      "0.3759698286652565 40\n",
      "0.414709047973156 60\n",
      "0.4116379290819168 80\n",
      "0.39797952473163606 100\n",
      "Validation:  0.41603535413742065\n",
      "0.39816810339689257 120\n",
      "0.4105872824788094 140\n",
      "0.446470907330513 160\n",
      "0.4838631466031075 180\n",
      "0.4977909460663795 200\n",
      "Validation:  0.49195075035095215\n",
      "0.5008081868290901 220\n",
      "0.49698276072740555 240\n",
      "0.5165140092372894 260\n",
      "0.5045527994632721 280\n",
      "0.5141971975564956 300\n",
      "Validation:  0.5083649158477783\n",
      "0.5311691761016846 320\n",
      "0.5350215539336205 340\n",
      "0.5447737038135528 360\n",
      "0.5669719815254212 380\n",
      "0.573760774731636 400\n",
      "Validation:  0.5746527910232544\n",
      "0.5931573241949082 420\n",
      "0.6068157345056534 440\n",
      "0.6228717625141144 460\n",
      "0.6278825461864471 480\n",
      "0.6494073301553727 500\n",
      "Validation:  0.6463068127632141\n",
      "0.6804148644208908 520\n",
      "0.6949353456497193 540\n",
      "0.7079202651977539 560\n",
      "0.7264278024435044 580\n",
      "0.737203660607338 600\n",
      "Validation:  0.7252209782600403\n",
      "0.7447737038135529 620\n",
      "0.7490571051836014 640\n",
      "0.756223064661026 660\n",
      "0.7724946111440658 680\n",
      "0.7744881421327591 700\n",
      "Validation:  0.7859848737716675\n",
      "0.8028825402259827 720\n",
      "0.8051993548870087 740\n",
      "0.825 760\n",
      "0.8222790896892548 780\n",
      "0.8370689690113068 800\n",
      "Validation:  0.8439078330993652\n",
      "0.8493265062570572 820\n",
      "0.8581357777118683 840\n",
      "0.8679687529802322 860\n",
      "0.8848329752683639 880\n",
      "0.896794182062149 900\n",
      "Validation:  0.9083017706871033\n",
      "0.9054418087005616 920\n",
      "0.911179956793785 940\n",
      "0.9046336233615875 960\n",
      "0.916325432062149 980\n",
      "0.9269127130508423 1000\n",
      "Validation:  0.9340277910232544\n",
      "0.93671875 1020\n",
      "0.9438038766384125 1040\n",
      "0.9469019383192062 1060\n",
      "0.9475484937429428 1080\n",
      "0.9519935339689255 1100\n",
      "Validation:  0.9490214586257935\n",
      "0.9527478516101837 1120\n",
      "0.9627693921327591 1140\n",
      "0.9668103456497192 1160\n",
      "0.964762932062149 1180\n",
      "0.9660021543502808 1200\n",
      "Validation:  0.9682765007019043\n",
      "0.9730064570903778 1220\n",
      "0.9771012902259827 1240\n",
      "0.973895463347435 1260\n",
      "0.971470907330513 1280\n",
      "0.9691810339689255 1300\n",
      "Validation:  0.970643937587738\n"
     ]
    }
   ],
   "source": [
    "train_rythm = make_rythm(BATCH_SIZE, SEQ_LEN, CHAR_DUR, device)\n",
    "\n",
    "\n",
    "start = time.time()\n",
    "i = 1\n",
    "sumloss = 0\n",
    "sumacc = 0\n",
    "\n",
    "while i < ITERATIONS:\n",
    "    batchstart = time.time()\n",
    "    optimizer.zero_grad()\n",
    "    acc, loss, _ = run(model, lookup, train_rythm, BATCH_SIZE, SEQ_LEN, CHAR_DUR, perm_num, device)\n",
    "\n",
    "    loss.backward()\n",
    "    optimizer.step()\n",
    "\n",
    "    with torch.no_grad():\n",
    "        record_norm()\n",
    "        stats['loss'].append(loss.item())\n",
    "        #acc = ((((output > 0).float() == target).float()*recall).sum()/recall.sum()).item()\n",
    "        #stats['acc'].append(acc)\n",
    "        batch_var = 3 #out_final.var(0).mean().item()\n",
    "        #stats['batch_var'].append(batch_var)\n",
    "\n",
    "        #print(loss.item(), acc1, acc2)\n",
    "\n",
    "\n",
    "    sumloss += loss.item()\n",
    "    sumacc += acc\n",
    "    if i%20 == 0:\n",
    "        print(sumacc/20, i)\n",
    "        #print(loss.item(), sumloss/20, sumacc/20, time.time()-batchstart, batch_var) #torch.argmax(outputs[-1], 1).float().var()\n",
    "        sumloss = 0\n",
    "        sumacc = 0\n",
    "    if i%100 == 0:\n",
    "        validate()\n",
    "    if i%2500 == 0:\n",
    "        lr = lr * spec['lr_decay']\n",
    "        optimizer = optim.Adam(params, lr=lr)\n",
    "        print('Learning Rate: ', lr)\n",
    "    i += 1\n",
    "    #config['stats'] = stats\n",
    "    #config['progress'] = i\n",
    "    #with open('configs/' + run_id + '.json', 'w') as config_file:\n",
    "    #    json.dump(config, config_file, indent=2)\n",
    "    #model.save('models/'+run_id)\n",
    "\n",
    "\n",
    "print('Total time: ', time.time()-start)\n"
   ],
   "metadata": {
    "collapsed": false,
    "pycharm": {
     "name": "#%%\n",
     "is_executing": true
    }
   }
  },
  {
   "cell_type": "code",
   "execution_count": null,
   "outputs": [],
   "source": [],
   "metadata": {
    "collapsed": false,
    "pycharm": {
     "name": "#%%\n"
    }
   }
  },
  {
   "cell_type": "code",
   "execution_count": null,
   "outputs": [],
   "source": [],
   "metadata": {
    "collapsed": false,
    "pycharm": {
     "name": "#%%\n"
    }
   }
  },
  {
   "cell_type": "code",
   "execution_count": null,
   "outputs": [],
   "source": [
    "validate()\n"
   ],
   "metadata": {
    "collapsed": false,
    "pycharm": {
     "name": "#%%\n"
    }
   }
  },
  {
   "cell_type": "code",
   "execution_count": null,
   "outputs": [],
   "source": [
    "lookup"
   ],
   "metadata": {
    "collapsed": false,
    "pycharm": {
     "name": "#%%\n"
    }
   }
  },
  {
   "cell_type": "code",
   "execution_count": 10,
   "outputs": [],
   "source": [
    "\n",
    "_, _, info = run(model, lookup, train_rythm, BATCH_SIZE, SEQ_LEN, CHAR_DUR, perm_num, device, logging=True)\n",
    "\n",
    "input, log = info\n",
    "ar_length = input.shape[0]\n",
    "array_list = [input, log['loop']['control'], log['loop']['mem'], log['output']] #log['loop']['output']\n",
    "array_list2 = []\n",
    "for ar in array_list:\n",
    "    array_list2.append(ar[:, 0])\n",
    "    array_list2.append(torch.ones((ar_length, 1), device=input.device) * 0.5)\n",
    "big_ar = torch.cat(array_list2[:-1], dim=1).detach() * 255\n",
    "img = Image.fromarray(big_ar.numpy().astype(np.uint8), 'L')"
   ],
   "metadata": {
    "collapsed": false,
    "pycharm": {
     "name": "#%%\n"
    }
   }
  },
  {
   "cell_type": "code",
   "execution_count": 11,
   "outputs": [
    {
     "data": {
      "text/plain": "(239, 600)"
     },
     "execution_count": 11,
     "metadata": {},
     "output_type": "execute_result"
    }
   ],
   "source": [
    "img.size"
   ],
   "metadata": {
    "collapsed": false,
    "pycharm": {
     "name": "#%%\n"
    }
   }
  },
  {
   "cell_type": "code",
   "execution_count": 14,
   "outputs": [
    {
     "data": {
      "text/plain": "<PIL.Image.Image image mode=L size=239x600 at 0x7F3D5A06C7F0>",
      "image/png": "[encoded data removed]"
     },
     "execution_count": 14,
     "metadata": {},
     "output_type": "execute_result"
    }
   ],
   "source": [
    "img\n",
    "#img.resize((239, 600))"
   ],
   "metadata": {
    "collapsed": false,
    "pycharm": {
     "name": "#%%\n"
    }
   }
  },
  {
   "cell_type": "code",
   "execution_count": null,
   "outputs": [],
   "source": [
    "log['loop']['control'].mean()"
   ],
   "metadata": {
    "collapsed": false,
    "pycharm": {
     "name": "#%%\n"
    }
   }
  },
  {
   "cell_type": "code",
   "execution_count": null,
   "outputs": [],
   "source": [
    "log['loop']['mem'].mean()\n",
    "\n"
   ],
   "metadata": {
    "collapsed": false,
    "pycharm": {
     "name": "#%%\n"
    }
   }
  },
  {
   "cell_type": "code",
   "execution_count": null,
   "outputs": [],
   "source": [
    "model.model.layers.loop.model.layers.control_synapse.weight.var()"
   ],
   "metadata": {
    "collapsed": false,
    "pycharm": {
     "name": "#%%\n"
    }
   }
  },
  {
   "cell_type": "code",
   "source": [
    "model.model.layers.loop.model.layers.mem_synapse.weight.var()"
   ],
   "metadata": {
    "collapsed": false,
    "pycharm": {
     "name": "#%%\n"
    }
   },
   "execution_count": null,
   "outputs": []
  },
  {
   "cell_type": "code",
   "execution_count": null,
   "outputs": [],
   "source": [
    "model.model.layers.loop.model.layers.control_synapse.weight.var() * log['loop']['mem'].mean()\n"
   ],
   "metadata": {
    "collapsed": false,
    "pycharm": {
     "name": "#%%\n"
    }
   }
  },
  {
   "cell_type": "code",
   "execution_count": null,
   "outputs": [],
   "source": [
    "#model.save('../models/state_adaptive1')"
   ],
   "metadata": {
    "collapsed": false,
    "pycharm": {
     "name": "#%%\n"
    }
   }
  },
  {
   "cell_type": "code",
   "execution_count": null,
   "outputs": [],
   "source": [
    "lookup"
   ],
   "metadata": {
    "collapsed": false,
    "pycharm": {
     "name": "#%%\n"
    }
   }
  },
  {
   "cell_type": "code",
   "execution_count": null,
   "outputs": [],
   "source": [],
   "metadata": {
    "collapsed": false,
    "pycharm": {
     "name": "#%%\n"
    }
   }
  }
 ],
 "metadata": {
  "kernelspec": {
   "display_name": "Python 3",
   "language": "python",
   "name": "python3"
  },
  "language_info": {
   "codemirror_mode": {
    "name": "ipython",
    "version": 2
   },
   "file_extension": ".py",
   "mimetype": "text/x-python",
   "name": "python",
   "nbconvert_exporter": "python",
   "pygments_lexer": "ipython2",
   "version": "2.7.6"
  }
 },
 "nbformat": 4,
 "nbformat_minor": 0
}