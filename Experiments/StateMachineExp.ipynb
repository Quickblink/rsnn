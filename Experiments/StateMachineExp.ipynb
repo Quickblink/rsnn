{
 "cells": [
  {
   "cell_type": "code",
   "execution_count": 1,
   "metadata": {
    "collapsed": true
   },
   "outputs": [],
   "source": [
    "import sys\n",
    "sys.path.append('../')\n",
    "from torch.distributions.bernoulli import Bernoulli\n",
    "from torch.distributions.geometric import Geometric\n",
    "from Code.envs.statemachine import make_batch\n",
    "import torch\n",
    "import torch.nn as nn\n",
    "import torch.optim as optim\n",
    "import time\n",
    "from collections import OrderedDict\n",
    "\n",
    "from PIL import Image\n",
    "import numpy as np\n",
    "\n"
   ]
  },
  {
   "cell_type": "code",
   "execution_count": 2,
   "outputs": [],
   "source": [
    "BATCH_SIZE = 64#128\n",
    "\n",
    "USE_JIT = False\n",
    "\n",
    "#TODO: test device\n",
    "device = torch.device('cpu')\n",
    "\n",
    "SEQ_LEN = 30\n",
    "CHAR_DUR = 10 #0 #100\n",
    "RESET_PROB = 0.1 #0.2\n",
    "\n",
    "perm_num = 8#4\n",
    "n_input = perm_num + CHAR_DUR\n",
    "n_out = perm_num\n",
    "n_control = 199#100\n",
    "n_mem = 1#00#20 #100\n"
   ],
   "metadata": {
    "collapsed": false,
    "pycharm": {
     "name": "#%%\n"
    }
   }
  },
  {
   "cell_type": "code",
   "execution_count": 3,
   "outputs": [],
   "source": [
    "spec2 = {'beta': 0.9,\n",
    "   'lr': 0.001,\n",
    "   'lr_decay': 0.8,\n",
    "   '1-beta': False,\n",
    "   'ported_weights': True,\n",
    "   'NoBias': True,\n",
    "   'iterations': 5000,\n",
    "   'batch_size': 128,\n",
    "   'mem_beta': 1,\n",
    "   'spkfn': 'ss',\n",
    "   'decay_out': False,\n",
    "   'architecture': '1L',\n",
    "   'control_neuron': 'LIF',\n",
    "   'mem_neuron': 'Cooldown'}\n",
    "\n",
    "spec = {'beta': 0.9,\n",
    "   'lr': 0.01,\n",
    "   'lr_decay': 0.8,\n",
    "   '1-beta': False,\n",
    "   'ported_weights': True,\n",
    "   'NoBias': True,\n",
    "   'iterations': 5000,\n",
    "   'batch_size': 128,\n",
    "   'mem_beta': 0.95,\n",
    "   'spkfn': 'bellec',\n",
    "   'decay_out': False,\n",
    "   'architecture': '2L',\n",
    "   'control_neuron': 'LIF',\n",
    "   'mem_neuron': 'Adaptive'}\n",
    "\n",
    "spec['iterations'] = 5000\n",
    "#spec['mem_beta'] = 0.9985\n",
    "#spec['mem_neuron'] = 'FlipFlop'\n",
    "#spec['1-beta'] = 'improved'\n",
    "spec['lr'] = 0.001\n",
    "spec['lr_decay'] = 0.9\n",
    "spec['beta'] = 0.8\n",
    "spec['mem_beta'] = 0.8\n",
    "spec['architecture'] = '1L'\n",
    "\n",
    "ADAP_DECAY = np.exp(-1/CHAR_DUR)"
   ],
   "metadata": {
    "collapsed": false,
    "pycharm": {
     "name": "#%%\n"
    }
   }
  },
  {
   "cell_type": "code",
   "execution_count": 4,
   "outputs": [
    {
     "name": "stdout",
     "output_type": "stream",
     "text": [
      "OrderedDict([('control', [[('input', 1), ('control', 1), ('mem', 1)], LIFNeuron(), <class 'torch.nn.modules.linear.Linear'>]), ('mem', [[('input', 1), ('control', 1), ('mem', 1)], AdaptiveNeuron(), <class 'torch.nn.modules.linear.Linear'>]), ('output', [[('control', 1), ('mem', 1)], BaseNeuron(), None])])\n"
     ]
    },
    {
     "data": {
      "text/plain": "OuterWrapper(\n  (model): DynNetwork(\n    (layers): ModuleDict(\n      (loop): SequenceWrapper(\n        (model): ParallelNetwork2(\n          (layers): ModuleDict(\n            (control): LIFNeuron()\n            (control_synapse): Linear(in_features=218, out_features=199, bias=True)\n            (mem): AdaptiveNeuron()\n            (mem_synapse): Linear(in_features=218, out_features=1, bias=True)\n            (output): BaseNeuron()\n          )\n        )\n      )\n      (output_synapse): Linear(in_features=200, out_features=8, bias=True)\n      (output): BaseNeuron()\n    )\n  )\n)"
     },
     "execution_count": 4,
     "metadata": {},
     "output_type": "execute_result"
    }
   ],
   "source": [
    "from Code.everything3 import DynNetwork, OuterWrapper, BaseNeuron, SequenceWrapper, ParallelNetwork, \\\n",
    " SeqOnlySpike, CooldownNeuron, OutputNeuron, LIFNeuron, NoResetNeuron, AdaptiveNeuron, FlipFlopNeuron, ParallelNetwork2\n",
    "\n",
    "\n",
    "built_config = {\n",
    "    'target_rate': 0.01,\n",
    "    'BETA': spec['beta'],\n",
    "    'OFFSET': 7, # TODO: was 3 for config24\n",
    "    'SPIKE_FN': spec['spkfn'],\n",
    "    '1-beta': spec['1-beta'],\n",
    "    'ADAPDECAY': ADAP_DECAY, #0.9985,\n",
    "    'ADAPSCALE': 180\n",
    "}\n",
    "\n",
    "#TODO: changed here\n",
    "built_config['ADAPDECAY'] = 0.99\n",
    "\n",
    "mem_config = {\n",
    "    **built_config,\n",
    "    'BETA': spec['mem_beta']\n",
    "}\n",
    "\n",
    "\n",
    "\n",
    "control_lookup = {\n",
    "    'LIF': LIFNeuron,\n",
    "    'Disc': SeqOnlySpike,\n",
    "    'NoReset': NoResetNeuron\n",
    "}\n",
    "\n",
    "mem_lookup = {\n",
    "    'Adaptive': AdaptiveNeuron,\n",
    "    'Cooldown': CooldownNeuron,\n",
    "    'NoReset': NoResetNeuron,\n",
    "    'FlipFlop': FlipFlopNeuron\n",
    "}\n",
    "\n",
    "control_neuron = control_lookup[spec['control_neuron']](n_control, built_config)\n",
    "mem_neuron = mem_lookup[spec['mem_neuron']](n_mem, mem_config)\n",
    "out_neuron = OutputNeuron(n_control+n_mem, built_config) if spec['decay_out'] else BaseNeuron(n_control+n_mem, built_config)\n",
    "\n",
    "\n",
    "loop_2L = OrderedDict([\n",
    "    ('input', n_input),\n",
    "    ('control', [['input', 'mem'], control_neuron, nn.Linear]),\n",
    "    ('mem', [['control'], mem_neuron, nn.Linear]),\n",
    "    ('output', [['control', 'mem'], out_neuron, None]),\n",
    "])\n",
    "\n",
    "loop_2L = OrderedDict([\n",
    "    ('input', (n_input, 0.1)),\n",
    "    ('control', [[('input', 0.8), ('mem', 0.2)], control_neuron, nn.Linear]),\n",
    "    ('mem', [['control'], mem_neuron, nn.Linear]),\n",
    "    ('output', [['control', 'mem'], out_neuron, None]),\n",
    "])\n",
    "\n",
    "\n",
    "loop_1L = OrderedDict([\n",
    "    ('input', n_input),\n",
    "    ('control', [['input', 'control', 'mem'], control_neuron, nn.Linear]),\n",
    "    ('mem', [['input', 'control', 'mem'], mem_neuron, nn.Linear]),\n",
    "    ('output', [['control', 'mem'], out_neuron, None]),\n",
    "])\n",
    "\n",
    "loop_1L = OrderedDict([\n",
    "    ('input', (n_input, 2/n_input)),\n",
    "    ('control', [['input', 'control', 'mem'], control_neuron, nn.Linear]),\n",
    "    ('mem', [['input', 'control', 'mem'], mem_neuron, nn.Linear]),\n",
    "    ('output', [['control', 'mem'], out_neuron, None]),\n",
    "])\n",
    "\n",
    "loop = loop_1L if spec['architecture'] == '1L' else loop_2L\n",
    "\n",
    "outer = OrderedDict([\n",
    "    ('input', n_input),\n",
    "    ('loop', [['input'], SequenceWrapper(ParallelNetwork2(loop, bias=(not spec['NoBias']))), None]),\n",
    "    ('output', [['loop'], BaseNeuron(n_out, None), nn.Linear]),\n",
    "])\n",
    "\n",
    "model = OuterWrapper(DynNetwork(outer), device)\n",
    "\n",
    "\n",
    "#loop_model = OuterWrapper(make_SequenceWrapper(ParallelNetwork(loop), USE_JIT), device, USE_JIT)\n",
    "\n",
    "#final_linear = nn.Linear(n_control+n_mem, 10).to(device)\n",
    "'''\n",
    "if spec['ported_weights']:\n",
    "    o_weights = pickle.load(open('weight_transplant_enc', 'rb'))\n",
    "\n",
    "    o1 = torch.tensor(o_weights['RecWeights/RecurrentWeight:0']).t()\n",
    "    o2 = torch.tensor(o_weights['InputWeights/InputWeight:0']).t()\n",
    "    o3 = torch.cat((o2, o1), dim=1)\n",
    "    with torch.no_grad():\n",
    "        model.pretrace.layers.loop.model.layers.control_synapse.weight.data[:,:300] = o3[:120] if spec['architecture'] == '1L' else o3[:120, :181]\n",
    "        model.pretrace.layers.loop.model.layers.mem_synapse.weight.data[:,:300] = o3[120:] if spec['architecture'] == '1L' else o3[120:, 180:]\n",
    "        model.pretrace.layers.output_synapse.weight.data = torch.tensor(o_weights['out_weight:0']).t()\n",
    "'''\n",
    "params = list(model.parameters())\n",
    "\n",
    "model.to(device)\n"
   ],
   "metadata": {
    "collapsed": false,
    "pycharm": {
     "name": "#%%\n"
    }
   }
  },
  {
   "cell_type": "code",
   "execution_count": 5,
   "outputs": [
    {
     "data": {
      "text/plain": "\"\\nfrom Code.everything3 import DynNetwork, OuterWrapper, LSTMWrapper, MeanModule, BaseNeuron\\n\\nlstm_size = 32\\n\\nouter = OrderedDict([\\n    ('input', n_input),\\n    ('lstm', [['input'], LSTMWrapper(n_input, lstm_size), None]),\\n    ('output', [['lstm'], BaseNeuron(n_out, None), nn.Linear]),\\n])\\n\\nmodel = OuterWrapper(DynNetwork(outer), device, USE_JIT)\\n\\n#with torch.no_grad():\\n#    model.model.layers.lstm.lstm.bias_hh_l0[:256] += 3\\n\\n\\n\\nparams = list(model.parameters())\\n\\n\\nmodel.to(device)\\n\""
     },
     "execution_count": 5,
     "metadata": {},
     "output_type": "execute_result"
    }
   ],
   "source": [
    "'''\n",
    "from Code.everything3 import DynNetwork, OuterWrapper, LSTMWrapper, MeanModule, BaseNeuron\n",
    "\n",
    "lstm_size = 32\n",
    "\n",
    "outer = OrderedDict([\n",
    "    ('input', n_input),\n",
    "    ('lstm', [['input'], LSTMWrapper(n_input, lstm_size), None]),\n",
    "    ('output', [['lstm'], BaseNeuron(n_out, None), nn.Linear]),\n",
    "])\n",
    "\n",
    "model = OuterWrapper(DynNetwork(outer), device, USE_JIT)\n",
    "\n",
    "#with torch.no_grad():\n",
    "#    model.model.layers.lstm.lstm.bias_hh_l0[:256] += 3\n",
    "\n",
    "\n",
    "\n",
    "params = list(model.parameters())\n",
    "\n",
    "\n",
    "model.to(device)\n",
    "'''"
   ],
   "metadata": {
    "collapsed": false,
    "pycharm": {
     "name": "#%%\n"
    }
   }
  },
  {
   "cell_type": "code",
   "execution_count": 6,
   "outputs": [
    {
     "data": {
      "text/plain": "\"\\nfrom Code.everything3 import DynNetwork, OuterWrapper, LSTMWrapper, MeanModule, BaseNeuron\\nmodel = OuterWrapper(torch.load('../models/perm_lstm2'), device, USE_JIT)\\nparams = list(model.parameters())\\n\""
     },
     "execution_count": 6,
     "metadata": {},
     "output_type": "execute_result"
    }
   ],
   "source": [
    "'''\n",
    "from Code.everything3 import DynNetwork, OuterWrapper, LSTMWrapper, MeanModule, BaseNeuron\n",
    "model = OuterWrapper(torch.load('../models/perm_lstm2'), device, USE_JIT)\n",
    "params = list(model.parameters())\n",
    "'''"
   ],
   "metadata": {
    "collapsed": false,
    "pycharm": {
     "name": "#%%\n"
    }
   }
  },
  {
   "cell_type": "code",
   "execution_count": 7,
   "outputs": [],
   "source": [
    "lr = spec['lr']\n",
    "optimizer = optim.Adam(params, lr=lr)\n",
    "#bce = nn.BCEWithLogitsLoss(reduction='none')\n",
    "ce = nn.CrossEntropyLoss() #reduction='none'\n",
    "\n",
    "\n",
    "ITERATIONS = spec['iterations']#36000"
   ],
   "metadata": {
    "collapsed": false,
    "pycharm": {
     "name": "#%%\n"
    }
   }
  },
  {
   "cell_type": "code",
   "execution_count": 8,
   "outputs": [],
   "source": [
    "seql = 100\n",
    "\n",
    "with torch.no_grad():\n",
    "    nrythm = torch.diag(torch.ones([CHAR_DUR], device=device))\n",
    "    #nrythm *= 0\n",
    "    nrythm = nrythm.expand(seql, CHAR_DUR, CHAR_DUR).reshape(seql*CHAR_DUR, 1, CHAR_DUR).expand(seql*CHAR_DUR, BATCH_SIZE, CHAR_DUR)\n",
    "\n",
    "def validate():\n",
    "    #seql = SEQ_LEN\n",
    "    with torch.no_grad():\n",
    "        input, raw_inp = make_batch(BATCH_SIZE, seql, device, perm_num)\n",
    "        input = input.repeat_interleave(CHAR_DUR, 0)\n",
    "        input = torch.cat((input, nrythm), dim=-1)\n",
    "\n",
    "        #TODO: repeat data over\n",
    "\n",
    "        output, _ = model(input)\n",
    "        output = output.view(seql, CHAR_DUR, BATCH_SIZE, perm_num).mean(dim=1)\n",
    "        out_class = output.argmax(dim=-1, keepdim=True)\n",
    "        targets = lookup[out_class, raw_inp]\n",
    "        #print(out_class[3, 0, 0], raw_inp[3, 0, 0], out_class[4, 0, 0])\n",
    "        acc = (out_class[1:] == targets[:-1]).float().mean().item()\n",
    "        print('Validation: ', acc)\n",
    "\n",
    "stats = {\n",
    "    'grad_norm': [],\n",
    "    'loss': [],\n",
    "    'acc': [],\n",
    "    'batch_var': [],\n",
    "    'val': []\n",
    "}\n",
    "\n",
    "grad_norm_history = []\n",
    "def record_norm():\n",
    "    norms = []\n",
    "    for p in params:\n",
    "        norms.append(p.grad.norm().item())\n",
    "    stats['grad_norm'].append(torch.tensor(norms).norm().item())\n"
   ],
   "metadata": {
    "collapsed": false,
    "pycharm": {
     "name": "#%%\n"
    }
   }
  },
  {
   "cell_type": "code",
   "execution_count": 9,
   "outputs": [],
   "source": [
    "with torch.no_grad():\n",
    "    lookup = torch.empty((perm_num, perm_num), device=device, dtype=torch.long)\n",
    "    for i in range(perm_num):\n",
    "        lookup[i] = torch.randperm(perm_num)"
   ],
   "metadata": {
    "collapsed": false,
    "pycharm": {
     "name": "#%%\n"
    }
   }
  },
  {
   "cell_type": "code",
   "execution_count": 10,
   "outputs": [
    {
     "name": "stdout",
     "output_type": "stream",
     "text": [
      "0.18863146491348742 20\n",
      "0.29485452473163604 40\n",
      "0.2922144390642643 60\n",
      "0.3505118519067764 80\n",
      "0.4067887932062149 100\n",
      "Validation:  0.4089330732822418\n",
      "0.4569504290819168 120\n",
      "0.49636314809322357 140\n",
      "0.5185614287853241 160\n",
      "0.5183459013700485 180\n",
      "0.5365571111440659 200\n",
      "Validation:  0.5172032713890076\n",
      "0.5409482657909394 220\n",
      "0.5659213364124298 240\n",
      "0.5955549597740173 260\n",
      "0.629175654053688 280\n",
      "0.6435614198446273 300\n",
      "Validation:  0.6635100841522217\n",
      "0.684859910607338 320\n",
      "0.699326503276825 340\n",
      "0.7222791016101837 360\n",
      "0.748464435338974 380\n",
      "0.7685883641242981 400\n",
      "Validation:  0.7695707082748413\n",
      "0.7835398703813553 420\n",
      "0.8225484907627105 440\n",
      "0.849649778008461 460\n",
      "0.8687769383192062 480\n",
      "0.8779903024435043 500\n",
      "Validation:  0.9034090638160706\n",
      "0.8777209013700485 520\n",
      "0.896821117401123 540\n",
      "0.9111530125141144 560\n",
      "0.9157058268785476 580\n",
      "0.9389277964830398 600\n",
      "Validation:  0.9469696879386902\n",
      "0.9425377190113068 620\n",
      "0.9483566761016846 640\n",
      "0.9515625029802323 660\n",
      "0.9564655125141144 680\n",
      "0.9604525834321975 700\n",
      "Validation:  0.962436854839325\n",
      "0.9614224165678025 720\n",
      "0.9683997899293899 740\n",
      "0.9665140032768249 760\n",
      "0.9749191880226136 780\n",
      "0.9784752160310746 800\n",
      "Validation:  0.9816918969154358\n",
      "0.9807112038135528 820\n",
      "0.9794181048870086 840\n",
      "0.9827855587005615 860\n",
      "0.9798491418361663 880\n",
      "0.9835129290819168 900\n",
      "Validation:  0.9807449579238892\n",
      "0.9835129320621491 920\n",
      "0.9798760741949082 940\n",
      "0.9804687529802323 960\n",
      "0.9803879231214523 980\n",
      "0.9849676698446274 1000\n",
      "Validation:  0.9917929172515869\n",
      "0.985829746723175 1020\n",
      "0.98636853992939 1040\n",
      "0.9850754380226135 1060\n",
      "0.9790140122175217 1080\n",
      "0.9818157315254211 1100\n",
      "Validation:  0.9891098737716675\n",
      "0.9846444010734559 1120\n",
      "0.9888739198446274 1140\n",
      "0.9859913796186447 1160\n",
      "0.9786637932062149 1180\n",
      "0.9823814630508423 1200\n",
      "Validation:  0.9932133555412292\n",
      "0.986691814661026 1220\n",
      "0.9838362067937851 1240\n",
      "0.9869342654943466 1260\n",
      "0.9842941761016846 1280\n",
      "0.9873652994632721 1300\n",
      "Validation:  0.9965277910232544\n",
      "0.9855334013700485 1320\n",
      "0.9811422407627106 1340\n",
      "0.9874191820621491 1360\n",
      "0.9865840464830399 1380\n",
      "0.9877424716949463 1400\n",
      "Validation:  0.9951073527336121\n",
      "0.9939116418361664 1420\n",
      "0.9927801758050918 1440\n",
      "0.989385774731636 1460\n",
      "0.99175646007061 1480\n",
      "0.9934806108474732 1500\n",
      "Validation:  0.9963699579238892\n",
      "0.9903555989265442 1520\n",
      "0.99140625 1540\n",
      "0.9925646513700486 1560\n",
      "0.9950700402259827 1580\n",
      "0.994854524731636 1600\n",
      "Validation:  0.9941603541374207\n",
      "0.9889277994632721 1620\n",
      "0.9868534415960312 1640\n",
      "0.9955549567937851 1660\n",
      "0.9931303858757019 1680\n",
      "0.9919181019067764 1700\n",
      "Validation:  0.993686854839325\n",
      "0.9920528024435044 1720\n",
      "0.9938308209180832 1740\n",
      "0.9920797407627105 1760\n",
      "0.995985996723175 1780\n",
      "0.9937500029802322 1800\n",
      "Validation:  0.9954229593276978\n",
      "0.9900053888559341 1820\n",
      "0.9918103456497193 1840\n",
      "0.9961476355791092 1860\n",
      "0.996497842669487 1880\n",
      "0.9979795247316361 1900\n",
      "Validation:  0.9995265007019043\n",
      "0.9983566850423813 1920\n",
      "0.9961476266384125 1940\n",
      "0.9977640062570572 1960\n",
      "0.9977370768785476 1980\n",
      "0.9982489258050918 2000\n",
      "Validation:  0.9988952279090881\n",
      "0.9990571141242981 2020\n",
      "0.9978987097740173 2040\n",
      "0.9983836323022842 2060\n",
      "0.9970635861158371 2080\n",
      "0.994827589392662 2100\n",
      "Validation:  0.9965277910232544\n",
      "0.9964170306921005 2120\n",
      "0.9923760771751404 2140\n",
      "0.9874461203813553 2160\n",
      "0.9945043057203293 2180\n",
      "0.9954741448163986 2200\n",
      "Validation:  0.9982638955116272\n",
      "0.9960129350423813 2220\n",
      "0.9982219904661178 2240\n",
      "0.9970635801553727 2260\n",
      "0.9900053888559341 2280\n",
      "0.9961476266384125 2300\n",
      "Validation:  0.9987373948097229\n",
      "0.9968211263418197 2320\n",
      "0.9938577562570572 2340\n",
      "0.995554968714714 2360\n",
      "0.9950431019067765 2380\n",
      "0.9991379380226135 2400\n",
      "Validation:  0.9988952279090881\n",
      "0.9977640122175216 2420\n",
      "0.9951239287853241 2440\n",
      "0.9985722064971924 2460\n",
      "0.9959859937429428 2480\n",
      "0.9935344845056534 2500\n",
      "Validation:  0.9988952279090881\n",
      "Learning Rate:  0.0009000000000000001\n",
      "0.8758890062570572 2520\n",
      "0.9545258581638336 2540\n",
      "0.9874191850423812 2560\n",
      "0.9964170336723328 2580\n",
      "0.9983836233615875 2600\n",
      "Validation:  0.9984217286109924\n",
      "0.9984913825988769 2620\n",
      "0.9991648763418197 2640\n",
      "0.9992726355791092 2660\n",
      "0.9981681078672409 2680\n",
      "0.9991918206214905 2700\n",
      "Validation:  0.9992108345031738\n",
      "0.9980603456497192 2720\n",
      "0.9979525923728942 2740\n",
      "0.9981142342090606 2760\n",
      "0.998706904053688 2780\n",
      "0.9983297437429428 2800\n",
      "Validation:  1.0\n",
      "0.9978448331356049 2820\n",
      "0.9959859907627105 2840\n",
      "0.9953663766384124 2860\n",
      "0.9957165986299514 2880\n",
      "0.9958782404661178 2900\n",
      "Validation:  0.9984217286109924\n",
      "0.9974137961864471 2920\n",
      "0.997790950536728 2940\n",
      "0.9973868548870086 2960\n",
      "0.9971443951129914 2980\n",
      "0.9977370768785476 3000\n",
      "Validation:  0.9990530014038086\n",
      "0.9988954782485961 3020\n",
      "0.9985991418361664 3040\n",
      "0.9941002160310746 3060\n",
      "0.9946659535169602 3080\n",
      "0.9967941790819168 3100\n",
      "Validation:  0.9995265007019043\n",
      "0.9947198241949081 3120\n",
      "0.9888739198446274 3140\n",
      "0.9930765092372894 3160\n",
      "0.9945043116807938 3180\n",
      "0.994854524731636 3200\n",
      "Validation:  0.9993686676025391\n",
      "0.9954202622175217 3220\n",
      "0.9965786665678025 3240\n",
      "0.9942887902259827 3260\n",
      "0.9963631510734559 3280\n",
      "0.9950700491666794 3300\n",
      "Validation:  0.9970012903213501\n",
      "0.994881471991539 3320\n",
      "0.9929418116807938 3340\n",
      "0.9960398733615875 3360\n",
      "0.998814657330513 3380\n",
      "0.9983566910028457 3400\n",
      "Validation:  0.9995265007019043\n",
      "0.9990571141242981 3420\n",
      "0.9977909475564957 3440\n",
      "0.9979525893926621 3460\n",
      "0.9983836323022842 3480\n",
      "0.9981142312288285 3500\n",
      "Validation:  0.9984217286109924\n",
      "0.9988954871892929 3520\n",
      "0.9992995738983155 3540\n",
      "0.9992726355791092 3560\n",
      "0.995420265197754 3580\n",
      "0.8720366358757019 3600\n",
      "Validation:  0.7222222089767456\n",
      "0.7630387961864471 3620\n",
      "0.9206896513700485 3640\n",
      "0.9730064660310745 3660\n",
      "0.9884159535169601 3680\n",
      "0.9930226325988769 3700\n",
      "Validation:  0.9963699579238892\n"
     ]
    },
    {
     "ename": "KeyboardInterrupt",
     "evalue": "",
     "output_type": "error",
     "traceback": [
      "\u001B[0;31m---------------------------------------------------------------------------\u001B[0m",
      "\u001B[0;31mKeyboardInterrupt\u001B[0m                         Traceback (most recent call last)",
      "\u001B[0;32m<ipython-input-10-343ca6b3afea>\u001B[0m in \u001B[0;36m<module>\u001B[0;34m\u001B[0m\n\u001B[1;32m     28\u001B[0m     \u001B[0mloss\u001B[0m \u001B[0;34m=\u001B[0m \u001B[0mce\u001B[0m\u001B[0;34m(\u001B[0m\u001B[0moutput\u001B[0m\u001B[0;34m[\u001B[0m\u001B[0;36m1\u001B[0m\u001B[0;34m:\u001B[0m\u001B[0;34m]\u001B[0m\u001B[0;34m.\u001B[0m\u001B[0mview\u001B[0m\u001B[0;34m(\u001B[0m\u001B[0;34m-\u001B[0m\u001B[0;36m1\u001B[0m\u001B[0;34m,\u001B[0m \u001B[0mperm_num\u001B[0m\u001B[0;34m)\u001B[0m\u001B[0;34m,\u001B[0m \u001B[0mtargets\u001B[0m\u001B[0;34m[\u001B[0m\u001B[0;34m:\u001B[0m\u001B[0;34m-\u001B[0m\u001B[0;36m1\u001B[0m\u001B[0;34m]\u001B[0m\u001B[0;34m.\u001B[0m\u001B[0mview\u001B[0m\u001B[0;34m(\u001B[0m\u001B[0;34m-\u001B[0m\u001B[0;36m1\u001B[0m\u001B[0;34m)\u001B[0m\u001B[0;34m)\u001B[0m\u001B[0;34m\u001B[0m\u001B[0;34m\u001B[0m\u001B[0m\n\u001B[1;32m     29\u001B[0m \u001B[0;34m\u001B[0m\u001B[0m\n\u001B[0;32m---> 30\u001B[0;31m     \u001B[0mloss\u001B[0m\u001B[0;34m.\u001B[0m\u001B[0mbackward\u001B[0m\u001B[0;34m(\u001B[0m\u001B[0;34m)\u001B[0m\u001B[0;34m\u001B[0m\u001B[0;34m\u001B[0m\u001B[0m\n\u001B[0m\u001B[1;32m     31\u001B[0m     \u001B[0moptimizer\u001B[0m\u001B[0;34m.\u001B[0m\u001B[0mstep\u001B[0m\u001B[0;34m(\u001B[0m\u001B[0;34m)\u001B[0m\u001B[0;34m\u001B[0m\u001B[0;34m\u001B[0m\u001B[0m\n\u001B[1;32m     32\u001B[0m \u001B[0;34m\u001B[0m\u001B[0m\n",
      "\u001B[0;32m/opt/conda/lib/python3.6/site-packages/torch/tensor.py\u001B[0m in \u001B[0;36mbackward\u001B[0;34m(self, gradient, retain_graph, create_graph)\u001B[0m\n\u001B[1;32m    193\u001B[0m                 \u001B[0mproducts\u001B[0m\u001B[0;34m.\u001B[0m \u001B[0mDefaults\u001B[0m \u001B[0mto\u001B[0m\u001B[0;31m \u001B[0m\u001B[0;31m`\u001B[0m\u001B[0;31m`\u001B[0m\u001B[0;32mFalse\u001B[0m\u001B[0;31m`\u001B[0m\u001B[0;31m`\u001B[0m\u001B[0;34m.\u001B[0m\u001B[0;34m\u001B[0m\u001B[0;34m\u001B[0m\u001B[0m\n\u001B[1;32m    194\u001B[0m         \"\"\"\n\u001B[0;32m--> 195\u001B[0;31m         \u001B[0mtorch\u001B[0m\u001B[0;34m.\u001B[0m\u001B[0mautograd\u001B[0m\u001B[0;34m.\u001B[0m\u001B[0mbackward\u001B[0m\u001B[0;34m(\u001B[0m\u001B[0mself\u001B[0m\u001B[0;34m,\u001B[0m \u001B[0mgradient\u001B[0m\u001B[0;34m,\u001B[0m \u001B[0mretain_graph\u001B[0m\u001B[0;34m,\u001B[0m \u001B[0mcreate_graph\u001B[0m\u001B[0;34m)\u001B[0m\u001B[0;34m\u001B[0m\u001B[0;34m\u001B[0m\u001B[0m\n\u001B[0m\u001B[1;32m    196\u001B[0m \u001B[0;34m\u001B[0m\u001B[0m\n\u001B[1;32m    197\u001B[0m     \u001B[0;32mdef\u001B[0m \u001B[0mregister_hook\u001B[0m\u001B[0;34m(\u001B[0m\u001B[0mself\u001B[0m\u001B[0;34m,\u001B[0m \u001B[0mhook\u001B[0m\u001B[0;34m)\u001B[0m\u001B[0;34m:\u001B[0m\u001B[0;34m\u001B[0m\u001B[0;34m\u001B[0m\u001B[0m\n",
      "\u001B[0;32m/opt/conda/lib/python3.6/site-packages/torch/autograd/__init__.py\u001B[0m in \u001B[0;36mbackward\u001B[0;34m(tensors, grad_tensors, retain_graph, create_graph, grad_variables)\u001B[0m\n\u001B[1;32m     97\u001B[0m     Variable._execution_engine.run_backward(\n\u001B[1;32m     98\u001B[0m         \u001B[0mtensors\u001B[0m\u001B[0;34m,\u001B[0m \u001B[0mgrad_tensors\u001B[0m\u001B[0;34m,\u001B[0m \u001B[0mretain_graph\u001B[0m\u001B[0;34m,\u001B[0m \u001B[0mcreate_graph\u001B[0m\u001B[0;34m,\u001B[0m\u001B[0;34m\u001B[0m\u001B[0;34m\u001B[0m\u001B[0m\n\u001B[0;32m---> 99\u001B[0;31m         allow_unreachable=True)  # allow_unreachable flag\n\u001B[0m\u001B[1;32m    100\u001B[0m \u001B[0;34m\u001B[0m\u001B[0m\n\u001B[1;32m    101\u001B[0m \u001B[0;34m\u001B[0m\u001B[0m\n",
      "\u001B[0;31mKeyboardInterrupt\u001B[0m: "
     ]
    }
   ],
   "source": [
    "with torch.no_grad():\n",
    "    rythm = torch.diag(torch.ones([CHAR_DUR], device=device))\n",
    "    #rythm *= 0\n",
    "    rythm = rythm.expand(SEQ_LEN, CHAR_DUR, CHAR_DUR).reshape(SEQ_LEN*CHAR_DUR, 1, CHAR_DUR).expand(SEQ_LEN*CHAR_DUR, BATCH_SIZE, CHAR_DUR)\n",
    "\n",
    "\n",
    "start = time.time()\n",
    "i = 1\n",
    "sumloss = 0\n",
    "sumacc = 0\n",
    "\n",
    "while i < ITERATIONS:\n",
    "    batchstart = time.time()\n",
    "    optimizer.zero_grad()\n",
    "    input, raw_inp = make_batch(BATCH_SIZE, SEQ_LEN, device, perm_num)\n",
    "    #data = data.repeat_interleave(CHAR_DUR, 0)\n",
    "\n",
    "    input = input.repeat_interleave(CHAR_DUR, 0)\n",
    "    input = torch.cat((input, rythm), dim=-1)\n",
    "\n",
    "    #TODO: repeat data over\n",
    "\n",
    "    output, _ = model(input)\n",
    "    output = output.view(SEQ_LEN, CHAR_DUR, BATCH_SIZE, perm_num).mean(dim=1)\n",
    "    out_class = output.argmax(dim=-1, keepdim=True)\n",
    "    targets = lookup[out_class, raw_inp]\n",
    "\n",
    "    loss = ce(output[1:].view(-1, perm_num), targets[:-1].view(-1))\n",
    "\n",
    "    loss.backward()\n",
    "    optimizer.step()\n",
    "\n",
    "    acc = (out_class[1:] == targets[:-1]).float().mean().item()\n",
    "\n",
    "\n",
    "\n",
    "    with torch.no_grad():\n",
    "        record_norm()\n",
    "        stats['loss'].append(loss.item())\n",
    "        #acc = ((((output > 0).float() == target).float()*recall).sum()/recall.sum()).item()\n",
    "        #stats['acc'].append(acc)\n",
    "        batch_var = 3 #out_final.var(0).mean().item()\n",
    "        #stats['batch_var'].append(batch_var)\n",
    "\n",
    "        #print(loss.item(), acc1, acc2)\n",
    "\n",
    "\n",
    "    sumloss += loss.item()\n",
    "    sumacc += acc\n",
    "    if i%20 == 0:\n",
    "        print(sumacc/20, i)\n",
    "        #print(loss.item(), sumloss/20, sumacc/20, time.time()-batchstart, batch_var) #torch.argmax(outputs[-1], 1).float().var()\n",
    "        sumloss = 0\n",
    "        sumacc = 0\n",
    "    if i%100 == 0:\n",
    "        validate()\n",
    "    if i%2500 == 0:\n",
    "        lr = lr * spec['lr_decay']\n",
    "        optimizer = optim.Adam(params, lr=lr)\n",
    "        print('Learning Rate: ', lr)\n",
    "    i += 1\n",
    "    #config['stats'] = stats\n",
    "    #config['progress'] = i\n",
    "    #with open('configs/' + run_id + '.json', 'w') as config_file:\n",
    "    #    json.dump(config, config_file, indent=2)\n",
    "    #model.save('models/'+run_id)\n",
    "\n",
    "\n",
    "print('Total time: ', time.time()-start)\n"
   ],
   "metadata": {
    "collapsed": false,
    "pycharm": {
     "name": "#%%\n"
    }
   }
  },
  {
   "cell_type": "code",
   "execution_count": null,
   "outputs": [],
   "source": [],
   "metadata": {
    "collapsed": false,
    "pycharm": {
     "name": "#%%\n"
    }
   }
  },
  {
   "cell_type": "code",
   "execution_count": null,
   "outputs": [],
   "source": [],
   "metadata": {
    "collapsed": false,
    "pycharm": {
     "name": "#%%\n"
    }
   }
  },
  {
   "cell_type": "code",
   "execution_count": null,
   "outputs": [],
   "source": [
    "validate()\n"
   ],
   "metadata": {
    "collapsed": false,
    "pycharm": {
     "name": "#%%\n"
    }
   }
  },
  {
   "cell_type": "code",
   "execution_count": null,
   "outputs": [],
   "source": [
    "lookup"
   ],
   "metadata": {
    "collapsed": false,
    "pycharm": {
     "name": "#%%\n"
    }
   }
  },
  {
   "cell_type": "code",
   "execution_count": 11,
   "outputs": [],
   "source": [
    "with torch.no_grad():\n",
    "    input, raw_inp = make_batch(BATCH_SIZE, seql, device, perm_num)\n",
    "    input = input.repeat_interleave(CHAR_DUR, 0)\n",
    "    input = torch.cat((input, nrythm), dim=-1)\n",
    "\n",
    "    #TODO: repeat data over\n",
    "\n",
    "    output, _, log = model(input, logging=True)\n",
    "\n",
    "ar_length = input.shape[0]\n",
    "array_list = [input, log['loop']['control'], log['loop']['mem'], log['output']] #log['loop']['output']\n",
    "array_list2 = []\n",
    "for ar in array_list:\n",
    "    array_list2.append(ar[:, 0])\n",
    "    array_list2.append(torch.ones((ar_length, 1), device=input.device) * 0.5)\n",
    "big_ar = torch.cat(array_list2[:-1], dim=1).detach() * 255\n",
    "img = Image.fromarray(big_ar.numpy().astype(np.uint8), 'L')"
   ],
   "metadata": {
    "collapsed": false,
    "pycharm": {
     "name": "#%%\n"
    }
   }
  },
  {
   "cell_type": "code",
   "execution_count": 12,
   "outputs": [
    {
     "data": {
      "text/plain": "(229, 1000)"
     },
     "execution_count": 12,
     "metadata": {},
     "output_type": "execute_result"
    }
   ],
   "source": [
    "img.size"
   ],
   "metadata": {
    "collapsed": false,
    "pycharm": {
     "name": "#%%\n"
    }
   }
  },
  {
   "cell_type": "code",
   "execution_count": 13,
   "outputs": [
    {
     "data": {
      "text/plain": "<PIL.Image.Image image mode=L size=229x1000 at 0x7FCAE885B080>",
      "image/png": "[encoded data removed]"
     },
     "execution_count": 13,
     "metadata": {},
     "output_type": "execute_result"
    }
   ],
   "source": [
    "img\n",
    "#img.resize((229, 500))"
   ],
   "metadata": {
    "collapsed": false,
    "pycharm": {
     "name": "#%%\n"
    }
   }
  },
  {
   "cell_type": "code",
   "execution_count": 14,
   "outputs": [
    {
     "data": {
      "text/plain": "tensor(0.3830)"
     },
     "execution_count": 14,
     "metadata": {},
     "output_type": "execute_result"
    }
   ],
   "source": [
    "log['loop']['control'].mean()"
   ],
   "metadata": {
    "collapsed": false,
    "pycharm": {
     "name": "#%%\n"
    }
   }
  },
  {
   "cell_type": "code",
   "execution_count": null,
   "outputs": [],
   "source": [
    "log['loop']['mem'].mean()\n",
    "\n"
   ],
   "metadata": {
    "collapsed": false,
    "pycharm": {
     "name": "#%%\n"
    }
   }
  },
  {
   "cell_type": "code",
   "execution_count": null,
   "outputs": [],
   "source": [
    "model.model.layers.loop.model.layers.control_synapse.weight.var()"
   ],
   "metadata": {
    "collapsed": false,
    "pycharm": {
     "name": "#%%\n"
    }
   }
  },
  {
   "cell_type": "code",
   "source": [
    "model.model.layers.loop.model.layers.mem_synapse.weight.var()"
   ],
   "metadata": {
    "collapsed": false,
    "pycharm": {
     "name": "#%%\n"
    }
   },
   "execution_count": null,
   "outputs": []
  },
  {
   "cell_type": "code",
   "execution_count": null,
   "outputs": [],
   "source": [
    "model.model.layers.loop.model.layers.control_synapse.weight.var() * log['loop']['mem'].mean()\n"
   ],
   "metadata": {
    "collapsed": false,
    "pycharm": {
     "name": "#%%\n"
    }
   }
  },
  {
   "cell_type": "code",
   "execution_count": null,
   "outputs": [],
   "source": [
    "#model.save('../models/state_adaptive1')"
   ],
   "metadata": {
    "collapsed": false,
    "pycharm": {
     "name": "#%%\n"
    }
   }
  },
  {
   "cell_type": "code",
   "execution_count": null,
   "outputs": [],
   "source": [],
   "metadata": {
    "collapsed": false,
    "pycharm": {
     "name": "#%%\n"
    }
   }
  }
 ],
 "metadata": {
  "kernelspec": {
   "display_name": "Python 3",
   "language": "python",
   "name": "python3"
  },
  "language_info": {
   "codemirror_mode": {
    "name": "ipython",
    "version": 2
   },
   "file_extension": ".py",
   "mimetype": "text/x-python",
   "name": "python",
   "nbconvert_exporter": "python",
   "pygments_lexer": "ipython2",
   "version": "2.7.6"
  }
 },
 "nbformat": 4,
 "nbformat_minor": 0
}