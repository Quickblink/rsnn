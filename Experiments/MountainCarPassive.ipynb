{
 "cells": [
  {
   "cell_type": "code",
   "execution_count": 1,
   "outputs": [],
   "source": [
    "import macropy.activate\n",
    "import importlib\n",
    "import sys\n",
    "sys.path.append('../')\n",
    "import torch\n",
    "import torch.nn as nn\n",
    "import torch.optim as optim\n",
    "from Code.iff_macro import set_config\n",
    "from Code.lstm import lstmPolicyPredictor, FullyConnected\n",
    "from Code.envs.MountainCar import MultiMountainCar, LookupPolicy, PassiveEnv\n",
    "from Code.SNN import RSNN, FeedForwardSNN, magicRSNN"
   ],
   "metadata": {
    "collapsed": false,
    "pycharm": {
     "name": "#%%\n",
     "is_executing": false
    }
   }
  },
  {
   "cell_type": "code",
   "execution_count": 2,
   "outputs": [
    {
     "data": {
      "text/plain": "<module 'Code.macroNeurons' from '../Code/macroNeurons.py'>"
     },
     "metadata": {},
     "output_type": "execute_result",
     "execution_count": 2
    }
   ],
   "source": [
    "config = {\n",
    "    'ALPHA': 0,\n",
    "    'BETA': 1,\n",
    "    'RESET_ZERO': False,\n",
    "    'THRESH_ADD': 1,\n",
    "    'THRESH_DECAY': 1,\n",
    "    'DECODING': 'potential',\n",
    "    'SPIKE_FN': 'bellec',\n",
    "    'SIM_TIME': 10\n",
    "}\n",
    "set_config(config)\n",
    "import Code.macroNeurons as Neurons\n",
    "importlib.reload(Neurons)"
   ],
   "metadata": {
    "collapsed": false,
    "pycharm": {
     "name": "#%%\n",
     "is_executing": false
    }
   }
  },
  {
   "cell_type": "code",
   "execution_count": 3,
   "outputs": [],
   "source": [
    "env = PassiveEnv()"
   ],
   "metadata": {
    "collapsed": false,
    "pycharm": {
     "name": "#%%\n",
     "is_executing": false
    }
   }
  },
  {
   "cell_type": "code",
   "execution_count": 4,
   "outputs": [],
   "source": [
    "BATCH_SIZE = 64"
   ],
   "metadata": {
    "collapsed": false,
    "pycharm": {
     "name": "#%%\n",
     "is_executing": false
    }
   }
  },
  {
   "cell_type": "code",
   "execution_count": 5,
   "outputs": [],
   "source": [
    "#model = lstmPolicyPredictor(2,8,16)\n",
    "#model = RSNN(config, 1, 32, 16, 1, Neurons.LIFNeuron, Neurons.AdaptiveNeuron, Neurons.OutputNeuron)\n",
    "model = magicRSNN(config, 1, 32, 16, 1, Neurons.LIFNeuron, Neurons.MagicNeuron, Neurons.OutputNeuron)\n",
    "#model = FeedForwardSNN(config, [1, 128, 128, 1], Neurons.LIFNeuron, Neurons.OutputNeuron)\n",
    "#model = FullyConnected([1, 128, 128, 1])\n",
    "\n",
    "teacher = LookupPolicy()\n",
    "\n",
    "\n",
    "#TODO: test superspike instead of Bellec"
   ],
   "metadata": {
    "collapsed": false,
    "pycharm": {
     "name": "#%%\n",
     "is_executing": false
    }
   }
  },
  {
   "cell_type": "code",
   "execution_count": 6,
   "outputs": [],
   "source": [
    "spikes = torch.zeros((200, 10))\n",
    "def logger(h, t, i):\n",
    "    spikes[t, i] = h['spikes'][0].sum()\n",
    "    "
   ],
   "metadata": {
    "collapsed": false,
    "pycharm": {
     "name": "#%%\n",
     "is_executing": false
    }
   }
  },
  {
   "cell_type": "code",
   "execution_count": 7,
   "outputs": [],
   "source": [
    "#bce = nn.BCELoss(reduction='none') #reduction='sum'\n",
    "mse = nn.MSELoss(reduction='none')\n",
    "optimizer = optim.Adam(model.parameters(), lr=0.0001)#0.00001"
   ],
   "metadata": {
    "collapsed": false,
    "pycharm": {
     "name": "#%%\n",
     "is_executing": false
    }
   }
  },
  {
   "cell_type": "code",
   "execution_count": null,
   "outputs": [
    {
     "name": "stdout",
     "text": [
      "0.06726884096860886 128.6168212890625 0\n",
      "tensor([[ 0.,  0.,  0.,  ...,  6.,  8.,  7.],\n",
      "        [11.,  8., 14.,  ..., 10., 12., 11.],\n",
      "        [10., 12., 13.,  ..., 15., 15., 11.],\n",
      "        ...,\n",
      "        [ 0.,  0.,  0.,  ...,  0.,  0.,  0.],\n",
      "        [ 0.,  0.,  0.,  ...,  0.,  0.,  0.],\n",
      "        [ 0.,  0.,  0.,  ...,  0.,  0.,  0.]], grad_fn=<CopySlices>)\n",
      "0.06502585858106613 126.88727569580078 10\n",
      "0.06226105988025665 115.61071014404297 20\n",
      "0.060187071561813354 116.44641876220703 30\n",
      "0.058090757578611374 104.29965209960938 40\n",
      "0.05601292848587036 108.7671890258789 50\n",
      "0.054401952773332596 103.85787963867188 60\n",
      "0.05305013433098793 100.92911529541016 70\n",
      "0.004703045357018709 9.360411643981934 80\n",
      "0.004671634640544653 8.655961990356445 90\n"
     ],
     "output_type": "stream"
    }
   ],
   "source": [
    "for i in range(5000):\n",
    "    model.zero_grad()\n",
    "    inputs, targets, mask = env.getBatch(BATCH_SIZE)\n",
    "    outputs, _ = model(inputs/0.4)\n",
    "    #print(outputs.shape, targets.shape)\n",
    "    loss = (mse(outputs.squeeze(dim=2)/20, targets) * mask).sum() / mask.sum()\n",
    "    loss.backward()\n",
    "    optimizer.step()\n",
    "    if i%10 == 0:\n",
    "        print(loss.item(), (loss/targets.view(-1).var()).item(), i) #, ((outputs>0.5) != targets).sum()\n",
    "    if i%100 == 0:\n",
    "        model(inputs/0.4, h=None, logger=logger)\n",
    "        print(spikes)\n"
   ],
   "metadata": {
    "collapsed": false,
    "pycharm": {
     "name": "#%%\n",
     "is_executing": true
    }
   }
  },
  {
   "cell_type": "code",
   "execution_count": null,
   "outputs": [],
   "source": [
    "#torch.save(model, '../models/lstm_passive')\n",
    "#0.0002"
   ],
   "metadata": {
    "collapsed": false,
    "pycharm": {
     "name": "#%%\n",
     "is_executing": true
    }
   }
  },
  {
   "cell_type": "code",
   "execution_count": null,
   "outputs": [],
   "source": [
    "#torch.save(model, '../models/rsnn_passive_new1')\n",
    "#0.001"
   ],
   "metadata": {
    "collapsed": false,
    "pycharm": {
     "name": "#%%\n",
     "is_executing": true
    }
   }
  },
  {
   "cell_type": "code",
   "execution_count": null,
   "outputs": [],
   "source": [
    "from matplotlib import pyplot as plt\n",
    "#model = torch.load('../models/snn_passive3')\n",
    "%matplotlib"
   ],
   "metadata": {
    "collapsed": false,
    "pycharm": {
     "name": "#%%\n",
     "is_executing": true
    }
   }
  },
  {
   "cell_type": "code",
   "execution_count": null,
   "outputs": [],
   "source": [],
   "metadata": {
    "collapsed": false,
    "pycharm": {
     "name": "#%%\n",
     "is_executing": true
    }
   }
  },
  {
   "cell_type": "code",
   "execution_count": null,
   "outputs": [],
   "source": [
    "plt.figure()\n"
   ],
   "metadata": {
    "collapsed": false,
    "pycharm": {
     "name": "#%%\n",
     "is_executing": true
    }
   }
  },
  {
   "cell_type": "code",
   "execution_count": null,
   "outputs": [],
   "source": [
    "inputs[:, 0, 0].var().sqrt()"
   ],
   "metadata": {
    "collapsed": false,
    "pycharm": {
     "name": "#%%\n",
     "is_executing": true
    }
   }
  },
  {
   "cell_type": "code",
   "execution_count": null,
   "outputs": [],
   "source": [
    "model(inputs/0.4)[0].squeeze()"
   ],
   "metadata": {
    "collapsed": false,
    "pycharm": {
     "name": "#%%\n",
     "is_executing": true
    }
   }
  },
  {
   "cell_type": "code",
   "execution_count": null,
   "outputs": [],
   "source": [
    "def doplot():\n",
    "    inputs, targets, mask = env.getBatch(1)\n",
    "    outputs, _ = model(inputs/0.4)\n",
    "    plt.close()\n",
    "    plt.plot(inputs[:, 0, 0], targets)\n",
    "    plt.plot(inputs[:, 0, 0], outputs.squeeze().detach()/20)"
   ],
   "metadata": {
    "collapsed": false,
    "pycharm": {
     "name": "#%%\n",
     "is_executing": true
    }
   }
  },
  {
   "cell_type": "code",
   "execution_count": null,
   "outputs": [],
   "source": [
    "doplot()"
   ],
   "metadata": {
    "collapsed": false,
    "pycharm": {
     "name": "#%%\n",
     "is_executing": true
    }
   }
  },
  {
   "cell_type": "code",
   "execution_count": null,
   "outputs": [],
   "source": [
    "\n"
   ],
   "metadata": {
    "collapsed": false,
    "pycharm": {
     "name": "#%%\n",
     "is_executing": true
    }
   }
  }
 ],
 "metadata": {
  "kernelspec": {
   "display_name": "Python 3",
   "language": "python",
   "name": "python3"
  },
  "language_info": {
   "codemirror_mode": {
    "name": "ipython",
    "version": 2
   },
   "file_extension": ".py",
   "mimetype": "text/x-python",
   "name": "python",
   "nbconvert_exporter": "python",
   "pygments_lexer": "ipython2",
   "version": "2.7.6"
  },
  "pycharm": {
   "stem_cell": {
    "cell_type": "raw",
    "source": [],
    "metadata": {
     "collapsed": false
    }
   }
  }
 },
 "nbformat": 4,
 "nbformat_minor": 0
}