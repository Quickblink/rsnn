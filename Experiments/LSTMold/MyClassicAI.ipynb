{
 "cells": [
  {
   "cell_type": "code",
   "execution_count": 1,
   "metadata": {},
   "outputs": [],
   "source": [
    "import gym\n",
    "import numpy as np\n",
    "import matplotlib.pyplot as plt\n",
    "from PIL import Image"
   ]
  },
  {
   "cell_type": "code",
   "execution_count": 12,
   "metadata": {},
   "outputs": [
    {
     "name": "stderr",
     "output_type": "stream",
     "text": [
      "/opt/conda/lib/python3.6/site-packages/gym/logger.py:30: UserWarning: \u001b[33mWARN: Box bound precision lowered by casting to float32\u001b[0m\n",
      "  warnings.warn(colorize('%s: %s'%('WARN', msg % args), 'yellow'))\n"
     ]
    }
   ],
   "source": [
    "env = gym.make('MountainCar-v0')"
   ]
  },
  {
   "cell_type": "code",
   "execution_count": 54,
   "metadata": {},
   "outputs": [],
   "source": [
    "img = Image.new('L',(10,10),color=128)"
   ]
  },
  {
   "cell_type": "code",
   "execution_count": 7,
   "metadata": {},
   "outputs": [],
   "source": [
    "img.putpixel((5,5),255)"
   ]
  },
  {
   "cell_type": "code",
   "execution_count": 55,
   "metadata": {},
   "outputs": [
    {
     "data": {
      "image/png": "[encoded data removed]",
      "text/plain": [
       "<PIL.Image.Image image mode=L size=10x10 at 0x7FDC3982F128>"
      ]
     },
     "execution_count": 55,
     "metadata": {},
     "output_type": "execute_result"
    }
   ],
   "source": [
    "img"
   ]
  },
  {
   "cell_type": "code",
   "execution_count": 27,
   "metadata": {},
   "outputs": [],
   "source": [
    "def probecrash(x,y):\n",
    "    observation = env.reset()\n",
    "    env.env.state = np.array([x, y])\n",
    "    first = 200\n",
    "    for t in range(333):\n",
    "        #env.render()\n",
    "        #print(observation, action)\n",
    "        observation, reward, done, info = env.step(2)\n",
    "        #print(done)\n",
    "        if done:\n",
    "            first = t\n",
    "            break\n",
    "    env.env.state = np.array([x, y])\n",
    "    ac = 0\n",
    "    for t in range(333):\n",
    "        #env.render()\n",
    "        #print(observation, action)\n",
    "        if observation[1] == 0:\n",
    "            ac = 2\n",
    "        observation, reward, done, info = env.step(ac)\n",
    "        #print(done)\n",
    "        if done:\n",
    "            return t <= first            \n",
    "    print(\"Error: left loop\")\n",
    "    \n",
    "def compare(x,y):\n",
    "    if x<y:\n",
    "        return 0#, x, y\n",
    "    if x>y:\n",
    "        return 255\n",
    "    return 128\n",
    "    \n",
    "def probeol(x,y):\n",
    "    observation = env.reset()\n",
    "    env.env.state = np.array([x, y])\n",
    "    first = 200\n",
    "    for t in range(333):\n",
    "        #env.render()\n",
    "        #print(observation, action)\n",
    "        observation, reward, done, info = env.step(2)\n",
    "        #print(done)\n",
    "        if done:\n",
    "            first = t\n",
    "            break\n",
    "    observation = env.reset()\n",
    "    env.env.state = np.array([x, y])\n",
    "    for t in range(333):\n",
    "        #env.render()\n",
    "        #print(observation, action)\n",
    "        observation, reward, done, info = env.step(0 if t==0 else 2)\n",
    "        #print(done)\n",
    "        if done:\n",
    "            return compare(t, first)       \n",
    "    print(\"Error: left loop\")"
   ]
  },
  {
   "cell_type": "code",
   "execution_count": 70,
   "metadata": {},
   "outputs": [],
   "source": [
    "def dopol(obs, pol):\n",
    "    px = int((obs[0]-env.min_position)/(env.max_position - env.min_position) * 1023.9999)\n",
    "    py = int((obs[1]+env.max_speed)/(2*env.max_speed) * 1023.9999)\n",
    "    return 2 if pol.getpixel((px,py)) > 200 else 0"
   ]
  },
  {
   "cell_type": "code",
   "execution_count": 32,
   "metadata": {},
   "outputs": [
    {
     "name": "stdout",
     "output_type": "stream",
     "text": [
      "+\n",
      "+\n",
      "+\n",
      "+\n",
      "+\n",
      "+\n",
      "+\n",
      "+\n",
      "+\n"
     ]
    }
   ],
   "source": [
    "res = 256\n",
    "imgol = Image.new('L',(res,res))\n",
    "\n",
    "\n",
    "stepx = (env.max_position-env.min_position)/res\n",
    "startx = env.min_position + stepx/2\n",
    "\n",
    "stepy = 2*env.max_speed/res\n",
    "starty = -env.max_speed + stepy/2\n",
    "\n",
    "p = 1\n",
    "\n",
    "for i in range(res):\n",
    "    x = startx + i*stepx\n",
    "    if i == ((p*res)//10):\n",
    "        print('+')\n",
    "        p = p+1\n",
    "    for k in range(res):\n",
    "        y = starty + k*stepy\n",
    "        imgol.putpixel((i,k), probeol(x,y))\n"
   ]
  },
  {
   "cell_type": "code",
   "execution_count": 44,
   "metadata": {},
   "outputs": [],
   "source": [
    "mask1 = Image.open('mask1.png').convert('L')"
   ]
  },
  {
   "cell_type": "code",
   "execution_count": 59,
   "metadata": {},
   "outputs": [
    {
     "name": "stdout",
     "output_type": "stream",
     "text": [
      "+\n",
      "+\n",
      "+\n",
      "+\n",
      "+\n",
      "+\n",
      "+\n",
      "+\n",
      "+\n"
     ]
    }
   ],
   "source": [
    "res = 1024\n",
    "imgol2 = Image.new('L',(res,res),color=50)\n",
    "\n",
    "stepx = (env.max_position-env.min_position)/res\n",
    "startx = env.min_position + stepx/2\n",
    "\n",
    "stepy = 2*env.max_speed/res\n",
    "starty = -env.max_speed + stepy/2\n",
    "\n",
    "p = 1\n",
    "\n",
    "for i in range(res):\n",
    "    x = startx + i*stepx\n",
    "    if i == ((p*res)//10):\n",
    "        print('+')\n",
    "        p = p+1\n",
    "    for k in range(res):\n",
    "        y = starty + k*stepy\n",
    "        if mask1.getpixel((i,k)) > 200:\n",
    "            imgol2.putpixel((i,k), probeol(x,y))"
   ]
  },
  {
   "cell_type": "code",
   "execution_count": 61,
   "metadata": {},
   "outputs": [],
   "source": [
    "pol1 = Image.open('policy1.png').convert('L')"
   ]
  },
  {
   "cell_type": "code",
   "execution_count": 87,
   "metadata": {},
   "outputs": [],
   "source": [
    "def probeor(x,y):\n",
    "    env.reset()\n",
    "    observation = np.array([x, y])\n",
    "    env.env.state = np.array([x, y])\n",
    "    first = 200\n",
    "    for t in range(333):\n",
    "        #env.render()\n",
    "        action = dopol(observation, pol1)\n",
    "        #print(observation, action)\n",
    "        observation, reward, done, info = env.step(action)\n",
    "        #print(done)\n",
    "        if done:\n",
    "            first = t\n",
    "            break\n",
    "    env.reset()\n",
    "    observation = np.array([x, y])\n",
    "    env.env.state = np.array([x, y])\n",
    "    for t in range(333):\n",
    "        #env.render()\n",
    "        action = 2 if t==0 else dopol(observation, pol1)\n",
    "        #print(observation, action)\n",
    "        observation, reward, done, info = env.step(action)\n",
    "        #print(done)\n",
    "        if done:\n",
    "            #print(t, first)\n",
    "            return compare(t, first)       \n",
    "    print(\"Error: left loop\")"
   ]
  },
  {
   "cell_type": "code",
   "execution_count": 89,
   "metadata": {},
   "outputs": [
    {
     "name": "stdout",
     "output_type": "stream",
     "text": [
      "+\n",
      "+\n",
      "+\n",
      "+\n",
      "+\n",
      "+\n",
      "+\n",
      "+\n",
      "+\n"
     ]
    }
   ],
   "source": [
    "res = 256\n",
    "imgor = Image.new('L',(res,res))\n",
    "\n",
    "\n",
    "stepx = (env.max_position-env.min_position)/res\n",
    "startx = env.min_position + stepx/2\n",
    "\n",
    "stepy = 2*env.max_speed/res\n",
    "starty = -env.max_speed + stepy/2\n",
    "\n",
    "p = 1\n",
    "\n",
    "for i in range(res):\n",
    "    x = startx + i*stepx\n",
    "    if i == ((p*res)//10):\n",
    "        print('+')\n",
    "        p = p+1\n",
    "    for k in range(res):\n",
    "        y = starty + k*stepy\n",
    "        imgor.putpixel((i,k), probeor(x,y))"
   ]
  },
  {
   "cell_type": "code",
   "execution_count": 91,
   "metadata": {},
   "outputs": [],
   "source": [
    "mask2 = Image.open('mask2.png').convert('L')"
   ]
  },
  {
   "cell_type": "code",
   "execution_count": 94,
   "metadata": {},
   "outputs": [
    {
     "name": "stdout",
     "output_type": "stream",
     "text": [
      "+\n",
      "+\n",
      "+\n",
      "+\n",
      "+\n",
      "+\n",
      "+\n",
      "+\n",
      "+\n"
     ]
    }
   ],
   "source": [
    "res = 1024\n",
    "imgor2 = Image.new('L',(res,res),color=50)\n",
    "\n",
    "stepx = (env.max_position-env.min_position)/res\n",
    "startx = env.min_position + stepx/2\n",
    "\n",
    "stepy = 2*env.max_speed/res\n",
    "starty = -env.max_speed + stepy/2\n",
    "\n",
    "p = 1\n",
    "\n",
    "for i in range(res):\n",
    "    x = startx + i*stepx\n",
    "    if i == ((p*res)//10):\n",
    "        print('+')\n",
    "        p = p+1\n",
    "    for k in range(res):\n",
    "        y = starty + k*stepy\n",
    "        if mask2.getpixel((i,k)) > 200:\n",
    "            imgor2.putpixel((i,k), probeor(x,y))"
   ]
  },
  {
   "cell_type": "code",
   "execution_count": 96,
   "metadata": {},
   "outputs": [],
   "source": [
    "pol2 = Image.open('policy2.png').convert('L')"
   ]
  },
  {
   "cell_type": "code",
   "execution_count": 1,
   "outputs": [],
   "source": [
    "import gym\n",
    "import sys\n",
    "sys.path.append('../../')\n",
    "from Code.envs.MountainCar import LookupPolicy\n",
    "import torch"
   ],
   "metadata": {
    "collapsed": false,
    "pycharm": {
     "name": "#%%\n",
     "is_executing": false
    }
   }
  },
  {
   "cell_type": "code",
   "execution_count": 2,
   "outputs": [
    {
     "name": "stderr",
     "text": [
      "/opt/conda/lib/python3.6/site-packages/gym/logger.py:30: UserWarning: \u001b[33mWARN: Box bound precision lowered by casting to float32\u001b[0m\n",
      "  warnings.warn(colorize('%s: %s'%('WARN', msg % args), 'yellow'))\n"
     ],
     "output_type": "stream"
    }
   ],
   "source": [
    "pred = LookupPolicy()\n",
    "env = gym.make('MountainCar-v0')\n"
   ],
   "metadata": {
    "collapsed": false,
    "pycharm": {
     "name": "#%%\n",
     "is_executing": false
    }
   }
  },
  {
   "cell_type": "code",
   "execution_count": 7,
   "metadata": {
    "pycharm": {
     "is_executing": false
    }
   },
   "outputs": [
    {
     "name": "stdout",
     "text": [
      "103\n",
      "103\n",
      "105\n",
      "102\n",
      "103\n",
      "103\n",
      "100\n",
      "102\n",
      "103\n",
      "88\n",
      "103\n",
      "103\n",
      "84\n",
      "103\n",
      "87\n",
      "94\n",
      "104\n",
      "103\n"
     ],
     "output_type": "stream"
    },
    {
     "traceback": [
      "\u001b[0;31m---------------------------------------------------------------------------\u001b[0m",
      "\u001b[0;31mKeyboardInterrupt\u001b[0m                         Traceback (most recent call last)",
      "\u001b[0;32m<ipython-input-7-5b5243bb88af>\u001b[0m in \u001b[0;36m<module>\u001b[0;34m\u001b[0m\n\u001b[1;32m      5\u001b[0m         \u001b[0;31m#print(obs.shape, a.shape, a)\u001b[0m\u001b[0;34m\u001b[0m\u001b[0;34m\u001b[0m\u001b[0;34m\u001b[0m\u001b[0m\n\u001b[1;32m      6\u001b[0m         \u001b[0mobs\u001b[0m\u001b[0;34m,\u001b[0m \u001b[0m_\u001b[0m\u001b[0;34m,\u001b[0m \u001b[0mt\u001b[0m\u001b[0;34m,\u001b[0m \u001b[0m_\u001b[0m \u001b[0;34m=\u001b[0m \u001b[0menv\u001b[0m\u001b[0;34m.\u001b[0m\u001b[0mstep\u001b[0m\u001b[0;34m(\u001b[0m\u001b[0mint\u001b[0m\u001b[0;34m(\u001b[0m\u001b[0ma\u001b[0m\u001b[0;34m.\u001b[0m\u001b[0mitem\u001b[0m\u001b[0;34m(\u001b[0m\u001b[0;34m)\u001b[0m\u001b[0;34m)\u001b[0m\u001b[0;34m)\u001b[0m\u001b[0;34m\u001b[0m\u001b[0;34m\u001b[0m\u001b[0m\n\u001b[0;32m----> 7\u001b[0;31m         \u001b[0menv\u001b[0m\u001b[0;34m.\u001b[0m\u001b[0mrender\u001b[0m\u001b[0;34m(\u001b[0m\u001b[0;34m)\u001b[0m\u001b[0;34m\u001b[0m\u001b[0;34m\u001b[0m\u001b[0m\n\u001b[0m\u001b[1;32m      8\u001b[0m         \u001b[0;32mif\u001b[0m \u001b[0mt\u001b[0m\u001b[0;34m:\u001b[0m\u001b[0;34m\u001b[0m\u001b[0;34m\u001b[0m\u001b[0m\n\u001b[1;32m      9\u001b[0m             \u001b[0mprint\u001b[0m\u001b[0;34m(\u001b[0m\u001b[0mi\u001b[0m\u001b[0;34m+\u001b[0m\u001b[0;36m1\u001b[0m\u001b[0;34m)\u001b[0m\u001b[0;34m\u001b[0m\u001b[0;34m\u001b[0m\u001b[0m\n",
      "\u001b[0;32m/opt/conda/lib/python3.6/site-packages/gym/core.py\u001b[0m in \u001b[0;36mrender\u001b[0;34m(self, mode, **kwargs)\u001b[0m\n\u001b[1;32m    233\u001b[0m \u001b[0;34m\u001b[0m\u001b[0m\n\u001b[1;32m    234\u001b[0m     \u001b[0;32mdef\u001b[0m \u001b[0mrender\u001b[0m\u001b[0;34m(\u001b[0m\u001b[0mself\u001b[0m\u001b[0;34m,\u001b[0m \u001b[0mmode\u001b[0m\u001b[0;34m=\u001b[0m\u001b[0;34m'human'\u001b[0m\u001b[0;34m,\u001b[0m \u001b[0;34m**\u001b[0m\u001b[0mkwargs\u001b[0m\u001b[0;34m)\u001b[0m\u001b[0;34m:\u001b[0m\u001b[0;34m\u001b[0m\u001b[0;34m\u001b[0m\u001b[0m\n\u001b[0;32m--> 235\u001b[0;31m         \u001b[0;32mreturn\u001b[0m \u001b[0mself\u001b[0m\u001b[0;34m.\u001b[0m\u001b[0menv\u001b[0m\u001b[0;34m.\u001b[0m\u001b[0mrender\u001b[0m\u001b[0;34m(\u001b[0m\u001b[0mmode\u001b[0m\u001b[0;34m,\u001b[0m \u001b[0;34m**\u001b[0m\u001b[0mkwargs\u001b[0m\u001b[0;34m)\u001b[0m\u001b[0;34m\u001b[0m\u001b[0;34m\u001b[0m\u001b[0m\n\u001b[0m\u001b[1;32m    236\u001b[0m \u001b[0;34m\u001b[0m\u001b[0m\n\u001b[1;32m    237\u001b[0m     \u001b[0;32mdef\u001b[0m \u001b[0mclose\u001b[0m\u001b[0;34m(\u001b[0m\u001b[0mself\u001b[0m\u001b[0;34m)\u001b[0m\u001b[0;34m:\u001b[0m\u001b[0;34m\u001b[0m\u001b[0;34m\u001b[0m\u001b[0m\n",
      "\u001b[0;32m/opt/conda/lib/python3.6/site-packages/gym/envs/classic_control/mountain_car.py\u001b[0m in \u001b[0;36mrender\u001b[0;34m(self, mode)\u001b[0m\n\u001b[1;32m    114\u001b[0m \u001b[0;34m\u001b[0m\u001b[0m\n\u001b[1;32m    115\u001b[0m         \u001b[0mpos\u001b[0m \u001b[0;34m=\u001b[0m \u001b[0mself\u001b[0m\u001b[0;34m.\u001b[0m\u001b[0mstate\u001b[0m\u001b[0;34m[\u001b[0m\u001b[0;36m0\u001b[0m\u001b[0;34m]\u001b[0m\u001b[0;34m\u001b[0m\u001b[0;34m\u001b[0m\u001b[0m\n\u001b[0;32m--> 116\u001b[0;31m         \u001b[0mself\u001b[0m\u001b[0;34m.\u001b[0m\u001b[0mcartrans\u001b[0m\u001b[0;34m.\u001b[0m\u001b[0mset_translation\u001b[0m\u001b[0;34m(\u001b[0m\u001b[0;34m(\u001b[0m\u001b[0mpos\u001b[0m\u001b[0;34m-\u001b[0m\u001b[0mself\u001b[0m\u001b[0;34m.\u001b[0m\u001b[0mmin_position\u001b[0m\u001b[0;34m)\u001b[0m\u001b[0;34m*\u001b[0m\u001b[0mscale\u001b[0m\u001b[0;34m,\u001b[0m \u001b[0mself\u001b[0m\u001b[0;34m.\u001b[0m\u001b[0m_height\u001b[0m\u001b[0;34m(\u001b[0m\u001b[0mpos\u001b[0m\u001b[0;34m)\u001b[0m\u001b[0;34m*\u001b[0m\u001b[0mscale\u001b[0m\u001b[0;34m)\u001b[0m\u001b[0;34m\u001b[0m\u001b[0;34m\u001b[0m\u001b[0m\n\u001b[0m\u001b[1;32m    117\u001b[0m         \u001b[0mself\u001b[0m\u001b[0;34m.\u001b[0m\u001b[0mcartrans\u001b[0m\u001b[0;34m.\u001b[0m\u001b[0mset_rotation\u001b[0m\u001b[0;34m(\u001b[0m\u001b[0mmath\u001b[0m\u001b[0;34m.\u001b[0m\u001b[0mcos\u001b[0m\u001b[0;34m(\u001b[0m\u001b[0;36m3\u001b[0m \u001b[0;34m*\u001b[0m \u001b[0mpos\u001b[0m\u001b[0;34m)\u001b[0m\u001b[0;34m)\u001b[0m\u001b[0;34m\u001b[0m\u001b[0;34m\u001b[0m\u001b[0m\n\u001b[1;32m    118\u001b[0m \u001b[0;34m\u001b[0m\u001b[0m\n",
      "\u001b[0;32m/opt/conda/lib/python3.6/site-packages/gym/envs/classic_control/mountain_car.py\u001b[0m in \u001b[0;36m_height\u001b[0;34m(self, xs)\u001b[0m\n\u001b[1;32m     63\u001b[0m \u001b[0;34m\u001b[0m\u001b[0m\n\u001b[1;32m     64\u001b[0m     \u001b[0;32mdef\u001b[0m \u001b[0m_height\u001b[0m\u001b[0;34m(\u001b[0m\u001b[0mself\u001b[0m\u001b[0;34m,\u001b[0m \u001b[0mxs\u001b[0m\u001b[0;34m)\u001b[0m\u001b[0;34m:\u001b[0m\u001b[0;34m\u001b[0m\u001b[0;34m\u001b[0m\u001b[0m\n\u001b[0;32m---> 65\u001b[0;31m         \u001b[0;32mreturn\u001b[0m \u001b[0mnp\u001b[0m\u001b[0;34m.\u001b[0m\u001b[0msin\u001b[0m\u001b[0;34m(\u001b[0m\u001b[0;36m3\u001b[0m \u001b[0;34m*\u001b[0m \u001b[0mxs\u001b[0m\u001b[0;34m)\u001b[0m\u001b[0;34m*\u001b[0m\u001b[0;36m.45\u001b[0m\u001b[0;34m+\u001b[0m\u001b[0;36m.55\u001b[0m\u001b[0;34m\u001b[0m\u001b[0;34m\u001b[0m\u001b[0m\n\u001b[0m\u001b[1;32m     66\u001b[0m \u001b[0;34m\u001b[0m\u001b[0m\n\u001b[1;32m     67\u001b[0m     \u001b[0;32mdef\u001b[0m \u001b[0mrender\u001b[0m\u001b[0;34m(\u001b[0m\u001b[0mself\u001b[0m\u001b[0;34m,\u001b[0m \u001b[0mmode\u001b[0m\u001b[0;34m=\u001b[0m\u001b[0;34m'human'\u001b[0m\u001b[0;34m)\u001b[0m\u001b[0;34m:\u001b[0m\u001b[0;34m\u001b[0m\u001b[0;34m\u001b[0m\u001b[0m\n",
      "\u001b[0;31mKeyboardInterrupt\u001b[0m: "
     ],
     "ename": "KeyboardInterrupt",
     "evalue": "",
     "output_type": "error"
    }
   ],
   "source": [
    "while True:\n",
    "    obs = env.reset()\n",
    "    for i in range(200):\n",
    "        a = pred(torch.tensor(obs).unsqueeze(0).unsqueeze(0))#dopol(obs, pol2) #0 if i < 45 else 2\n",
    "        #print(obs.shape, a.shape, a)\n",
    "        obs, _, t, _ = env.step(int(a.item()))\n",
    "        env.render()\n",
    "        if t:\n",
    "            print(i+1)\n",
    "            break"
   ]
  },
  {
   "cell_type": "code",
   "execution_count": null,
   "metadata": {},
   "outputs": [],
   "source": []
  }
 ],
 "metadata": {
  "kernelspec": {
   "display_name": "Python 3",
   "language": "python",
   "name": "python3"
  },
  "language_info": {
   "codemirror_mode": {
    "name": "ipython",
    "version": 3
   },
   "file_extension": ".py",
   "mimetype": "text/x-python",
   "name": "python",
   "nbconvert_exporter": "python",
   "pygments_lexer": "ipython3",
   "version": "3.6.9"
  },
  "pycharm": {
   "stem_cell": {
    "cell_type": "raw",
    "source": [],
    "metadata": {
     "collapsed": false
    }
   }
  }
 },
 "nbformat": 4,
 "nbformat_minor": 4
}