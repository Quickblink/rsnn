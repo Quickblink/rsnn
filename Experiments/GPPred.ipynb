{
 "cells": [
  {
   "cell_type": "code",
   "execution_count": 1,
   "outputs": [],
   "source": [
    "import sys\n",
    "sys.path.append('../')\n",
    "import torch\n",
    "import torch.nn as nn\n",
    "import torch.optim as optim\n",
    "from Code.envs.GPEnv import PassiveEnv\n",
    "import time\n",
    "from collections import OrderedDict"
   ],
   "metadata": {
    "collapsed": false,
    "pycharm": {
     "name": "#%%\n"
    }
   }
  },
  {
   "cell_type": "code",
   "execution_count": 2,
   "outputs": [],
   "source": [
    "\n",
    "BATCH_SIZE = 511#512\n",
    "SIM_TIME = 1\n",
    "MAX_ITER = 50\n",
    "USE_JIT = True\n",
    "\n",
    "device = torch.device('cuda')\n",
    "\n",
    "env = PassiveEnv(BATCH_SIZE, MAX_ITER, device)\n",
    "\n",
    "#torch.backends.cudnn.enabled = False\n"
   ],
   "metadata": {
    "collapsed": false,
    "pycharm": {
     "name": "#%%\n"
    }
   }
  },
  {
   "cell_type": "code",
   "execution_count": 3,
   "outputs": [],
   "source": [
    "from Code.Networks import Selector, DynNetwork, OuterWrapper, LSTMWrapper, ReLuWrapper, DummyNeuron, make_SequenceWrapper\n",
    "from Code.NewNeurons import SeqOnlySpike, CooldownNeuron\n",
    "\n",
    "base_config = {\n",
    "    'ALPHA': 0,\n",
    "    'BETA': 0,\n",
    "    'OFFSET': 2,\n",
    "    'RESET_ZERO': False,\n",
    "    'DECODING': 'potential',\n",
    "    'SPIKE_FN': 'ss'\n",
    "}\n",
    "\n",
    "heavyside = {\n",
    "    **base_config,\n",
    "    'BETA': 1,\n",
    "}\n",
    "\n",
    "mem_loop = OrderedDict([\n",
    "    ('input', 2),\n",
    "    ('pre_mem', [['input', 'output'], SeqOnlySpike(128, base_config), nn.Linear]),\n",
    "    ('output', [['pre_mem'], CooldownNeuron(128, heavyside), nn.Linear]),\n",
    "])\n",
    "\n",
    "architecture = OrderedDict([\n",
    "    ('input', 3),\n",
    "    ('obs', [['input'], Selector(0, 2), None]),\n",
    "    ('probe', [['input'], Selector(2, 1), None]),\n",
    "    ('mem_loop', [['obs'], make_SequenceWrapper(DynNetwork(mem_loop), USE_JIT), None]),\n",
    "    ('post_mem', [['probe', 'mem_loop'], SeqOnlySpike(128, base_config), nn.Linear]),\n",
    "    ('output', [['post_mem'], DummyNeuron(2), nn.Linear]),\n",
    "])\n",
    "\n",
    "\n",
    "architecturelstm = OrderedDict([\n",
    "    ('input', 3),\n",
    "    ('obs', [['input'], Selector(0, 2), None]),\n",
    "    ('probe', [['input'], Selector(2, 1), None]),\n",
    "    ('lstm', [['obs'], LSTMWrapper(2, 128), None]),\n",
    "    ('post_mem', [['probe', 'lstm'], ReLuWrapper(128), nn.Linear]),\n",
    "    ('output', [['post_mem'], DummyNeuron(2), nn.Linear]),\n",
    "])\n",
    "\n",
    "#TODO: fix output\n"
   ],
   "metadata": {
    "collapsed": false,
    "pycharm": {
     "name": "#%%\n"
    }
   }
  },
  {
   "cell_type": "code",
   "execution_count": 4,
   "outputs": [],
   "source": [
    "#144, 150, 137, 150\n",
    "\n",
    "model = OuterWrapper(DynNetwork(architecture), device, USE_JIT)\n",
    "\n",
    "#model = (OuterWrapper(DynNetwork(architecturelstm), device, True))"
   ],
   "metadata": {
    "collapsed": false,
    "pycharm": {
     "name": "#%%\n"
    }
   }
  },
  {
   "cell_type": "code",
   "execution_count": 5,
   "outputs": [],
   "source": [
    "mse = nn.MSELoss(reduction='mean')\n",
    "optimizer = optim.Adam(model.parameters(), lr=1e-3)#0.000011e-6\n",
    "#optimizer = optim.Adam(model.model.layers['output_linear'].parameters(), lr=1e-4)#0.000011e-6"
   ],
   "metadata": {
    "collapsed": false,
    "pycharm": {
     "name": "#%%\n"
    }
   }
  },
  {
   "cell_type": "code",
   "execution_count": 12,
   "outputs": [
    {
     "name": "stdout",
     "output_type": "stream",
     "text": [
      "0.06238705292344093 0\n",
      "0.06155238673090935 100\n",
      "0.062144119292497635 200\n",
      "0.06209178641438484 300\n",
      "0.0633515864610672 400\n",
      "0.062264688313007355 500\n",
      "0.061702221632003784 600\n",
      "0.059004347771406174 700\n",
      "0.06729067862033844 800\n",
      "0.06163351610302925 900\n",
      "0.0598258338868618 1000\n",
      "0.057840652763843536 1100\n",
      "0.060749683529138565 1200\n",
      "0.057178471237421036 1300\n",
      "0.05777277424931526 1400\n",
      "0.05582823604345322 1500\n",
      "0.057751890271902084 1600\n",
      "0.0569889210164547 1700\n",
      "0.05970709025859833 1800\n",
      "0.056200895458459854 1900\n",
      "0.05615023151040077 2000\n",
      "0.05575781315565109 2100\n",
      "0.05669473484158516 2200\n",
      "0.05375907942652702 2300\n",
      "0.05325467139482498 2400\n",
      "0.05234714224934578 2500\n",
      "0.059537969529628754 2600\n",
      "0.054924216121435165 2700\n",
      "0.05745537579059601 2800\n",
      "0.05450347438454628 2900\n",
      "0.05202874913811684 3000\n",
      "0.05298013240098953 3100\n",
      "0.05402892455458641 3200\n",
      "0.05610252171754837 3300\n",
      "0.05217156559228897 3400\n",
      "0.05297120660543442 3500\n",
      "0.05259671062231064 3600\n",
      "0.054004088044166565 3700\n",
      "0.052552755922079086 3800\n",
      "0.05084218084812164 3900\n",
      "0.050168633460998535 4000\n",
      "0.05347772315144539 4100\n",
      "0.05245674401521683 4200\n",
      "0.04939665272831917 4300\n",
      "0.04887920990586281 4400\n",
      "0.050697967410087585 4500\n",
      "0.05211390554904938 4600\n",
      "0.05154947564005852 4700\n",
      "0.053597841411828995 4800\n",
      "0.052027735859155655 4900\n",
      "Total time:  944.5266199111938\n"
     ]
    }
   ],
   "source": [
    "start = time.time()\n",
    "\n",
    "for i in range(5000):\n",
    "    model.zero_grad()\n",
    "    inputs, targets = env.getBatch()\n",
    "    if i%100 == 0:\n",
    "        for p in model.parameters():\n",
    "            if torch.isnan(p).any():\n",
    "                raise Exception('Corrupted Model')\n",
    "    outputs, _ = model(inputs)\n",
    "    processed = torch.empty_like(outputs)\n",
    "    processed[:, :, 1] = outputs[:, :, 1]\n",
    "    processed[:, :, 0] = torch.sigmoid(outputs[:, :, 0])\n",
    "    loss = mse(processed, targets)\n",
    "    #loss = mse(outputs[..., 1], targets[..., 1])\n",
    "    loss.backward()\n",
    "    optimizer.step()\n",
    "    if i%100 == 0:\n",
    "        print(loss.item(), i)\n",
    "\n",
    "print('Total time: ', time.time()-start)\n",
    "\n",
    "\n"
   ],
   "metadata": {
    "collapsed": false,
    "pycharm": {
     "name": "#%%\n"
    }
   }
  },
  {
   "cell_type": "code",
   "execution_count": 7,
   "outputs": [
    {
     "name": "stdout",
     "output_type": "stream",
     "text": [
      "Using matplotlib backend: TkAgg\n"
     ]
    },
    {
     "data": {
      "text/plain": "<matplotlib.legend.Legend at 0x7f58c8ec9cf8>"
     },
     "execution_count": 7,
     "metadata": {},
     "output_type": "execute_result"
    }
   ],
   "source": [
    "from matplotlib import pyplot as plt\n",
    "#model = torch.load('../models/snn_passive3')\n",
    "%matplotlib\n",
    "\n",
    "\n",
    "inputs, targets = env.getBatch()\n",
    "outputs, _ = model(inputs)\n",
    "plt.scatter(inputs[:, 0, 2].cpu(), targets[:, 0, 1].cpu(), label='Mean_Target')\n",
    "plt.scatter(inputs[:, 0, 2].cpu(), outputs[:, 0, 1].detach().cpu(), label='Mean')\n",
    "plt.scatter(inputs[:, 0, 2].cpu(), targets[:, 0, 0].cpu(), label='Var_Target')\n",
    "plt.scatter(inputs[:, 0, 2].cpu(), torch.sigmoid(outputs[:, 0, 0].cpu()).detach(), label='Var')\n",
    "plt.legend()\n"
   ],
   "metadata": {
    "collapsed": false,
    "pycharm": {
     "name": "#%%\n"
    }
   }
  },
  {
   "cell_type": "code",
   "execution_count": 13,
   "outputs": [],
   "source": [
    "#model.save('../models/rsnn_gppred4')\n",
    "\n",
    "\n"
   ],
   "metadata": {
    "collapsed": false,
    "pycharm": {
     "name": "#%%\n"
    }
   }
  }
 ],
 "metadata": {
  "kernelspec": {
   "display_name": "Python 3",
   "language": "python",
   "name": "python3"
  },
  "language_info": {
   "codemirror_mode": {
    "name": "ipython",
    "version": 2
   },
   "file_extension": ".py",
   "mimetype": "text/x-python",
   "name": "python",
   "nbconvert_exporter": "python",
   "pygments_lexer": "ipython2",
   "version": "2.7.6"
  }
 },
 "nbformat": 4,
 "nbformat_minor": 0
}