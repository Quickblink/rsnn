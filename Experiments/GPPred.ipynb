{
 "cells": [
  {
   "cell_type": "code",
   "execution_count": 1,
   "metadata": {
    "collapsed": true
   },
   "outputs": [],
   "source": [
    "import sys\n",
    "sys.path.append('../')\n",
    "import torch\n",
    "import torch.nn as nn\n",
    "import torch.optim as optim\n",
    "from Code.envs.GPEnv import PassiveEnv\n",
    "import time\n",
    "from collections import OrderedDict"
   ]
  },
  {
   "cell_type": "code",
   "execution_count": 2,
   "outputs": [],
   "source": [
    "\n",
    "BATCH_SIZE = 511#512\n",
    "SIM_TIME = 1\n",
    "MAX_ITER = 50\n",
    "\n",
    "device = torch.device('cuda')\n",
    "\n",
    "env = PassiveEnv(BATCH_SIZE, MAX_ITER, device)\n",
    "\n",
    "#torch.backends.cudnn.enabled = False\n"
   ],
   "metadata": {
    "collapsed": false,
    "pycharm": {
     "name": "#%%\n"
    }
   }
  },
  {
   "cell_type": "code",
   "execution_count": 3,
   "outputs": [],
   "source": [
    "from Code.Networks import Selector, DynNetwork, SequenceWrapper, OuterWrapper, LSTMWrapper, ReLuWrapper, DummyNeuron, SequenceTracer\n",
    "from Code.NewNeurons import SeqOnlySpike, CooldownNeuron, OutputNeuron\n",
    "\n",
    "base_config = {\n",
    "    'ALPHA': 0,\n",
    "    'BETA': 0,\n",
    "    'RESET_ZERO': False,\n",
    "    'DECODING': 'potential',\n",
    "    'SPIKE_FN': 'ss'\n",
    "}\n",
    "\n",
    "heavyside = {\n",
    "    'ALPHA': 0,\n",
    "    'BETA': 1, #0.95\n",
    "    'RESET_ZERO': False,\n",
    "    'SPIKE_FN': 'ss'\n",
    "}\n",
    "\n",
    "mem_loop = OrderedDict([\n",
    "    ('input', 2),\n",
    "    ('pre_mem', [['input', 'output'], SeqOnlySpike(128, base_config), nn.Linear]),\n",
    "    ('output', [['pre_mem'], CooldownNeuron(128, heavyside), nn.Linear]),\n",
    "])\n",
    "\n",
    "architecture = OrderedDict([\n",
    "    ('input', 3),\n",
    "    ('obs', [['input'], Selector(0, 2), None]),\n",
    "    ('probe', [['input'], Selector(2, 1), None]),\n",
    "    ('mem_loop', [['obs'], SequenceTracer(SequenceWrapper(DynNetwork(mem_loop))), None]),\n",
    "    ('post_mem', [['probe', 'mem_loop'], SeqOnlySpike(128, base_config), nn.Linear]),\n",
    "    ('output', [['post_mem'], DummyNeuron(2), nn.Linear]),\n",
    "])\n",
    "\n",
    "architecturelstm = OrderedDict([\n",
    "    ('input', 3),\n",
    "    ('obs', [['input'], Selector(0, 2), None]),\n",
    "    ('probe', [['input'], Selector(2, 1), None]),\n",
    "    ('lstm', [['obs'], LSTMWrapper(2, 128), None]),\n",
    "    ('post_mem', [['probe', 'lstm'], ReLuWrapper(128), nn.Linear]),\n",
    "    ('output', [['post_mem'], DummyNeuron(2), nn.Linear]),\n",
    "])\n",
    "\n",
    "#TODO: fix output\n"
   ],
   "metadata": {
    "collapsed": false,
    "pycharm": {
     "name": "#%%\n"
    }
   }
  },
  {
   "cell_type": "code",
   "execution_count": 4,
   "outputs": [],
   "source": [
    "#144, 150, 137, 150\n",
    "\n",
    "model = OuterWrapper(DynNetwork(architecture), device, BATCH_SIZE, True)\n",
    "\n",
    "#model = (OuterWrapper(DynNetwork(architecturelstm), device, True))"
   ],
   "metadata": {
    "collapsed": false,
    "pycharm": {
     "name": "#%%\n"
    }
   }
  },
  {
   "cell_type": "code",
   "execution_count": 5,
   "outputs": [],
   "source": [
    "mse = nn.MSELoss(reduction='mean')\n",
    "optimizer = optim.Adam(model.parameters(), lr=1e-3)#0.000011e-6\n",
    "#optimizer = optim.Adam(model.model.layers['output_linear'].parameters(), lr=1e-4)#0.000011e-6"
   ],
   "metadata": {
    "collapsed": false,
    "pycharm": {
     "name": "#%%\n"
    }
   }
  },
  {
   "cell_type": "code",
   "execution_count": 6,
   "outputs": [
    {
     "name": "stdout",
     "output_type": "stream",
     "text": [
      "0.45530739426612854 0.8238160610198975 0\n",
      "0.24472668766975403 0.4488821029663086 100\n",
      "0.25527527928352356 0.45863816142082214 200\n",
      "0.25438210368156433 0.458394855260849 300\n",
      "0.26301300525665283 0.4604100286960602 400\n",
      "0.2676936686038971 0.4658801555633545 500\n",
      "0.24671602249145508 0.4420275092124939 600\n",
      "0.2546716034412384 0.4663085639476776 700\n",
      "0.24688367545604706 0.4592960476875305 800\n",
      "0.25606802105903625 0.44151419401168823 900\n",
      "0.2626591920852661 0.45510581135749817 1000\n",
      "0.25889548659324646 0.452882319688797 1100\n",
      "0.24958185851573944 0.4435475468635559 1200\n",
      "0.2506442666053772 0.45471885800361633 1300\n",
      "0.24214377999305725 0.4501224160194397 1400\n",
      "0.25714731216430664 0.4649292230606079 1500\n",
      "0.2522107660770416 0.43640196323394775 1600\n",
      "0.24609218537807465 0.44134917855262756 1700\n",
      "0.25715550780296326 0.45595037937164307 1800\n",
      "0.25728780031204224 0.4579957127571106 1900\n",
      "0.24441227316856384 0.4433169662952423 2000\n",
      "0.25768542289733887 0.459758996963501 2100\n",
      "0.2416718602180481 0.4621039628982544 2200\n",
      "0.24589404463768005 0.444631427526474 2300\n",
      "0.24999327957630157 0.45482340455055237 2400\n",
      "0.25864213705062866 0.47172796726226807 2500\n",
      "0.24641646444797516 0.44946569204330444 2600\n",
      "0.26234006881713867 0.44816654920578003 2700\n",
      "0.2584265470504761 0.4627107083797455 2800\n",
      "0.2664542496204376 0.4479132294654846 2900\n",
      "0.25501808524131775 0.4686901271343231 3000\n",
      "0.25380146503448486 0.44640201330184937 3100\n",
      "0.20821671187877655 0.362857848405838 3200\n",
      "0.18847385048866272 0.3307396471500397 3300\n",
      "0.1828615665435791 0.34435608983039856 3400\n",
      "0.17428690195083618 0.30198463797569275 3500\n",
      "0.1583476960659027 0.2792436480522156 3600\n",
      "0.15649139881134033 0.27729368209838867 3700\n",
      "0.14399822056293488 0.25020575523376465 3800\n",
      "0.13933232426643372 0.2408793419599533 3900\n",
      "0.13197661936283112 0.22781877219676971 4000\n",
      "0.1277289241552353 0.23983754217624664 4100\n",
      "0.13108539581298828 0.22694198787212372 4200\n",
      "0.12427714467048645 0.22009697556495667 4300\n",
      "0.12079375982284546 0.21940650045871735 4400\n",
      "0.11457673460245132 0.20735813677310944 4500\n",
      "0.11211297661066055 0.19916389882564545 4600\n",
      "0.1110902726650238 0.19741903245449066 4700\n",
      "0.10871572047472 0.19823652505874634 4800\n",
      "0.10005994141101837 0.17846226692199707 4900\n",
      "0.10081714391708374 0.18587031960487366 5000\n",
      "0.09718415886163712 0.17531831562519073 5100\n",
      "0.09597882628440857 0.17024299502372742 5200\n",
      "0.09463698416948318 0.16860254108905792 5300\n",
      "0.09495599567890167 0.17462436854839325 5400\n",
      "0.0912524089217186 0.16421879827976227 5500\n",
      "0.08699861168861389 0.15806062519550323 5600\n",
      "0.09115394949913025 0.1600886732339859 5700\n",
      "0.09031359851360321 0.16184718906879425 5800\n",
      "0.08823107928037643 0.15417955815792084 5900\n",
      "0.08673509210348129 0.1510424017906189 6000\n",
      "0.08550268411636353 0.14804776012897491 6100\n",
      "0.08158528059720993 0.14518742263317108 6200\n",
      "0.08270613104104996 0.1476990133523941 6300\n",
      "0.08509484678506851 0.14660055935382843 6400\n",
      "0.08056602627038956 0.1476251184940338 6500\n",
      "0.0835164487361908 0.14646181464195251 6600\n",
      "0.08105858415365219 0.14245030283927917 6700\n",
      "0.07442016154527664 0.13587838411331177 6800\n",
      "0.07847381383180618 0.14162953197956085 6900\n",
      "0.08209284394979477 0.14231960475444794 7000\n",
      "0.07702440023422241 0.13240694999694824 7100\n",
      "0.08076070994138718 0.1404658555984497 7200\n",
      "0.0759875550866127 0.13050873577594757 7300\n",
      "0.07329272478818893 0.12718549370765686 7400\n",
      "0.07447268813848495 0.13296206295490265 7500\n",
      "0.07366931438446045 0.1348925530910492 7600\n",
      "0.07392604649066925 0.1283331960439682 7700\n",
      "0.07462126761674881 0.1367986649274826 7800\n",
      "0.07217923551797867 0.12467525154352188 7900\n",
      "0.0724307969212532 0.13153935968875885 8000\n",
      "0.07027275115251541 0.12643815577030182 8100\n",
      "0.07301647216081619 0.12688006460666656 8200\n",
      "0.06668245047330856 0.12441340833902359 8300\n",
      "0.07431989163160324 0.12947995960712433 8400\n",
      "0.068806491792202 0.12369360774755478 8500\n",
      "0.06882436573505402 0.12016034871339798 8600\n",
      "0.0659673735499382 0.12065935134887695 8700\n",
      "0.06444384157657623 0.11634359508752823 8800\n",
      "0.06672203540802002 0.1167985200881958 8900\n",
      "0.06513316184282303 0.1163778305053711 9000\n",
      "0.06514625996351242 0.11226360499858856 9100\n",
      "0.06332115828990936 0.12055304646492004 9200\n",
      "0.06677007675170898 0.11642582714557648 9300\n",
      "0.06302463263273239 0.11669953912496567 9400\n",
      "0.06557081639766693 0.11559281498193741 9500\n",
      "0.06269266456365585 0.11043008416891098 9600\n",
      "0.06335484236478806 0.11380928009748459 9700\n",
      "0.06386121362447739 0.11354649811983109 9800\n",
      "0.06691434234380722 0.11441553384065628 9900\n",
      "0.06286930292844772 0.10815349221229553 10000\n",
      "0.06061821058392525 0.10837478935718536 10100\n",
      "0.06112582981586456 0.10783343017101288 10200\n",
      "0.06331036984920502 0.11215345561504364 10300\n",
      "0.06060371175408363 0.10698041319847107 10400\n",
      "0.06140764802694321 0.11166303604841232 10500\n",
      "0.058320581912994385 0.10029672831296921 10600\n",
      "0.06102082505822182 0.10874491930007935 10700\n",
      "0.061484817415475845 0.1088889017701149 10800\n",
      "0.05920629948377609 0.10247024148702621 10900\n",
      "0.0566587895154953 0.10360097140073776 11000\n",
      "0.06067412719130516 0.10318801552057266 11100\n",
      "0.058861371129751205 0.10206867754459381 11200\n",
      "0.05878566578030586 0.1075420081615448 11300\n",
      "0.05615914985537529 0.10413298010826111 11400\n",
      "0.057630110532045364 0.10430632531642914 11500\n",
      "0.05580591410398483 0.10164257138967514 11600\n",
      "0.06274431198835373 0.10644160956144333 11700\n",
      "0.05825977027416229 0.10626982897520065 11800\n",
      "0.05697711929678917 0.10253444314002991 11900\n",
      "0.053994789719581604 0.09624016284942627 12000\n",
      "0.05453838035464287 0.09902149438858032 12100\n",
      "0.05751349776983261 0.09973559528589249 12200\n",
      "0.05736326426267624 0.10030502825975418 12300\n",
      "0.05555110052227974 0.09875510632991791 12400\n",
      "0.05025714635848999 0.09420265257358551 12500\n",
      "0.05652542784810066 0.10068896412849426 12600\n",
      "0.05495692417025566 0.09757178276777267 12700\n",
      "0.05500064045190811 0.09754438698291779 12800\n",
      "0.05786660313606262 0.09746646881103516 12900\n",
      "0.05416001006960869 0.09949632734060287 13000\n",
      "0.0534968227148056 0.09209790080785751 13100\n",
      "0.05485249310731888 0.09721587598323822 13200\n",
      "0.05128076300024986 0.09292475879192352 13300\n",
      "0.052497219294309616 0.09467476606369019 13400\n",
      "0.05142252892255783 0.09080065041780472 13500\n",
      "0.05369329825043678 0.0967528447508812 13600\n",
      "0.05397951230406761 0.09791766107082367 13700\n",
      "0.056046996265649796 0.09746785461902618 13800\n",
      "0.05205297842621803 0.09275849163532257 13900\n",
      "0.05399153381586075 0.09360674768686295 14000\n",
      "0.05072513222694397 0.09192132949829102 14100\n",
      "0.05122967064380646 0.0953298881649971 14200\n",
      "0.05181568115949631 0.09085413068532944 14300\n",
      "0.051533520221710205 0.09118907898664474 14400\n",
      "0.05723541975021362 0.09677959233522415 14500\n",
      "0.04832214489579201 0.08955681324005127 14600\n",
      "0.055099643766880035 0.09704636037349701 14700\n",
      "0.05035974457859993 0.09277965128421783 14800\n",
      "0.04930439963936806 0.0884801372885704 14900\n",
      "0.051243484020233154 0.09047947078943253 15000\n",
      "0.050582874566316605 0.09002430737018585 15100\n",
      "0.053366854786872864 0.09241635352373123 15200\n",
      "0.05132970213890076 0.09193762391805649 15300\n",
      "0.04945326969027519 0.08919031918048859 15400\n",
      "0.04987280070781708 0.09161747992038727 15500\n",
      "0.05088477581739426 0.08788200467824936 15600\n",
      "0.050831038504838943 0.09090932458639145 15700\n",
      "0.050903622061014175 0.09105126559734344 15800\n",
      "0.05043580383062363 0.09225434809923172 15900\n",
      "0.049305353313684464 0.08871018886566162 16000\n",
      "0.05058005824685097 0.09132040292024612 16100\n",
      "0.04914906248450279 0.0880415290594101 16200\n",
      "0.05061513930559158 0.08566097170114517 16300\n",
      "0.04745205119252205 0.08654624968767166 16400\n",
      "0.049773961305618286 0.09039763361215591 16500\n",
      "0.05002853274345398 0.08790847659111023 16600\n",
      "0.05003602057695389 0.08551079779863358 16700\n",
      "0.04801837354898453 0.08596982061862946 16800\n",
      "0.05064576491713524 0.0896967425942421 16900\n",
      "0.048482391983270645 0.08491168916225433 17000\n",
      "0.04928271472454071 0.09126511216163635 17100\n",
      "0.05049587041139603 0.09228475391864777 17200\n",
      "0.051302965730428696 0.09108200669288635 17300\n",
      "0.05037330836057663 0.08801652491092682 17400\n",
      "0.05078616365790367 0.08799920231103897 17500\n",
      "0.04752882570028305 0.08784171938896179 17600\n",
      "0.04737892001867294 0.08172426372766495 17700\n",
      "0.047051817178726196 0.08746799826622009 17800\n",
      "0.04612385109066963 0.08203546702861786 17900\n",
      "0.045641910284757614 0.08175332844257355 18000\n",
      "0.04775397479534149 0.08570664376020432 18100\n",
      "0.04580381140112877 0.08097671717405319 18200\n",
      "0.04936325550079346 0.08593946695327759 18300\n",
      "0.04836975783109665 0.08977409452199936 18400\n",
      "0.046327367424964905 0.08271793276071548 18500\n",
      "0.04680486023426056 0.08228762447834015 18600\n",
      "0.046053435653448105 0.08293747156858444 18700\n",
      "0.04870222508907318 0.08659727871417999 18800\n",
      "0.04872959852218628 0.0853138118982315 18900\n",
      "0.047725461423397064 0.08668225258588791 19000\n",
      "0.0464240238070488 0.0825904905796051 19100\n",
      "0.04635442793369293 0.08094567060470581 19200\n",
      "0.04885229095816612 0.08826588839292526 19300\n",
      "0.04495833441615105 0.07892890274524689 19400\n",
      "0.04604823887348175 0.08156329393386841 19500\n",
      "0.045167870819568634 0.08225205540657043 19600\n",
      "0.04593369737267494 0.0828900933265686 19700\n",
      "0.046530500054359436 0.08270612359046936 19800\n",
      "0.04540963098406792 0.08103886246681213 19900\n",
      "0.04382532089948654 0.07911060005426407 20000\n",
      "0.046153292059898376 0.08027655631303787 20100\n",
      "0.04503343626856804 0.08139064908027649 20200\n",
      "0.04404693841934204 0.07717348635196686 20300\n",
      "0.043704498559236526 0.08091287314891815 20400\n",
      "0.04670064151287079 0.08035293966531754 20500\n",
      "0.045354120433330536 0.07732964307069778 20600\n",
      "0.046785905957221985 0.08333171159029007 20700\n",
      "0.04510306566953659 0.07526781409978867 20800\n",
      "0.042794860899448395 0.07656802982091904 20900\n",
      "0.04395334795117378 0.07675878703594208 21000\n",
      "0.04449654743075371 0.07936503738164902 21100\n",
      "0.042770907282829285 0.0780964344739914 21200\n",
      "0.04247564449906349 0.07699041813611984 21300\n",
      "0.044177692383527756 0.07967488467693329 21400\n",
      "0.04245108366012573 0.07621186226606369 21500\n",
      "0.04179723933339119 0.07620210945606232 21600\n",
      "0.04307820647954941 0.07486565411090851 21700\n",
      "0.0429171621799469 0.07759146392345428 21800\n",
      "0.043810080736875534 0.07615303248167038 21900\n",
      "0.04381836578249931 0.07849548757076263 22000\n",
      "0.046084873378276825 0.0794830396771431 22100\n",
      "0.04290281981229782 0.07576121389865875 22200\n",
      "0.04369647055864334 0.076386958360672 22300\n",
      "0.04211188480257988 0.07621147483587265 22400\n",
      "0.0450669564306736 0.07859083265066147 22500\n",
      "0.042119819670915604 0.0762048289179802 22600\n",
      "0.042757049202919006 0.0783790871500969 22700\n",
      "0.04310532659292221 0.0750604048371315 22800\n",
      "0.043759021908044815 0.07612214237451553 22900\n",
      "0.04280652850866318 0.07621575891971588 23000\n",
      "0.04446881636977196 0.07604961097240448 23100\n",
      "0.04395563155412674 0.07845126837491989 23200\n",
      "0.04238175228238106 0.07420849800109863 23300\n",
      "0.041871704161167145 0.07618767023086548 23400\n",
      "0.042305223643779755 0.07673019170761108 23500\n",
      "0.04263317584991455 0.07402880489826202 23600\n",
      "0.045109912753105164 0.07755281031131744 23700\n",
      "0.04262878745794296 0.07437046617269516 23800\n"
     ]
    },
    {
     "ename": "KeyboardInterrupt",
     "evalue": "",
     "output_type": "error",
     "traceback": [
      "\u001B[0;31m---------------------------------------------------------------------------\u001B[0m",
      "\u001B[0;31mKeyboardInterrupt\u001B[0m                         Traceback (most recent call last)",
      "\u001B[0;32m<ipython-input-6-4be8021fb03d>\u001B[0m in \u001B[0;36m<module>\u001B[0;34m\u001B[0m\n\u001B[1;32m      3\u001B[0m \u001B[0;32mfor\u001B[0m \u001B[0mi\u001B[0m \u001B[0;32min\u001B[0m \u001B[0mrange\u001B[0m\u001B[0;34m(\u001B[0m\u001B[0;36m30000\u001B[0m\u001B[0;34m)\u001B[0m\u001B[0;34m:\u001B[0m\u001B[0;34m\u001B[0m\u001B[0;34m\u001B[0m\u001B[0m\n\u001B[1;32m      4\u001B[0m     \u001B[0mmodel\u001B[0m\u001B[0;34m.\u001B[0m\u001B[0mzero_grad\u001B[0m\u001B[0;34m(\u001B[0m\u001B[0;34m)\u001B[0m\u001B[0;34m\u001B[0m\u001B[0;34m\u001B[0m\u001B[0m\n\u001B[0;32m----> 5\u001B[0;31m     \u001B[0minputs\u001B[0m\u001B[0;34m,\u001B[0m \u001B[0mtargets\u001B[0m \u001B[0;34m=\u001B[0m \u001B[0menv\u001B[0m\u001B[0;34m.\u001B[0m\u001B[0mgetBatch\u001B[0m\u001B[0;34m(\u001B[0m\u001B[0;34m)\u001B[0m\u001B[0;34m\u001B[0m\u001B[0;34m\u001B[0m\u001B[0m\n\u001B[0m\u001B[1;32m      6\u001B[0m     \u001B[0;32mif\u001B[0m \u001B[0mi\u001B[0m\u001B[0;34m%\u001B[0m\u001B[0;36m100\u001B[0m \u001B[0;34m==\u001B[0m \u001B[0;36m0\u001B[0m\u001B[0;34m:\u001B[0m\u001B[0;34m\u001B[0m\u001B[0;34m\u001B[0m\u001B[0m\n\u001B[1;32m      7\u001B[0m         \u001B[0;32mfor\u001B[0m \u001B[0mp\u001B[0m \u001B[0;32min\u001B[0m \u001B[0mmodel\u001B[0m\u001B[0;34m.\u001B[0m\u001B[0mparameters\u001B[0m\u001B[0;34m(\u001B[0m\u001B[0;34m)\u001B[0m\u001B[0;34m:\u001B[0m\u001B[0;34m\u001B[0m\u001B[0;34m\u001B[0m\u001B[0m\n",
      "\u001B[0;32m~/Code/envs/GPEnv.py\u001B[0m in \u001B[0;36mgetBatch\u001B[0;34m(self)\u001B[0m\n\u001B[1;32m     25\u001B[0m         \u001B[0mdata\u001B[0m\u001B[0;34m[\u001B[0m\u001B[0;34m:\u001B[0m\u001B[0;34m,\u001B[0m \u001B[0;34m:\u001B[0m\u001B[0;34m,\u001B[0m \u001B[0;36m2\u001B[0m\u001B[0;34m]\u001B[0m \u001B[0;34m=\u001B[0m \u001B[0mx\u001B[0m\u001B[0;34m\u001B[0m\u001B[0;34m\u001B[0m\u001B[0m\n\u001B[1;32m     26\u001B[0m         \u001B[0;32mfor\u001B[0m \u001B[0mi\u001B[0m \u001B[0;32min\u001B[0m \u001B[0mrange\u001B[0m\u001B[0;34m(\u001B[0m\u001B[0mself\u001B[0m\u001B[0;34m.\u001B[0m\u001B[0mnum_iter\u001B[0m\u001B[0;34m-\u001B[0m\u001B[0;36m1\u001B[0m\u001B[0;34m)\u001B[0m\u001B[0;34m:\u001B[0m\u001B[0;34m\u001B[0m\u001B[0;34m\u001B[0m\u001B[0m\n\u001B[0;32m---> 27\u001B[0;31m             \u001B[0mdata\u001B[0m\u001B[0;34m[\u001B[0m\u001B[0mi\u001B[0m\u001B[0;34m+\u001B[0m\u001B[0;36m1\u001B[0m\u001B[0;34m,\u001B[0m \u001B[0;34m:\u001B[0m\u001B[0;34m,\u001B[0m \u001B[0;34m:\u001B[0m\u001B[0;36m2\u001B[0m\u001B[0;34m]\u001B[0m\u001B[0;34m,\u001B[0m \u001B[0m_\u001B[0m\u001B[0;34m,\u001B[0m \u001B[0mtargets\u001B[0m\u001B[0;34m[\u001B[0m\u001B[0mi\u001B[0m\u001B[0;34m]\u001B[0m \u001B[0;34m=\u001B[0m \u001B[0mself\u001B[0m\u001B[0;34m.\u001B[0m\u001B[0menv\u001B[0m\u001B[0;34m.\u001B[0m\u001B[0mstep\u001B[0m\u001B[0;34m(\u001B[0m\u001B[0mx\u001B[0m\u001B[0;34m[\u001B[0m\u001B[0mi\u001B[0m\u001B[0;34m]\u001B[0m\u001B[0;34m)\u001B[0m\u001B[0;34m\u001B[0m\u001B[0;34m\u001B[0m\u001B[0m\n\u001B[0m\u001B[1;32m     28\u001B[0m         \u001B[0mtargets\u001B[0m\u001B[0;34m[\u001B[0m\u001B[0;34m-\u001B[0m\u001B[0;36m1\u001B[0m\u001B[0;34m]\u001B[0m \u001B[0;34m=\u001B[0m \u001B[0mself\u001B[0m\u001B[0;34m.\u001B[0m\u001B[0menv\u001B[0m\u001B[0;34m.\u001B[0m\u001B[0mstep\u001B[0m\u001B[0;34m(\u001B[0m\u001B[0mx\u001B[0m\u001B[0;34m[\u001B[0m\u001B[0;34m-\u001B[0m\u001B[0;36m1\u001B[0m\u001B[0;34m]\u001B[0m\u001B[0;34m)\u001B[0m\u001B[0;34m[\u001B[0m\u001B[0;36m2\u001B[0m\u001B[0;34m]\u001B[0m\u001B[0;34m\u001B[0m\u001B[0;34m\u001B[0m\u001B[0m\n\u001B[1;32m     29\u001B[0m         \u001B[0;32mreturn\u001B[0m \u001B[0mdata\u001B[0m\u001B[0;34m,\u001B[0m \u001B[0mtargets\u001B[0m\u001B[0;34m\u001B[0m\u001B[0;34m\u001B[0m\u001B[0m\n",
      "\u001B[0;32m~/Code/envs/GPEnv.py\u001B[0m in \u001B[0;36mstep\u001B[0;34m(self, actions, shadow)\u001B[0m\n\u001B[1;32m     55\u001B[0m         \u001B[0my\u001B[0m \u001B[0;34m=\u001B[0m \u001B[0mself\u001B[0m\u001B[0;34m.\u001B[0m\u001B[0mdata\u001B[0m\u001B[0;34m[\u001B[0m\u001B[0;34m:\u001B[0m\u001B[0;34m,\u001B[0m \u001B[0;36m1\u001B[0m\u001B[0;34m,\u001B[0m \u001B[0;34m:\u001B[0m\u001B[0mself\u001B[0m\u001B[0;34m.\u001B[0m\u001B[0mnstep\u001B[0m\u001B[0;34m]\u001B[0m\u001B[0;34m\u001B[0m\u001B[0;34m\u001B[0m\u001B[0m\n\u001B[1;32m     56\u001B[0m         \u001B[0mK\u001B[0m \u001B[0;34m=\u001B[0m \u001B[0mtorch\u001B[0m\u001B[0;34m.\u001B[0m\u001B[0mexp\u001B[0m\u001B[0;34m(\u001B[0m\u001B[0;34m-\u001B[0m\u001B[0;36m1\u001B[0m \u001B[0;34m/\u001B[0m \u001B[0;36m2\u001B[0m \u001B[0;34m*\u001B[0m \u001B[0;34m(\u001B[0m\u001B[0;34m(\u001B[0m\u001B[0mx\u001B[0m\u001B[0;34m.\u001B[0m\u001B[0mview\u001B[0m\u001B[0;34m(\u001B[0m\u001B[0mself\u001B[0m\u001B[0;34m.\u001B[0m\u001B[0mbatch_size\u001B[0m\u001B[0;34m,\u001B[0m \u001B[0mself\u001B[0m\u001B[0;34m.\u001B[0m\u001B[0mnstep\u001B[0m\u001B[0;34m,\u001B[0m \u001B[0;36m1\u001B[0m\u001B[0;34m)\u001B[0m \u001B[0;34m-\u001B[0m \u001B[0mx\u001B[0m\u001B[0;34m.\u001B[0m\u001B[0mview\u001B[0m\u001B[0;34m(\u001B[0m\u001B[0mself\u001B[0m\u001B[0;34m.\u001B[0m\u001B[0mbatch_size\u001B[0m\u001B[0;34m,\u001B[0m \u001B[0;36m1\u001B[0m\u001B[0;34m,\u001B[0m \u001B[0mself\u001B[0m\u001B[0;34m.\u001B[0m\u001B[0mnstep\u001B[0m\u001B[0;34m)\u001B[0m\u001B[0;34m)\u001B[0m \u001B[0;34m/\u001B[0m \u001B[0;36m0.1\u001B[0m\u001B[0;34m)\u001B[0m \u001B[0;34m**\u001B[0m \u001B[0;36m2\u001B[0m\u001B[0;34m)\u001B[0m \u001B[0;34m+\u001B[0m \u001B[0mtorch\u001B[0m\u001B[0;34m.\u001B[0m\u001B[0meye\u001B[0m\u001B[0;34m(\u001B[0m\u001B[0mself\u001B[0m\u001B[0;34m.\u001B[0m\u001B[0mnstep\u001B[0m\u001B[0;34m,\u001B[0m \u001B[0mdtype\u001B[0m\u001B[0;34m=\u001B[0m\u001B[0mtorch\u001B[0m\u001B[0;34m.\u001B[0m\u001B[0mfloat\u001B[0m\u001B[0;34m,\u001B[0m \u001B[0mdevice\u001B[0m\u001B[0;34m=\u001B[0m\u001B[0mself\u001B[0m\u001B[0;34m.\u001B[0m\u001B[0mdevice\u001B[0m\u001B[0;34m)\u001B[0m \u001B[0;34m*\u001B[0m \u001B[0;36m1e-5\u001B[0m\u001B[0;34m\u001B[0m\u001B[0;34m\u001B[0m\u001B[0m\n\u001B[0;32m---> 57\u001B[0;31m         \u001B[0mu\u001B[0m \u001B[0;34m=\u001B[0m \u001B[0mtorch\u001B[0m\u001B[0;34m.\u001B[0m\u001B[0mcholesky\u001B[0m\u001B[0;34m(\u001B[0m\u001B[0mK\u001B[0m\u001B[0;34m)\u001B[0m\u001B[0;34m\u001B[0m\u001B[0;34m\u001B[0m\u001B[0m\n\u001B[0m\u001B[1;32m     58\u001B[0m         \u001B[0mk\u001B[0m \u001B[0;34m=\u001B[0m \u001B[0mtorch\u001B[0m\u001B[0;34m.\u001B[0m\u001B[0mexp\u001B[0m\u001B[0;34m(\u001B[0m\u001B[0;34m-\u001B[0m\u001B[0;36m1\u001B[0m \u001B[0;34m/\u001B[0m \u001B[0;36m2\u001B[0m \u001B[0;34m*\u001B[0m \u001B[0;34m(\u001B[0m\u001B[0;34m(\u001B[0m\u001B[0mx\u001B[0m\u001B[0;34m.\u001B[0m\u001B[0mview\u001B[0m\u001B[0;34m(\u001B[0m\u001B[0mself\u001B[0m\u001B[0;34m.\u001B[0m\u001B[0mbatch_size\u001B[0m\u001B[0;34m,\u001B[0m \u001B[0mself\u001B[0m\u001B[0;34m.\u001B[0m\u001B[0mnstep\u001B[0m\u001B[0;34m)\u001B[0m \u001B[0;34m-\u001B[0m \u001B[0mactions\u001B[0m\u001B[0;34m.\u001B[0m\u001B[0mview\u001B[0m\u001B[0;34m(\u001B[0m\u001B[0mself\u001B[0m\u001B[0;34m.\u001B[0m\u001B[0mbatch_size\u001B[0m\u001B[0;34m,\u001B[0m\u001B[0;36m1\u001B[0m\u001B[0;34m)\u001B[0m\u001B[0;34m)\u001B[0m \u001B[0;34m/\u001B[0m \u001B[0;36m0.1\u001B[0m\u001B[0;34m)\u001B[0m \u001B[0;34m**\u001B[0m \u001B[0;36m2\u001B[0m\u001B[0;34m)\u001B[0m\u001B[0;34m\u001B[0m\u001B[0;34m\u001B[0m\u001B[0m\n\u001B[1;32m     59\u001B[0m         \u001B[0msol\u001B[0m \u001B[0;34m=\u001B[0m \u001B[0mtorch\u001B[0m\u001B[0;34m.\u001B[0m\u001B[0mcholesky_solve\u001B[0m\u001B[0;34m(\u001B[0m\u001B[0mtorch\u001B[0m\u001B[0;34m.\u001B[0m\u001B[0mcat\u001B[0m\u001B[0;34m(\u001B[0m\u001B[0;34m(\u001B[0m\u001B[0mk\u001B[0m\u001B[0;34m.\u001B[0m\u001B[0mview\u001B[0m\u001B[0;34m(\u001B[0m\u001B[0mself\u001B[0m\u001B[0;34m.\u001B[0m\u001B[0mbatch_size\u001B[0m\u001B[0;34m,\u001B[0m \u001B[0mself\u001B[0m\u001B[0;34m.\u001B[0m\u001B[0mnstep\u001B[0m\u001B[0;34m,\u001B[0m \u001B[0;36m1\u001B[0m\u001B[0;34m)\u001B[0m\u001B[0;34m,\u001B[0m \u001B[0my\u001B[0m\u001B[0;34m.\u001B[0m\u001B[0mview\u001B[0m\u001B[0;34m(\u001B[0m\u001B[0mself\u001B[0m\u001B[0;34m.\u001B[0m\u001B[0mbatch_size\u001B[0m\u001B[0;34m,\u001B[0m \u001B[0mself\u001B[0m\u001B[0;34m.\u001B[0m\u001B[0mnstep\u001B[0m\u001B[0;34m,\u001B[0m \u001B[0;36m1\u001B[0m\u001B[0;34m)\u001B[0m\u001B[0;34m)\u001B[0m\u001B[0;34m,\u001B[0m \u001B[0mdim\u001B[0m\u001B[0;34m=\u001B[0m\u001B[0;36m2\u001B[0m\u001B[0;34m)\u001B[0m\u001B[0;34m,\u001B[0m \u001B[0mu\u001B[0m\u001B[0;34m)\u001B[0m\u001B[0;34m\u001B[0m\u001B[0;34m\u001B[0m\u001B[0m\n",
      "\u001B[0;31mKeyboardInterrupt\u001B[0m: "
     ]
    }
   ],
   "source": [
    "start = time.time()\n",
    "\n",
    "for i in range(30000):\n",
    "    model.zero_grad()\n",
    "    inputs, targets = env.getBatch()\n",
    "    if i%100 == 0:\n",
    "        for p in model.parameters():\n",
    "            if torch.isnan(p).any():\n",
    "                raise Exception('Corrupted Model')\n",
    "    outputs, _ = model(inputs)\n",
    "    processed = torch.empty_like(outputs)\n",
    "    processed[:, :, 1] = outputs[:, :, 1]\n",
    "    processed[:, :, 0] = torch.sigmoid(outputs[:, :, 0])\n",
    "    loss = mse(processed, targets)\n",
    "    #loss = mse(outputs[..., 1], targets[..., 1])\n",
    "    loss.backward()\n",
    "    optimizer.step()\n",
    "    if i%100 == 0:\n",
    "        print(loss.item(), (loss/targets.view(-1).var()).item(), i)\n",
    "\n",
    "print('Total time: ', time.time()-start)\n",
    "\n",
    "\n"
   ],
   "metadata": {
    "collapsed": false,
    "pycharm": {
     "name": "#%%\n"
    }
   }
  },
  {
   "cell_type": "code",
   "execution_count": 7,
   "outputs": [
    {
     "name": "stdout",
     "output_type": "stream",
     "text": [
      "Using matplotlib backend: TkAgg\n"
     ]
    },
    {
     "data": {
      "text/plain": "<matplotlib.legend.Legend at 0x7fad51adaf98>"
     },
     "execution_count": 7,
     "metadata": {},
     "output_type": "execute_result"
    }
   ],
   "source": [
    "from matplotlib import pyplot as plt\n",
    "#model = torch.load('../models/snn_passive3')\n",
    "%matplotlib\n",
    "\n",
    "\n",
    "inputs, targets = env.getBatch()\n",
    "outputs, _ = model(inputs)\n",
    "plt.scatter(inputs[:, 0, 2].cpu(), targets[:, 0, 1].cpu(), label='Mean_Target')\n",
    "plt.scatter(inputs[:, 0, 2].cpu(), outputs[:, 0, 1].detach().cpu(), label='Mean')\n",
    "plt.scatter(inputs[:, 0, 2].cpu(), targets[:, 0, 0].cpu(), label='Var_Target')\n",
    "plt.scatter(inputs[:, 0, 2].cpu(), torch.sigmoid(outputs[:, 0, 0].cpu()).detach(), label='Var')\n",
    "plt.legend()\n"
   ],
   "metadata": {
    "collapsed": false,
    "pycharm": {
     "name": "#%%\n"
    }
   }
  },
  {
   "cell_type": "code",
   "execution_count": 8,
   "outputs": [],
   "source": [
    "#model.save('../models/rsnn_gppred3')"
   ],
   "metadata": {
    "collapsed": false,
    "pycharm": {
     "name": "#%%\n"
    }
   }
  },
  {
   "cell_type": "code",
   "execution_count": null,
   "outputs": [],
   "source": [
    "#model = (OuterWrapper(torch.load('../models/jittest'), device, True))\n",
    "\n"
   ],
   "metadata": {
    "collapsed": false,
    "pycharm": {
     "name": "#%%\n"
    }
   }
  },
  {
   "cell_type": "code",
   "execution_count": null,
   "outputs": [],
   "source": [
    "\n",
    "229.6/286.2"
   ],
   "metadata": {
    "collapsed": false,
    "pycharm": {
     "name": "#%%\n"
    }
   }
  },
  {
   "cell_type": "code",
   "execution_count": null,
   "outputs": [],
   "source": [
    "inputs.shape"
   ],
   "metadata": {
    "collapsed": false,
    "pycharm": {
     "name": "#%%\n"
    }
   }
  },
  {
   "cell_type": "code",
   "execution_count": null,
   "outputs": [],
   "source": [
    "model.model"
   ],
   "metadata": {
    "collapsed": false,
    "pycharm": {
     "name": "#%%\n"
    }
   }
  },
  {
   "cell_type": "code",
   "execution_count": null,
   "outputs": [],
   "source": [
    "sqw = SequenceWrapper(DynNetwork(mem_loop))\n",
    "sqw.model = model.model.layers.mem_loop.model\n",
    "scripted_sqw = torch.jit.script(sqw)"
   ],
   "metadata": {
    "collapsed": false,
    "pycharm": {
     "name": "#%%\n"
    }
   }
  },
  {
   "cell_type": "code",
   "execution_count": null,
   "outputs": [],
   "source": [
    "type(((3,)))"
   ],
   "metadata": {
    "collapsed": false,
    "pycharm": {
     "name": "#%%\n"
    }
   }
  },
  {
   "cell_type": "code",
   "execution_count": null,
   "outputs": [],
   "source": [
    "import torch.jit\n",
    "\n",
    "import typing"
   ],
   "metadata": {
    "collapsed": false,
    "pycharm": {
     "name": "#%%\n"
    }
   }
  },
  {
   "cell_type": "code",
   "execution_count": null,
   "outputs": [],
   "source": [
    "typing"
   ],
   "metadata": {
    "collapsed": false,
    "pycharm": {
     "name": "#%%\n"
    }
   }
  },
  {
   "cell_type": "code",
   "execution_count": null,
   "outputs": [],
   "source": [
    "type((2,3))"
   ],
   "metadata": {
    "collapsed": false,
    "pycharm": {
     "name": "#%%\n"
    }
   }
  },
  {
   "cell_type": "code",
   "execution_count": null,
   "outputs": [],
   "source": [
    "dir(typing)"
   ],
   "metadata": {
    "collapsed": false,
    "pycharm": {
     "name": "#%%\n"
    }
   }
  },
  {
   "cell_type": "code",
   "execution_count": null,
   "outputs": [],
   "source": [
    "typing.get_origin(int)"
   ],
   "metadata": {
    "collapsed": false,
    "pycharm": {
     "name": "#%%\n"
    }
   }
  },
  {
   "cell_type": "code",
   "execution_count": null,
   "outputs": [],
   "source": [
    "typing.get_type_hints(np.zeros_like)"
   ],
   "metadata": {
    "collapsed": false,
    "pycharm": {
     "name": "#%%\n"
    }
   }
  },
  {
   "cell_type": "code",
   "execution_count": null,
   "outputs": [],
   "source": [
    "import numpy as np"
   ],
   "metadata": {
    "collapsed": false,
    "pycharm": {
     "name": "#%%\n"
    }
   }
  },
  {
   "cell_type": "code",
   "execution_count": null,
   "outputs": [],
   "source": [
    "def test(a:int):\n",
    "    pass"
   ],
   "metadata": {
    "collapsed": false,
    "pycharm": {
     "name": "#%%\n"
    }
   }
  },
  {
   "cell_type": "code",
   "execution_count": null,
   "outputs": [],
   "source": [
    "test.__annotations__"
   ],
   "metadata": {
    "collapsed": false,
    "pycharm": {
     "name": "#%%\n"
    }
   }
  },
  {
   "cell_type": "code",
   "execution_count": null,
   "outputs": [],
   "source": [
    "import typing_inspect"
   ],
   "metadata": {
    "collapsed": false,
    "pycharm": {
     "name": "#%%\n"
    }
   }
  },
  {
   "cell_type": "code",
   "execution_count": null,
   "outputs": [],
   "source": [
    "typing_inspect.get_generic_type((2,(4,5)))\n",
    "typing_inspect."
   ],
   "metadata": {
    "collapsed": false,
    "pycharm": {
     "name": "#%%\n"
    }
   }
  },
  {
   "cell_type": "code",
   "execution_count": null,
   "outputs": [],
   "source": [
    "from typing import Tuple, TupleMeta\n",
    "def getType(obj):\n",
    "    if type(obj) is tuple:\n",
    "        return TupleMeta.__getitem__(Tuple, tuple(getType(x) for x in obj))\n",
    "    return type(obj)"
   ],
   "metadata": {
    "collapsed": false,
    "pycharm": {
     "name": "#%%\n"
    }
   }
  },
  {
   "cell_type": "code",
   "execution_count": null,
   "outputs": [],
   "source": [
    "def getTypeName(obj):\n",
    "    if type(obj) is tuple:\n",
    "        return 'Tuple['+', '.join([getTypeName(x) for x in obj])+']'\n",
    "    return 'Tensor'"
   ],
   "metadata": {
    "collapsed": false,
    "pycharm": {
     "name": "#%%\n"
    }
   }
  },
  {
   "cell_type": "code",
   "execution_count": null,
   "outputs": [],
   "source": [
    "getTypeName((1,(2,torch.Tensor([3]))))"
   ],
   "metadata": {
    "collapsed": false,
    "pycharm": {
     "name": "#%%\n"
    }
   }
  },
  {
   "cell_type": "code",
   "execution_count": null,
   "outputs": [],
   "source": [
    "'# type: (torch.Tensor, '+typing.TupleMeta.__repr__()+') -> Tensor'"
   ],
   "metadata": {
    "collapsed": false,
    "pycharm": {
     "name": "#%%\n"
    }
   }
  },
  {
   "cell_type": "code",
   "execution_count": null,
   "outputs": [],
   "source": [
    "TupleMeta.__repr__(Tuple)"
   ],
   "metadata": {
    "collapsed": false,
    "pycharm": {
     "name": "#%%\n"
    }
   }
  },
  {
   "cell_type": "code",
   "execution_count": null,
   "outputs": [],
   "source": [
    "Tuple.__name__"
   ],
   "metadata": {
    "collapsed": false,
    "pycharm": {
     "name": "#%%\n"
    }
   }
  },
  {
   "cell_type": "code",
   "execution_count": null,
   "outputs": [],
   "source": [
    "type(int)"
   ],
   "metadata": {
    "collapsed": false,
    "pycharm": {
     "name": "#%%\n"
    }
   }
  },
  {
   "cell_type": "code",
   "execution_count": null,
   "outputs": [],
   "source": [
    "type(torch.tensor([1.0]))"
   ],
   "metadata": {
    "collapsed": false,
    "pycharm": {
     "name": "#%%\n"
    }
   }
  },
  {
   "cell_type": "code",
   "execution_count": null,
   "outputs": [],
   "source": [
    "Tuple[x + 1 for x in [1,2]]"
   ],
   "metadata": {
    "collapsed": false,
    "pycharm": {
     "name": "#%%\n"
    }
   }
  },
  {
   "cell_type": "code",
   "execution_count": null,
   "outputs": [],
   "source": [
    "a = Tuple[Tuple[int], int]"
   ],
   "metadata": {
    "collapsed": false,
    "pycharm": {
     "name": "#%%\n"
    }
   }
  },
  {
   "cell_type": "code",
   "execution_count": null,
   "outputs": [],
   "source": [
    "dir(a)"
   ],
   "metadata": {
    "collapsed": false,
    "pycharm": {
     "name": "#%%\n"
    }
   }
  },
  {
   "cell_type": "code",
   "execution_count": null,
   "outputs": [],
   "source": [
    "a = Tuple[int]"
   ],
   "metadata": {
    "collapsed": false,
    "pycharm": {
     "name": "#%%\n"
    }
   }
  },
  {
   "cell_type": "code",
   "execution_count": null,
   "outputs": [],
   "source": [
    "a.__args__ = (int)"
   ],
   "metadata": {
    "collapsed": false,
    "pycharm": {
     "name": "#%%\n"
    }
   }
  },
  {
   "cell_type": "code",
   "execution_count": null,
   "outputs": [],
   "source": [
    "a._subs_tree()"
   ],
   "metadata": {
    "collapsed": false,
    "pycharm": {
     "name": "#%%\n"
    }
   }
  },
  {
   "cell_type": "code",
   "execution_count": null,
   "outputs": [],
   "source": [
    "b = Tuple[int]\n"
   ],
   "metadata": {
    "collapsed": false,
    "pycharm": {
     "name": "#%%\n"
    }
   }
  },
  {
   "cell_type": "code",
   "execution_count": null,
   "outputs": [],
   "source": [
    "b"
   ],
   "metadata": {
    "collapsed": false,
    "pycharm": {
     "name": "#%%\n"
    }
   }
  },
  {
   "cell_type": "code",
   "execution_count": null,
   "outputs": [],
   "source": [
    "typing.get_type_hints(model.model.forward)"
   ],
   "metadata": {
    "collapsed": false,
    "pycharm": {
     "name": "#%%\n"
    }
   }
  },
  {
   "cell_type": "code",
   "execution_count": null,
   "outputs": [],
   "source": [
    "dir(model.model)"
   ],
   "metadata": {
    "collapsed": false,
    "pycharm": {
     "name": "#%%\n"
    }
   }
  },
  {
   "cell_type": "code",
   "execution_count": null,
   "outputs": [],
   "source": [
    "model.model.forward_magic_method()\n"
   ],
   "metadata": {
    "collapsed": false,
    "pycharm": {
     "name": "#%%\n"
    }
   }
  },
  {
   "cell_type": "code",
   "execution_count": null,
   "outputs": [],
   "source": [
    "model.model._methods"
   ],
   "metadata": {
    "collapsed": false,
    "pycharm": {
     "name": "#%%\n"
    }
   }
  },
  {
   "cell_type": "code",
   "execution_count": null,
   "outputs": [],
   "source": [
    "\n",
    "type(Tuple)#%%\n",
    "\n",
    "import typing"
   ],
   "metadata": {
    "collapsed": false,
    "pycharm": {
     "name": "#%%\n"
    }
   }
  },
  {
   "cell_type": "code",
   "execution_count": null,
   "outputs": [],
   "source": [
    "Tuple.__getitem__(int)"
   ],
   "metadata": {
    "collapsed": false,
    "pycharm": {
     "name": "#%%\n"
    }
   }
  },
  {
   "cell_type": "code",
   "execution_count": null,
   "outputs": [],
   "source": [
    "typing.TupleMeta.__getitem__(Tuple, [int])"
   ],
   "metadata": {
    "collapsed": false,
    "pycharm": {
     "name": "#%%\n"
    }
   }
  },
  {
   "cell_type": "code",
   "execution_count": null,
   "outputs": [],
   "source": [
    "model.model.__annotations__"
   ],
   "metadata": {
    "collapsed": false,
    "pycharm": {
     "name": "#%%\n"
    }
   }
  },
  {
   "cell_type": "code",
   "execution_count": null,
   "outputs": [],
   "source": [
    "dir(torch.jit.frontend.build_def)"
   ],
   "metadata": {
    "collapsed": false,
    "pycharm": {
     "name": "#%%\n"
    }
   }
  },
  {
   "cell_type": "code",
   "execution_count": null,
   "outputs": [],
   "source": [
    "og_build_def = torch.jit.frontend.build_def\n"
   ],
   "metadata": {
    "collapsed": false,
    "pycharm": {
     "name": "#%%\n"
    }
   }
  },
  {
   "cell_type": "code",
   "execution_count": null,
   "outputs": [],
   "source": [
    "def my_build_def(ctx, py_def, type_line, self_name=None):\n",
    "    print(type_line)\n",
    "    #print(dir(py_def))\n",
    "    #print(py_def.type_comment)\n",
    "    #print(py_def.args.args[2].annotation)\n",
    "    return og_build_def(ctx, py_def, type_line, self_name)"
   ],
   "metadata": {
    "collapsed": false,
    "pycharm": {
     "name": "#%%\n"
    }
   }
  },
  {
   "cell_type": "code",
   "execution_count": null,
   "outputs": [],
   "source": [
    "torch.jit.frontend.build_def = my_build_def"
   ],
   "metadata": {
    "collapsed": false,
    "pycharm": {
     "name": "#%%\n"
    }
   }
  },
  {
   "cell_type": "code",
   "execution_count": null,
   "outputs": [],
   "source": [],
   "metadata": {
    "collapsed": false,
    "pycharm": {
     "name": "#%%\n"
    }
   }
  },
  {
   "cell_type": "code",
   "execution_count": null,
   "outputs": [],
   "source": [
    "\n"
   ],
   "metadata": {
    "collapsed": false,
    "pycharm": {
     "name": "#%%\n"
    }
   }
  }
 ],
 "metadata": {
  "kernelspec": {
   "display_name": "Python 3",
   "language": "python",
   "name": "python3"
  },
  "language_info": {
   "codemirror_mode": {
    "name": "ipython",
    "version": 2
   },
   "file_extension": ".py",
   "mimetype": "text/x-python",
   "name": "python",
   "nbconvert_exporter": "python",
   "pygments_lexer": "ipython2",
   "version": "2.7.6"
  }
 },
 "nbformat": 4,
 "nbformat_minor": 0
}