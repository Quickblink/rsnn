{
 "cells": [
  {
   "cell_type": "code",
   "execution_count": 1,
   "metadata": {
    "collapsed": true
   },
   "outputs": [
    {
     "name": "stdout",
     "output_type": "stream",
     "text": [
      "Using matplotlib backend: TkAgg\n"
     ]
    }
   ],
   "source": [
    "import sys\n",
    "sys.path.append('../')\n",
    "import torch\n",
    "from Code.envs.MountainCar import LookupPolicy, PassiveEnv\n",
    "from matplotlib import pyplot as plt\n",
    "%matplotlib\n",
    "\n"
   ]
  },
  {
   "cell_type": "code",
   "execution_count": 6,
   "outputs": [],
   "source": [
    "#model1 = torch.load('../models/lstm_passive')\n",
    "#model2 = torch.load('../models/rsnn_passive')\n",
    "from Code.Networks import OuterWrapper\n",
    "device = torch.device('cpu')\n",
    "USE_JIT = False\n",
    "\n",
    "model1 = OuterWrapper(torch.load('../models/forward_adaptive_passive'), device, USE_JIT)\n",
    "model2 = OuterWrapper(torch.load('../models/forward_cooldown_passive'), device, USE_JIT)"
   ],
   "metadata": {
    "collapsed": false,
    "pycharm": {
     "name": "#%%\n"
    }
   }
  },
  {
   "cell_type": "code",
   "execution_count": 7,
   "outputs": [
    {
     "data": {
      "text/plain": "<torch._C.Generator at 0x7f36f02e1ef0>"
     },
     "execution_count": 7,
     "metadata": {},
     "output_type": "execute_result"
    }
   ],
   "source": [
    "torch.manual_seed(0)"
   ],
   "metadata": {
    "collapsed": false,
    "pycharm": {
     "name": "#%%\n"
    }
   }
  },
  {
   "cell_type": "code",
   "execution_count": 8,
   "outputs": [],
   "source": [
    "\n",
    "env = PassiveEnv(device)\n",
    "inputs, targets, mask = env.getBatch(1)\n",
    "outputs1, _ = model1(inputs/0.52)\n",
    "outputs2, _ = model2(inputs/0.52)"
   ],
   "metadata": {
    "collapsed": false,
    "pycharm": {
     "name": "#%%\n"
    }
   }
  },
  {
   "cell_type": "code",
   "execution_count": 10,
   "outputs": [
    {
     "data": {
      "text/plain": "<matplotlib.legend.Legend at 0x7f36e5220278>"
     },
     "execution_count": 10,
     "metadata": {},
     "output_type": "execute_result"
    }
   ],
   "source": [
    "\n",
    "plt.plot(inputs[:, 0, 0], targets, label='Target', linewidth=3)\n",
    "#plt.plot(inputs[:, 0, 0], outputs1.squeeze().detach()*0.0234, label='SNN with Adaptive Neurons', linewidth=3, color='red')\n",
    "plt.plot(inputs[:, 0, 0], outputs2.squeeze().detach()*0.0234, label='SNN with No-Reset Neurons', linewidth=3, color='purple')\n",
    "plt.legend()"
   ],
   "metadata": {
    "collapsed": false,
    "pycharm": {
     "name": "#%%\n"
    }
   }
  },
  {
   "cell_type": "code",
   "execution_count": 5,
   "outputs": [],
   "source": [
    "\n"
   ],
   "metadata": {
    "collapsed": false,
    "pycharm": {
     "name": "#%%\n",
     "is_executing": false
    }
   }
  }
 ],
 "metadata": {
  "kernelspec": {
   "display_name": "Python 3",
   "language": "python",
   "name": "python3"
  },
  "language_info": {
   "codemirror_mode": {
    "name": "ipython",
    "version": 2
   },
   "file_extension": ".py",
   "mimetype": "text/x-python",
   "name": "python",
   "nbconvert_exporter": "python",
   "pygments_lexer": "ipython2",
   "version": "2.7.6"
  }
 },
 "nbformat": 4,
 "nbformat_minor": 0
}