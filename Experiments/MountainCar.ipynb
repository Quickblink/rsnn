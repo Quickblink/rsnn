{
 "cells": [
  {
   "cell_type": "code",
   "execution_count": 1,
   "metadata": {
    "collapsed": true
   },
   "outputs": [],
   "source": [
    "import sys\n",
    "sys.path.append('../')\n",
    "import torch\n",
    "import torch.nn as nn\n",
    "import torch.optim as optim\n",
    "from Code.envs.MountainCar import MultiMountainCar, LookupPolicy\n",
    "from wip.Code.train import make_dataset_simple\n",
    "import time\n",
    "from collections import OrderedDict"
   ]
  },
  {
   "cell_type": "code",
   "execution_count": 2,
   "outputs": [],
   "source": [
    "\n",
    "BATCH_SIZE = 64#512\n",
    "SIM_TIME = 1\n",
    "MAX_ITER = 200\n",
    "USE_JIT = True\n",
    "\n",
    "device = torch.device('cpu')\n",
    "\n",
    "env = MultiMountainCar(device)\n",
    "\n",
    "#torch.backends.cudnn.enabled = False\n"
   ],
   "metadata": {
    "collapsed": false,
    "pycharm": {
     "name": "#%%\n"
    }
   }
  },
  {
   "cell_type": "code",
   "execution_count": 3,
   "outputs": [],
   "source": [
    "from Code.Networks import Selector, DynNetwork, OuterWrapper, LSTMWrapper, ReLuWrapper, DummyNeuron, make_SequenceWrapper\n",
    "from Code.NewNeurons import SeqOnlySpike, CooldownNeuron\n",
    "\n",
    "base_config = {\n",
    "    'ALPHA': 0,\n",
    "    'BETA': 0,\n",
    "    'OFFSET': 2,\n",
    "    'RESET_ZERO': False,\n",
    "    'DECODING': 'potential',\n",
    "    'SPIKE_FN': 'ss'\n",
    "}\n",
    "\n",
    "heavyside = {\n",
    "    **base_config,\n",
    "    'BETA': 1,\n",
    "}\n",
    "\n",
    "mem_loop = OrderedDict([\n",
    "    ('input', 1),\n",
    "    ('pre_mem', [['input', 'output'], SeqOnlySpike(128, base_config), nn.Linear]),\n",
    "    ('output', [['pre_mem'], CooldownNeuron(128, heavyside), nn.Linear]),\n",
    "])\n",
    "\n",
    "architecture = OrderedDict([\n",
    "    ('input', 1),\n",
    "    ('mem_loop', [['input'], make_SequenceWrapper(DynNetwork(mem_loop), USE_JIT), None]),\n",
    "    ('post_mem', [['input', 'mem_loop'], SeqOnlySpike(128, base_config), nn.Linear]),\n",
    "    ('output', [['post_mem'], DummyNeuron(1), nn.Linear]),\n",
    "])\n",
    "\n",
    "architecturelstm = OrderedDict([\n",
    "    ('input', 3),\n",
    "    ('obs', [['input'], Selector(0, 2), None]),\n",
    "    ('probe', [['input'], Selector(2, 1), None]),\n",
    "    ('lstm', [['obs'], LSTMWrapper(2, 128), None]),\n",
    "    ('post_mem', [['probe', 'lstm'], ReLuWrapper(128), nn.Linear]),\n",
    "    ('output', [['post_mem'], DummyNeuron(2), nn.Linear]),\n",
    "])\n",
    "\n",
    "#TODO: fix output\n"
   ],
   "metadata": {
    "collapsed": false,
    "pycharm": {
     "name": "#%%\n"
    }
   }
  },
  {
   "cell_type": "code",
   "execution_count": 4,
   "outputs": [],
   "source": [
    "#144, 150, 137, 150\n",
    "\n",
    "model = OuterWrapper(DynNetwork(architecture), device, USE_JIT)\n",
    "\n",
    "#model = (OuterWrapper(DynNetwork(architecturelstm), device, True))\n",
    "\n"
   ],
   "metadata": {
    "collapsed": false,
    "pycharm": {
     "name": "#%%\n"
    }
   }
  },
  {
   "cell_type": "code",
   "execution_count": 5,
   "outputs": [
    {
     "name": "stderr",
     "output_type": "stream",
     "text": [
      "/opt/conda/lib/python3.6/site-packages/gym/logger.py:30: UserWarning: \u001B[33mWARN: Box bound precision lowered by casting to float32\u001B[0m\n",
      "  warnings.warn(colorize('%s: %s'%('WARN', msg % args), 'yellow'))\n"
     ]
    }
   ],
   "source": [
    "import gym\n",
    "testenv = gym.make('MountainCar-v0')\n",
    "\n",
    "def validate(num_runs, render=False):\n",
    "    sum = 0\n",
    "    for i in range(num_runs):\n",
    "        obs = testenv.reset()\n",
    "        state = None\n",
    "        for t in range(300):\n",
    "            if render:\n",
    "                testenv.render()\n",
    "            output, state = model(torch.tensor([[[obs[0]]]], dtype=torch.float), state)\n",
    "            action = 2 if output > 0 else 0\n",
    "            obs, _, done, _ = testenv.step(action)\n",
    "            if done:\n",
    "                #print(t+1)\n",
    "                sum += t + 1\n",
    "                break\n",
    "    print('Validation: ', sum/num_runs)\n"
   ],
   "metadata": {
    "collapsed": false,
    "pycharm": {
     "name": "#%%\n"
    }
   }
  },
  {
   "cell_type": "code",
   "execution_count": 6,
   "outputs": [],
   "source": [
    "teacher = LookupPolicy(device)\n",
    "bce = nn.BCELoss(reduction='none') #reduction='sum'\n",
    "optimizer = optim.Adam(model.parameters(), lr=5e-4)#0.00001\n"
   ],
   "metadata": {
    "collapsed": false,
    "pycharm": {
     "name": "#%%\n"
    }
   }
  },
  {
   "cell_type": "code",
   "execution_count": 7,
   "outputs": [
    {
     "name": "stdout",
     "output_type": "stream",
     "text": [
      "0.8053970336914062 200 0\n",
      "Validation:  200.0\n",
      "0.6891964673995972 200 10\n",
      "0.6691575050354004 200 20\n",
      "0.6340159773826599 200 30\n",
      "0.6083673238754272 200 40\n",
      "0.5603190064430237 200 50\n",
      "0.5072405934333801 200 60\n",
      "0.4292979836463928 200 70\n",
      "0.44322651624679565 200 80\n",
      "0.493443101644516 200 90\n",
      "0.431893914937973 200 100\n",
      "Validation:  200.0\n",
      "0.2972724735736847 110 110\n",
      "1.6417969465255737 200 120\n",
      "1.0377873182296753 200 130\n",
      "0.6810043454170227 200 140\n",
      "0.606848955154419 200 150\n",
      "0.5674368143081665 200 160\n",
      "0.47181835770606995 200 170\n",
      "0.38894858956336975 108 180\n",
      "0.33252933621406555 136 190\n",
      "0.22644995152950287 107 200\n",
      "Validation:  102.2\n",
      "0.18850599229335785 106 210\n",
      "0.19647754728794098 107 220\n",
      "0.19306433200836182 107 230\n",
      "0.15543511509895325 104 240\n",
      "0.16043783724308014 105 250\n",
      "0.17803466320037842 105 260\n",
      "0.5685468912124634 200 270\n",
      "2.3272669315338135 200 280\n",
      "0.8131563067436218 200 290\n",
      "0.7446719408035278 200 300\n",
      "Validation:  200.0\n",
      "0.6820564270019531 200 310\n",
      "0.6378422379493713 200 320\n",
      "0.7526577711105347 200 330\n",
      "0.5318964123725891 200 340\n",
      "0.38694560527801514 106 350\n",
      "0.9076334238052368 200 360\n",
      "0.23027090728282928 111 370\n",
      "0.19582322239875793 106 380\n",
      "1.2801822423934937 200 390\n",
      "0.7587525248527527 200 400\n",
      "Validation:  200.0\n",
      "0.6711238622665405 200 410\n",
      "0.6856471300125122 200 420\n",
      "0.6187558770179749 200 430\n",
      "0.6921349167823792 200 440\n",
      "0.6603143811225891 200 450\n",
      "0.5394749641418457 200 460\n",
      "0.4898903965950012 200 470\n",
      "0.4663502871990204 200 480\n",
      "0.4215072691440582 200 490\n",
      "0.4492124617099762 200 500\n",
      "Validation:  200.0\n",
      "0.5395362377166748 200 510\n",
      "0.4209369421005249 110 520\n",
      "0.352451890707016 109 530\n",
      "0.3284393548965454 105 540\n",
      "0.2719241976737976 104 550\n",
      "0.2760138511657715 119 560\n",
      "0.29407715797424316 106 570\n",
      "0.24376362562179565 107 580\n",
      "0.22889766097068787 105 590\n",
      "0.21085722744464874 116 600\n",
      "Validation:  109.6\n",
      "0.21327602863311768 105 610\n",
      "0.20340386033058167 104 620\n",
      "0.23711614310741425 125 630\n",
      "1.33755362033844 200 640\n",
      "0.659290075302124 200 650\n",
      "0.6340873837471008 200 660\n",
      "0.6174668669700623 200 670\n",
      "0.5231107473373413 200 680\n",
      "0.5613815784454346 200 690\n",
      "0.6979923844337463 200 700\n",
      "Validation:  200.0\n",
      "0.6014750003814697 200 710\n",
      "0.4518214464187622 200 720\n",
      "0.5752203464508057 200 730\n",
      "0.6452729105949402 200 740\n",
      "0.5436327457427979 200 750\n",
      "0.4426072835922241 200 760\n",
      "0.48863446712493896 200 770\n",
      "0.5189290642738342 200 780\n",
      "0.44454026222229004 200 790\n",
      "0.48117804527282715 200 800\n",
      "Validation:  200.0\n",
      "0.44243714213371277 200 810\n",
      "0.5160354375839233 200 820\n",
      "0.6217510104179382 200 830\n",
      "0.6580713391304016 200 840\n",
      "0.5002256631851196 200 850\n",
      "0.43624812364578247 200 860\n",
      "0.48669198155403137 156 870\n",
      "0.41069406270980835 161 880\n",
      "0.3547757565975189 166 890\n",
      "0.46875643730163574 164 900\n",
      "Validation:  158.7\n",
      "0.36128056049346924 176 910\n",
      "0.38823479413986206 170 920\n",
      "0.3725837767124176 165 930\n",
      "0.3538275957107544 167 940\n",
      "0.3175352215766907 172 950\n",
      "0.46963638067245483 194 960\n",
      "0.4321441054344177 199 970\n",
      "0.6383271813392639 200 980\n",
      "0.624110221862793 200 990\n",
      "0.6465561389923096 200 1000\n",
      "Validation:  200.0\n",
      "0.5302104949951172 200 1010\n",
      "0.6182637214660645 200 1020\n",
      "0.42322567105293274 200 1030\n",
      "0.4611361622810364 200 1040\n",
      "0.3634471297264099 200 1050\n",
      "0.7280824184417725 200 1060\n",
      "0.5998920202255249 200 1070\n",
      "0.5294977426528931 200 1080\n",
      "0.55340975522995 200 1090\n",
      "0.532767117023468 200 1100\n",
      "Validation:  200.0\n",
      "0.4118654727935791 200 1110\n",
      "0.529428243637085 200 1120\n",
      "0.4923950135707855 200 1130\n",
      "0.5059946179389954 200 1140\n",
      "0.4748753011226654 200 1150\n",
      "0.5029572248458862 200 1160\n",
      "0.510637104511261 200 1170\n",
      "0.49518054723739624 200 1180\n",
      "0.5484657883644104 200 1190\n",
      "0.5384919047355652 200 1200\n",
      "Validation:  200.0\n",
      "0.5560361742973328 200 1210\n",
      "0.5367180109024048 200 1220\n",
      "0.5309955477714539 200 1230\n",
      "0.4993037283420563 200 1240\n",
      "0.4259384572505951 200 1250\n",
      "0.6213326454162598 200 1260\n",
      "0.6446774005889893 200 1270\n",
      "0.6483008861541748 200 1280\n",
      "0.5111697912216187 200 1290\n",
      "0.47654202580451965 200 1300\n",
      "Validation:  200.0\n",
      "0.5497009754180908 200 1310\n",
      "0.7411770820617676 200 1320\n",
      "0.49037882685661316 200 1330\n",
      "0.3781827688217163 200 1340\n",
      "0.4420009255409241 200 1350\n",
      "0.5008196234703064 200 1360\n",
      "0.4884248971939087 200 1370\n",
      "0.448161244392395 200 1380\n",
      "0.5010342597961426 200 1390\n"
     ]
    },
    {
     "ename": "RuntimeError",
     "evalue": "KeyboardInterrupt: \n\nAt:\n  /opt/conda/lib/python3.6/site-packages/torch/tensor.py(30): wrapped\n  ../Code/NewNeurons.py(40): forward\n  /opt/conda/lib/python3.6/site-packages/torch/nn/modules/module.py(532): __call__\n  ../Code/Networks.py(144): forward\n  /opt/conda/lib/python3.6/site-packages/torch/nn/modules/module.py(532): __call__\n  <ipython-input-7-24e9036caa59>(10): <module>\n  /opt/conda/lib/python3.6/site-packages/IPython/core/interactiveshell.py(3319): run_code\n  /opt/conda/lib/python3.6/site-packages/IPython/core/interactiveshell.py(3242): run_ast_nodes\n  /opt/conda/lib/python3.6/site-packages/IPython/core/interactiveshell.py(3051): run_cell_async\n  /opt/conda/lib/python3.6/site-packages/IPython/core/async_helpers.py(68): _pseudo_sync_runner\n  /opt/conda/lib/python3.6/site-packages/IPython/core/interactiveshell.py(2874): _run_cell\n  /opt/conda/lib/python3.6/site-packages/IPython/core/interactiveshell.py(2848): run_cell\n  /opt/conda/lib/python3.6/site-packages/ipykernel/zmqshell.py(536): run_cell\n  /opt/conda/lib/python3.6/site-packages/ipykernel/ipkernel.py(300): do_execute\n  /opt/conda/lib/python3.6/site-packages/tornado/gen.py(209): wrapper\n  /opt/conda/lib/python3.6/site-packages/ipykernel/kernelbase.py(541): execute_request\n  /opt/conda/lib/python3.6/site-packages/tornado/gen.py(209): wrapper\n  /opt/conda/lib/python3.6/site-packages/ipykernel/kernelbase.py(268): dispatch_shell\n  /opt/conda/lib/python3.6/site-packages/tornado/gen.py(209): wrapper\n  /opt/conda/lib/python3.6/site-packages/ipykernel/kernelbase.py(361): process_one\n  /opt/conda/lib/python3.6/site-packages/tornado/gen.py(748): run\n  /opt/conda/lib/python3.6/site-packages/tornado/gen.py(787): inner\n  /opt/conda/lib/python3.6/site-packages/tornado/ioloop.py(743): _run_callback\n  /opt/conda/lib/python3.6/site-packages/tornado/ioloop.py(690): <lambda>\n  /opt/conda/lib/python3.6/asyncio/events.py(145): _run\n  /opt/conda/lib/python3.6/asyncio/base_events.py(1451): _run_once\n  /opt/conda/lib/python3.6/asyncio/base_events.py(438): run_forever\n  /opt/conda/lib/python3.6/site-packages/tornado/platform/asyncio.py(148): start\n  /opt/conda/lib/python3.6/site-packages/ipykernel/kernelapp.py(563): start\n  /opt/conda/lib/python3.6/site-packages/traitlets/config/application.py(664): launch_instance\n  /opt/conda/lib/python3.6/site-packages/ipykernel_launcher.py(16): <module>\n  /opt/conda/lib/python3.6/runpy.py(85): _run_code\n  /opt/conda/lib/python3.6/runpy.py(193): _run_module_as_main\n\nThe above operation failed in interpreter, with the following stack trace:\n../Code/NewNeurons.py(73): forward\n/opt/conda/lib/python3.6/site-packages/torch/nn/modules/module.py(516): _slow_forward\n/opt/conda/lib/python3.6/site-packages/torch/nn/modules/module.py(530): __call__\n../Code/Networks.py(52): forward\n/opt/conda/lib/python3.6/site-packages/torch/nn/modules/module.py(516): _slow_forward\n/opt/conda/lib/python3.6/site-packages/torch/nn/modules/module.py(530): __call__\n/opt/conda/lib/python3.6/site-packages/torch/jit/__init__.py(1022): trace_module\n/opt/conda/lib/python3.6/site-packages/torch/jit/__init__.py(870): trace\n../Code/Networks.py(89): forward\n/opt/conda/lib/python3.6/site-packages/torch/nn/modules/module.py(532): __call__\n../Code/Networks.py(52): forward\n/opt/conda/lib/python3.6/site-packages/torch/nn/modules/module.py(532): __call__\n../Code/Networks.py(136): __init__\n<ipython-input-4-467cbef734b8>(3): <module>\n/opt/conda/lib/python3.6/site-packages/IPython/core/interactiveshell.py(3319): run_code\n/opt/conda/lib/python3.6/site-packages/IPython/core/interactiveshell.py(3242): run_ast_nodes\n/opt/conda/lib/python3.6/site-packages/IPython/core/interactiveshell.py(3051): run_cell_async\n/opt/conda/lib/python3.6/site-packages/IPython/core/async_helpers.py(68): _pseudo_sync_runner\n/opt/conda/lib/python3.6/site-packages/IPython/core/interactiveshell.py(2874): _run_cell\n/opt/conda/lib/python3.6/site-packages/IPython/core/interactiveshell.py(2848): run_cell\n/opt/conda/lib/python3.6/site-packages/ipykernel/zmqshell.py(536): run_cell\n/opt/conda/lib/python3.6/site-packages/ipykernel/ipkernel.py(300): do_execute\n/opt/conda/lib/python3.6/site-packages/tornado/gen.py(209): wrapper\n/opt/conda/lib/python3.6/site-packages/ipykernel/kernelbase.py(541): execute_request\n/opt/conda/lib/python3.6/site-packages/tornado/gen.py(209): wrapper\n/opt/conda/lib/python3.6/site-packages/ipykernel/kernelbase.py(268): dispatch_shell\n/opt/conda/lib/python3.6/site-packages/tornado/gen.py(209): wrapper\n/opt/conda/lib/python3.6/site-packages/ipykernel/kernelbase.py(361): process_one\n/opt/conda/lib/python3.6/site-packages/tornado/gen.py(748): run\n/opt/conda/lib/python3.6/site-packages/tornado/gen.py(787): inner\n/opt/conda/lib/python3.6/site-packages/tornado/ioloop.py(743): _run_callback\n/opt/conda/lib/python3.6/site-packages/tornado/ioloop.py(690): <lambda>\n/opt/conda/lib/python3.6/asyncio/events.py(145): _run\n/opt/conda/lib/python3.6/asyncio/base_events.py(1451): _run_once\n/opt/conda/lib/python3.6/asyncio/base_events.py(438): run_forever\n/opt/conda/lib/python3.6/site-packages/tornado/platform/asyncio.py(148): start\n/opt/conda/lib/python3.6/site-packages/ipykernel/kernelapp.py(563): start\n/opt/conda/lib/python3.6/site-packages/traitlets/config/application.py(664): launch_instance\n/opt/conda/lib/python3.6/site-packages/ipykernel_launcher.py(16): <module>\n/opt/conda/lib/python3.6/runpy.py(85): _run_code\n/opt/conda/lib/python3.6/runpy.py(193): _run_module_as_main\n",
     "output_type": "error",
     "traceback": [
      "\u001B[0;31m---------------------------------------------------------------------------\u001B[0m",
      "\u001B[0;31mRuntimeError\u001B[0m                              Traceback (most recent call last)",
      "\u001B[0;32m<ipython-input-7-24e9036caa59>\u001B[0m in \u001B[0;36m<module>\u001B[0;34m\u001B[0m\n\u001B[1;32m      8\u001B[0m     \u001B[0mdiv\u001B[0m \u001B[0;34m=\u001B[0m \u001B[0;36m0\u001B[0m\u001B[0;34m\u001B[0m\u001B[0;34m\u001B[0m\u001B[0m\n\u001B[1;32m      9\u001B[0m     \u001B[0;32mfor\u001B[0m \u001B[0mt\u001B[0m \u001B[0;32min\u001B[0m \u001B[0mrange\u001B[0m\u001B[0;34m(\u001B[0m\u001B[0mMAX_ITER\u001B[0m\u001B[0;34m)\u001B[0m\u001B[0;34m:\u001B[0m\u001B[0;34m\u001B[0m\u001B[0;34m\u001B[0m\u001B[0m\n\u001B[0;32m---> 10\u001B[0;31m         \u001B[0moutput\u001B[0m\u001B[0;34m,\u001B[0m \u001B[0mstate\u001B[0m \u001B[0;34m=\u001B[0m \u001B[0mmodel\u001B[0m\u001B[0;34m(\u001B[0m\u001B[0mobservation\u001B[0m\u001B[0;34m[\u001B[0m\u001B[0;34m:\u001B[0m\u001B[0;34m,\u001B[0m\u001B[0;34m:\u001B[0m\u001B[0;36m1\u001B[0m\u001B[0;34m]\u001B[0m\u001B[0;34m.\u001B[0m\u001B[0munsqueeze\u001B[0m\u001B[0;34m(\u001B[0m\u001B[0;36m0\u001B[0m\u001B[0;34m)\u001B[0m\u001B[0;34m,\u001B[0m \u001B[0mstate\u001B[0m\u001B[0;34m)\u001B[0m\u001B[0;34m\u001B[0m\u001B[0;34m\u001B[0m\u001B[0m\n\u001B[0m\u001B[1;32m     11\u001B[0m         \u001B[0mtarget\u001B[0m \u001B[0;34m=\u001B[0m \u001B[0mteacher\u001B[0m\u001B[0;34m(\u001B[0m\u001B[0mobservation\u001B[0m\u001B[0;34m)\u001B[0m\u001B[0;34m/\u001B[0m\u001B[0;36m2\u001B[0m\u001B[0;34m\u001B[0m\u001B[0;34m\u001B[0m\u001B[0m\n\u001B[1;32m     12\u001B[0m         \u001B[0;31m#print(observation[:,:1].unsqueeze(0).shape, output.shape, target.shape)\u001B[0m\u001B[0;34m\u001B[0m\u001B[0;34m\u001B[0m\u001B[0;34m\u001B[0m\u001B[0m\n",
      "\u001B[0;32m/opt/conda/lib/python3.6/site-packages/torch/nn/modules/module.py\u001B[0m in \u001B[0;36m__call__\u001B[0;34m(self, *input, **kwargs)\u001B[0m\n\u001B[1;32m    530\u001B[0m             \u001B[0mresult\u001B[0m \u001B[0;34m=\u001B[0m \u001B[0mself\u001B[0m\u001B[0;34m.\u001B[0m\u001B[0m_slow_forward\u001B[0m\u001B[0;34m(\u001B[0m\u001B[0;34m*\u001B[0m\u001B[0minput\u001B[0m\u001B[0;34m,\u001B[0m \u001B[0;34m**\u001B[0m\u001B[0mkwargs\u001B[0m\u001B[0;34m)\u001B[0m\u001B[0;34m\u001B[0m\u001B[0;34m\u001B[0m\u001B[0m\n\u001B[1;32m    531\u001B[0m         \u001B[0;32melse\u001B[0m\u001B[0;34m:\u001B[0m\u001B[0;34m\u001B[0m\u001B[0;34m\u001B[0m\u001B[0m\n\u001B[0;32m--> 532\u001B[0;31m             \u001B[0mresult\u001B[0m \u001B[0;34m=\u001B[0m \u001B[0mself\u001B[0m\u001B[0;34m.\u001B[0m\u001B[0mforward\u001B[0m\u001B[0;34m(\u001B[0m\u001B[0;34m*\u001B[0m\u001B[0minput\u001B[0m\u001B[0;34m,\u001B[0m \u001B[0;34m**\u001B[0m\u001B[0mkwargs\u001B[0m\u001B[0;34m)\u001B[0m\u001B[0;34m\u001B[0m\u001B[0;34m\u001B[0m\u001B[0m\n\u001B[0m\u001B[1;32m    533\u001B[0m         \u001B[0;32mfor\u001B[0m \u001B[0mhook\u001B[0m \u001B[0;32min\u001B[0m \u001B[0mself\u001B[0m\u001B[0;34m.\u001B[0m\u001B[0m_forward_hooks\u001B[0m\u001B[0;34m.\u001B[0m\u001B[0mvalues\u001B[0m\u001B[0;34m(\u001B[0m\u001B[0;34m)\u001B[0m\u001B[0;34m:\u001B[0m\u001B[0;34m\u001B[0m\u001B[0;34m\u001B[0m\u001B[0m\n\u001B[1;32m    534\u001B[0m             \u001B[0mhook_result\u001B[0m \u001B[0;34m=\u001B[0m \u001B[0mhook\u001B[0m\u001B[0;34m(\u001B[0m\u001B[0mself\u001B[0m\u001B[0;34m,\u001B[0m \u001B[0minput\u001B[0m\u001B[0;34m,\u001B[0m \u001B[0mresult\u001B[0m\u001B[0;34m)\u001B[0m\u001B[0;34m\u001B[0m\u001B[0;34m\u001B[0m\u001B[0m\n",
      "\u001B[0;32m~/Code/Networks.py\u001B[0m in \u001B[0;36mforward\u001B[0;34m(self, inp, h)\u001B[0m\n\u001B[1;32m    142\u001B[0m         \u001B[0;32mif\u001B[0m \u001B[0;32mnot\u001B[0m \u001B[0mh\u001B[0m\u001B[0;34m:\u001B[0m\u001B[0;34m\u001B[0m\u001B[0;34m\u001B[0m\u001B[0m\n\u001B[1;32m    143\u001B[0m             \u001B[0mh\u001B[0m \u001B[0;34m=\u001B[0m \u001B[0mself\u001B[0m\u001B[0;34m.\u001B[0m\u001B[0mpretrace\u001B[0m\u001B[0;34m.\u001B[0m\u001B[0mget_initial_state\u001B[0m\u001B[0;34m(\u001B[0m\u001B[0minp\u001B[0m\u001B[0;34m.\u001B[0m\u001B[0mshape\u001B[0m\u001B[0;34m[\u001B[0m\u001B[0;36m1\u001B[0m\u001B[0;34m]\u001B[0m\u001B[0;34m)\u001B[0m\u001B[0;34m\u001B[0m\u001B[0;34m\u001B[0m\u001B[0m\n\u001B[0;32m--> 144\u001B[0;31m         \u001B[0;32mreturn\u001B[0m \u001B[0mself\u001B[0m\u001B[0;34m.\u001B[0m\u001B[0mmodel\u001B[0m\u001B[0;34m(\u001B[0m\u001B[0minp\u001B[0m\u001B[0;34m,\u001B[0m \u001B[0mh\u001B[0m\u001B[0;34m)\u001B[0m\u001B[0;34m\u001B[0m\u001B[0;34m\u001B[0m\u001B[0m\n\u001B[0m\u001B[1;32m    145\u001B[0m \u001B[0;34m\u001B[0m\u001B[0m\n\u001B[1;32m    146\u001B[0m     \u001B[0;32mdef\u001B[0m \u001B[0msave\u001B[0m\u001B[0;34m(\u001B[0m\u001B[0mself\u001B[0m\u001B[0;34m,\u001B[0m \u001B[0maddr\u001B[0m\u001B[0;34m)\u001B[0m\u001B[0;34m:\u001B[0m\u001B[0;34m\u001B[0m\u001B[0;34m\u001B[0m\u001B[0m\n",
      "\u001B[0;32m/opt/conda/lib/python3.6/site-packages/torch/nn/modules/module.py\u001B[0m in \u001B[0;36m__call__\u001B[0;34m(self, *input, **kwargs)\u001B[0m\n\u001B[1;32m    530\u001B[0m             \u001B[0mresult\u001B[0m \u001B[0;34m=\u001B[0m \u001B[0mself\u001B[0m\u001B[0;34m.\u001B[0m\u001B[0m_slow_forward\u001B[0m\u001B[0;34m(\u001B[0m\u001B[0;34m*\u001B[0m\u001B[0minput\u001B[0m\u001B[0;34m,\u001B[0m \u001B[0;34m**\u001B[0m\u001B[0mkwargs\u001B[0m\u001B[0;34m)\u001B[0m\u001B[0;34m\u001B[0m\u001B[0;34m\u001B[0m\u001B[0m\n\u001B[1;32m    531\u001B[0m         \u001B[0;32melse\u001B[0m\u001B[0;34m:\u001B[0m\u001B[0;34m\u001B[0m\u001B[0;34m\u001B[0m\u001B[0m\n\u001B[0;32m--> 532\u001B[0;31m             \u001B[0mresult\u001B[0m \u001B[0;34m=\u001B[0m \u001B[0mself\u001B[0m\u001B[0;34m.\u001B[0m\u001B[0mforward\u001B[0m\u001B[0;34m(\u001B[0m\u001B[0;34m*\u001B[0m\u001B[0minput\u001B[0m\u001B[0;34m,\u001B[0m \u001B[0;34m**\u001B[0m\u001B[0mkwargs\u001B[0m\u001B[0;34m)\u001B[0m\u001B[0;34m\u001B[0m\u001B[0;34m\u001B[0m\u001B[0m\n\u001B[0m\u001B[1;32m    533\u001B[0m         \u001B[0;32mfor\u001B[0m \u001B[0mhook\u001B[0m \u001B[0;32min\u001B[0m \u001B[0mself\u001B[0m\u001B[0;34m.\u001B[0m\u001B[0m_forward_hooks\u001B[0m\u001B[0;34m.\u001B[0m\u001B[0mvalues\u001B[0m\u001B[0;34m(\u001B[0m\u001B[0;34m)\u001B[0m\u001B[0;34m:\u001B[0m\u001B[0;34m\u001B[0m\u001B[0;34m\u001B[0m\u001B[0m\n\u001B[1;32m    534\u001B[0m             \u001B[0mhook_result\u001B[0m \u001B[0;34m=\u001B[0m \u001B[0mhook\u001B[0m\u001B[0;34m(\u001B[0m\u001B[0mself\u001B[0m\u001B[0;34m,\u001B[0m \u001B[0minput\u001B[0m\u001B[0;34m,\u001B[0m \u001B[0mresult\u001B[0m\u001B[0;34m)\u001B[0m\u001B[0;34m\u001B[0m\u001B[0;34m\u001B[0m\u001B[0m\n",
      "\u001B[0;31mRuntimeError\u001B[0m: KeyboardInterrupt: \n\nAt:\n  /opt/conda/lib/python3.6/site-packages/torch/tensor.py(30): wrapped\n  ../Code/NewNeurons.py(40): forward\n  /opt/conda/lib/python3.6/site-packages/torch/nn/modules/module.py(532): __call__\n  ../Code/Networks.py(144): forward\n  /opt/conda/lib/python3.6/site-packages/torch/nn/modules/module.py(532): __call__\n  <ipython-input-7-24e9036caa59>(10): <module>\n  /opt/conda/lib/python3.6/site-packages/IPython/core/interactiveshell.py(3319): run_code\n  /opt/conda/lib/python3.6/site-packages/IPython/core/interactiveshell.py(3242): run_ast_nodes\n  /opt/conda/lib/python3.6/site-packages/IPython/core/interactiveshell.py(3051): run_cell_async\n  /opt/conda/lib/python3.6/site-packages/IPython/core/async_helpers.py(68): _pseudo_sync_runner\n  /opt/conda/lib/python3.6/site-packages/IPython/core/interactiveshell.py(2874): _run_cell\n  /opt/conda/lib/python3.6/site-packages/IPython/core/interactiveshell.py(2848): run_cell\n  /opt/conda/lib/python3.6/site-packages/ipykernel/zmqshell.py(536): run_cell\n  /opt/conda/lib/python3.6/site-packages/ipykernel/ipkernel.py(300): do_execute\n  /opt/conda/lib/python3.6/site-packages/tornado/gen.py(209): wrapper\n  /opt/conda/lib/python3.6/site-packages/ipykernel/kernelbase.py(541): execute_request\n  /opt/conda/lib/python3.6/site-packages/tornado/gen.py(209): wrapper\n  /opt/conda/lib/python3.6/site-packages/ipykernel/kernelbase.py(268): dispatch_shell\n  /opt/conda/lib/python3.6/site-packages/tornado/gen.py(209): wrapper\n  /opt/conda/lib/python3.6/site-packages/ipykernel/kernelbase.py(361): process_one\n  /opt/conda/lib/python3.6/site-packages/tornado/gen.py(748): run\n  /opt/conda/lib/python3.6/site-packages/tornado/gen.py(787): inner\n  /opt/conda/lib/python3.6/site-packages/tornado/ioloop.py(743): _run_callback\n  /opt/conda/lib/python3.6/site-packages/tornado/ioloop.py(690): <lambda>\n  /opt/conda/lib/python3.6/asyncio/events.py(145): _run\n  /opt/conda/lib/python3.6/asyncio/base_events.py(1451): _run_once\n  /opt/conda/lib/python3.6/asyncio/base_events.py(438): run_forever\n  /opt/conda/lib/python3.6/site-packages/tornado/platform/asyncio.py(148): start\n  /opt/conda/lib/python3.6/site-packages/ipykernel/kernelapp.py(563): start\n  /opt/conda/lib/python3.6/site-packages/traitlets/config/application.py(664): launch_instance\n  /opt/conda/lib/python3.6/site-packages/ipykernel_launcher.py(16): <module>\n  /opt/conda/lib/python3.6/runpy.py(85): _run_code\n  /opt/conda/lib/python3.6/runpy.py(193): _run_module_as_main\n\nThe above operation failed in interpreter, with the following stack trace:\n../Code/NewNeurons.py(73): forward\n/opt/conda/lib/python3.6/site-packages/torch/nn/modules/module.py(516): _slow_forward\n/opt/conda/lib/python3.6/site-packages/torch/nn/modules/module.py(530): __call__\n../Code/Networks.py(52): forward\n/opt/conda/lib/python3.6/site-packages/torch/nn/modules/module.py(516): _slow_forward\n/opt/conda/lib/python3.6/site-packages/torch/nn/modules/module.py(530): __call__\n/opt/conda/lib/python3.6/site-packages/torch/jit/__init__.py(1022): trace_module\n/opt/conda/lib/python3.6/site-packages/torch/jit/__init__.py(870): trace\n../Code/Networks.py(89): forward\n/opt/conda/lib/python3.6/site-packages/torch/nn/modules/module.py(532): __call__\n../Code/Networks.py(52): forward\n/opt/conda/lib/python3.6/site-packages/torch/nn/modules/module.py(532): __call__\n../Code/Networks.py(136): __init__\n<ipython-input-4-467cbef734b8>(3): <module>\n/opt/conda/lib/python3.6/site-packages/IPython/core/interactiveshell.py(3319): run_code\n/opt/conda/lib/python3.6/site-packages/IPython/core/interactiveshell.py(3242): run_ast_nodes\n/opt/conda/lib/python3.6/site-packages/IPython/core/interactiveshell.py(3051): run_cell_async\n/opt/conda/lib/python3.6/site-packages/IPython/core/async_helpers.py(68): _pseudo_sync_runner\n/opt/conda/lib/python3.6/site-packages/IPython/core/interactiveshell.py(2874): _run_cell\n/opt/conda/lib/python3.6/site-packages/IPython/core/interactiveshell.py(2848): run_cell\n/opt/conda/lib/python3.6/site-packages/ipykernel/zmqshell.py(536): run_cell\n/opt/conda/lib/python3.6/site-packages/ipykernel/ipkernel.py(300): do_execute\n/opt/conda/lib/python3.6/site-packages/tornado/gen.py(209): wrapper\n/opt/conda/lib/python3.6/site-packages/ipykernel/kernelbase.py(541): execute_request\n/opt/conda/lib/python3.6/site-packages/tornado/gen.py(209): wrapper\n/opt/conda/lib/python3.6/site-packages/ipykernel/kernelbase.py(268): dispatch_shell\n/opt/conda/lib/python3.6/site-packages/tornado/gen.py(209): wrapper\n/opt/conda/lib/python3.6/site-packages/ipykernel/kernelbase.py(361): process_one\n/opt/conda/lib/python3.6/site-packages/tornado/gen.py(748): run\n/opt/conda/lib/python3.6/site-packages/tornado/gen.py(787): inner\n/opt/conda/lib/python3.6/site-packages/tornado/ioloop.py(743): _run_callback\n/opt/conda/lib/python3.6/site-packages/tornado/ioloop.py(690): <lambda>\n/opt/conda/lib/python3.6/asyncio/events.py(145): _run\n/opt/conda/lib/python3.6/asyncio/base_events.py(1451): _run_once\n/opt/conda/lib/python3.6/asyncio/base_events.py(438): run_forever\n/opt/conda/lib/python3.6/site-packages/tornado/platform/asyncio.py(148): start\n/opt/conda/lib/python3.6/site-packages/ipykernel/kernelapp.py(563): start\n/opt/conda/lib/python3.6/site-packages/traitlets/config/application.py(664): launch_instance\n/opt/conda/lib/python3.6/site-packages/ipykernel_launcher.py(16): <module>\n/opt/conda/lib/python3.6/runpy.py(85): _run_code\n/opt/conda/lib/python3.6/runpy.py(193): _run_module_as_main\n"
     ]
    }
   ],
   "source": [
    "#optimizer = optim.Adam(model.parameters(), lr=1e-3)#0.00006\n",
    "\n",
    "for i in range(5000):\n",
    "    model.zero_grad()\n",
    "    observation = env.reset(BATCH_SIZE)\n",
    "    state = None\n",
    "    loss = 0\n",
    "    div = 0\n",
    "    for t in range(MAX_ITER):\n",
    "        output, state = model(observation[:,:1].unsqueeze(0), state)\n",
    "        target = teacher(observation)/2\n",
    "        #print(observation[:,:1].unsqueeze(0).shape, output.shape, target.shape)\n",
    "        action = (output.squeeze() > 0) * 2.0\n",
    "        observation, _, done, _ = env.step(action)\n",
    "        loss = loss + (bce(torch.sigmoid(output.squeeze()), target) * (~done).float()).sum()\n",
    "        div = div + (~done).float().sum()\n",
    "        #print(t, loss)\n",
    "        if done.all():\n",
    "            break\n",
    "    loss = loss / div\n",
    "    if i%10 == 0:\n",
    "        print(loss.item(), t+1, i) #, ((outputs>0.5) != targets).sum()\n",
    "    loss.backward()\n",
    "    optimizer.step()\n",
    "    if i%100 == 0:\n",
    "        validate(10)\n",
    "    "
   ],
   "metadata": {
    "collapsed": false,
    "pycharm": {
     "name": "#%%\n"
    }
   }
  },
  {
   "cell_type": "code",
   "execution_count": 7,
   "outputs": [],
   "source": [
    "mydict = {}\n",
    "\n",
    "def train_batch(inputs, targets, mask):\n",
    "    model.zero_grad()\n",
    "    outputs, _ = model(inputs)\n",
    "    loss = (bce(torch.sigmoid(outputs), targets) * mask).sum() / mask.sum()\n",
    "    loss.backward()\n",
    "    optimizer.step()\n",
    "    return loss.item()\n",
    "\n",
    "\n",
    "def train_dataset(num_batches, num_epochs):\n",
    "    obs, target, mask = make_dataset_simple(num_batches, BATCH_SIZE, MAX_ITER, model, teacher, device, env)\n",
    "    for e in range(num_epochs):\n",
    "        start = time.time()\n",
    "        idc = torch.randperm(obs.shape[1], device=device)\n",
    "        for i in range(num_batches):\n",
    "            base = i*BATCH_SIZE\n",
    "            batch_obs = obs[:, idc[base:base + BATCH_SIZE]]\n",
    "            batch_targets = target[:, idc[base:base + BATCH_SIZE]]\n",
    "            batch_mask = mask[:, idc[base:base + BATCH_SIZE]]\n",
    "            #print(batch_obs.shape, batch_targets.shape, batch_mask.shape)\n",
    "            loss = train_batch(batch_obs, batch_targets, batch_mask)\n",
    "        for p in model.parameters():\n",
    "            if torch.isnan(p).any():\n",
    "                raise Exception('Corrupted Model')\n",
    "        print(loss, time.time()-start)\n",
    "            #if i%10 == 0:\n",
    "                #print(loss.item(), (loss/targets.view(-1).var()).item(), i)\n",
    "\n"
   ],
   "metadata": {
    "collapsed": false,
    "pycharm": {
     "name": "#%%\n"
    }
   }
  },
  {
   "cell_type": "code",
   "execution_count": null,
   "outputs": [
    {
     "name": "stdout",
     "output_type": "stream",
     "text": [
      "Bigstep:  0\n",
      "0.09936636686325073 63.01702380180359\n",
      "0.09963464736938477 61.76665282249451\n",
      "0.08759665489196777 61.996296882629395\n",
      "0.11712847650051117 58.70791983604431\n",
      "0.10174913704395294 55.109790563583374\n",
      "0.0598505400121212 54.995145320892334\n",
      "0.073218934237957 55.20386624336243\n",
      "0.07360125333070755 55.19120740890503\n",
      "0.1353931725025177 55.456132888793945\n",
      "0.09279230237007141 55.06258201599121\n",
      "Validation:  138.2\n",
      "Bigstep:  1\n",
      "0.11334297060966492 54.9138605594635\n",
      "0.0551205649971962 54.91706037521362\n",
      "0.048263706266880035 55.11578369140625\n",
      "0.06823704391717911 62.34108829498291\n",
      "0.05546610802412033 62.355822801589966\n",
      "0.06327603757381439 62.11244034767151\n",
      "0.043474551290273666 61.89683151245117\n",
      "0.08305107057094574 61.76122975349426\n",
      "0.06539105623960495 61.2263822555542\n",
      "0.05194448307156563 61.78586673736572\n",
      "Validation:  131.5\n",
      "Bigstep:  2\n",
      "0.06580055505037308 61.19282054901123\n",
      "0.04305011406540871 66.03960156440735\n",
      "0.04320993274450302 56.65983605384827\n",
      "0.03785112500190735 62.45754671096802\n",
      "0.02882177010178566 61.78385281562805\n",
      "0.02110716514289379 61.84259629249573\n",
      "0.032928142696619034 61.575815200805664\n",
      "0.1039462760090828 56.288861989974976\n",
      "0.057375989854335785 55.13052845001221\n",
      "0.044226936995983124 55.239051818847656\n",
      "Validation:  119.0\n",
      "Bigstep:  3\n",
      "0.09853827953338623 55.00653052330017\n",
      "0.08166424930095673 55.08433556556702\n",
      "0.09995365142822266 55.105695962905884\n",
      "0.05593399703502655 54.81701159477234\n",
      "0.061546605080366135 55.068023443222046\n",
      "0.02118123322725296 54.915632247924805\n",
      "0.17002619802951813 54.95063519477844\n",
      "0.039401330053806305 54.86042618751526\n",
      "0.03062445856630802 54.576242446899414\n",
      "0.040371496230363846 54.38760733604431\n",
      "Validation:  116.4\n",
      "Bigstep:  4\n",
      "0.21092110872268677 54.63674831390381\n",
      "0.21195264160633087 54.43150329589844\n",
      "0.056090760976076126 54.21480584144592\n",
      "0.12080880999565125 54.4547700881958\n",
      "0.0741576999425888 54.259446144104004\n",
      "0.078150674700737 54.436768770217896\n",
      "0.10545475780963898 54.412147998809814\n",
      "0.03730447590351105 54.451348304748535\n",
      "0.08283187448978424 55.18389105796814\n",
      "0.19422638416290283 54.268683195114136\n",
      "Validation:  135.5\n",
      "Bigstep:  5\n",
      "0.16634762287139893 54.556835651397705\n",
      "0.19929982721805573 54.18843984603882\n",
      "0.10609807819128036 53.9374520778656\n",
      "0.11977267265319824 54.18616247177124\n",
      "0.12877745926380157 54.267488956451416\n",
      "0.0528268963098526 54.900511026382446\n",
      "0.19766515493392944 54.3472318649292\n",
      "0.09085700660943985 54.47787880897522\n",
      "0.1839197725057602 54.542054653167725\n",
      "0.06762655079364777 54.375974893569946\n",
      "Validation:  130.2\n",
      "Bigstep:  6\n",
      "0.14273348450660706 54.581578493118286\n",
      "0.13723799586296082 54.42274618148804\n",
      "0.2478044480085373 54.26022410392761\n",
      "0.1519055813550949 54.603458881378174\n",
      "0.1506517082452774 54.27385711669922\n",
      "0.09688186645507812 54.41802406311035\n",
      "0.14349786937236786 54.44399309158325\n",
      "0.19117508828639984 54.52211093902588\n",
      "0.11138378828763962 54.389415979385376\n",
      "0.11053602397441864 54.346455335617065\n",
      "Validation:  112.4\n",
      "Bigstep:  7\n",
      "0.277832955121994 54.594982624053955\n",
      "0.20733661949634552 54.57848048210144\n",
      "0.15357811748981476 54.18849754333496\n",
      "0.1296260803937912 54.14583468437195\n",
      "0.12960712611675262 54.65971779823303\n",
      "0.10833375155925751 54.70906615257263\n",
      "0.13949649035930634 54.29436445236206\n",
      "0.07151545584201813 54.14981174468994\n",
      "0.12268733978271484 54.16422176361084\n",
      "0.06604617089033127 54.10841488838196\n",
      "Validation:  112.5\n",
      "Bigstep:  8\n",
      "0.12856991589069366 54.10564374923706\n",
      "0.10278618335723877 57.00378084182739\n",
      "0.07375269383192062 58.67266511917114\n",
      "0.05936877056956291 58.15826177597046\n",
      "0.06442853063344955 61.848100662231445\n",
      "0.05266832560300827 59.316086530685425\n",
      "0.08228626102209091 58.27460432052612\n",
      "0.0459984727203846 58.308408975601196\n",
      "0.03883165493607521 59.998159408569336\n",
      "0.0398012138903141 64.74604511260986\n",
      "Validation:  112.4\n",
      "Bigstep:  9\n",
      "0.037428952753543854 63.52751016616821\n",
      "0.05862492695450783 63.802072525024414\n",
      "0.11713791638612747 63.79071116447449\n",
      "0.031464263796806335 63.59814524650574\n",
      "0.036803051829338074 62.883605003356934\n",
      "0.04237926006317139 58.83112812042236\n",
      "0.02632402628660202 60.776410818099976\n"
     ]
    }
   ],
   "source": [
    "for i in range(10):\n",
    "    print('Bigstep: ', i)\n",
    "    train_dataset(100, 10)\n",
    "    validate(10)"
   ],
   "metadata": {
    "collapsed": false,
    "pycharm": {
     "name": "#%%\n",
     "is_executing": true
    }
   }
  },
  {
   "cell_type": "code",
   "execution_count": 11,
   "outputs": [
    {
     "name": "stdout",
     "output_type": "stream",
     "text": [
      "Validation:  105.0\n"
     ]
    }
   ],
   "source": [
    "validate(1, render=True)"
   ],
   "metadata": {
    "collapsed": false,
    "pycharm": {
     "name": "#%%\n"
    }
   }
  },
  {
   "cell_type": "code",
   "execution_count": 14,
   "outputs": [],
   "source": [
    "obs = testenv.reset()\n",
    "state = None\n",
    "for t in range(300):\n",
    "    output, state = model(torch.tensor([[[obs[0]]]], dtype=torch.float), state)\n",
    "    action = 2 if output > 0 else 0\n",
    "    obs, _, done, _ = testenv.step(action)\n",
    "    testenv.render()\n",
    "    #print(output)\n"
   ],
   "metadata": {
    "collapsed": false,
    "pycharm": {
     "name": "#%%\n"
    }
   }
  },
  {
   "cell_type": "code",
   "execution_count": 8,
   "outputs": [],
   "source": [],
   "metadata": {
    "collapsed": false,
    "pycharm": {
     "name": "#%%\n"
    }
   }
  },
  {
   "cell_type": "code",
   "execution_count": null,
   "outputs": [],
   "source": [
    "\n",
    "testenv.close()"
   ],
   "metadata": {
    "collapsed": false,
    "pycharm": {
     "name": "#%%\n",
     "is_executing": true
    }
   }
  },
  {
   "cell_type": "code",
   "execution_count": null,
   "outputs": [],
   "source": [
    "\n"
   ],
   "metadata": {
    "collapsed": false,
    "pycharm": {
     "name": "#%%\n"
    }
   }
  }
 ],
 "metadata": {
  "kernelspec": {
   "display_name": "Python 3",
   "language": "python",
   "name": "python3"
  },
  "language_info": {
   "codemirror_mode": {
    "name": "ipython",
    "version": 2
   },
   "file_extension": ".py",
   "mimetype": "text/x-python",
   "name": "python",
   "nbconvert_exporter": "python",
   "pygments_lexer": "ipython2",
   "version": "2.7.6"
  }
 },
 "nbformat": 4,
 "nbformat_minor": 0
}