{
 "cells": [
  {
   "cell_type": "code",
   "execution_count": 1,
   "metadata": {
    "collapsed": true,
    "pycharm": {
     "is_executing": false
    }
   },
   "outputs": [],
   "source": [
    "import macropy.activate\n",
    "import importlib\n",
    "import sys\n",
    "sys.path.append('../')\n",
    "import torch\n",
    "import torch.nn as nn\n",
    "import torch.optim as optim\n",
    "from Code.iff_macro import set_config\n",
    "from Code.lstm import lstmPolicyPredictor\n",
    "from Code.envs.MountainCar import MultiMountainCar, LookupPolicy, PassiveEnv\n",
    "from Code.SNN import RSNN, FeedForwardSNN, TestNN"
   ]
  },
  {
   "cell_type": "code",
   "execution_count": 2,
   "outputs": [
    {
     "data": {
      "text/plain": "<module 'Code.macroNeurons' from '../Code/macroNeurons.py'>"
     },
     "metadata": {},
     "output_type": "execute_result",
     "execution_count": 2
    }
   ],
   "source": [
    "config = {\n",
    "    'ALPHA': 0,\n",
    "    'BETA': 1,\n",
    "    'RESET_ZERO': False,\n",
    "    'THRESH_ADD': 1,\n",
    "    'THRESH_DECAY': 1,\n",
    "    'DECODING': 'potential',\n",
    "    'SPIKE_FN': 'bellec',\n",
    "    'SIM_TIME': 10\n",
    "}\n",
    "set_config(config)\n",
    "import Code.macroNeurons as Neurons\n",
    "importlib.reload(Neurons)"
   ],
   "metadata": {
    "collapsed": false,
    "pycharm": {
     "name": "#%%\n",
     "is_executing": false
    }
   }
  },
  {
   "cell_type": "code",
   "execution_count": 3,
   "outputs": [],
   "source": [
    "env = MultiMountainCar()"
   ],
   "metadata": {
    "collapsed": false,
    "pycharm": {
     "name": "#%%\n",
     "is_executing": false
    }
   }
  },
  {
   "cell_type": "code",
   "execution_count": 4,
   "outputs": [],
   "source": [
    "BATCH_SIZE = 64"
   ],
   "metadata": {
    "collapsed": false,
    "pycharm": {
     "name": "#%%\n",
     "is_executing": false
    }
   }
  },
  {
   "cell_type": "code",
   "execution_count": 5,
   "outputs": [],
   "source": [
    "#model = lstmPolicyPredictor(1,8,16)\n",
    "#model = RSNN(config, 1, 32, 16, 1, Neurons.LIFNeuron, Neurons.AdaptiveNeuron, Neurons.OutputNeuron)\n",
    "model = FeedForwardSNN(config, [1, 128, 128, 1], Neurons.LIFNeuron, Neurons.OutputNeuron)\n",
    "#model = TestNN(config, [1, 128, 10, 10, 1], Neurons.LIFNeuron, Neurons.OutputNeuron)\n",
    "\n",
    "\n",
    "teacher = LookupPolicy()"
   ],
   "metadata": {
    "collapsed": false,
    "pycharm": {
     "name": "#%%\n",
     "is_executing": false
    }
   }
  },
  {
   "cell_type": "code",
   "execution_count": 6,
   "outputs": [
    {
     "name": "stderr",
     "text": [
      "/opt/conda/lib/python3.6/site-packages/gym/logger.py:30: UserWarning: \u001b[33mWARN: Box bound precision lowered by casting to float32\u001b[0m\n",
      "  warnings.warn(colorize('%s: %s'%('WARN', msg % args), 'yellow'))\n"
     ],
     "output_type": "stream"
    }
   ],
   "source": [
    "import gym\n",
    "testenv = gym.make('MountainCar-v0')\n",
    "\n",
    "def validate(num_runs):\n",
    "    sum = 0\n",
    "    for i in range(num_runs):\n",
    "        obs = testenv.reset()\n",
    "        state = None\n",
    "        for t in range(300):\n",
    "            output, state = model(torch.tensor([[[obs[0]]]], dtype=torch.float), state)\n",
    "            action = 2 if output > 0.5 else 0\n",
    "            obs, _, done, _ = testenv.step(action)\n",
    "            if done:\n",
    "                #print(t+1)\n",
    "                sum += t + 1\n",
    "                break\n",
    "    print('Validation: ', sum/num_runs)\n"
   ],
   "metadata": {
    "collapsed": false,
    "pycharm": {
     "name": "#%%\n",
     "is_executing": false
    }
   }
  },
  {
   "cell_type": "code",
   "execution_count": 16,
   "outputs": [],
   "source": [
    "bce = nn.BCELoss(reduction='none') #reduction='sum'\n",
    "optimizer = optim.Adam(model.parameters(), lr=0.00002)#0.00001"
   ],
   "metadata": {
    "collapsed": false,
    "pycharm": {
     "name": "#%%\n",
     "is_executing": false
    }
   }
  },
  {
   "cell_type": "code",
   "execution_count": 8,
   "outputs": [],
   "source": [
    "#torch.autograd.set_detect_anomaly(True)"
   ],
   "metadata": {
    "collapsed": false,
    "pycharm": {
     "name": "#%%\n",
     "is_executing": false
    }
   }
  },
  {
   "cell_type": "code",
   "execution_count": 17,
   "outputs": [
    {
     "name": "stdout",
     "text": [
      "114.16061401367188 200 0\n",
      "Validation:  200.0\n",
      "115.09379577636719 200 10\n"
     ],
     "output_type": "stream"
    },
    {
     "traceback": [
      "\u001b[0;31m---------------------------------------------------------------------------\u001b[0m",
      "\u001b[0;31mKeyboardInterrupt\u001b[0m                         Traceback (most recent call last)",
      "\u001b[0;32m<ipython-input-17-eca0ec780390>\u001b[0m in \u001b[0;36m<module>\u001b[0;34m\u001b[0m\n\u001b[1;32m     16\u001b[0m     \u001b[0;32mif\u001b[0m \u001b[0mi\u001b[0m\u001b[0;34m%\u001b[0m\u001b[0;36m10\u001b[0m \u001b[0;34m==\u001b[0m \u001b[0;36m0\u001b[0m\u001b[0;34m:\u001b[0m\u001b[0;34m\u001b[0m\u001b[0;34m\u001b[0m\u001b[0m\n\u001b[1;32m     17\u001b[0m         \u001b[0mprint\u001b[0m\u001b[0;34m(\u001b[0m\u001b[0mloss\u001b[0m\u001b[0;34m.\u001b[0m\u001b[0mitem\u001b[0m\u001b[0;34m(\u001b[0m\u001b[0;34m)\u001b[0m\u001b[0;34m,\u001b[0m \u001b[0mt\u001b[0m\u001b[0;34m+\u001b[0m\u001b[0;36m1\u001b[0m\u001b[0;34m,\u001b[0m \u001b[0mi\u001b[0m\u001b[0;34m)\u001b[0m \u001b[0;31m#, ((outputs>0.5) != targets).sum()\u001b[0m\u001b[0;34m\u001b[0m\u001b[0;34m\u001b[0m\u001b[0m\n\u001b[0;32m---> 18\u001b[0;31m     \u001b[0mloss\u001b[0m\u001b[0;34m.\u001b[0m\u001b[0mbackward\u001b[0m\u001b[0;34m(\u001b[0m\u001b[0;34m)\u001b[0m\u001b[0;34m\u001b[0m\u001b[0;34m\u001b[0m\u001b[0m\n\u001b[0m\u001b[1;32m     19\u001b[0m     \u001b[0moptimizer\u001b[0m\u001b[0;34m.\u001b[0m\u001b[0mstep\u001b[0m\u001b[0;34m(\u001b[0m\u001b[0;34m)\u001b[0m\u001b[0;34m\u001b[0m\u001b[0;34m\u001b[0m\u001b[0m\n\u001b[1;32m     20\u001b[0m     \u001b[0;32mif\u001b[0m \u001b[0mi\u001b[0m\u001b[0;34m%\u001b[0m\u001b[0;36m100\u001b[0m \u001b[0;34m==\u001b[0m \u001b[0;36m0\u001b[0m\u001b[0;34m:\u001b[0m\u001b[0;34m\u001b[0m\u001b[0;34m\u001b[0m\u001b[0m\n",
      "\u001b[0;32m/opt/conda/lib/python3.6/site-packages/torch/tensor.py\u001b[0m in \u001b[0;36mbackward\u001b[0;34m(self, gradient, retain_graph, create_graph)\u001b[0m\n\u001b[1;32m    193\u001b[0m                 \u001b[0mproducts\u001b[0m\u001b[0;34m.\u001b[0m \u001b[0mDefaults\u001b[0m \u001b[0mto\u001b[0m\u001b[0;31m \u001b[0m\u001b[0;31m`\u001b[0m\u001b[0;31m`\u001b[0m\u001b[0;32mFalse\u001b[0m\u001b[0;31m`\u001b[0m\u001b[0;31m`\u001b[0m\u001b[0;34m.\u001b[0m\u001b[0;34m\u001b[0m\u001b[0;34m\u001b[0m\u001b[0m\n\u001b[1;32m    194\u001b[0m         \"\"\"\n\u001b[0;32m--> 195\u001b[0;31m         \u001b[0mtorch\u001b[0m\u001b[0;34m.\u001b[0m\u001b[0mautograd\u001b[0m\u001b[0;34m.\u001b[0m\u001b[0mbackward\u001b[0m\u001b[0;34m(\u001b[0m\u001b[0mself\u001b[0m\u001b[0;34m,\u001b[0m \u001b[0mgradient\u001b[0m\u001b[0;34m,\u001b[0m \u001b[0mretain_graph\u001b[0m\u001b[0;34m,\u001b[0m \u001b[0mcreate_graph\u001b[0m\u001b[0;34m)\u001b[0m\u001b[0;34m\u001b[0m\u001b[0;34m\u001b[0m\u001b[0m\n\u001b[0m\u001b[1;32m    196\u001b[0m \u001b[0;34m\u001b[0m\u001b[0m\n\u001b[1;32m    197\u001b[0m     \u001b[0;32mdef\u001b[0m \u001b[0mregister_hook\u001b[0m\u001b[0;34m(\u001b[0m\u001b[0mself\u001b[0m\u001b[0;34m,\u001b[0m \u001b[0mhook\u001b[0m\u001b[0;34m)\u001b[0m\u001b[0;34m:\u001b[0m\u001b[0;34m\u001b[0m\u001b[0;34m\u001b[0m\u001b[0m\n",
      "\u001b[0;32m/opt/conda/lib/python3.6/site-packages/torch/autograd/__init__.py\u001b[0m in \u001b[0;36mbackward\u001b[0;34m(tensors, grad_tensors, retain_graph, create_graph, grad_variables)\u001b[0m\n\u001b[1;32m     97\u001b[0m     Variable._execution_engine.run_backward(\n\u001b[1;32m     98\u001b[0m         \u001b[0mtensors\u001b[0m\u001b[0;34m,\u001b[0m \u001b[0mgrad_tensors\u001b[0m\u001b[0;34m,\u001b[0m \u001b[0mretain_graph\u001b[0m\u001b[0;34m,\u001b[0m \u001b[0mcreate_graph\u001b[0m\u001b[0;34m,\u001b[0m\u001b[0;34m\u001b[0m\u001b[0;34m\u001b[0m\u001b[0m\n\u001b[0;32m---> 99\u001b[0;31m         allow_unreachable=True)  # allow_unreachable flag\n\u001b[0m\u001b[1;32m    100\u001b[0m \u001b[0;34m\u001b[0m\u001b[0m\n\u001b[1;32m    101\u001b[0m \u001b[0;34m\u001b[0m\u001b[0m\n",
      "\u001b[0;31mKeyboardInterrupt\u001b[0m: "
     ],
     "ename": "KeyboardInterrupt",
     "evalue": "",
     "output_type": "error"
    }
   ],
   "source": [
    "for i in range(5000):\n",
    "    model.zero_grad()\n",
    "    observation = env.reset(BATCH_SIZE)\n",
    "    state = None\n",
    "    loss = 0\n",
    "    for t in range(200):\n",
    "        output, state = model(observation[:,:1].unsqueeze(0), state)\n",
    "        target = teacher(observation)/2\n",
    "        #print(observation[:,:1].unsqueeze(0).shape, output.shape, target.shape)\n",
    "        action = (output.squeeze() > 0.5) * 2.0\n",
    "        observation, _, done, _ = env.step(action)\n",
    "        loss = loss + (bce(torch.sigmoid(output.squeeze()), target) * (~done).float()).mean()\n",
    "        #print(t, loss)\n",
    "        if done.all():\n",
    "            break\n",
    "    if i%10 == 0:\n",
    "        print(loss.item(), t+1, i) #, ((outputs>0.5) != targets).sum()\n",
    "    loss.backward()\n",
    "    optimizer.step()\n",
    "    if i%100 == 0:\n",
    "        validate(10)\n",
    "    "
   ],
   "metadata": {
    "collapsed": false,
    "pycharm": {
     "name": "#%%\n",
     "is_executing": false
    }
   }
  },
  {
   "cell_type": "code",
   "execution_count": 10,
   "outputs": [
    {
     "name": "stdout",
     "text": [
      "Validation:  200.0\n"
     ],
     "output_type": "stream"
    }
   ],
   "source": [
    "validate(10)"
   ],
   "metadata": {
    "collapsed": false,
    "pycharm": {
     "name": "#%%\n",
     "is_executing": false
    }
   }
  },
  {
   "cell_type": "code",
   "execution_count": 11,
   "outputs": [
    {
     "data": {
      "text/plain": "tensor([0., 1., 0., 1., 0., 0., 0., 1., 1., 1., 1., 0., 1., 0., 0., 1., 1., 0.,\n        1., 1., 0., 1., 1., 1., 0., 1., 1., 1., 0., 1., 0., 1., 0., 0., 0., 1.,\n        0., 1., 1., 0., 1., 0., 1., 1., 1., 0., 0., 1., 0., 0., 1., 1., 0., 0.,\n        1., 1., 1., 1., 1., 1., 0., 1., 0., 0.])"
     },
     "metadata": {},
     "output_type": "execute_result",
     "execution_count": 11
    }
   ],
   "source": [
    "teacher(observation)/2\n",
    "\n"
   ],
   "metadata": {
    "collapsed": false,
    "pycharm": {
     "name": "#%%\n",
     "is_executing": false
    }
   }
  },
  {
   "cell_type": "code",
   "execution_count": 12,
   "outputs": [
    {
     "data": {
      "text/plain": "tensor([[-4.1097e-01, -5.2399e-03],\n        [-5.0933e-01,  5.7433e-03],\n        [-4.8188e-01, -2.9103e-03],\n        [-5.1684e-01, -1.7997e-03],\n        [-3.8655e-01, -2.2448e-04],\n        [-5.5993e-01, -1.7995e-02],\n        [-5.4178e-01, -1.1824e-02],\n        [-4.8765e-01,  4.3241e-03],\n        [-5.5765e-01,  3.6127e-03],\n        [-5.0088e-01,  1.1945e-03],\n        [-4.1700e-01,  1.3139e-02],\n        [-4.7802e-01, -2.2006e-03],\n        [-5.4765e-01,  9.2372e-04],\n        [-4.3905e-01, -7.1678e-03],\n        [-4.3850e-01,  2.7524e-03],\n        [-4.4123e-01,  1.3511e-02],\n        [-5.1462e-01, -4.2303e-03],\n        [-4.5692e-01, -6.3992e-03],\n        [-5.4645e-01, -9.1707e-03],\n        [-5.3869e-01, -2.6012e-03],\n        [-4.1224e-01,  7.0268e-03],\n        [-4.4384e-01,  9.2939e-03],\n        [-5.0287e-01,  2.8545e-05],\n        [-5.1650e-01, -2.3591e-03],\n        [-3.9744e-01, -1.1960e-02],\n        [-5.5335e-01,  8.2706e-03],\n        [-5.5257e-01, -5.3668e-03],\n        [-5.6656e-01,  3.0215e-03],\n        [-4.6409e-01, -5.5696e-03],\n        [-5.9340e-01,  4.6203e-03],\n        [-5.0648e-01, -8.7134e-03],\n        [-5.2581e-01,  4.1475e-03],\n        [-4.8305e-01, -1.3529e-02],\n        [-4.1161e-01,  7.0204e-03],\n        [-4.3425e-01,  3.0272e-03],\n        [-5.4046e-01,  9.0150e-03],\n        [-3.4584e-01, -3.0105e-03],\n        [-6.2491e-01,  1.4767e-02],\n        [-5.1888e-01,  2.4183e-03],\n        [-5.2056e-01, -1.8363e-02],\n        [-5.1218e-01, -3.6741e-03],\n        [-4.7161e-01, -3.3804e-03],\n        [-4.8963e-01,  3.7096e-03],\n        [-4.9532e-01,  4.1208e-03],\n        [-4.9611e-01, -2.1658e-03],\n        [-4.7789e-01, -2.4497e-03],\n        [-5.3981e-01, -1.2506e-02],\n        [-4.8344e-01,  1.9216e-03],\n        [-5.4422e-01, -1.2652e-02],\n        [-5.0300e-01, -1.0644e-02],\n        [-5.1087e-01,  1.4135e-02],\n        [-4.9914e-01,  9.2636e-03],\n        [-4.0803e-01,  1.5186e-02],\n        [-4.8370e-01, -1.8600e-02],\n        [-5.0900e-01, -4.7211e-03],\n        [-5.5793e-01, -6.1335e-04],\n        [-5.1532e-01,  1.2108e-02],\n        [-5.1630e-01,  3.6927e-03],\n        [-5.8083e-01,  3.8255e-03],\n        [-5.4239e-01, -7.7306e-04],\n        [-4.4546e-01, -1.7074e-03],\n        [-5.3495e-01, -5.0763e-03],\n        [-4.4708e-01,  4.3728e-03],\n        [-4.3620e-01, -2.7032e-03]])"
     },
     "metadata": {},
     "output_type": "execute_result",
     "execution_count": 12
    }
   ],
   "source": [
    "observation"
   ],
   "metadata": {
    "collapsed": false,
    "pycharm": {
     "name": "#%%\n",
     "is_executing": false
    }
   }
  },
  {
   "cell_type": "code",
   "execution_count": 13,
   "outputs": [],
   "source": [
    "#torch.save(model, '../models/rsnn_mountaincar2')\n",
    "\n",
    "\n"
   ],
   "metadata": {
    "collapsed": false,
    "pycharm": {
     "name": "#%%\n",
     "is_executing": false
    }
   }
  },
  {
   "cell_type": "code",
   "execution_count": 14,
   "outputs": [
    {
     "data": {
      "text/plain": "Parameter containing:\ntensor([-0.2447,  0.8700,  0.0450, -0.3341,  0.4510, -0.2559,  0.3413,  0.3273,\n         0.9719, -0.6632, -0.0270,  0.8269, -0.6678, -0.6522,  0.0889,  0.5426,\n         0.0637, -0.1838, -0.1045, -0.9036, -0.9709,  0.0537,  0.3709, -0.1747,\n         0.2357,  0.2325, -0.3533,  0.6667,  0.7104,  0.3493, -0.6436,  0.0571,\n        -0.1335, -0.2258,  0.4684,  0.3427, -0.2529,  0.6614,  0.0761, -0.7235,\n         0.6756,  0.4705,  0.1954, -0.3072, -0.8658,  0.2617,  0.0667,  0.5713,\n        -0.3913,  0.5384, -0.7698, -0.2424, -0.6205,  0.6543,  0.4206, -0.3258,\n        -0.3866,  0.5384, -0.5044, -0.8876, -0.6487, -0.9382,  0.8218,  0.8558,\n         0.3634, -0.2184, -0.3525, -0.9538,  0.0824, -0.5214,  0.3286,  0.3333,\n         0.9454, -0.3931,  0.4625,  0.3483, -0.3716,  0.5495,  0.5847,  0.0169,\n         0.0502,  0.9809, -0.1724, -0.2716, -0.0553,  0.8741,  0.5977,  0.4438,\n         0.5584, -0.8991,  0.7477,  0.0207, -0.4578, -0.4466,  0.0594, -0.1705,\n         0.0508, -0.8638,  0.4080, -0.7244,  0.4492, -0.8894, -0.3379,  0.2581,\n         0.4211, -0.2793,  0.5507, -0.9446,  0.9021, -0.6637, -0.4927, -0.6164,\n        -0.1867,  0.8298,  0.6943, -0.1388, -0.5993,  0.5125, -0.6110, -0.4479,\n        -0.1665, -0.4259,  0.8644,  0.0751, -0.2002, -0.2272,  0.6764,  0.0899],\n       requires_grad=True)"
     },
     "metadata": {},
     "output_type": "execute_result",
     "execution_count": 14
    }
   ],
   "source": [
    "model.input_linear.bias\n"
   ],
   "metadata": {
    "collapsed": false,
    "pycharm": {
     "name": "#%%\n",
     "is_executing": false
    }
   }
  },
  {
   "cell_type": "code",
   "execution_count": 15,
   "outputs": [
    {
     "traceback": [
      "\u001b[0;31m---------------------------------------------------------------------------\u001b[0m",
      "\u001b[0;31mNameError\u001b[0m                                 Traceback (most recent call last)",
      "\u001b[0;32m<ipython-input-15-04e849e5feee>\u001b[0m in \u001b[0;36m<module>\u001b[0;34m\u001b[0m\n\u001b[0;32m----> 1\u001b[0;31m \u001b[0miis\u001b[0m\u001b[0;34m\u001b[0m\u001b[0;34m\u001b[0m\u001b[0m\n\u001b[0m\u001b[1;32m      2\u001b[0m \u001b[0;34m\u001b[0m\u001b[0m\n\u001b[1;32m      3\u001b[0m \u001b[0;34m\u001b[0m\u001b[0m\n\u001b[1;32m      4\u001b[0m \u001b[0;34m\u001b[0m\u001b[0m\n",
      "\u001b[0;31mNameError\u001b[0m: name 'iis' is not defined"
     ],
     "ename": "NameError",
     "evalue": "name 'iis' is not defined",
     "output_type": "error"
    }
   ],
   "source": [
    "iis\n",
    "\n",
    "\n"
   ],
   "metadata": {
    "collapsed": false,
    "pycharm": {
     "name": "#%%\n",
     "is_executing": false
    }
   }
  }
 ],
 "metadata": {
  "kernelspec": {
   "display_name": "Python 3",
   "language": "python",
   "name": "python3"
  },
  "language_info": {
   "codemirror_mode": {
    "name": "ipython",
    "version": 2
   },
   "file_extension": ".py",
   "mimetype": "text/x-python",
   "name": "python",
   "nbconvert_exporter": "python",
   "pygments_lexer": "ipython2",
   "version": "2.7.6"
  },
  "pycharm": {
   "stem_cell": {
    "cell_type": "raw",
    "source": [],
    "metadata": {
     "collapsed": false
    }
   }
  }
 },
 "nbformat": 4,
 "nbformat_minor": 0
}