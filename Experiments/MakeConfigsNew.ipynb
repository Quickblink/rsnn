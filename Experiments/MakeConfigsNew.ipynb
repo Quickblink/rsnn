{
 "cells": [
  {
   "cell_type": "code",
   "execution_count": 7,
   "metadata": {
    "collapsed": true
   },
   "outputs": [],
   "source": [
    "import json\n"
   ]
  },
  {
   "cell_type": "code",
   "execution_count": 8,
   "outputs": [],
   "source": [
    "con_id = 'anew_noreset'#'flip_config1d'#'config40'\n",
    "\n",
    "config = {}\n",
    "\n",
    "config['cmd'] = \"docker build -t imrsnn . && nvidia-docker run -v /home/ubuntu/eric/rsnn:/home/developer --name \" +con_id+\" --net host --ipc host --rm -t imrsnn python3 Code/run_all.py \"+con_id\n",
    "config['progress'] = 0\n",
    "config['mem_req'] = 4000\n",
    "\n",
    "\n",
    "config['params'] = {\n",
    "    'control_config': {\n",
    "        'neuron_type': 'LIF',\n",
    "        'n_neurons': 120,\n",
    "        'TAU': 10,\n",
    "        '1-beta': False,\n",
    "        'SPIKE_FN': 'bellec'\n",
    "    },\n",
    "    'mem_config': {\n",
    "        'neuron_type': 'NoReset',\n",
    "        'n_neurons': 100,\n",
    "        'TAU': 700,\n",
    "        '1-beta': False,\n",
    "        'SPIKE_FN': 'bellec',\n",
    "        'GAMMA': 0.27,\n",
    "        'TAU_THR': 700,\n",
    "    },\n",
    "    'experiment': 'SequentialMNIST',\n",
    "    'lr': 0.001,\n",
    "    'lr_decay': 0.9,\n",
    "    'iterations': 36000,\n",
    "    'batch_size': 256,\n",
    "    'architecture': '1L'\n",
    "}"
   ],
   "metadata": {
    "collapsed": false,
    "pycharm": {
     "name": "#%%\n"
    }
   }
  },
  {
   "cell_type": "code",
   "execution_count": 9,
   "outputs": [],
   "source": [
    "with open('../configs/'+con_id+'.json', 'w') as myfile:\n",
    "    json.dump(config, myfile, indent=2)"
   ],
   "metadata": {
    "collapsed": false,
    "pycharm": {
     "name": "#%%\n"
    }
   }
  },
  {
   "cell_type": "code",
   "execution_count": null,
   "outputs": [],
   "source": [],
   "metadata": {
    "collapsed": false,
    "pycharm": {
     "name": "#%%\n"
    }
   }
  }
 ],
 "metadata": {
  "kernelspec": {
   "display_name": "Python 3",
   "language": "python",
   "name": "python3"
  },
  "language_info": {
   "codemirror_mode": {
    "name": "ipython",
    "version": 2
   },
   "file_extension": ".py",
   "mimetype": "text/x-python",
   "name": "python",
   "nbconvert_exporter": "python",
   "pygments_lexer": "ipython2",
   "version": "2.7.6"
  }
 },
 "nbformat": 4,
 "nbformat_minor": 0
}