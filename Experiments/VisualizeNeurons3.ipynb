{
 "cells": [
  {
   "cell_type": "code",
   "execution_count": 72,
   "metadata": {
    "collapsed": true
   },
   "outputs": [],
   "source": [
    "import numpy as np\n",
    "from matplotlib import pyplot as plt"
   ]
  },
  {
   "cell_type": "code",
   "execution_count": 134,
   "outputs": [],
   "source": [
    "beta = 0.8\n",
    "gamma = 0\n",
    "reset = False\n",
    "def input_trans(x):\n",
    "    return np.exp(x)*(1-beta)\n",
    "\n",
    "\n",
    "#ix = (np.array([0, -1, 1, 1, 0, -1, 1, 1, 0, 1])*0.5).tolist()\n",
    "ix = (np.array([1, 1, 1, 1, 1, -1, -1, 1, 1, 1, 1, 1, -1, -1, -1, -1, 1,])*0.5).tolist()"
   ],
   "metadata": {
    "collapsed": false,
    "pycharm": {
     "name": "#%%\n"
    }
   }
  },
  {
   "cell_type": "code",
   "execution_count": 135,
   "outputs": [],
   "source": [
    "decay_pairs = []\n",
    "input_pairs = []\n",
    "reset_pairs = []\n",
    "thr = [1]\n",
    "thr_x = [0]\n",
    "#thr missing\n",
    "t = 0\n",
    "mem = 0\n",
    "add_thr = 0\n",
    "\n",
    "for i in range(len(ix)):\n",
    "    decay_pairs.append(([t, t+0.5], [mem, mem*beta]))\n",
    "    mem *= beta\n",
    "    inp = input_trans(ix[i])\n",
    "    input_pairs.append(([t+0.5, t+1],[mem, mem+inp]))\n",
    "    #print(mem, inp)\n",
    "    mem += inp\n",
    "    t += 1\n",
    "    old_thr = 1+add_thr\n",
    "    add_thr *= beta\n",
    "    thr.append(1+add_thr)\n",
    "    thr_x.append(t+0.2)\n",
    "    if mem >= old_thr and reset:\n",
    "        reset_pairs.append(([t,t], [mem, mem-old_thr]))\n",
    "        mem -= old_thr\n",
    "        add_thr += gamma\n",
    "        thr.append(1+add_thr)\n",
    "        thr_x.append(t+0.2)\n",
    "\n"
   ],
   "metadata": {
    "collapsed": false,
    "pycharm": {
     "name": "#%%\n"
    }
   }
  },
  {
   "cell_type": "code",
   "execution_count": 136,
   "outputs": [
    {
     "data": {
      "text/plain": "[<matplotlib.lines.Line2D at 0x7f25db5e3d30>]"
     },
     "execution_count": 136,
     "metadata": {},
     "output_type": "execute_result"
    },
    {
     "data": {
      "text/plain": "<Figure size 432x288 with 1 Axes>",
      "image/png": "[encoded data removed]"
     },
     "metadata": {
      "needs_background": "light"
     },
     "output_type": "display_data"
    }
   ],
   "source": [
    "for dp in decay_pairs:\n",
    "    plt.plot(dp[0], dp[1], color='blue')\n",
    "\n",
    "for dp in input_pairs:\n",
    "    #print(dp[0], dp[1])\n",
    "    plt.plot(dp[0], dp[1], color='orange')\n",
    "\n",
    "for dp in reset_pairs:\n",
    "    plt.plot(dp[0], dp[1], color='green')\n",
    "\n",
    "plt.axhline(0, c='grey')\n",
    "plt.plot(thr_x, thr, color='black')"
   ],
   "metadata": {
    "collapsed": false,
    "pycharm": {
     "name": "#%%\n"
    }
   }
  },
  {
   "cell_type": "code",
   "execution_count": 137,
   "outputs": [
    {
     "name": "stdout",
     "output_type": "stream",
     "text": [
      "\\draw[blue] (0, 0) -- (0.5, 0.0);\n",
      "\\draw[blue] (1, 0.32974425414002556) -- (1.5, 0.26379540331202045);\n",
      "\\draw[blue] (2, 0.593539657452046) -- (2.5, 0.4748317259616368);\n",
      "\\draw[blue] (3, 0.8045759801016623) -- (3.5, 0.6436607840813299);\n",
      "\\draw[blue] (4, 0.9734050382213555) -- (4.5, 0.7787240305770844);\n",
      "\\draw[blue] (5, 1.10846828471711) -- (5.5, 0.886774627773688);\n",
      "\\draw[blue] (6, 1.0080807597162147) -- (6.5, 0.8064646077729718);\n",
      "\\draw[blue] (7, 0.9277707397154984) -- (7.5, 0.7422165917723987);\n",
      "\\draw[blue] (8, 1.0719608459124244) -- (8.5, 0.8575686767299395);\n",
      "\\draw[blue] (9, 1.187312930869965) -- (9.5, 0.9498503446959721);\n",
      "\\draw[blue] (10, 1.2795945988359976) -- (10.5, 1.0236756790687982);\n",
      "\\draw[blue] (11, 1.3534199332088237) -- (11.5, 1.082735946567059);\n",
      "\\draw[blue] (12, 1.4124802007070845) -- (12.5, 1.1299841605656675);\n",
      "\\draw[blue] (13, 1.2512902925081941) -- (13.5, 1.0010322340065554);\n",
      "\\draw[blue] (14, 1.122338365949082) -- (14.5, 0.8978706927592657);\n",
      "\\draw[blue] (15, 1.0191768247017923) -- (15.5, 0.8153414597614339);\n",
      "\\draw[blue] (16, 0.9366475917039605) -- (16.5, 0.7493180733631685);\n",
      "\\draw[orange] (0.5, 0.0) -- (1, 0.32974425414002556);\n",
      "\\draw[orange] (1.5, 0.26379540331202045) -- (2, 0.593539657452046);\n",
      "\\draw[orange] (2.5, 0.4748317259616368) -- (3, 0.8045759801016623);\n",
      "\\draw[orange] (3.5, 0.6436607840813299) -- (4, 0.9734050382213555);\n",
      "\\draw[orange] (4.5, 0.7787240305770844) -- (5, 1.10846828471711);\n",
      "\\draw[orange] (5.5, 0.886774627773688) -- (6, 1.0080807597162147);\n",
      "\\draw[orange] (6.5, 0.8064646077729718) -- (7, 0.9277707397154984);\n",
      "\\draw[orange] (7.5, 0.7422165917723987) -- (8, 1.0719608459124244);\n",
      "\\draw[orange] (8.5, 0.8575686767299395) -- (9, 1.187312930869965);\n",
      "\\draw[orange] (9.5, 0.9498503446959721) -- (10, 1.2795945988359976);\n",
      "\\draw[orange] (10.5, 1.0236756790687982) -- (11, 1.3534199332088237);\n",
      "\\draw[orange] (11.5, 1.082735946567059) -- (12, 1.4124802007070845);\n",
      "\\draw[orange] (12.5, 1.1299841605656675) -- (13, 1.2512902925081941);\n",
      "\\draw[orange] (13.5, 1.0010322340065554) -- (14, 1.122338365949082);\n",
      "\\draw[orange] (14.5, 0.8978706927592657) -- (15, 1.0191768247017923);\n",
      "\\draw[orange] (15.5, 0.8153414597614339) -- (16, 0.9366475917039605);\n",
      "\\draw[orange] (16.5, 0.7493180733631685) -- (17, 1.079062327503194);\n"
     ]
    }
   ],
   "source": [
    "for dp in decay_pairs:\n",
    "    print(f\"\\draw[blue] {dp[0][0], dp[1][0]} -- {dp[0][1], dp[1][1]};\")\n",
    "\n",
    "\n",
    "\n",
    "for dp in input_pairs:\n",
    "    print(f\"\\draw[orange] {dp[0][0], dp[1][0]} -- {dp[0][1], dp[1][1]};\")\n",
    "\n",
    "\n",
    "for dp in reset_pairs:\n",
    "    print(f\"\\draw[green] {dp[0][0], dp[1][0]} -- {dp[0][1], dp[1][1]};\")"
   ],
   "metadata": {
    "collapsed": false,
    "pycharm": {
     "name": "#%%\n"
    }
   }
  },
  {
   "cell_type": "code",
   "execution_count": 125,
   "outputs": [],
   "source": [
    "import torch\n",
    "data = torch.cat((torch.tensor(thr_x).view(-1,1), torch.tensor(thr).view(-1,1)), dim=1).tolist()\n",
    "\n",
    "import csv\n",
    "with open('../export/thr_new.csv', 'w') as csvfile: #, newline=''\n",
    "    spamwriter = csv.writer(csvfile, delimiter=' ',\n",
    "                            quotechar='|', quoting=csv.QUOTE_MINIMAL)\n",
    "    spamwriter.writerows(data)"
   ],
   "metadata": {
    "collapsed": false,
    "pycharm": {
     "name": "#%%\n"
    }
   }
  },
  {
   "cell_type": "code",
   "execution_count": null,
   "outputs": [],
   "source": [],
   "metadata": {
    "collapsed": false,
    "pycharm": {
     "name": "#%%\n"
    }
   }
  }
 ],
 "metadata": {
  "kernelspec": {
   "display_name": "Python 3",
   "language": "python",
   "name": "python3"
  },
  "language_info": {
   "codemirror_mode": {
    "name": "ipython",
    "version": 2
   },
   "file_extension": ".py",
   "mimetype": "text/x-python",
   "name": "python",
   "nbconvert_exporter": "python",
   "pygments_lexer": "ipython2",
   "version": "2.7.6"
  }
 },
 "nbformat": 4,
 "nbformat_minor": 0
}