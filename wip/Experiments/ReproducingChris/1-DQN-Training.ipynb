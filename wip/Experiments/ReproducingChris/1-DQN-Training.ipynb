{
 "cells": [
  {
   "cell_type": "code",
   "execution_count": 1,
   "outputs": [],
   "source": [
    "import torch\n",
    "import torch.optim as optim\n",
    "import os\n",
    "import sys\n",
    "import random\n",
    "import matplotlib.pyplot as plt\n",
    "# hack to perform relative imports\n",
    "sys.path.append('../')\n",
    "from ChrisCode import train_agent, SQN\n",
    "import time\n"
   ],
   "metadata": {
    "collapsed": false,
    "pycharm": {
     "name": "#%%\n",
     "is_executing": false
    }
   }
  },
  {
   "cell_type": "markdown",
   "metadata": {},
   "source": [
    "We define the seeds, hyperparameters and initial weights to values that reached the Open AI gym standard succesfully. This should make the results reproducible if you install the virtual environment specified in requirements.txt\n",
    "\n"
   ]
  },
  {
   "cell_type": "code",
   "execution_count": 2,
   "metadata": {
    "pycharm": {
     "is_executing": false
    }
   },
   "outputs": [],
   "source": [
    "torch.backends.cudnn.deterministic = True\n",
    "import numpy as np\n",
    "np.random.seed(1)"
   ]
  },
  {
   "cell_type": "code",
   "execution_count": 3,
   "metadata": {
    "pycharm": {
     "is_executing": false
    }
   },
   "outputs": [
    {
     "data": {
      "text/plain": "False"
     },
     "metadata": {},
     "output_type": "execute_result",
     "execution_count": 3
    }
   ],
   "source": [
    "torch.backends.cudnn.benchmark"
   ]
  },
  {
   "cell_type": "markdown",
   "metadata": {},
   "source": [
    "Next, we define the environment and all the hyperparameters for a non-spiking Q-network. We then set up the result directory. "
   ]
  },
  {
   "cell_type": "code",
   "execution_count": 4,
   "metadata": {
    "pycharm": {
     "is_executing": false
    }
   },
   "outputs": [],
   "source": [
    "#CartPole\n",
    "env = 'CartPole-v0'\n",
    "\n",
    "#hyperparameters\n",
    "BATCH_SIZE = 128\n",
    "DISCOUNT_FACTOR = 0.999\n",
    "EPSILON_START = 1.0\n",
    "EPSILON_END = 0.05\n",
    "EPSILON_DECAY = 0.999\n",
    "TARGET_UPDATE_FREQUENCY = 10\n",
    "LEARNING_RATE = 0.001\n",
    "REPLAY_MEMORY_SIZE = 4*10**4\n",
    "# minimum size of the replay memory before the training starts\n",
    "INITIAL_REPLAY_SIZE = 0\n",
    "# the gym standard for CartPole (\"solving\" it) is to achieve a 100-episode average of <=195 for 100 consecutive episodes\n",
    "GYM_TARGET_AVG = 195\n",
    "GYM_TARGET_DURATION = 100\n",
    "# maximum number of steps before the environment is reset\n",
    "MAX_STEPS = 200\n",
    "# number of episodes to train the agent\n",
    "NUM_EPISODES = 20 #TODO: change\n",
    "# whether to use Double Q Learning and Gradient Clipping\n",
    "DOUBLE_Q = True\n",
    "GRADIENT_CLIPPING = True\n",
    "# whether to render the environment\n",
    "RENDER = False\n",
    "\n",
    "# device: automatically runs on GPU, if a GPU is detected, else uses CPU\n",
    "#device = torch.device(\"cuda\" if torch.cuda.is_available() else \"cpu\")\n",
    "device = torch.device(\"cuda\")"
   ]
  },
  {
   "cell_type": "markdown",
   "metadata": {},
   "source": []
  },
  {
   "cell_type": "markdown",
   "metadata": {},
   "source": [
    "### Training of a spiking DQN or DSQN\n",
    "Next, we train a DSQN using the same hyperparameters as far as possible. That is, all hyperparameters are the same, but we need to define some additional hyperparameters. We adapted the surrogate gradient algorithm we use for the direct training from the SpyTorch jupyter notebooks (available from https://github.com/fzenke/spytorch as of 06.12.2019)."
   ]
  },
  {
   "cell_type": "code",
   "execution_count": 5,
   "metadata": {
    "pycharm": {
     "is_executing": false
    }
   },
   "outputs": [],
   "source": [
    "# First we set up a new sub directory\n",
    "\n",
    "# We use a non-leaky integrate-and-fire neuron\n",
    "ALPHA = 0\n",
    "BETA = 1\n",
    "# Simulation time is chosen relatively short, such that the network does not need too much time to run, but not too short,\n",
    "# such that it can still learn something\n",
    "SIMULATION_TIME = 20\n",
    "# We also have to define the input/output and reset methods, to our knowledge, SpyTorch supports only potential outputs \n",
    "# and reset-by-subtraction. As input method we use constant input currents. It would be interesting to see if SpyTorch\n",
    "# can also use reset-to-zero, as this would make it more similar to the iaf_delta models in NEST and SpyNNaker\n",
    "ENCODING = 'constant'\n",
    "DECODING = 'potential'\n",
    "RESET = 'subtraction'\n",
    "# SpyTorch uses a fixed threshold of one, we didn't test other thresholds, but should be possible\n",
    "THRESHOLD = 1"
   ]
  },
  {
   "cell_type": "markdown",
   "metadata": {},
   "source": [
    "We again set the seeds in a way such that the gym standard is reached. We obtained those seed from our experiments, where we saved the seeds upon succesfully reaching the gym standard."
   ]
  },
  {
   "cell_type": "code",
   "execution_count": 6,
   "metadata": {
    "pycharm": {
     "is_executing": false
    }
   },
   "outputs": [],
   "source": [
    "# alternatively use the seeds gym: 240, torch: 18, random: 626 and a learning rate of 0.0005 \n",
    "# to get the same results as figure 4.9 in the thesis\n",
    "torch.manual_seed(467)\n",
    "random.seed(208)\n",
    "gym_seed = 216\n"
   ]
  },
  {
   "cell_type": "markdown",
   "metadata": {},
   "source": [
    "Now, we set up the neural network. Note, that SpyTorch does not support biases, so we instead add a constant input to each observation (equivalent to first layer biases) and add one additional neuron to each hidden layer to compensate for the missing biases."
   ]
  },
  {
   "cell_type": "code",
   "execution_count": 7,
   "metadata": {
    "pycharm": {
     "is_executing": false
    }
   },
   "outputs": [],
   "source": [
    "architecture = [4,17,17,2]\n",
    "policy_net = SQN.SQN(architecture,device,alpha=ALPHA,beta=BETA,simulation_time=SIMULATION_TIME,add_bias_as_observation=True,\n",
    "                  encoding=ENCODING,decoding=DECODING,reset=RESET,threshold=THRESHOLD)\n",
    "# load the fixed initial weights, remove this line to get random initial weights\n",
    "#policy_net.load_state_dict(torch.load('./../../CartPole-v0/DSQN-Surrogate-Gradients/initial/model.pt'))\n",
    "\n",
    "target_net = SQN.SQN(architecture,device,alpha=0,beta=1,simulation_time=SIMULATION_TIME,add_bias_as_observation=True,\n",
    "                  encoding=ENCODING,decoding=DECODING,reset=RESET,threshold=THRESHOLD)\n",
    "target_net.load_state_dict(policy_net.state_dict())\n",
    "\n",
    "# initialize optimizer\n",
    "#optimizer = optim.Adam(policy_net.parameters(), lr=LEARNING_RATE)\n",
    "\n"
   ]
  },
  {
   "cell_type": "markdown",
   "metadata": {},
   "source": [
    "The plot again shows the rewards in each episode (blue) and the average reward over the last 100 episodes (orange).\n",
    "\n",
    "The next experiment in this series is Load-DQN."
   ]
  },
  {
   "cell_type": "code",
   "execution_count": 8,
   "outputs": [
    {
     "name": "stdout",
     "text": [
      "torch.Size([5, 17])\n",
      "torch.Size([17, 17])\n",
      "torch.Size([17, 2])\n"
     ],
     "output_type": "stream"
    }
   ],
   "source": [
    "for l in policy_net.parameters():#.state_dict()[0]:\n",
    "    print(l.shape)"
   ],
   "metadata": {
    "collapsed": false,
    "pycharm": {
     "name": "#%%\n",
     "is_executing": false
    }
   }
  },
  {
   "cell_type": "code",
   "execution_count": 9,
   "outputs": [],
   "source": [
    "from Code import SNN"
   ],
   "metadata": {
    "collapsed": false,
    "pycharm": {
     "name": "#%%\n",
     "is_executing": false
    }
   }
  },
  {
   "cell_type": "code",
   "execution_count": 10,
   "outputs": [],
   "source": [
    "architecture = [4,17,17,2]\n",
    "\n",
    "neuron_params = {\n",
    "    'threshold': 1,\n",
    "    'alpha': ALPHA,\n",
    "    'beta': BETA,\n",
    "    'reset_zero': False\n",
    "}\n",
    "\n",
    "my_net = SNN.FeedForwardSNN(architecture, SNN.LIFNeuron, neuron_params, SNN.SuperSpike.apply, SNN.PotentialNeuron)\n",
    "my_target_net = SNN.FeedForwardSNN(architecture, SNN.LIFNeuron, neuron_params, SNN.SuperSpike.apply, SNN.PotentialNeuron)"
   ],
   "metadata": {
    "collapsed": false,
    "pycharm": {
     "name": "#%%\n",
     "is_executing": false
    }
   }
  },
  {
   "cell_type": "code",
   "execution_count": 11,
   "outputs": [],
   "source": [
    "'''\n",
    "mp = list(my_net.parameters())\n",
    "hp = list(policy_net.parameters())\n",
    "mp[0].data = hp[0].data.T.detach().clone()\n",
    "mp[1].data = hp[1].data.T.detach().clone()\n",
    "mp[2].data = hp[2].data.T.detach().clone()\n",
    "mp = list(my_target_net.parameters())\n",
    "mp[0].data = hp[0].data.T.detach().clone()\n",
    "mp[1].data = hp[1].data.T.detach().clone()\n",
    "mp[2].data = hp[2].data.T.detach().clone()\n",
    "'''\n",
    "\n",
    "mp = list(my_net.parameters())\n",
    "hp = list(policy_net.parameters())\n",
    "mp[0].data = hp[0].data.detach().clone()\n",
    "mp[1].data = hp[1].data.detach().clone()\n",
    "mp[2].data = hp[2].data.detach().clone()\n",
    "mp = list(my_target_net.parameters())\n",
    "mp[0].data = hp[0].data.detach().clone()\n",
    "mp[1].data = hp[1].data.detach().clone()\n",
    "mp[2].data = hp[2].data.detach().clone()\n"
   ],
   "metadata": {
    "collapsed": false,
    "pycharm": {
     "name": "#%%\n",
     "is_executing": false
    }
   }
  },
  {
   "cell_type": "code",
   "execution_count": 12,
   "outputs": [
    {
     "name": "stdout",
     "text": [
      "-------------------------------------------------------------------------\n",
      "-------------------------------------------------------------------------\n",
      "tensor([[0., 0.],\n",
      "        [0., 0.]], device='cuda:0', grad_fn=<SubBackward0>)\n",
      "0.024960914626717567\n",
      "0.024960914626717567\n"
     ],
     "output_type": "stream"
    }
   ],
   "source": [
    "testinp = torch.tensor([[.1,.1,.1,1], [.1,.3,.2,1]], dtype=torch.float, device=device)\n",
    "myout = my_net(testinp, None)\n",
    "print(\"-------------------------------------------------------------------------\")\n",
    "chrisout = policy_net.forward(testinp)\n",
    "my_net.zero_grad()\n",
    "policy_net.zero_grad()\n",
    "myout.sum().backward()\n",
    "print(\"-------------------------------------------------------------------------\")\n",
    "chrisout.sum().backward()\n",
    "print(myout-chrisout)\n",
    "print(list(my_net.parameters())[0].grad[0,0].item())\n",
    "print(list(policy_net.parameters())[0].grad[0,0].item())\n",
    "\n"
   ],
   "metadata": {
    "collapsed": false,
    "pycharm": {
     "name": "#%%\n",
     "is_executing": false
    }
   }
  },
  {
   "cell_type": "code",
   "execution_count": 12,
   "outputs": [],
   "source": [
    "\n",
    "\n"
   ],
   "metadata": {
    "collapsed": false,
    "pycharm": {
     "name": "#%%\n",
     "is_executing": false
    }
   }
  },
  {
   "cell_type": "markdown",
   "source": [
    "In the next cell, the agent is trained. The function we use, is exactly the same as for the DQN, the only difference is that the model we pass now is an instance of our SQN class, rather than the PyTorch neural network base class.\n",
    "\n",
    "Failed to reach OpenAIGymStandard\n",
    "Best 100 episode average:  tensor(81.9500)  reached at episode  109 . Model saved in folder best.\n",
    "Complete\n"
   ],
   "metadata": {
    "collapsed": false
   }
  },
  {
   "cell_type": "code",
   "execution_count": 13,
   "outputs": [
    {
     "data": {
      "text/plain": "<Figure size 432x288 with 1 Axes>",
      "image/png": "[encoded data removed]"
     },
     "metadata": {},
     "output_type": "display_data"
    },
    {
     "name": "stdout",
     "text": [
      "Failed to reach OpenAIGymStandard\n",
      "Best 100 episode average:  -inf  reached at episode  inf . Model saved in folder best.\n",
      "Complete\n"
     ],
     "output_type": "stream"
    },
    {
     "data": {
      "text/plain": "<Figure size 432x288 with 1 Axes>",
      "image/png": "[encoded data removed]"
     },
     "metadata": {
      "needs_background": "light"
     },
     "output_type": "display_data"
    }
   ],
   "source": [
    "torch.manual_seed(467)\n",
    "random.seed(208)\n",
    "gym_seed = 216\n",
    "\n",
    "optimizer = optim.Adam(policy_net.parameters(), lr=LEARNING_RATE)\n",
    "start = time.time()\n",
    "train_agent.train_agent(env,policy_net,target_net,BATCH_SIZE,DISCOUNT_FACTOR,EPSILON_START,\n",
    "            EPSILON_END,EPSILON_DECAY,TARGET_UPDATE_FREQUENCY,optimizer,LEARNING_RATE,\n",
    "            REPLAY_MEMORY_SIZE,device,GYM_TARGET_AVG,GYM_TARGET_DURATION,num_episodes=NUM_EPISODES,\n",
    "            max_steps=MAX_STEPS,render=RENDER,double_q_learning=DOUBLE_Q,gradient_clipping=GRADIENT_CLIPPING,\n",
    "            initial_replay_size=INITIAL_REPLAY_SIZE,gym_seed=gym_seed)\n",
    "\n",
    "chris_policy = policy_net\n",
    "chris_target = target_net"
   ],
   "metadata": {
    "collapsed": false,
    "pycharm": {
     "name": "#%%\n",
     "is_executing": false
    }
   }
  },
  {
   "cell_type": "code",
   "execution_count": 14,
   "outputs": [
    {
     "data": {
      "text/plain": "49.31044578552246"
     },
     "metadata": {},
     "output_type": "execute_result",
     "execution_count": 14
    }
   ],
   "source": [
    "time.time()-start"
   ],
   "metadata": {
    "collapsed": false,
    "pycharm": {
     "name": "#%%\n",
     "is_executing": false
    }
   }
  },
  {
   "cell_type": "code",
   "execution_count": 15,
   "outputs": [
    {
     "data": {
      "text/plain": "<Figure size 432x288 with 1 Axes>",
      "image/png": "[encoded data removed]"
     },
     "metadata": {},
     "output_type": "display_data"
    },
    {
     "name": "stdout",
     "text": [
      "Failed to reach OpenAIGymStandard\n",
      "Best 100 episode average:  -inf  reached at episode  inf . Model saved in folder best.\n",
      "Complete\n"
     ],
     "output_type": "stream"
    },
    {
     "data": {
      "text/plain": "<Figure size 432x288 with 1 Axes>",
      "image/png": "[encoded data removed]"
     },
     "metadata": {
      "needs_background": "light"
     },
     "output_type": "display_data"
    }
   ],
   "source": [
    "policy_net = my_net\n",
    "target_net = my_target_net\n",
    "\n",
    "torch.manual_seed(467)\n",
    "random.seed(208)\n",
    "gym_seed = 216\n",
    "\n",
    "optimizer = optim.Adam(policy_net.parameters(), lr=LEARNING_RATE)\n",
    "start = time.time()\n",
    "train_agent.train_agent(env,policy_net,target_net,BATCH_SIZE,DISCOUNT_FACTOR,EPSILON_START,\n",
    "            EPSILON_END,EPSILON_DECAY,TARGET_UPDATE_FREQUENCY,optimizer,LEARNING_RATE,\n",
    "            REPLAY_MEMORY_SIZE,device,GYM_TARGET_AVG,GYM_TARGET_DURATION,num_episodes=NUM_EPISODES,\n",
    "            max_steps=MAX_STEPS,render=RENDER,double_q_learning=DOUBLE_Q,gradient_clipping=GRADIENT_CLIPPING,\n",
    "            initial_replay_size=INITIAL_REPLAY_SIZE,gym_seed=gym_seed)"
   ],
   "metadata": {
    "collapsed": false,
    "pycharm": {
     "name": "#%%\n",
     "is_executing": false
    }
   }
  },
  {
   "cell_type": "code",
   "execution_count": 16,
   "outputs": [
    {
     "data": {
      "text/plain": "40.78834009170532"
     },
     "metadata": {},
     "output_type": "execute_result",
     "execution_count": 16
    }
   ],
   "source": [
    "time.time()-start"
   ],
   "metadata": {
    "collapsed": false,
    "pycharm": {
     "name": "#%%\n",
     "is_executing": false
    }
   }
  },
  {
   "cell_type": "code",
   "execution_count": 17,
   "outputs": [
    {
     "name": "stdout",
     "text": [
      "3.1065752506256104\n",
      "3.1065752506256104\n"
     ],
     "output_type": "stream"
    }
   ],
   "source": [
    "testinp = torch.tensor([[.1,.1,.1,1]], dtype=torch.float, device=device)\n",
    "print(chris_policy.forward(testinp)[0,0].item())\n",
    "print(policy_net.forward(testinp)[0,0].item())\n"
   ],
   "metadata": {
    "collapsed": false,
    "pycharm": {
     "name": "#%%\n",
     "is_executing": false
    }
   }
  },
  {
   "cell_type": "code",
   "execution_count": 18,
   "outputs": [
    {
     "name": "stdout",
     "text": [
      "1.088164481188869e-06\n",
      "1.088164481188869e-06\n"
     ],
     "output_type": "stream"
    }
   ],
   "source": [
    "print(list(chris_policy.parameters())[1].grad[1,0].item())\n",
    "\n",
    "print(list(policy_net.parameters())[1].grad[1,0].item())\n"
   ],
   "metadata": {
    "collapsed": false,
    "pycharm": {
     "name": "#%%\n",
     "is_executing": false
    }
   }
  },
  {
   "cell_type": "code",
   "execution_count": 19,
   "outputs": [
    {
     "name": "stdout",
     "text": [
      "-0.013502679765224457\n",
      "-0.013502679765224457\n"
     ],
     "output_type": "stream"
    }
   ],
   "source": [
    "print(list(chris_policy.parameters())[0].grad[1,1].item())\n",
    "\n",
    "print(list(policy_net.parameters())[0].grad[1,1].item())"
   ],
   "metadata": {
    "collapsed": false,
    "pycharm": {
     "name": "#%%\n",
     "is_executing": false
    }
   }
  },
  {
   "cell_type": "code",
   "execution_count": 20,
   "outputs": [
    {
     "data": {
      "text/plain": "-0.030953243374824524"
     },
     "metadata": {},
     "output_type": "execute_result",
     "execution_count": 20
    }
   ],
   "source": [
    "\n",
    "chris_policy.parameters()[0][0,0].item()"
   ],
   "metadata": {
    "collapsed": false,
    "pycharm": {
     "name": "#%%\n",
     "is_executing": false
    }
   }
  },
  {
   "cell_type": "code",
   "execution_count": 21,
   "outputs": [
    {
     "data": {
      "text/plain": "-0.030953243374824524"
     },
     "metadata": {},
     "output_type": "execute_result",
     "execution_count": 21
    }
   ],
   "source": [
    "list(policy_net.parameters())[0][0,0].item()"
   ],
   "metadata": {
    "collapsed": false,
    "pycharm": {
     "name": "#%%\n",
     "is_executing": false
    }
   }
  }
 ],
 "metadata": {
  "kernelspec": {
   "display_name": "Python 3",
   "language": "python",
   "name": "python3"
  },
  "language_info": {
   "codemirror_mode": {
    "name": "ipython",
    "version": 3
   },
   "file_extension": ".py",
   "mimetype": "text/x-python",
   "name": "python",
   "nbconvert_exporter": "python",
   "pygments_lexer": "ipython3",
   "version": "3.6.9"
  },
  "pycharm": {
   "stem_cell": {
    "cell_type": "raw",
    "source": [],
    "metadata": {
     "collapsed": false
    }
   }
  }
 },
 "nbformat": 4,
 "nbformat_minor": 2
}