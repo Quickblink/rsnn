{
 "cells": [
  {
   "cell_type": "code",
   "execution_count": 1,
   "metadata": {
    "collapsed": true
   },
   "outputs": [
    {
     "name": "stdout",
     "output_type": "stream",
     "text": [
      "Using matplotlib backend: TkAgg\n"
     ]
    }
   ],
   "source": [
    "import pickle\n",
    "from matplotlib import pyplot as plt\n",
    "import torch\n",
    "import json\n",
    "%matplotlib"
   ]
  },
  {
   "cell_type": "code",
   "execution_count": 21,
   "outputs": [
    {
     "data": {
      "text/plain": "<matplotlib.legend.Legend at 0x7f666af9f978>"
     },
     "execution_count": 21,
     "metadata": {},
     "output_type": "execute_result"
    }
   ],
   "source": [
    "n = 288#183#75\n",
    "ids = [f'auto1_{x}' for x in range(n)]\n",
    "\n",
    "stats = {}\n",
    "spk_fn = {}\n",
    "\n",
    "for id in ids:\n",
    "    with open(f'../../configs/{id}.json', 'r') as config_file:\n",
    "        config = json.load(config_file)\n",
    "        stats[id] = config['stats']\n",
    "        spk_fn[id] = 'blue' if config['params']['control_neuron'] == 'LIF' else ('red' if config['params']['control_neuron'] == 'NoReset' else 'green')\n",
    "\n",
    "to_plot = 'val'\n",
    "plt.figure(figsize=(10,10))\n",
    "for id in ids:\n",
    "    data = stats[id][to_plot]\n",
    "    plt.plot(range(len(data)), data, label=id, color=spk_fn[id])\n",
    "#plt.ylim(0.9, 1)\n",
    "plt.grid()\n",
    "plt.legend()"
   ],
   "metadata": {
    "collapsed": false,
    "pycharm": {
     "name": "#%%\n"
    }
   }
  },
  {
   "cell_type": "code",
   "execution_count": 6,
   "outputs": [],
   "source": [
    "n = 41\n",
    "\n",
    "#ids = ['config2', 'config32'] + [f'top1_{x}' for x in range(2)]+['lstm1', 'lstm2'] \\\n",
    "#         + ['lifonlynr1','lifonlynr2','lifonlyr1','lifonlyr2']#['flip_config1', 'flip_config1d']\n",
    "        #+ ['topnew0_1', 'topnew0_1d', 'topnew2_1', 'topnew2_1d']\n",
    "ids = ['sm_adap0', 'sm_adap1', 'sm_adap2', 'sm_cd0', 'sm_cd1', 'sm_cd2']\n",
    "ids = [f'sm_adap{x}' for x in range(3, 8)]# +\n",
    "ids = [f'sm_cd{x}' for x in range(3, 8)]\n",
    "ids = [f'sm_adap_durs{x}' for x in range(11)]\n",
    "ids = [f'sm_cd_adj{x}' for x in range(4)]\n",
    "\n",
    "#ids = ['config2', 'top1_0', 'lifonlynr1', 'lstm1', 'lstm2'] + [f'top1_{x}' for x in range(2)]\n",
    "\n",
    "#ids = ['config2', 'config7', 'config10']\n",
    "#ids = [f'config{x}' for x in range(2,n)]\n",
    "#ids = ['config'+str(x) for x in range(32,n)]+['config2']\n",
    "\n",
    "stats = {}\n",
    "\n",
    "#stats = pickle.load(open('../../stats_2', 'rb'))\n",
    "#stats = pickle.load(open('loc_stats', 'rb'))\n",
    "for id in ids:\n",
    "    with open(f'../../configs/{id}.json', 'r') as config_file:\n",
    "        config = json.load(config_file)\n",
    "        stats[id] = config['stats']"
   ],
   "metadata": {
    "collapsed": false,
    "pycharm": {
     "name": "#%%\n"
    }
   }
  },
  {
   "cell_type": "code",
   "execution_count": 4,
   "outputs": [
    {
     "data": {
      "text/plain": "<matplotlib.legend.Legend at 0x7fa96dcc6588>"
     },
     "execution_count": 4,
     "metadata": {},
     "output_type": "execute_result"
    }
   ],
   "source": [
    "resolution = 100\n",
    "to_plot = 'acc'\n",
    "for id in ids:\n",
    "    data = stats[id][to_plot]\n",
    "    means = torch.tensor(data[:(len(data)//resolution)*resolution]).view(-1, resolution).mean(dim=1)\n",
    "    plt.plot(range(len(means)), means, label=id)\n",
    "plt.legend()"
   ],
   "metadata": {
    "collapsed": false,
    "pycharm": {
     "name": "#%%\n"
    }
   }
  },
  {
   "cell_type": "code",
   "execution_count": 7,
   "outputs": [
    {
     "data": {
      "text/plain": "Text(0, 0.5, 'Validation Accuracy')"
     },
     "execution_count": 7,
     "metadata": {},
     "output_type": "execute_result"
    }
   ],
   "source": [
    "#ids2 = ['config2', 'config32']\n",
    "ids2 = ids\n",
    "\n",
    "to_plot = 'val'\n",
    "plt.figure(figsize=(10,10))\n",
    "for id in ids2:\n",
    "    data = stats[id][to_plot]\n",
    "    plt.plot(range(len(data)), data, label=id)\n",
    "#plt.ylim(0.9, 1)\n",
    "plt.grid()\n",
    "plt.legend()\n",
    "plt.title('Sequential MNIST')\n",
    "plt.xlabel('Epochs')\n",
    "plt.ylabel('Validation Accuracy')"
   ],
   "metadata": {
    "collapsed": false,
    "pycharm": {
     "name": "#%%\n"
    }
   }
  },
  {
   "cell_type": "code",
   "execution_count": 4,
   "outputs": [
    {
     "ename": "KeyError",
     "evalue": "'grad_norm'",
     "output_type": "error",
     "traceback": [
      "\u001B[0;31m---------------------------------------------------------------------------\u001B[0m",
      "\u001B[0;31mKeyError\u001B[0m                                  Traceback (most recent call last)",
      "\u001B[0;32m<ipython-input-4-543dba8625d4>\u001B[0m in \u001B[0;36m<module>\u001B[0;34m\u001B[0m\n\u001B[0;32m----> 1\u001B[0;31m \u001B[0mplt\u001B[0m\u001B[0;34m.\u001B[0m\u001B[0mplot\u001B[0m\u001B[0;34m(\u001B[0m\u001B[0mrange\u001B[0m\u001B[0;34m(\u001B[0m\u001B[0mlen\u001B[0m\u001B[0;34m(\u001B[0m\u001B[0mstats\u001B[0m\u001B[0;34m[\u001B[0m\u001B[0;34m'grad_norm'\u001B[0m\u001B[0;34m]\u001B[0m\u001B[0;34m)\u001B[0m\u001B[0;34m)\u001B[0m\u001B[0;34m,\u001B[0m \u001B[0mstats\u001B[0m\u001B[0;34m[\u001B[0m\u001B[0;34m'grad_norm'\u001B[0m\u001B[0;34m]\u001B[0m\u001B[0;34m)\u001B[0m\u001B[0;34m\u001B[0m\u001B[0;34m\u001B[0m\u001B[0m\n\u001B[0m\u001B[1;32m      2\u001B[0m \u001B[0mplt\u001B[0m\u001B[0;34m.\u001B[0m\u001B[0mylim\u001B[0m\u001B[0;34m(\u001B[0m\u001B[0;36m0.9\u001B[0m\u001B[0;34m,\u001B[0m \u001B[0;36m1\u001B[0m\u001B[0;34m)\u001B[0m\u001B[0;34m\u001B[0m\u001B[0;34m\u001B[0m\u001B[0m\n\u001B[1;32m      3\u001B[0m \u001B[0;34m\u001B[0m\u001B[0m\n",
      "\u001B[0;31mKeyError\u001B[0m: 'grad_norm'"
     ]
    }
   ],
   "source": [
    "plt.plot(range(len(stats['grad_norm'])), stats['grad_norm'])"
   ],
   "metadata": {
    "collapsed": false,
    "pycharm": {
     "name": "#%%\n"
    }
   }
  },
  {
   "cell_type": "code",
   "execution_count": null,
   "outputs": [],
   "source": [
    "torch.tensor(stats['grad_norm']).mean()"
   ],
   "metadata": {
    "collapsed": false,
    "pycharm": {
     "name": "#%%\n"
    }
   }
  },
  {
   "cell_type": "code",
   "execution_count": null,
   "outputs": [],
   "source": [
    "torch.tensor(stats['grad_norm']).var().sqrt()"
   ],
   "metadata": {
    "collapsed": false,
    "pycharm": {
     "name": "#%%\n"
    }
   }
  },
  {
   "cell_type": "code",
   "execution_count": 6,
   "outputs": [
    {
     "data": {
      "text/plain": "tensor(0.0888)"
     },
     "execution_count": 7,
     "metadata": {},
     "output_type": "execute_result"
    }
   ],
   "source": [
    "(torch.tensor(stats['grad_norm']) > 0.15).float().mean()"
   ],
   "metadata": {
    "collapsed": false,
    "pycharm": {
     "name": "#%%\n"
    }
   }
  },
  {
   "cell_type": "code",
   "execution_count": 9,
   "outputs": [
    {
     "data": {
      "text/plain": "tensor(0.0357)"
     },
     "execution_count": 9,
     "metadata": {},
     "output_type": "execute_result"
    }
   ],
   "source": [
    "torch.tensor(stats['grad_norm']).var().sqrt()"
   ],
   "metadata": {
    "collapsed": false,
    "pycharm": {
     "name": "#%%\n"
    }
   }
  },
  {
   "cell_type": "code",
   "execution_count": 12,
   "outputs": [
    {
     "data": {
      "text/plain": "tensor(0.0625)"
     },
     "execution_count": 12,
     "metadata": {},
     "output_type": "execute_result"
    }
   ],
   "source": [
    "(torch.tensor(stats['grad_norm']) > 0.15).float().mean()"
   ],
   "metadata": {
    "collapsed": false,
    "pycharm": {
     "name": "#%%\n"
    }
   }
  },
  {
   "cell_type": "code",
   "execution_count": 15,
   "outputs": [
    {
     "data": {
      "text/plain": "tensor([0.1405, 0.1461, 0.1507, 0.1256, 0.1128, 0.1055, 0.0981, 0.0980, 0.0893,\n        0.0898, 0.0906, 0.0917, 0.0862, 0.0869, 0.0902, 0.0855, 0.0865, 0.0818,\n        0.0808, 0.0849, 0.0787, 0.0757, 0.0788, 0.0754, 0.0790, 0.0746, 0.0763,\n        0.0733, 0.0725, 0.0736, 0.0712, 0.0719, 0.0693, 0.0686, 0.0710, 0.0675])"
     },
     "execution_count": 15,
     "metadata": {},
     "output_type": "execute_result"
    }
   ],
   "source": [
    "torch.tensor(stats['grad_norm']).view(36, 1001).mean(dim=1)"
   ],
   "metadata": {
    "collapsed": false,
    "pycharm": {
     "name": "#%%\n"
    }
   }
  },
  {
   "cell_type": "code",
   "execution_count": 12,
   "outputs": [
    {
     "data": {
      "text/plain": "[<matplotlib.lines.Line2D at 0x7f29a0c39ba8>]"
     },
     "execution_count": 12,
     "metadata": {},
     "output_type": "execute_result"
    }
   ],
   "source": [
    "import numpy as np\n",
    "hh = np.array(range(1,15))\n",
    "plt.plot(hh*25, 0.01 * 0.6**hh)\n",
    "plt.plot(hh*25, 0.001*0.8**hh)\n",
    "plt.plot(hh*25, 0.01*0.65**hh)"
   ],
   "metadata": {
    "collapsed": false,
    "pycharm": {
     "name": "#%%\n"
    }
   }
  },
  {
   "cell_type": "code",
   "execution_count": 1,
   "outputs": [],
   "source": [
    "id = 'config3'\n",
    "f = open('../../configs/'+id+'.json', 'r')"
   ],
   "metadata": {
    "collapsed": false,
    "pycharm": {
     "name": "#%%\n"
    }
   }
  },
  {
   "cell_type": "code",
   "execution_count": 3,
   "outputs": [
    {
     "data": {
      "text/plain": "_io.TextIOWrapper"
     },
     "execution_count": 3,
     "metadata": {},
     "output_type": "execute_result"
    }
   ],
   "source": [
    "type(f)"
   ],
   "metadata": {
    "collapsed": false,
    "pycharm": {
     "name": "#%%\n"
    }
   }
  },
  {
   "cell_type": "code",
   "execution_count": 5,
   "outputs": [
    {
     "data": {
      "text/plain": "<_io.TextIOWrapper name='../../configs/config3.json' mode='r' encoding='UTF-8'>"
     },
     "execution_count": 5,
     "metadata": {},
     "output_type": "execute_result"
    }
   ],
   "source": [
    "f.__enter__()"
   ],
   "metadata": {
    "collapsed": false,
    "pycharm": {
     "name": "#%%\n"
    }
   }
  },
  {
   "cell_type": "code",
   "execution_count": 16,
   "outputs": [
    {
     "data": {
      "text/plain": "[(0.8918685913085938,\n  'config40',\n  {'spkfn': 'ss',\n   'spkconfig': 0,\n   'architecture': '2L',\n   'beta': 0.9,\n   'mem_beta': 1,\n   'control_neuron': 'NoReset',\n   'mem_neuron': 'NoReset',\n   'lr': 0.003,\n   'lr_decay': 0.9,\n   '1-beta': False,\n   'decay_out': False,\n   'ported_weights': False,\n   'NoBias': False}),\n (0.8421854972839355,\n  'config39',\n  {'spkfn': 'ss',\n   'spkconfig': 0,\n   'architecture': '2L',\n   'beta': 0.9,\n   'mem_beta': 1,\n   'control_neuron': 'LIF',\n   'mem_neuron': 'NoReset',\n   'lr': 0.003,\n   'lr_decay': 0.9,\n   '1-beta': False,\n   'decay_out': False,\n   'ported_weights': False,\n   'NoBias': False}),\n (0.6864736080169678,\n  'config21',\n  {'spkfn': 'bellec',\n   'spkconfig': 0,\n   'architecture': '1L',\n   'beta': 0.95,\n   'control_neuron': 'LIF',\n   'mem_neuron': 'NoReset',\n   'lr': 0.001,\n   'lr_decay': 0.8,\n   '1-beta': False,\n   'decay_out': True,\n   'ported_weights': True,\n   'NoBias': False}),\n (0.6432637572288513,\n  'config20',\n  {'spkfn': 'bellec',\n   'spkconfig': 0,\n   'architecture': '1L',\n   'beta': 0.95,\n   'control_neuron': 'LIF',\n   'mem_neuron': 'NoReset',\n   'lr': 0.001,\n   'lr_decay': 0.8,\n   '1-beta': False,\n   'decay_out': True,\n   'ported_weights': True,\n   'NoBias': True}),\n (0.36500120162963867,\n  'config22',\n  {'spkfn': 'bellec',\n   'spkconfig': 0,\n   'architecture': '1L',\n   'beta': 0.95,\n   'control_neuron': 'LIF',\n   'mem_neuron': 'NoReset',\n   'lr': 0.001,\n   'lr_decay': 0.8,\n   '1-beta': False,\n   'decay_out': False,\n   'ported_weights': True,\n   'NoBias': True}),\n (0.30570992827415466,\n  'config23',\n  {'spkfn': 'bellec',\n   'spkconfig': 0,\n   'architecture': '1L',\n   'beta': 0.95,\n   'control_neuron': 'NoReset',\n   'mem_neuron': 'NoReset',\n   'lr': 0.001,\n   'lr_decay': 0.8,\n   '1-beta': False,\n   'decay_out': True,\n   'ported_weights': True,\n   'NoBias': True})]"
     },
     "execution_count": 16,
     "metadata": {},
     "output_type": "execute_result"
    }
   ],
   "source": [
    "n = 288#75\n",
    "#ids = ['auto1_'+str(x) for x in range(n)]\n",
    "ids = [f'config{x}' for x in range(41)]\n",
    "high_scores = []\n",
    "\n",
    "\n",
    "for id in ids:\n",
    "    with open('../../configs/'+id+'.json', 'r') as config_file:\n",
    "        config = json.load(config_file)\n",
    "        if config['params']['mem_neuron'] == 'NoReset': # and config['params']['mem_beta'] == 1\n",
    "            high_scores.append((config['stats']['val'][-1], id,config['params']))\n",
    "\n",
    "sorted(high_scores, key=(lambda x : x[0]), reverse=True)"
   ],
   "metadata": {
    "collapsed": false,
    "pycharm": {
     "name": "#%%\n"
    }
   }
  },
  {
   "cell_type": "code",
   "execution_count": 6,
   "outputs": [
    {
     "data": {
      "text/plain": "(0.9, 1)"
     },
     "execution_count": 6,
     "metadata": {},
     "output_type": "execute_result"
    }
   ],
   "source": [
    "names = {\n",
    "    'config2': 'Adaptive',\n",
    "    'top1_0': 'NoReset',\n",
    "    'lstm1': 'LSTM (ANN)'\n",
    "}\n",
    "plt.figure(figsize=(10,10))\n",
    "for id in names:\n",
    "    data = stats[id][to_plot]\n",
    "    plt.plot(range(len(data)), data, label=names[id])\n",
    "#plt.ylim(0.9, 1)\n",
    "plt.grid()\n",
    "plt.legend()\n",
    "plt.title('Sequential MNIST')\n",
    "plt.xlabel('Epochs')\n",
    "plt.ylabel('Validation Accuracy')\n",
    "plt.ylim(0.9, 1)"
   ],
   "metadata": {
    "collapsed": false,
    "pycharm": {
     "name": "#%%\n"
    }
   }
  },
  {
   "cell_type": "code",
   "execution_count": 30,
   "outputs": [
    {
     "data": {
      "text/plain": "0.4974609315395355"
     },
     "execution_count": 30,
     "metadata": {},
     "output_type": "execute_result"
    }
   ],
   "source": [
    "stats['lifonlynr1']['val'][-1]"
   ],
   "metadata": {
    "collapsed": false,
    "pycharm": {
     "name": "#%%\n"
    }
   }
  },
  {
   "cell_type": "code",
   "execution_count": null,
   "outputs": [],
   "source": [],
   "metadata": {
    "collapsed": false,
    "pycharm": {
     "name": "#%%\n"
    }
   }
  }
 ],
 "metadata": {
  "kernelspec": {
   "display_name": "Python 3",
   "language": "python",
   "name": "python3"
  },
  "language_info": {
   "codemirror_mode": {
    "name": "ipython",
    "version": 2
   },
   "file_extension": ".py",
   "mimetype": "text/x-python",
   "name": "python",
   "nbconvert_exporter": "python",
   "pygments_lexer": "ipython2",
   "version": "2.7.6"
  }
 },
 "nbformat": 4,
 "nbformat_minor": 0
}