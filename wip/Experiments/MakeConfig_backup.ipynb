{
 "cells": [
  {
   "cell_type": "code",
   "execution_count": 1,
   "metadata": {
    "collapsed": true
   },
   "outputs": [],
   "source": [
    "import json\n",
    "import shlex"
   ]
  },
  {
   "cell_type": "code",
   "execution_count": 2,
   "outputs": [],
   "source": [
    "con_id = 'test_config'#'config40'\n",
    "\n",
    "config = {}\n",
    "\n",
    "#config['cmd'] = \"docker build -t imrsnn . && nvidia-docker run -v ~/eric/rsnn:/home/developer --net host --ipc host --rm -t imrsnn python3 Code/run_exp.py \"+con_id\n",
    "#config['cmd'] = \"docker build -t imrsnn . && nvidia-docker run -v /home/eric/PycharmProjects/rsnn:/home/developer --name \" +con_id+\" --net host --ipc host --rm -t imrsnn python3 Code/run_exp.py \"+con_id\n",
    "config['cmd'] = \"docker build -t imrsnn . && nvidia-docker run -v /home/ubuntu/eric/rsnn:/home/developer --name \" +con_id+\" --net host --ipc host --rm -t imrsnn python3 Code/run_exp.py \"+con_id\n",
    "#config['cmd'] = [\"nvidia-docker\", \"run\" , \"-v /home/eric/PycharmProjects/rsnn:/home/developer --net host --ipc host\", \"--rm\", \"-t\", \"imrsnn\", \"python3\", \"Code/run_exp.py\", str(con_id)]\n",
    "#config['cmd'] = shlex.split(\"nvidia-docker run -v /home/eric/PycharmProjects/rsnn:/home/developer --net host --ipc host --rm -t imrsnn python3 Code/run_exp.py\") + [str(con_id)]\n",
    "\n",
    "\n",
    "config['mem_req'] = 4000\n",
    "\n",
    "config['params'] = {\n",
    "    'spkfn' : 'bellec',\n",
    "    'spkconfig' : 0,\n",
    "    'architecture': '1L',\n",
    "    'beta': 0.95,\n",
    "    'mem_beta': 0.95,\n",
    "    'control_neuron': 'NoReset',\n",
    "    'mem_neuron' : 'NoReset',\n",
    "    'lr' : 1e-3,\n",
    "    'lr_decay': 0.8,\n",
    "    '1-beta': False,\n",
    "    'decay_out': True,\n",
    "    'ported_weights': True,\n",
    "    'NoBias': True,\n",
    "    'iterations': 36000\n",
    "}\n",
    "\n",
    "config['progress'] = 0"
   ],
   "metadata": {
    "collapsed": false,
    "pycharm": {
     "name": "#%%\n"
    }
   }
  },
  {
   "cell_type": "code",
   "execution_count": 3,
   "outputs": [],
   "source": [
    "with open('../configs/'+con_id+'.json', 'w') as myfile:\n",
    "    json.dump(config, myfile, indent=2)"
   ],
   "metadata": {
    "collapsed": false,
    "pycharm": {
     "name": "#%%\n"
    }
   }
  },
  {
   "cell_type": "code",
   "execution_count": 13,
   "outputs": [
    {
     "data": {
      "text/plain": "{'cmd': ['docker',\n  'build -t imrsnn . && nvidia-docker run -v /home/eric/PycharmProjects/rsnn:/home/developer --net host --ipc host --rm -t imrsnn python3 Code/run_exp.py config_home'],\n 'mem_req': 1000000000,\n 'params': {'spkfn': 'bellec',\n  'spkconfig': 0,\n  'architecture': '1L',\n  'beta': 0.95,\n  'control_neuron': 'LIF',\n  'mem_neuron': 'Adaptive',\n  'lr': 0.01,\n  '1-beta': True,\n  'decay_out': True}}"
     },
     "execution_count": 13,
     "metadata": {},
     "output_type": "execute_result"
    }
   ],
   "source": [
    "config"
   ],
   "metadata": {
    "collapsed": false,
    "pycharm": {
     "name": "#%%\n"
    }
   }
  },
  {
   "cell_type": "code",
   "execution_count": 16,
   "outputs": [],
   "source": [
    "config['params'] = {\n",
    "    'spkfn' : 'ss',\n",
    "    'spkconfig' : 0,\n",
    "    'architecture': '2L',\n",
    "    'beta': 0.9,\n",
    "    'mem_beta': 1,\n",
    "    'control_neuron': 'NoReset',\n",
    "    'mem_neuron' : 'NoReset',\n",
    "    'lr' : 3e-3,\n",
    "    'lr_decay': 0.9,\n",
    "    '1-beta': False,\n",
    "    'decay_out': False,\n",
    "    'ported_weights': False,\n",
    "    'NoBias': False,\n",
    "    'iterations': 36000\n",
    "\n",
    "}"
   ],
   "metadata": {
    "collapsed": false,
    "pycharm": {
     "name": "#%%\n"
    }
   }
  },
  {
   "cell_type": "code",
   "execution_count": 5,
   "outputs": [
    {
     "name": "stdout",
     "output_type": "stream",
     "text": [
      "config0 1L\n",
      "config1 1L\n",
      "config2 1L\n",
      "config3 2L\n",
      "config4 1L\n",
      "config5 1L\n",
      "config6 1L\n",
      "config7 1L\n",
      "config8 1L\n",
      "config9 1L\n",
      "config10 1L\n",
      "config11 1L\n",
      "config12 1L\n",
      "config13 1L\n",
      "config14 1L\n",
      "config15 1L\n",
      "config16 1L\n",
      "config17 1L\n",
      "config18 1L\n",
      "config19 1L\n",
      "config20 1L\n",
      "config21 1L\n",
      "config22 1L\n",
      "config23 1L\n",
      "config24 2L\n",
      "config25 2L\n",
      "config26 2L\n",
      "config27 2L\n",
      "config28 2L\n",
      "config29 2L\n",
      "config30 2L\n",
      "config31 2L\n",
      "config32 2L\n",
      "config33 2L\n",
      "config34 2L\n",
      "config35 2L\n",
      "config36 2L\n"
     ]
    }
   ],
   "source": [
    "ids = ['config'+str(x) for x in range(37)]\n",
    "#ids = ['config'+str(x) for x in range(25,37)]+['config2']\n",
    "\n",
    "for id in ids:\n",
    "    with open('../configs/'+id+'.json', 'r') as config_file:\n",
    "        rconfig = json.load(config_file)\n",
    "        print(id, rconfig['params']['architecture'])"
   ],
   "metadata": {
    "collapsed": false,
    "pycharm": {
     "name": "#%%\n"
    }
   }
  },
  {
   "cell_type": "code",
   "execution_count": null,
   "outputs": [],
   "source": [
    "options = {\n",
    "    'spkfn' : ['bellec', 'superspike'],\n",
    "    'spkconfig' : [0, 1],\n",
    "    'architecture' : ['1L', '2L'],\n",
    "    'beta' : [0.95, 0.9],\n",
    "    'control_neuron' : ['Disc', 'LIF', 'NoReset'],\n",
    "    'mem_neuron' : ['Adaptive', 'Cooldown', 'NoReset'],\n",
    "    'lr' : [1e-2, 1e-3],\n",
    "    '1-beta' : [True, False],\n",
    "    'decay_out': [True, False]\n",
    "}\n",
    "\n",
    "tmp_config = {\n",
    "    **config\n",
    "}\n",
    "\n",
    "series_name = 'auto1_'\n",
    "\n",
    "id_cnt = 0\n",
    "\n",
    "def build_configs(options):\n",
    "    if not options:\n",
    "        with open('../configs/'+series_name+str(id_cnt)+'.json', 'w') as myfile:\n",
    "            json.dump(config, myfile, indent=2)\n",
    "        id_cnt += 1\n",
    "        return\n",
    "    else:\n",
    "        new_options = options.copy()\n",
    "        attr, values = new_options.popitem()\n",
    "        for v in values:\n",
    "            config['params'][attr] = v\n",
    "            build_configs(new_options)"
   ],
   "metadata": {
    "collapsed": false,
    "pycharm": {
     "name": "#%%\n"
    }
   }
  },
  {
   "cell_type": "code",
   "execution_count": 9,
   "outputs": [
    {
     "data": {
      "text/plain": "(2, 3)"
     },
     "execution_count": 9,
     "metadata": {},
     "output_type": "execute_result"
    }
   ],
   "source": [
    "a={2:3}\n",
    "a.popitem()"
   ],
   "metadata": {
    "collapsed": false,
    "pycharm": {
     "name": "#%%\n"
    }
   }
  },
  {
   "cell_type": "code",
   "execution_count": 10,
   "outputs": [
    {
     "data": {
      "text/plain": "{}"
     },
     "execution_count": 10,
     "metadata": {},
     "output_type": "execute_result"
    }
   ],
   "source": [
    "a"
   ],
   "metadata": {
    "collapsed": false,
    "pycharm": {
     "name": "#%%\n"
    }
   }
  },
  {
   "cell_type": "code",
   "execution_count": null,
   "outputs": [],
   "source": [],
   "metadata": {
    "collapsed": false,
    "pycharm": {
     "name": "#%%\n"
    }
   }
  }
 ],
 "metadata": {
  "kernelspec": {
   "display_name": "Python 3",
   "language": "python",
   "name": "python3"
  },
  "language_info": {
   "codemirror_mode": {
    "name": "ipython",
    "version": 2
   },
   "file_extension": ".py",
   "mimetype": "text/x-python",
   "name": "python",
   "nbconvert_exporter": "python",
   "pygments_lexer": "ipython2",
   "version": "2.7.6"
  }
 },
 "nbformat": 4,
 "nbformat_minor": 0
}