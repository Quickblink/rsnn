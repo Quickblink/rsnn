{
 "cells": [
  {
   "cell_type": "code",
   "execution_count": 25,
   "metadata": {
    "pycharm": {
     "is_executing": false
    }
   },
   "outputs": [
    {
     "data": {
      "text/plain": "<torch._C.Generator at 0x7f4cd6664b90>"
     },
     "metadata": {},
     "output_type": "execute_result",
     "execution_count": 25
    }
   ],
   "source": [
    "import gym\n",
    "import numpy as np\n",
    "import matplotlib.pyplot as plt\n",
    "from PIL import Image\n",
    "import torch\n",
    "import torch.nn as nn\n",
    "import torch.nn.functional as F\n",
    "import torch.optim as optim\n",
    "\n",
    "torch.manual_seed(1)"
   ]
  },
  {
   "cell_type": "code",
   "execution_count": 38,
   "metadata": {},
   "outputs": [],
   "source": [
    "class lstmPolicyPredictor(nn.Module):\n",
    "\n",
    "    def __init__(self, inp_dim, hidden_dim, out_hidden_dim):\n",
    "        super(lstmPolicyPredictor, self).__init__()\n",
    "        #self.hidden_dim = hidden_dim\n",
    "\n",
    "\n",
    "        # The LSTM takes word embeddings as inputs, and outputs hidden states\n",
    "        # with dimensionality hidden_dim.\n",
    "        self.lstm = nn.LSTM(inp_dim, hidden_dim)\n",
    "        self.out1 = nn.Linear(hidden_dim+1, out_hidden_dim)\n",
    "        self.out2 = nn.Linear(out_hidden_dim, 1)\n",
    "\n",
    "\n",
    "    def forward(self, inp, oldstate=None):\n",
    "        allinp = inp#torch.cat((inp, lastaction))\n",
    "        lstmout, newstate = self.lstm(allinp.view(1,1,-1), oldstate)\n",
    "        allforout = torch.cat((lstmout.view(-1), inp))\n",
    "        h1 = F.relu(self.out1(allforout))\n",
    "        out = F.sigmoid(self.out2(h1))\n",
    "        return out, newstate"
   ]
  },
  {
   "cell_type": "code",
   "execution_count": 68,
   "metadata": {},
   "outputs": [],
   "source": [
    "model = lstmPolicyPredictor(1,8,16)"
   ]
  },
  {
   "cell_type": "code",
   "execution_count": 17,
   "metadata": {},
   "outputs": [],
   "source": [
    "testt = torch.tensor([7,8], dtype=torch.float).view(1,1,-1)\n",
    "testi = torch.tensor([7], dtype=torch.float)"
   ]
  },
  {
   "cell_type": "code",
   "execution_count": 14,
   "metadata": {},
   "outputs": [
    {
     "data": {
      "text/plain": [
       "(tensor([[[-0.3243, -0.0051, -0.0053]]], grad_fn=<StackBackward>),\n",
       " tensor([[[-0.3423, -0.2773, -0.1022]]], grad_fn=<StackBackward>))"
      ]
     },
     "execution_count": 14,
     "metadata": {},
     "output_type": "execute_result"
    }
   ],
   "source": [
    "pp.lstm(testt)[1]"
   ]
  },
  {
   "cell_type": "code",
   "execution_count": 28,
   "metadata": {
    "pycharm": {
     "is_executing": false
    }
   },
   "outputs": [],
   "source": [
    "data = torch.empty([1024, 1024], dtype=torch.float)"
   ]
  },
  {
   "cell_type": "code",
   "execution_count": 29,
   "outputs": [],
   "source": [
    "for i in range(1024):\n",
    "    for k in range(1024):\n",
    "        data[i][k] = 2.0 if pol2.getpixel((i,k)) > 200 else 0.0"
   ],
   "metadata": {
    "collapsed": false,
    "pycharm": {
     "name": "#%%\n",
     "is_executing": false
    }
   }
  },
  {
   "cell_type": "code",
   "execution_count": 39,
   "outputs": [],
   "source": [
    "import bz2\n",
    "import gzip\n",
    "import pickle\n",
    "#bz2.BZ2File\n",
    "sfile = gzip.open('lookup_policy', 'wb')\n",
    "#pickle.dump(data, sfile)\n",
    "torch.save(data, sfile)\n",
    "sfile.close()"
   ],
   "metadata": {
    "collapsed": false,
    "pycharm": {
     "name": "#%%\n",
     "is_executing": false
    }
   }
  },
  {
   "cell_type": "code",
   "execution_count": 40,
   "outputs": [
    {
     "data": {
      "text/plain": "tensor([[0., 0., 0.,  ..., 2., 2., 2.],\n        [0., 0., 0.,  ..., 2., 2., 2.],\n        [0., 0., 0.,  ..., 2., 2., 2.],\n        ...,\n        [0., 0., 0.,  ..., 2., 2., 2.],\n        [0., 0., 0.,  ..., 2., 2., 2.],\n        [0., 0., 0.,  ..., 2., 2., 2.]])"
     },
     "metadata": {},
     "output_type": "execute_result",
     "execution_count": 40
    }
   ],
   "source": [
    "data"
   ],
   "metadata": {
    "collapsed": false,
    "pycharm": {
     "name": "#%%\n",
     "is_executing": false
    }
   }
  },
  {
   "cell_type": "code",
   "execution_count": 45,
   "outputs": [
    {
     "data": {
      "text/plain": "tensor([[0., 0., 0.,  ..., 2., 2., 2.],\n        [0., 0., 0.,  ..., 2., 2., 2.],\n        [0., 0., 0.,  ..., 2., 2., 2.],\n        ...,\n        [0., 0., 0.,  ..., 2., 2., 2.],\n        [0., 0., 0.,  ..., 2., 2., 2.],\n        [0., 0., 0.,  ..., 2., 2., 2.]])"
     },
     "metadata": {},
     "output_type": "execute_result",
     "execution_count": 45
    }
   ],
   "source": [
    "rfile = gzip.open('lookup_policy', 'rb')\n",
    "torch.load(rfile)"
   ],
   "metadata": {
    "collapsed": false,
    "pycharm": {
     "name": "#%%\n",
     "is_executing": false
    }
   }
  },
  {
   "cell_type": "code",
   "execution_count": 27,
   "metadata": {},
   "outputs": [
    {
     "name": "stderr",
     "output_type": "stream",
     "text": [
      "/opt/conda/lib/python3.6/site-packages/gym/logger.py:30: UserWarning: \u001b[33mWARN: Box bound precision lowered by casting to float32\u001b[0m\n",
      "  warnings.warn(colorize('%s: %s'%('WARN', msg % args), 'yellow'))\n"
     ]
    }
   ],
   "source": [
    "env = gym.make('MountainCar-v0')"
   ]
  },
  {
   "cell_type": "code",
   "execution_count": 27,
   "metadata": {
    "pycharm": {
     "is_executing": false
    }
   },
   "outputs": [],
   "source": [
    "def dopol(obs, pol):\n",
    "    px = int((obs[0]-env.min_position)/(env.max_position - env.min_position) * 1023.9999)\n",
    "    py = int((obs[1]+env.max_speed)/(2*env.max_speed) * 1023.9999)\n",
    "    return 1 if pol.getpixel((px,py)) > 200 else 0\n",
    "pol2 = Image.open('policy2.png').convert('L')"
   ]
  },
  {
   "cell_type": "code",
   "execution_count": 80,
   "metadata": {},
   "outputs": [],
   "source": [
    "bce = nn.BCELoss(reduction='sum')\n",
    "optimizer = optim.Adam(model.parameters(), lr=0.00001)"
   ]
  },
  {
   "cell_type": "code",
   "execution_count": 107,
   "metadata": {},
   "outputs": [
    {
     "name": "stdout",
     "output_type": "stream",
     "text": [
      "tensor(7.4946, grad_fn=<BinaryCrossEntropyBackward>) tensor(2) 103\n",
      "tensor(6.3647, grad_fn=<BinaryCrossEntropyBackward>) tensor(1) 83\n",
      "tensor(7.6860, grad_fn=<BinaryCrossEntropyBackward>) tensor(2) 104\n",
      "tensor(7.8486, grad_fn=<BinaryCrossEntropyBackward>) tensor(2) 104\n",
      "tensor(7.9287, grad_fn=<BinaryCrossEntropyBackward>) tensor(2) 88\n",
      "tensor(8.1993, grad_fn=<BinaryCrossEntropyBackward>) tensor(2) 103\n",
      "tensor(7.6771, grad_fn=<BinaryCrossEntropyBackward>) tensor(0) 103\n",
      "tensor(7.5803, grad_fn=<BinaryCrossEntropyBackward>) tensor(2) 87\n",
      "tensor(13.2419, grad_fn=<BinaryCrossEntropyBackward>) tensor(3) 91\n",
      "tensor(8.1138, grad_fn=<BinaryCrossEntropyBackward>) tensor(2) 89\n",
      "tensor(8.3816, grad_fn=<BinaryCrossEntropyBackward>) tensor(2) 103\n",
      "tensor(23.7134, grad_fn=<BinaryCrossEntropyBackward>) tensor(11) 125\n",
      "tensor(7.8473, grad_fn=<BinaryCrossEntropyBackward>) tensor(0) 103\n",
      "tensor(10.4222, grad_fn=<BinaryCrossEntropyBackward>) tensor(2) 103\n",
      "tensor(21.4379, grad_fn=<BinaryCrossEntropyBackward>) tensor(6) 103\n",
      "tensor(7.8387, grad_fn=<BinaryCrossEntropyBackward>) tensor(0) 103\n",
      "tensor(8.3590, grad_fn=<BinaryCrossEntropyBackward>) tensor(2) 103\n",
      "tensor(7.6775, grad_fn=<BinaryCrossEntropyBackward>) tensor(2) 88\n",
      "tensor(12.0660, grad_fn=<BinaryCrossEntropyBackward>) tensor(3) 90\n",
      "tensor(7.1293, grad_fn=<BinaryCrossEntropyBackward>) tensor(2) 86\n",
      "tensor(13.5495, grad_fn=<BinaryCrossEntropyBackward>) tensor(3) 119\n",
      "tensor(7.5326, grad_fn=<BinaryCrossEntropyBackward>) tensor(1) 103\n",
      "tensor(12.2095, grad_fn=<BinaryCrossEntropyBackward>) tensor(3) 90\n",
      "tensor(7.5330, grad_fn=<BinaryCrossEntropyBackward>) tensor(1) 103\n",
      "tensor(11.6103, grad_fn=<BinaryCrossEntropyBackward>) tensor(3) 89\n",
      "tensor(6.2703, grad_fn=<BinaryCrossEntropyBackward>) tensor(1) 83\n",
      "tensor(6.8246, grad_fn=<BinaryCrossEntropyBackward>) tensor(2) 85\n",
      "tensor(16.3638, grad_fn=<BinaryCrossEntropyBackward>) tensor(5) 103\n",
      "tensor(8.1525, grad_fn=<BinaryCrossEntropyBackward>) tensor(3) 103\n",
      "tensor(17.8286, grad_fn=<BinaryCrossEntropyBackward>) tensor(5) 103\n",
      "tensor(9.4802, grad_fn=<BinaryCrossEntropyBackward>) tensor(2) 103\n",
      "tensor(12.1096, grad_fn=<BinaryCrossEntropyBackward>) tensor(3) 113\n",
      "tensor(13.4494, grad_fn=<BinaryCrossEntropyBackward>) tensor(3) 119\n",
      "tensor(7.5327, grad_fn=<BinaryCrossEntropyBackward>) tensor(1) 103\n",
      "tensor(10.7229, grad_fn=<BinaryCrossEntropyBackward>) tensor(2) 110\n",
      "tensor(7.3139, grad_fn=<BinaryCrossEntropyBackward>) tensor(2) 104\n",
      "tensor(9.3846, grad_fn=<BinaryCrossEntropyBackward>) tensor(2) 103\n",
      "tensor(149.2573, grad_fn=<BinaryCrossEntropyBackward>) tensor(48) 160\n",
      "tensor(7.3443, grad_fn=<BinaryCrossEntropyBackward>) tensor(2) 104\n",
      "tensor(8.0221, grad_fn=<BinaryCrossEntropyBackward>) tensor(2) 89\n",
      "tensor(7.7368, grad_fn=<BinaryCrossEntropyBackward>) tensor(2) 104\n",
      "tensor(6.3521, grad_fn=<BinaryCrossEntropyBackward>) tensor(1) 84\n",
      "tensor(7.3955, grad_fn=<BinaryCrossEntropyBackward>) tensor(2) 104\n",
      "tensor(6.8213, grad_fn=<BinaryCrossEntropyBackward>) tensor(1) 86\n",
      "tensor(7.6922, grad_fn=<BinaryCrossEntropyBackward>) tensor(0) 103\n",
      "tensor(8.3272, grad_fn=<BinaryCrossEntropyBackward>) tensor(2) 104\n",
      "tensor(7.6117, grad_fn=<BinaryCrossEntropyBackward>) tensor(1) 103\n",
      "tensor(7.7909, grad_fn=<BinaryCrossEntropyBackward>) tensor(0) 103\n",
      "tensor(40.8755, grad_fn=<BinaryCrossEntropyBackward>) tensor(16) 177\n",
      "tensor(7.6205, grad_fn=<BinaryCrossEntropyBackward>) tensor(2) 88\n",
      "tensor(18.0131, grad_fn=<BinaryCrossEntropyBackward>) tensor(5) 103\n",
      "tensor(8.2332, grad_fn=<BinaryCrossEntropyBackward>) tensor(3) 103\n",
      "tensor(12.9314, grad_fn=<BinaryCrossEntropyBackward>) tensor(3) 118\n",
      "tensor(7.5644, grad_fn=<BinaryCrossEntropyBackward>) tensor(1) 103\n",
      "tensor(30.8268, grad_fn=<BinaryCrossEntropyBackward>) tensor(10) 168\n",
      "tensor(7.3894, grad_fn=<BinaryCrossEntropyBackward>) tensor(2) 88\n",
      "tensor(8.4127, grad_fn=<BinaryCrossEntropyBackward>) tensor(2) 103\n",
      "tensor(9.0108, grad_fn=<BinaryCrossEntropyBackward>) tensor(2) 103\n",
      "tensor(8.5687, grad_fn=<BinaryCrossEntropyBackward>) tensor(2) 103\n",
      "tensor(8.5558, grad_fn=<BinaryCrossEntropyBackward>) tensor(2) 103\n",
      "tensor(14.9610, grad_fn=<BinaryCrossEntropyBackward>) tensor(5) 121\n",
      "tensor(7.7535, grad_fn=<BinaryCrossEntropyBackward>) tensor(2) 89\n",
      "tensor(7.1691, grad_fn=<BinaryCrossEntropyBackward>) tensor(2) 87\n",
      "tensor(6.2002, grad_fn=<BinaryCrossEntropyBackward>) tensor(1) 84\n",
      "tensor(6.6270, grad_fn=<BinaryCrossEntropyBackward>) tensor(1) 85\n",
      "tensor(12.6205, grad_fn=<BinaryCrossEntropyBackward>) tensor(3) 91\n",
      "tensor(7.8259, grad_fn=<BinaryCrossEntropyBackward>) tensor(0) 103\n",
      "tensor(16.6353, grad_fn=<BinaryCrossEntropyBackward>) tensor(5) 103\n",
      "tensor(7.5933, grad_fn=<BinaryCrossEntropyBackward>) tensor(1) 103\n",
      "tensor(7.7749, grad_fn=<BinaryCrossEntropyBackward>) tensor(0) 103\n",
      "tensor(7.4400, grad_fn=<BinaryCrossEntropyBackward>) tensor(2) 104\n",
      "tensor(11.0780, grad_fn=<BinaryCrossEntropyBackward>) tensor(3) 105\n",
      "tensor(8.3637, grad_fn=<BinaryCrossEntropyBackward>) tensor(3) 103\n",
      "tensor(8.1608, grad_fn=<BinaryCrossEntropyBackward>) tensor(2) 104\n",
      "tensor(7.5957, grad_fn=<BinaryCrossEntropyBackward>) tensor(1) 103\n",
      "tensor(13.9137, grad_fn=<BinaryCrossEntropyBackward>) tensor(4) 116\n",
      "tensor(13.4183, grad_fn=<BinaryCrossEntropyBackward>) tensor(3) 118\n",
      "tensor(7.4722, grad_fn=<BinaryCrossEntropyBackward>) tensor(2) 104\n",
      "tensor(6.6450, grad_fn=<BinaryCrossEntropyBackward>) tensor(1) 86\n",
      "tensor(13.4317, grad_fn=<BinaryCrossEntropyBackward>) tensor(3) 119\n",
      "tensor(8.3709, grad_fn=<BinaryCrossEntropyBackward>) tensor(3) 103\n",
      "tensor(7.4046, grad_fn=<BinaryCrossEntropyBackward>) tensor(2) 104\n",
      "tensor(9.2036, grad_fn=<BinaryCrossEntropyBackward>) tensor(2) 103\n",
      "tensor(5.8759, grad_fn=<BinaryCrossEntropyBackward>) tensor(1) 83\n",
      "tensor(8.5774, grad_fn=<BinaryCrossEntropyBackward>) tensor(2) 103\n",
      "tensor(12.4786, grad_fn=<BinaryCrossEntropyBackward>) tensor(3) 116\n",
      "tensor(5.9812, grad_fn=<BinaryCrossEntropyBackward>) tensor(1) 83\n",
      "tensor(7.3798, grad_fn=<BinaryCrossEntropyBackward>) tensor(2) 104\n",
      "tensor(11.1072, grad_fn=<BinaryCrossEntropyBackward>) tensor(3) 110\n",
      "tensor(6.1380, grad_fn=<BinaryCrossEntropyBackward>) tensor(1) 84\n",
      "tensor(7.9787, grad_fn=<BinaryCrossEntropyBackward>) tensor(2) 104\n",
      "tensor(16.8783, grad_fn=<BinaryCrossEntropyBackward>) tensor(6) 105\n",
      "tensor(6.3135, grad_fn=<BinaryCrossEntropyBackward>) tensor(1) 85\n",
      "tensor(14.1374, grad_fn=<BinaryCrossEntropyBackward>) tensor(3) 93\n",
      "tensor(7.5427, grad_fn=<BinaryCrossEntropyBackward>) tensor(2) 104\n",
      "tensor(7.4925, grad_fn=<BinaryCrossEntropyBackward>) tensor(1) 103\n",
      "tensor(7.5456, grad_fn=<BinaryCrossEntropyBackward>) tensor(2) 104\n",
      "tensor(6.3894, grad_fn=<BinaryCrossEntropyBackward>) tensor(1) 85\n",
      "tensor(36.0775, grad_fn=<BinaryCrossEntropyBackward>) tensor(14) 175\n",
      "tensor(6.0396, grad_fn=<BinaryCrossEntropyBackward>) tensor(1) 84\n"
     ]
    }
   ],
   "source": [
    "for i in range(1000):\n",
    "    model.zero_grad()\n",
    "    observation = env.reset()\n",
    "    state = None\n",
    "    outputs = torch.tensor([], dtype=torch.float)\n",
    "    targets = torch.tensor([], dtype=torch.float)\n",
    "    for t in range(300):\n",
    "        output, state = model(torch.tensor(observation[:1], dtype=torch.float), state)\n",
    "        action = 2 if output[0] > 0.5 else 0#0 if t==0 else 2 #2 #0 if not tree1.get(observation) and tree.get(observation) else 2\n",
    "        outputs = torch.cat((outputs, output))\n",
    "        targets = torch.cat((targets, torch.tensor([dopol(observation, pol2)], dtype=torch.float)))\n",
    "        #print(action, dopol(observation, pol2)*2, loss)\n",
    "        #env.render()\n",
    "        observation, _, done, _ = env.step(action)\n",
    "        if done:\n",
    "            loss = bce(outputs, targets)\n",
    "            loss.backward()\n",
    "            optimizer.step()\n",
    "            if i%10 == 0:\n",
    "                print(loss, ((outputs>0.5) != targets).sum(), t+1)\n",
    "                #print(\"Episode finished after {} timesteps\".format(t+1))\n",
    "            break\n",
    "    "
   ]
  },
  {
   "cell_type": "code",
   "execution_count": 108,
   "metadata": {},
   "outputs": [
    {
     "data": {
      "text/plain": [
       "tensor([False, False, False, False, False, False, False, False, False, False,\n",
       "        False, False, False, False, False, False,  True, False, False, False,\n",
       "        False, False, False, False, False, False, False, False, False, False,\n",
       "        False, False, False, False, False, False, False, False, False, False,\n",
       "        False, False, False, False, False, False, False, False, False, False,\n",
       "        False, False, False, False, False,  True, False, False, False, False,\n",
       "        False, False, False, False, False, False, False, False, False, False,\n",
       "        False, False, False, False, False, False, False, False, False, False,\n",
       "        False, False, False, False, False, False, False, False, False, False,\n",
       "        False, False, False, False, False, False, False, False, False, False,\n",
       "        False, False, False])"
      ]
     },
     "execution_count": 108,
     "metadata": {},
     "output_type": "execute_result"
    }
   ],
   "source": [
    "(outputs>0.5) != targets"
   ]
  },
  {
   "cell_type": "code",
   "execution_count": 96,
   "metadata": {},
   "outputs": [
    {
     "data": {
      "text/plain": [
       "tensor([False,  True])"
      ]
     },
     "execution_count": 96,
     "metadata": {},
     "output_type": "execute_result"
    }
   ],
   "source": [
    "torch.tensor([1,2])==torch.tensor([0,2])"
   ]
  },
  {
   "cell_type": "code",
   "execution_count": null,
   "metadata": {},
   "outputs": [],
   "source": []
  }
 ],
 "metadata": {
  "kernelspec": {
   "display_name": "Python 3",
   "language": "python",
   "name": "python3"
  },
  "language_info": {
   "codemirror_mode": {
    "name": "ipython",
    "version": 3
   },
   "file_extension": ".py",
   "mimetype": "text/x-python",
   "name": "python",
   "nbconvert_exporter": "python",
   "pygments_lexer": "ipython3",
   "version": "3.6.9"
  },
  "pycharm": {
   "stem_cell": {
    "cell_type": "raw",
    "source": [],
    "metadata": {
     "collapsed": false
    }
   }
  }
 },
 "nbformat": 4,
 "nbformat_minor": 4
}