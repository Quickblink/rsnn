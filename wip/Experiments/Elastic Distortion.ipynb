{
 "cells": [
  {
   "cell_type": "code",
   "execution_count": 1,
   "metadata": {
    "collapsed": true
   },
   "outputs": [],
   "source": [
    "# https://www.kaggle.com/babbler/mnist-data-augmentation-with-elastic-distortion\n",
    "import numpy as np\n",
    "\n",
    "from scipy.ndimage.filters import gaussian_filter\n",
    "from scipy.ndimage.interpolation import map_coordinates\n",
    "\n",
    "def elastic_transform(image, alpha_range, sigma, random_state=None):\n",
    "    \"\"\"Elastic deformation of images as described in [Simard2003]_.\n",
    "    .. [Simard2003] Simard, Steinkraus and Platt, \"Best Practices for\n",
    "       Convolutional Neural Networks applied to Visual Document Analysis\", in\n",
    "       Proc. of the International Conference on Document Analysis and\n",
    "       Recognition, 2003.\n",
    "\n",
    "   # Arguments\n",
    "       image: Numpy array with shape (height, width, channels).\n",
    "       alpha_range: Float for fixed value or [lower, upper] for random value from uniform distribution.\n",
    "           Controls intensity of deformation.\n",
    "       sigma: Float, sigma of gaussian filter that smooths the displacement fields.\n",
    "       random_state: `numpy.random.RandomState` object for generating displacement fields.\n",
    "    \"\"\"\n",
    "\n",
    "    if random_state is None:\n",
    "        random_state = np.random.RandomState(None)\n",
    "\n",
    "    if np.isscalar(alpha_range):\n",
    "        alpha = alpha_range\n",
    "    else:\n",
    "        alpha = np.random.uniform(low=alpha_range[0], high=alpha_range[1])\n",
    "\n",
    "    shape = image.shape\n",
    "    dx = gaussian_filter((random_state.rand(*shape) * 2 - 1), sigma) * alpha\n",
    "    dy = gaussian_filter((random_state.rand(*shape) * 2 - 1), sigma) * alpha\n",
    "\n",
    "    x, y, z = np.meshgrid(np.arange(shape[0]), np.arange(shape[1]), np.arange(shape[2]), indexing='ij')\n",
    "    indices = np.reshape(x+dx, (-1, 1)), np.reshape(y+dy, (-1, 1)), np.reshape(z, (-1, 1))\n",
    "\n",
    "    return map_coordinates(image, indices, order=1, mode='reflect').reshape(shape)\n"
   ]
  },
  {
   "cell_type": "code",
   "execution_count": 67,
   "outputs": [],
   "source": [
    "from torchvision.datasets import MNIST\n",
    "from torchvision import transforms\n",
    "import torch\n",
    "from torch.utils.data import DataLoader\n"
   ],
   "metadata": {
    "collapsed": false,
    "pycharm": {
     "name": "#%%\n"
    }
   }
  },
  {
   "cell_type": "code",
   "execution_count": 152,
   "outputs": [],
   "source": [
    "distort = transforms.Lambda(lambda x: torch.tensor(elastic_transform(x, [0,20], 3)))\n",
    "combined = transforms.Compose([transforms.ToTensor(), distort])"
   ],
   "metadata": {
    "collapsed": false,
    "pycharm": {
     "name": "#%%\n"
    }
   }
  },
  {
   "cell_type": "code",
   "execution_count": 141,
   "outputs": [],
   "source": [
    "mnist = MNIST('../../')\n",
    "data_loader = DataLoader(mnist, batch_size=64, drop_last=True, num_workers=0, shuffle=True)\n"
   ],
   "metadata": {
    "collapsed": false,
    "pycharm": {
     "name": "#%%\n"
    }
   }
  },
  {
   "cell_type": "code",
   "execution_count": 122,
   "outputs": [],
   "source": [
    "batch = data_loader.__iter__().__next__()\n"
   ],
   "metadata": {
    "collapsed": false,
    "pycharm": {
     "name": "#%%\n"
    }
   }
  },
  {
   "cell_type": "code",
   "execution_count": 98,
   "outputs": [],
   "source": [
    "dist = elastic_transform(batch[0].squeeze(), 15, 3)"
   ],
   "metadata": {
    "collapsed": false,
    "pycharm": {
     "name": "#%%\n"
    }
   }
  },
  {
   "cell_type": "code",
   "execution_count": 99,
   "outputs": [
    {
     "data": {
      "text/plain": "<PIL.Image.Image image mode=L size=28x28 at 0x7FB62A31C7F0>",
      "image/png": "[encoded data removed]"
     },
     "execution_count": 99,
     "metadata": {},
     "output_type": "execute_result"
    }
   ],
   "source": [
    "transforms.ToPILImage()(torch.tensor(dist[0]))\n"
   ],
   "metadata": {
    "collapsed": false,
    "pycharm": {
     "name": "#%%\n"
    }
   }
  },
  {
   "cell_type": "code",
   "execution_count": 66,
   "outputs": [
    {
     "data": {
      "text/plain": "<PIL.Image.Image image mode=L size=28x28 at 0x7FB629470D68>",
      "image/png": "[encoded data removed]"
     },
     "execution_count": 66,
     "metadata": {},
     "output_type": "execute_result"
    }
   ],
   "source": [
    "transforms.ToPILImage()(mnist[0][0])\n"
   ],
   "metadata": {
    "collapsed": false,
    "pycharm": {
     "name": "#%%\n"
    }
   }
  },
  {
   "cell_type": "code",
   "execution_count": 74,
   "outputs": [
    {
     "data": {
      "text/plain": "torch.Size([64, 1, 28, 28])"
     },
     "execution_count": 74,
     "metadata": {},
     "output_type": "execute_result"
    }
   ],
   "source": [
    "batch[0].shape"
   ],
   "metadata": {
    "collapsed": false,
    "pycharm": {
     "name": "#%%\n"
    }
   }
  },
  {
   "cell_type": "code",
   "execution_count": 80,
   "outputs": [
    {
     "data": {
      "text/plain": "array([[0.00000000e+00, 0.00000000e+00, 0.00000000e+00, 0.00000000e+00,\n        0.00000000e+00, 0.00000000e+00, 0.00000000e+00, 0.00000000e+00,\n        0.00000000e+00, 0.00000000e+00, 0.00000000e+00, 0.00000000e+00,\n        0.00000000e+00, 0.00000000e+00, 0.00000000e+00, 0.00000000e+00,\n        0.00000000e+00, 0.00000000e+00, 0.00000000e+00, 0.00000000e+00,\n        0.00000000e+00, 0.00000000e+00, 0.00000000e+00, 0.00000000e+00,\n        0.00000000e+00, 0.00000000e+00, 0.00000000e+00, 0.00000000e+00],\n       [0.00000000e+00, 0.00000000e+00, 0.00000000e+00, 0.00000000e+00,\n        0.00000000e+00, 0.00000000e+00, 0.00000000e+00, 0.00000000e+00,\n        0.00000000e+00, 0.00000000e+00, 0.00000000e+00, 0.00000000e+00,\n        0.00000000e+00, 0.00000000e+00, 0.00000000e+00, 0.00000000e+00,\n        0.00000000e+00, 0.00000000e+00, 0.00000000e+00, 0.00000000e+00,\n        0.00000000e+00, 0.00000000e+00, 0.00000000e+00, 0.00000000e+00,\n        0.00000000e+00, 0.00000000e+00, 0.00000000e+00, 0.00000000e+00],\n       [0.00000000e+00, 0.00000000e+00, 0.00000000e+00, 0.00000000e+00,\n        0.00000000e+00, 0.00000000e+00, 0.00000000e+00, 0.00000000e+00,\n        0.00000000e+00, 0.00000000e+00, 0.00000000e+00, 0.00000000e+00,\n        0.00000000e+00, 0.00000000e+00, 0.00000000e+00, 0.00000000e+00,\n        0.00000000e+00, 0.00000000e+00, 0.00000000e+00, 0.00000000e+00,\n        0.00000000e+00, 0.00000000e+00, 0.00000000e+00, 0.00000000e+00,\n        0.00000000e+00, 0.00000000e+00, 0.00000000e+00, 0.00000000e+00],\n       [0.00000000e+00, 0.00000000e+00, 0.00000000e+00, 0.00000000e+00,\n        0.00000000e+00, 0.00000000e+00, 0.00000000e+00, 0.00000000e+00,\n        0.00000000e+00, 0.00000000e+00, 0.00000000e+00, 0.00000000e+00,\n        0.00000000e+00, 0.00000000e+00, 0.00000000e+00, 0.00000000e+00,\n        0.00000000e+00, 0.00000000e+00, 0.00000000e+00, 0.00000000e+00,\n        0.00000000e+00, 0.00000000e+00, 0.00000000e+00, 0.00000000e+00,\n        0.00000000e+00, 0.00000000e+00, 0.00000000e+00, 0.00000000e+00],\n       [0.00000000e+00, 0.00000000e+00, 0.00000000e+00, 0.00000000e+00,\n        0.00000000e+00, 0.00000000e+00, 0.00000000e+00, 0.00000000e+00,\n        0.00000000e+00, 0.00000000e+00, 0.00000000e+00, 0.00000000e+00,\n        0.00000000e+00, 0.00000000e+00, 0.00000000e+00, 0.00000000e+00,\n        0.00000000e+00, 0.00000000e+00, 0.00000000e+00, 0.00000000e+00,\n        0.00000000e+00, 0.00000000e+00, 0.00000000e+00, 0.00000000e+00,\n        0.00000000e+00, 0.00000000e+00, 0.00000000e+00, 0.00000000e+00],\n       [0.00000000e+00, 0.00000000e+00, 0.00000000e+00, 0.00000000e+00,\n        0.00000000e+00, 0.00000000e+00, 0.00000000e+00, 0.00000000e+00,\n        0.00000000e+00, 0.00000000e+00, 0.00000000e+00, 1.33208316e-02,\n        1.15849704e-01, 1.61773309e-01, 1.41169742e-01, 1.11555204e-01,\n        8.37612003e-02, 6.16537444e-02, 4.73415703e-02, 3.93342189e-02,\n        3.42006683e-02, 5.37298201e-03, 0.00000000e+00, 0.00000000e+00,\n        0.00000000e+00, 0.00000000e+00, 0.00000000e+00, 0.00000000e+00],\n       [0.00000000e+00, 0.00000000e+00, 0.00000000e+00, 0.00000000e+00,\n        0.00000000e+00, 0.00000000e+00, 4.62684594e-03, 3.68864946e-02,\n        6.79267719e-02, 2.69747078e-02, 9.70588550e-02, 1.94598839e-01,\n        6.03957832e-01, 7.86099315e-01, 7.45695472e-01, 6.61218822e-01,\n        5.70993602e-01, 4.82718945e-01, 4.19655502e-01, 3.91737431e-01,\n        4.22920316e-01, 1.72766864e-01, 0.00000000e+00, 0.00000000e+00,\n        0.00000000e+00, 0.00000000e+00, 0.00000000e+00, 0.00000000e+00],\n       [0.00000000e+00, 0.00000000e+00, 0.00000000e+00, 1.30645618e-01,\n        9.43850651e-02, 2.38466218e-01, 3.99740338e-01, 3.03366661e-01,\n        3.00876349e-01, 1.41337901e-01, 5.55009842e-01, 6.88493133e-01,\n        8.94921958e-01, 8.90538454e-01, 8.55691671e-01, 7.57492483e-01,\n        6.74630761e-01, 6.00096405e-01, 5.46358168e-01, 5.14726937e-01,\n        5.31511664e-01, 5.40412426e-01, 0.00000000e+00, 0.00000000e+00,\n        0.00000000e+00, 0.00000000e+00, 0.00000000e+00, 0.00000000e+00],\n       [0.00000000e+00, 0.00000000e+00, 0.00000000e+00, 3.83473299e-02,\n        1.66040450e-01, 2.59292781e-01, 2.99476594e-01, 2.83031344e-01,\n        2.25407079e-01, 2.89199173e-01, 9.88577962e-01, 9.80561733e-01,\n        9.79332626e-01, 9.77538526e-01, 9.22614098e-01, 8.65837336e-01,\n        7.70893991e-01, 7.11755812e-01, 6.71084821e-01, 6.40556574e-01,\n        6.45252705e-01, 6.88610554e-01, 0.00000000e+00, 0.00000000e+00,\n        0.00000000e+00, 0.00000000e+00, 0.00000000e+00, 0.00000000e+00],\n       [0.00000000e+00, 0.00000000e+00, 2.18425505e-03, 8.41315910e-02,\n        1.44189492e-01, 1.66744888e-01, 1.57994330e-01, 1.16919667e-01,\n        1.26820415e-01, 8.72399509e-01, 9.42692637e-01, 9.44584548e-01,\n        9.60319281e-01, 9.89197850e-01, 2.07225800e-01, 2.62124956e-01,\n        7.15046406e-01, 9.49430943e-01, 9.00372148e-01, 8.16951632e-01,\n        7.59500682e-01, 7.81817019e-01, 0.00000000e+00, 0.00000000e+00,\n        0.00000000e+00, 0.00000000e+00, 0.00000000e+00, 0.00000000e+00],\n       [0.00000000e+00, 0.00000000e+00, 7.69879017e-03, 7.81259909e-02,\n        7.48110712e-02, 4.07897830e-02, 1.58042286e-03, 6.01536214e-01,\n        2.96267182e-01, 3.58805537e-01, 6.71463549e-01, 6.30792439e-01,\n        6.20013833e-01, 8.97223353e-01, 1.28686670e-02, 7.99870342e-02,\n        6.43350422e-01, 9.88037705e-01, 9.99041915e-01, 9.85826850e-01,\n        8.83105457e-01, 8.89010549e-01, 1.09172337e-01, 0.00000000e+00,\n        0.00000000e+00, 0.00000000e+00, 0.00000000e+00, 0.00000000e+00],\n       [0.00000000e+00, 0.00000000e+00, 0.00000000e+00, 3.77509259e-02,\n        2.27445588e-02, 3.11321169e-01, 2.26913705e-01, 2.29203507e-01,\n        2.77985305e-01, 3.16908240e-01, 2.43670344e-01, 8.63445029e-02,\n        3.28255333e-02, 0.00000000e+00, 1.38373017e-01, 4.68429744e-01,\n        7.82851279e-01, 9.79237556e-01, 9.88349259e-01, 9.91813660e-01,\n        6.66213512e-01, 4.65913154e-02, 6.43625736e-01, 0.00000000e+00,\n        0.00000000e+00, 0.00000000e+00, 0.00000000e+00, 0.00000000e+00],\n       [0.00000000e+00, 0.00000000e+00, 0.00000000e+00, 3.92607925e-03,\n        0.00000000e+00, 0.00000000e+00, 0.00000000e+00, 1.16861857e-01,\n        3.27968866e-01, 3.24143887e-01, 4.97912616e-02, 0.00000000e+00,\n        0.00000000e+00, 1.04078802e-03, 7.04542041e-01, 9.36740518e-01,\n        9.64918315e-01, 6.18417084e-01, 9.92565036e-01, 9.87704873e-01,\n        9.90617931e-01, 2.86544174e-01, 7.77284727e-02, 8.25600233e-03,\n        0.00000000e+00, 0.00000000e+00, 0.00000000e+00, 0.00000000e+00],\n       [0.00000000e+00, 0.00000000e+00, 0.00000000e+00, 0.00000000e+00,\n        0.00000000e+00, 0.00000000e+00, 0.00000000e+00, 1.20861098e-01,\n        3.25204700e-01, 3.01923692e-01, 7.78361708e-02, 0.00000000e+00,\n        2.11638827e-02, 7.90429533e-01, 9.31085229e-01, 9.40933049e-01,\n        1.63091794e-02, 4.57621992e-01, 9.94101644e-01, 9.89118040e-01,\n        9.88114715e-01, 3.77265692e-01, 1.69392899e-01, 4.67604212e-02,\n        0.00000000e+00, 0.00000000e+00, 0.00000000e+00, 0.00000000e+00],\n       [0.00000000e+00, 0.00000000e+00, 0.00000000e+00, 0.00000000e+00,\n        0.00000000e+00, 0.00000000e+00, 0.00000000e+00, 9.83068123e-02,\n        2.58428603e-01, 2.26779059e-01, 1.23628162e-01, 3.94718386e-02,\n        9.17011499e-01, 9.00293529e-01, 8.96196365e-01, 9.30074811e-01,\n        4.55658957e-02, 6.35404468e-01, 9.93518472e-01, 9.74332511e-01,\n        9.07904327e-01, 1.79670706e-01, 5.81121258e-02, 7.39770234e-02,\n        0.00000000e+00, 0.00000000e+00, 0.00000000e+00, 0.00000000e+00],\n       [0.00000000e+00, 0.00000000e+00, 0.00000000e+00, 0.00000000e+00,\n        0.00000000e+00, 0.00000000e+00, 0.00000000e+00, 4.61343080e-02,\n        1.40492156e-01, 1.20782875e-01, 5.10469191e-02, 9.49956775e-01,\n        8.75332892e-01, 8.34562242e-01, 8.47826302e-01, 8.96039844e-01,\n        2.44247377e-01, 9.06744182e-01, 9.83643889e-01, 8.86310756e-01,\n        6.47766054e-01, 9.28556249e-02, 1.19648210e-03, 1.68508105e-02,\n        0.00000000e+00, 0.00000000e+00, 0.00000000e+00, 0.00000000e+00],\n       [0.00000000e+00, 0.00000000e+00, 0.00000000e+00, 0.00000000e+00,\n        0.00000000e+00, 0.00000000e+00, 0.00000000e+00, 1.45458180e-04,\n        1.95204001e-02, 8.42650793e-03, 9.43837941e-01, 8.73529255e-01,\n        8.20706129e-01, 7.87457824e-01, 8.15746963e-01, 8.62859666e-01,\n        9.66149688e-01, 9.88816977e-01, 9.40594912e-01, 7.96196401e-01,\n        3.49107027e-01, 0.00000000e+00, 1.36812270e-01, 0.00000000e+00,\n        0.00000000e+00, 0.00000000e+00, 0.00000000e+00, 0.00000000e+00],\n       [0.00000000e+00, 0.00000000e+00, 0.00000000e+00, 0.00000000e+00,\n        0.00000000e+00, 0.00000000e+00, 0.00000000e+00, 2.16028258e-01,\n        7.71076500e-01, 8.95749688e-01, 8.79701555e-01, 8.40104759e-01,\n        5.01992762e-01, 6.83385551e-01, 7.93372214e-01, 7.87875056e-01,\n        8.71628523e-01, 9.91705537e-01, 9.32043493e-01, 7.85029173e-01,\n        0.00000000e+00, 5.11789229e-03, 1.87956080e-01, 0.00000000e+00,\n        0.00000000e+00, 0.00000000e+00, 0.00000000e+00, 0.00000000e+00],\n       [0.00000000e+00, 0.00000000e+00, 0.00000000e+00, 0.00000000e+00,\n        0.00000000e+00, 0.00000000e+00, 0.00000000e+00, 3.08916867e-01,\n        8.11052382e-01, 8.13118160e-01, 5.51791191e-01, 4.24315572e-01,\n        1.57229185e-01, 1.84532478e-01, 1.68996349e-01, 1.88850924e-01,\n        2.13529810e-01, 1.61683232e-01, 2.07922366e-02, 4.88607883e-01,\n        2.18863809e-03, 2.99903322e-02, 1.09036192e-01, 0.00000000e+00,\n        0.00000000e+00, 0.00000000e+00, 0.00000000e+00, 0.00000000e+00],\n       [0.00000000e+00, 0.00000000e+00, 0.00000000e+00, 0.00000000e+00,\n        0.00000000e+00, 0.00000000e+00, 0.00000000e+00, 2.88502961e-01,\n        7.85252631e-01, 6.15809202e-01, 0.00000000e+00, 0.00000000e+00,\n        0.00000000e+00, 0.00000000e+00, 3.62682185e-04, 2.48142015e-02,\n        5.87374456e-02, 7.45448694e-02, 6.05161488e-02, 1.32014289e-01,\n        3.68289709e-01, 3.80635597e-02, 5.28838427e-04, 0.00000000e+00,\n        0.00000000e+00, 0.00000000e+00, 0.00000000e+00, 0.00000000e+00],\n       [0.00000000e+00, 0.00000000e+00, 0.00000000e+00, 0.00000000e+00,\n        0.00000000e+00, 0.00000000e+00, 0.00000000e+00, 2.92543381e-01,\n        7.96880901e-01, 1.68250576e-01, 0.00000000e+00, 0.00000000e+00,\n        0.00000000e+00, 0.00000000e+00, 2.51191705e-01, 8.45519006e-01,\n        1.50947757e-02, 7.80504420e-02, 5.28892763e-02, 2.87943989e-01,\n        7.92030156e-01, 9.33680236e-01, 0.00000000e+00, 0.00000000e+00,\n        0.00000000e+00, 0.00000000e+00, 0.00000000e+00, 0.00000000e+00],\n       [0.00000000e+00, 0.00000000e+00, 0.00000000e+00, 0.00000000e+00,\n        0.00000000e+00, 0.00000000e+00, 0.00000000e+00, 3.30572307e-01,\n        6.12555921e-01, 7.82148913e-03, 0.00000000e+00, 0.00000000e+00,\n        6.47740997e-03, 6.31726310e-02, 5.81615865e-01, 8.53660882e-01,\n        9.69319761e-01, 3.08288306e-01, 3.72059196e-01, 5.77903450e-01,\n        8.17635953e-01, 3.84550989e-01, 0.00000000e+00, 0.00000000e+00,\n        0.00000000e+00, 0.00000000e+00, 0.00000000e+00, 0.00000000e+00],\n       [0.00000000e+00, 0.00000000e+00, 0.00000000e+00, 0.00000000e+00,\n        0.00000000e+00, 0.00000000e+00, 0.00000000e+00, 3.92124474e-01,\n        1.19158037e-01, 6.05536960e-02, 8.15662835e-03, 1.41637279e-02,\n        7.25687146e-02, 3.05181235e-01, 6.88552797e-01, 8.61885309e-01,\n        8.61723900e-01, 7.60082543e-01, 7.26455510e-01, 6.29968405e-01,\n        3.39786440e-01, 2.93281954e-02, 0.00000000e+00, 0.00000000e+00,\n        0.00000000e+00, 0.00000000e+00, 0.00000000e+00, 0.00000000e+00],\n       [0.00000000e+00, 0.00000000e+00, 0.00000000e+00, 0.00000000e+00,\n        0.00000000e+00, 0.00000000e+00, 0.00000000e+00, 5.91803603e-02,\n        3.19034308e-01, 4.75441128e-01, 1.91773087e-01, 2.43694380e-01,\n        4.39116359e-01, 7.00937808e-01, 7.47609019e-01, 8.34369838e-01,\n        3.56681526e-01, 8.63330483e-01, 4.72078234e-01, 8.67057443e-02,\n        1.27182547e-02, 0.00000000e+00, 0.00000000e+00, 0.00000000e+00,\n        0.00000000e+00, 0.00000000e+00, 0.00000000e+00, 0.00000000e+00],\n       [0.00000000e+00, 0.00000000e+00, 0.00000000e+00, 0.00000000e+00,\n        0.00000000e+00, 0.00000000e+00, 0.00000000e+00, 1.13729775e-01,\n        4.66708392e-01, 6.24457896e-01, 7.26230085e-01, 8.32061827e-01,\n        9.85030770e-01, 9.85197186e-01, 7.90912628e-01, 3.04400146e-01,\n        5.59310615e-01, 4.13833708e-01, 1.85175464e-02, 0.00000000e+00,\n        0.00000000e+00, 0.00000000e+00, 0.00000000e+00, 0.00000000e+00,\n        0.00000000e+00, 0.00000000e+00, 0.00000000e+00, 0.00000000e+00],\n       [0.00000000e+00, 0.00000000e+00, 0.00000000e+00, 0.00000000e+00,\n        0.00000000e+00, 0.00000000e+00, 0.00000000e+00, 8.60666707e-02,\n        3.64555120e-01, 6.70383096e-01, 8.37580323e-01, 9.52061355e-01,\n        9.84684587e-01, 9.64207351e-01, 3.05474997e-01, 1.65272467e-02,\n        4.28589322e-02, 0.00000000e+00, 0.00000000e+00, 0.00000000e+00,\n        0.00000000e+00, 0.00000000e+00, 0.00000000e+00, 0.00000000e+00,\n        0.00000000e+00, 0.00000000e+00, 0.00000000e+00, 0.00000000e+00],\n       [0.00000000e+00, 0.00000000e+00, 0.00000000e+00, 0.00000000e+00,\n        0.00000000e+00, 0.00000000e+00, 0.00000000e+00, 1.07338456e-02,\n        4.95810397e-02, 2.87802666e-01, 4.42322612e-01, 5.30256748e-01,\n        5.40926099e-01, 3.93380374e-01, 8.53170827e-03, 0.00000000e+00,\n        0.00000000e+00, 0.00000000e+00, 0.00000000e+00, 0.00000000e+00,\n        0.00000000e+00, 0.00000000e+00, 0.00000000e+00, 0.00000000e+00,\n        0.00000000e+00, 0.00000000e+00, 0.00000000e+00, 0.00000000e+00],\n       [0.00000000e+00, 0.00000000e+00, 0.00000000e+00, 0.00000000e+00,\n        0.00000000e+00, 0.00000000e+00, 0.00000000e+00, 0.00000000e+00,\n        0.00000000e+00, 0.00000000e+00, 2.56638955e-02, 7.11191967e-02,\n        8.69209617e-02, 3.12244073e-02, 0.00000000e+00, 0.00000000e+00,\n        0.00000000e+00, 0.00000000e+00, 0.00000000e+00, 0.00000000e+00,\n        0.00000000e+00, 0.00000000e+00, 0.00000000e+00, 0.00000000e+00,\n        0.00000000e+00, 0.00000000e+00, 0.00000000e+00, 0.00000000e+00]],\n      dtype=float32)"
     },
     "execution_count": 80,
     "metadata": {},
     "output_type": "execute_result"
    }
   ],
   "source": [
    "dist[0]"
   ],
   "metadata": {
    "collapsed": false,
    "pycharm": {
     "name": "#%%\n"
    }
   }
  },
  {
   "cell_type": "code",
   "execution_count": 144,
   "outputs": [
    {
     "data": {
      "text/plain": "<PIL.Image.Image image mode=L size=28x28 at 0x7FB629E14470>",
      "image/png": "[encoded data removed]"
     },
     "execution_count": 144,
     "metadata": {},
     "output_type": "execute_result"
    }
   ],
   "source": [
    "transforms.ToPILImage()(batch[0][0])"
   ],
   "metadata": {
    "collapsed": false,
    "pycharm": {
     "name": "#%%\n"
    }
   }
  },
  {
   "cell_type": "code",
   "execution_count": 153,
   "outputs": [
    {
     "data": {
      "text/plain": "<PIL.Image.Image image mode=L size=28x28 at 0x7FB628E76860>",
      "image/png": "[encoded data removed]"
     },
     "execution_count": 153,
     "metadata": {},
     "output_type": "execute_result"
    }
   ],
   "source": [
    "transforms.ToPILImage()(torch.abs(transforms.ToTensor()(mnist[0][0]) - combined(mnist[0][0])))"
   ],
   "metadata": {
    "collapsed": false,
    "pycharm": {
     "name": "#%%\n"
    }
   }
  },
  {
   "cell_type": "code",
   "execution_count": 161,
   "outputs": [
    {
     "data": {
      "text/plain": "<PIL.Image.Image image mode=L size=28x28 at 0x7FB628E3BD30>",
      "image/png": "[encoded data removed]"
     },
     "execution_count": 161,
     "metadata": {},
     "output_type": "execute_result"
    }
   ],
   "source": [
    "transforms.ToPILImage()(combined(mnist[6][0]))"
   ],
   "metadata": {
    "collapsed": false,
    "pycharm": {
     "name": "#%%\n"
    }
   }
  },
  {
   "cell_type": "code",
   "execution_count": null,
   "outputs": [],
   "source": [
    "\n"
   ],
   "metadata": {
    "collapsed": false,
    "pycharm": {
     "name": "#%%\n"
    }
   }
  }
 ],
 "metadata": {
  "kernelspec": {
   "display_name": "Python 3",
   "language": "python",
   "name": "python3"
  },
  "language_info": {
   "codemirror_mode": {
    "name": "ipython",
    "version": 2
   },
   "file_extension": ".py",
   "mimetype": "text/x-python",
   "name": "python",
   "nbconvert_exporter": "python",
   "pygments_lexer": "ipython2",
   "version": "2.7.6"
  }
 },
 "nbformat": 4,
 "nbformat_minor": 0
}