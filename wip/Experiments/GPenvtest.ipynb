{
 "cells": [
  {
   "cell_type": "code",
   "execution_count": 1,
   "outputs": [],
   "source": [
    "import sys\n",
    "sys.path.append('../../')\n",
    "import torch\n",
    "import torch.nn as nn\n",
    "import torch.optim as optim\n",
    "from Code.envs.GPEnv import MultiEnv\n",
    "from wip.Code.train_ac import make_dataset, backward_one\n",
    "import time\n",
    "from collections import OrderedDict\n",
    "from wip.Code import oldGP\n",
    "\n"
   ],
   "metadata": {
    "collapsed": false,
    "pycharm": {
     "name": "#%%\n"
    }
   }
  },
  {
   "cell_type": "code",
   "execution_count": 2,
   "outputs": [],
   "source": [
    "\n",
    "BATCH_SIZE = 512#64\n",
    "SIM_TIME = 1\n",
    "MAX_ITER = 10\n",
    "USE_JIT = False\n",
    "\n",
    "device = torch.device('cuda')\n",
    "\n",
    "env = MultiEnv(BATCH_SIZE, MAX_ITER, device)\n",
    "\n",
    "#torch.backends.cudnn.enabled = False\n",
    "\n"
   ],
   "metadata": {
    "collapsed": false,
    "pycharm": {
     "name": "#%%\n"
    }
   }
  },
  {
   "cell_type": "code",
   "execution_count": 3,
   "outputs": [],
   "source": [
    "myenv = MultiEnv(2, 20, device)\n",
    "oldenv = oldGP.MultiEnv(2, 20, device)"
   ],
   "metadata": {
    "collapsed": false,
    "pycharm": {
     "name": "#%%\n"
    }
   }
  },
  {
   "cell_type": "code",
   "execution_count": 4,
   "outputs": [
    {
     "data": {
      "text/plain": "(tensor([[ 0.5000, -0.5813],\n         [ 0.6000, -1.0216]], device='cuda:0'), tensor([[0.0527],\n         [0.0000]], device='cuda:0'), tensor([[ 2.4299e-07, -3.1252e-04],\n         [ 5.7989e-15, -4.8975e-08]], device='cuda:0'))"
     },
     "execution_count": 4,
     "metadata": {},
     "output_type": "execute_result"
    }
   ],
   "source": [
    "torch.manual_seed(1)\n",
    "myenv.reset()\n",
    "myenv.step(torch.tensor([0.5, 0.6], device=device))"
   ],
   "metadata": {
    "collapsed": false,
    "pycharm": {
     "name": "#%%\n"
    }
   }
  },
  {
   "cell_type": "code",
   "execution_count": 5,
   "outputs": [
    {
     "name": "stdout",
     "output_type": "stream",
     "text": [
      "tensor([[4.9295e-04],\n",
      "        [7.6151e-08]], device='cuda:0')\n"
     ]
    },
    {
     "data": {
      "text/plain": "(tensor([[ 0.5000, -0.5813],\n         [ 0.6000, -1.0216]], device='cuda:0'), tensor([[0.0527],\n         [0.0000]], device='cuda:0'), tensor([[ 2.4299e-07, -3.1252e-04],\n         [ 5.7989e-15, -4.8974e-08]], device='cuda:0'))"
     },
     "execution_count": 5,
     "metadata": {},
     "output_type": "execute_result"
    }
   ],
   "source": [
    "torch.manual_seed(1)\n",
    "oldenv.reset()\n",
    "oldenv.step(torch.tensor([0.5, 0.6], device=device))\n",
    "\n",
    "#%\n"
   ],
   "metadata": {
    "collapsed": false,
    "pycharm": {
     "name": "#%%\n"
    }
   }
  },
  {
   "cell_type": "code",
   "execution_count": 6,
   "outputs": [
    {
     "data": {
      "text/plain": "(tensor([[ 0.7000, -0.0204],\n         [ 0.8000, -1.4111]], device='cuda:0'), tensor([[0.5609],\n         [0.0000]], device='cuda:0'), tensor([[ 0.0451, -0.1823],\n         [ 0.0183, -0.1383]], device='cuda:0'))"
     },
     "execution_count": 6,
     "metadata": {},
     "output_type": "execute_result"
    }
   ],
   "source": [
    "myenv.step(torch.tensor([0.7, 0.8], device=device))\n"
   ],
   "metadata": {
    "collapsed": false,
    "pycharm": {
     "name": "#%%\n"
    }
   }
  },
  {
   "cell_type": "code",
   "execution_count": 7,
   "outputs": [
    {
     "name": "stdout",
     "output_type": "stream",
     "text": [
      "tensor([[1.6367e-01, 1.3534e-01],\n",
      "        [1.0965e-13, 1.3534e-01]], device='cuda:0')\n"
     ]
    },
    {
     "data": {
      "text/plain": "(tensor([[ 0.7000, -1.5465],\n         [ 0.8000, -1.2057]], device='cuda:0'), tensor([[0.],\n         [0.]], device='cuda:0'), tensor([[ 0.0451, -0.1823],\n         [ 0.0183, -0.1383]], device='cuda:0'))"
     },
     "execution_count": 7,
     "metadata": {},
     "output_type": "execute_result"
    }
   ],
   "source": [
    "oldenv.step(torch.tensor([0.7, 0.8], device=device))\n"
   ],
   "metadata": {
    "collapsed": false,
    "pycharm": {
     "name": "#%%\n"
    }
   }
  },
  {
   "cell_type": "code",
   "execution_count": 8,
   "outputs": [
    {
     "data": {
      "text/plain": "(tensor([[ 1.0000,  0.9129],\n         [ 1.0000, -1.4455]], device='cuda:0'), tensor([[0.9333],\n         [0.0000]], device='cuda:0'), tensor([[ 0.3063, -0.3603],\n         [ 0.0186, -0.1758]], device='cuda:0'))"
     },
     "execution_count": 8,
     "metadata": {},
     "output_type": "execute_result"
    }
   ],
   "source": [
    "myenv.step(torch.tensor([1, 1], device=device))"
   ],
   "metadata": {
    "collapsed": false,
    "pycharm": {
     "name": "#%%\n"
    }
   }
  },
  {
   "cell_type": "code",
   "execution_count": 9,
   "outputs": [
    {
     "data": {
      "text/plain": "<Figure size 432x288 with 1 Axes>",
      "image/png": "[encoded data removed]"
     },
     "metadata": {
      "needs_background": "light"
     },
     "output_type": "display_data"
    }
   ],
   "source": [
    "myenv.render()"
   ],
   "metadata": {
    "collapsed": false,
    "pycharm": {
     "name": "#%%\n"
    }
   }
  },
  {
   "cell_type": "code",
   "execution_count": 10,
   "outputs": [],
   "source": [
    "testenv = MultiEnv(1, 50, device)"
   ],
   "metadata": {
    "collapsed": false,
    "pycharm": {
     "name": "#%%\n"
    }
   }
  },
  {
   "cell_type": "code",
   "execution_count": 14,
   "outputs": [],
   "source": [
    "testenv.reset()\n",
    "for i in range(50):\n",
    "    testenv.step(torch.tensor([i/50], device=device))"
   ],
   "metadata": {
    "collapsed": false,
    "pycharm": {
     "name": "#%%\n"
    }
   }
  },
  {
   "cell_type": "code",
   "execution_count": 15,
   "outputs": [
    {
     "data": {
      "text/plain": "<Figure size 432x288 with 1 Axes>",
      "image/png": "[encoded data removed]"
     },
     "metadata": {
      "needs_background": "light"
     },
     "output_type": "display_data"
    }
   ],
   "source": [
    "testenv.render()"
   ],
   "metadata": {
    "collapsed": false,
    "pycharm": {
     "name": "#%%\n"
    }
   }
  },
  {
   "cell_type": "code",
   "execution_count": 13,
   "outputs": [
    {
     "data": {
      "text/plain": "tensor([[[ 0.4454,  0.2457],\n         [ 0.0000, -0.2988],\n         [ 0.0200, -0.3507],\n         [ 0.0400, -0.3887],\n         [ 0.0600, -0.4088],\n         [ 0.0800, -0.4092],\n         [ 0.1000, -0.3907],\n         [ 0.1200, -0.3565],\n         [ 0.1400, -0.3108],\n         [ 0.1600, -0.2588],\n         [ 0.1800, -0.2051],\n         [ 0.2000, -0.1532],\n         [ 0.2200, -0.1051],\n         [ 0.2400, -0.0616],\n         [ 0.2600, -0.0217],\n         [ 0.2800,  0.0155],\n         [ 0.3000,  0.0517],\n         [ 0.3200,  0.0874],\n         [ 0.3400,  0.1230],\n         [ 0.3600,  0.1574],\n         [ 0.3800,  0.1890],\n         [ 0.4000,  0.2156],\n         [ 0.4200,  0.2348],\n         [ 0.4400,  0.2448],\n         [ 0.4600,  0.2443],\n         [ 0.4800,  0.2336],\n         [ 0.5000,  0.2138],\n         [ 0.5200,  0.1870],\n         [ 0.5400,  0.1565],\n         [ 0.5600,  0.1248],\n         [ 0.5800,  0.0947],\n         [ 0.6000,  0.0682],\n         [ 0.6200,  0.0463],\n         [ 0.6400,  0.0292],\n         [ 0.6600,  0.0171],\n         [ 0.6800,  0.0094],\n         [ 0.7000,  0.0052],\n         [ 0.7200,  0.0038],\n         [ 0.7400,  0.0038],\n         [ 0.7600,  0.0043],\n         [ 0.7800,  0.0038],\n         [ 0.8000,  0.0021],\n         [ 0.8200, -0.0011],\n         [ 0.8400, -0.0055],\n         [ 0.8600, -0.0101],\n         [ 0.8800, -0.0141],\n         [ 0.9000, -0.0168],\n         [ 0.9200, -0.0177],\n         [ 0.9400, -0.0170],\n         [ 0.9600, -0.0148],\n         [ 0.9800, -0.0118]]], device='cuda:0')"
     },
     "execution_count": 13,
     "metadata": {},
     "output_type": "execute_result"
    }
   ],
   "source": [
    "testenv.data"
   ],
   "metadata": {
    "collapsed": false,
    "pycharm": {
     "name": "#%%\n"
    }
   }
  },
  {
   "cell_type": "code",
   "execution_count": 13,
   "outputs": [],
   "source": [
    "\n"
   ],
   "metadata": {
    "collapsed": false,
    "pycharm": {
     "name": "#%%\n"
    }
   }
  }
 ],
 "metadata": {
  "kernelspec": {
   "display_name": "Python 3",
   "language": "python",
   "name": "python3"
  },
  "language_info": {
   "codemirror_mode": {
    "name": "ipython",
    "version": 2
   },
   "file_extension": ".py",
   "mimetype": "text/x-python",
   "name": "python",
   "nbconvert_exporter": "python",
   "pygments_lexer": "ipython2",
   "version": "2.7.6"
  }
 },
 "nbformat": 4,
 "nbformat_minor": 0
}