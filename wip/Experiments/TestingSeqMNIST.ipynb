{
 "cells": [
  {
   "cell_type": "code",
   "execution_count": 1,
   "metadata": {
    "collapsed": true
   },
   "outputs": [],
   "source": [
    "import sys\n",
    "sys.path.append('../../')\n",
    "import torch\n",
    "from torchvision.datasets import MNIST\n",
    "from torchvision import transforms\n",
    "import time\n",
    "\n",
    "from torch.utils.data import DataLoader\n",
    "from Code.Networks import OuterWrapper\n"
   ]
  },
  {
   "cell_type": "code",
   "execution_count": 2,
   "outputs": [],
   "source": [
    "BATCH_SIZE = 1024\n",
    "\n",
    "USE_JIT = False\n",
    "\n",
    "device = torch.device('cuda')"
   ],
   "metadata": {
    "collapsed": false,
    "pycharm": {
     "name": "#%%\n"
    }
   }
  },
  {
   "cell_type": "code",
   "execution_count": 3,
   "outputs": [],
   "source": [
    "test = MNIST('../../', transform=transforms.ToTensor(), train=False)"
   ],
   "metadata": {
    "collapsed": false,
    "pycharm": {
     "name": "#%%\n"
    }
   }
  },
  {
   "cell_type": "code",
   "execution_count": 4,
   "outputs": [],
   "source": [
    "\n",
    "test_loader = DataLoader(test, batch_size=BATCH_SIZE, drop_last=False, num_workers=0)\n",
    "\n"
   ],
   "metadata": {
    "collapsed": false,
    "pycharm": {
     "name": "#%%\n"
    }
   }
  },
  {
   "cell_type": "code",
   "execution_count": 5,
   "outputs": [],
   "source": [
    "model_name = 'big11'\n",
    "n_models = 16"
   ],
   "metadata": {
    "collapsed": false,
    "pycharm": {
     "name": "#%%\n"
    }
   }
  },
  {
   "cell_type": "code",
   "execution_count": 7,
   "outputs": [
    {
     "name": "stdout",
     "output_type": "stream",
     "text": [
      "Model 0: tensor(0.9225, device='cuda:0')\n",
      "Model 1: tensor(0.9161, device='cuda:0')\n",
      "Model 2: tensor(0.9167, device='cuda:0')\n",
      "Model 3: tensor(0.9227, device='cuda:0')\n",
      "Model 4: tensor(0.9212, device='cuda:0')\n",
      "Model 5: tensor(0.9180, device='cuda:0')\n",
      "Model 6: tensor(0.9232, device='cuda:0')\n",
      "Model 7: tensor(0.9244, device='cuda:0')\n",
      "Model 8: tensor(0.9102, device='cuda:0')\n",
      "Model 9: tensor(0.9204, device='cuda:0')\n",
      "Model 10: tensor(0.9185, device='cuda:0')\n",
      "Model 11: tensor(0.9265, device='cuda:0')\n",
      "Model 12: tensor(0.9254, device='cuda:0')\n",
      "Model 13: tensor(0.9191, device='cuda:0')\n",
      "Model 14: tensor(0.9210, device='cuda:0')\n",
      "Model 15: tensor(0.9223, device='cuda:0')\n"
     ]
    }
   ],
   "source": [
    "with torch.no_grad():\n",
    "    for m in range(n_models):\n",
    "        mem_model = OuterWrapper(torch.load('../../models/mem_'+model_name+'_'+str(m)), device, USE_JIT)\n",
    "        post_model = OuterWrapper(torch.load('../../models/post_'+model_name+'_'+str(m)), device, USE_JIT)\n",
    "        confusion = torch.zeros([10,10])\n",
    "        i = 0\n",
    "        acc = 0\n",
    "        for inp, target in test_loader:\n",
    "            x = inp.view(inp.shape[0], -1, 1).transpose(0,1).to(device)\n",
    "            target = target.to(device)\n",
    "            mem, _ = mem_model(x)\n",
    "            outputs, _ = post_model(mem[-1].expand(56, x.shape[1], 256))\n",
    "            choice = torch.argmax(outputs.mean(dim=0), 1)\n",
    "            acc += (choice == target).float().mean()\n",
    "            i += 1\n",
    "            for k in range(len(target)):\n",
    "                confusion[choice[k], target[k]] += 1\n",
    "        print('Model '+str(m)+': '+str(acc/i))\n",
    "#print(confusion)"
   ],
   "metadata": {
    "collapsed": false,
    "pycharm": {
     "name": "#%%\n"
    }
   }
  },
  {
   "cell_type": "code",
   "execution_count": 7,
   "outputs": [],
   "source": [
    "max = confusion.max().item()\n",
    "from PIL import Image\n",
    "img = Image.new('L',(10,10),color=128)\n",
    "for i in range(10):\n",
    "    for k in range(10):\n",
    "        img.putpixel((i, k), int(confusion[i,k]/max*255))"
   ],
   "metadata": {
    "collapsed": false,
    "pycharm": {
     "name": "#%%\n"
    }
   }
  },
  {
   "cell_type": "code",
   "execution_count": 8,
   "outputs": [
    {
     "data": {
      "text/plain": "<PIL.Image.Image image mode=L size=500x500 at 0x7F92F8C974E0>",
      "image/png": "[encoded data removed]"
     },
     "execution_count": 8,
     "metadata": {},
     "output_type": "execute_result"
    }
   ],
   "source": [
    "img.resize((500, 500))"
   ],
   "metadata": {
    "collapsed": false,
    "pycharm": {
     "name": "#%%\n"
    }
   }
  },
  {
   "cell_type": "code",
   "execution_count": 9,
   "outputs": [],
   "source": [
    "testi = MNIST('../../', train=False)"
   ],
   "metadata": {
    "collapsed": false,
    "pycharm": {
     "name": "#%%\n"
    }
   }
  },
  {
   "cell_type": "code",
   "execution_count": null,
   "outputs": [],
   "source": [
    "show = []\n",
    "schoice = []\n",
    "starget = []\n",
    "for img, target in testi:\n",
    "    x = transforms.ToTensor()(img).view(-1, 1, 1).to(device)\n",
    "    mem, _ = mem_model(x)\n",
    "    outputs, _ = post_model(mem[-1].expand(56, 1, 256))\n",
    "    choice = torch.argmax(outputs.mean(dim=0), 1).item()\n",
    "    if choice != target:\n",
    "        show.append(img)\n",
    "        schoice.append(choice)\n",
    "        starget.append(target)\n",
    "        if len(show) == 10:\n",
    "            break\n"
   ],
   "metadata": {
    "collapsed": false,
    "pycharm": {
     "name": "#%%\n",
     "is_executing": true
    }
   }
  },
  {
   "cell_type": "code",
   "execution_count": null,
   "outputs": [],
   "source": [
    "show[7].resize((500,500))\n"
   ],
   "metadata": {
    "collapsed": false,
    "pycharm": {
     "name": "#%%\n",
     "is_executing": true
    }
   }
  },
  {
   "cell_type": "code",
   "execution_count": null,
   "outputs": [],
   "source": [
    "print(schoice)\n",
    "print(starget)"
   ],
   "metadata": {
    "collapsed": false,
    "pycharm": {
     "name": "#%%\n",
     "is_executing": true
    }
   }
  },
  {
   "cell_type": "code",
   "execution_count": null,
   "outputs": [],
   "source": [],
   "metadata": {
    "collapsed": false,
    "pycharm": {
     "name": "#%%\n",
     "is_executing": true
    }
   }
  },
  {
   "cell_type": "code",
   "execution_count": null,
   "outputs": [],
   "source": [
    "mem_model.model.model.layers.shortterm_synapse.named_parameters()"
   ],
   "metadata": {
    "collapsed": false,
    "pycharm": {
     "name": "#%%\n",
     "is_executing": true
    }
   }
  },
  {
   "cell_type": "code",
   "execution_count": null,
   "outputs": [],
   "source": [
    "for name, p in n_mem.named_parameters():\n",
    "    print(name, p.shape)"
   ],
   "metadata": {
    "collapsed": false,
    "pycharm": {
     "name": "#%%\n",
     "is_executing": true
    }
   }
  },
  {
   "cell_type": "code",
   "execution_count": null,
   "outputs": [],
   "source": [
    "for name, p in mem_model2.named_parameters():\n",
    "    print(name, p.shape)"
   ],
   "metadata": {
    "collapsed": false,
    "pycharm": {
     "name": "#%%\n",
     "is_executing": true
    }
   }
  },
  {
   "cell_type": "code",
   "execution_count": null,
   "outputs": [],
   "source": [
    "mem_model2 = torch.load('../../models/mem_nores3_76')\n",
    "n_mem = make_SequenceWrapper(DynNetwork(mem_loop), USE_JIT)\n",
    "with torch.no_grad():\n",
    "    n_mem.model.layers.output_synapse.weight = mem_model2.model.layers.output_synapse.weight\n",
    "    n_mem.model.layers.output_synapse.bias = mem_model2.model.layers.output_synapse.bias\n",
    "    n_mem.model.layers.output.initial_mem = mem_model2.model.layers.output.initial_mem\n",
    "    n_mem.model.layers.pre_mem_synapse.bias = mem_model2.model.layers.pre_mem_synapse.bias\n",
    "    n_mem.model.layers.pre_mem.initial_mem = mem_model2.model.layers.pre_mem.initial_mem\n",
    "    n_mem.model.layers.pre_mem_synapse.weight[:, :129] = mem_model2.model.layers.pre_mem_synapse.weight"
   ],
   "metadata": {
    "collapsed": false,
    "pycharm": {
     "name": "#%%\n",
     "is_executing": true
    }
   }
  },
  {
   "cell_type": "code",
   "execution_count": null,
   "outputs": [],
   "source": [
    "data_loader.__iter__().__next__()[1]"
   ],
   "metadata": {
    "collapsed": false,
    "pycharm": {
     "name": "#%%\n",
     "is_executing": true
    }
   }
  },
  {
   "cell_type": "code",
   "execution_count": null,
   "outputs": [],
   "source": [
    "\n"
   ],
   "metadata": {
    "collapsed": false,
    "pycharm": {
     "name": "#%%\n",
     "is_executing": true
    }
   }
  }
 ],
 "metadata": {
  "kernelspec": {
   "display_name": "Python 3",
   "language": "python",
   "name": "python3"
  },
  "language_info": {
   "codemirror_mode": {
    "name": "ipython",
    "version": 2
   },
   "file_extension": ".py",
   "mimetype": "text/x-python",
   "name": "python",
   "nbconvert_exporter": "python",
   "pygments_lexer": "ipython2",
   "version": "2.7.6"
  }
 },
 "nbformat": 4,
 "nbformat_minor": 0
}