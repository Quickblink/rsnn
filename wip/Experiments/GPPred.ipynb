{
 "cells": [
  {
   "cell_type": "code",
   "execution_count": 1,
   "metadata": {
    "collapsed": true
   },
   "outputs": [],
   "source": [
    "import sys\n",
    "sys.path.append('../../')\n",
    "import torch\n",
    "import torch.nn as nn\n",
    "import torch.optim as optim\n",
    "from Code.ANN import lstmPolicyPredictor, FullyConnected\n",
    "from Code.envs.GPEnv import PassiveEnv\n",
    "from wip.Code.train import make_dataset_simple\n",
    "from Code.SNN import DynNetwork, SequenceWrapper\n",
    "from Code.ANN import LSTMWrapper, ReLuWrapper\n",
    "import time\n",
    "from collections import OrderedDict\n",
    "from Code import Neurons"
   ]
  },
  {
   "cell_type": "code",
   "execution_count": 2,
   "outputs": [],
   "source": [
    "#TODO: output reset mechanism\n",
    "\n",
    "config = {\n",
    "    'ALPHA': 0.5, #0.7\n",
    "    'BETA': 0.9, #0.95\n",
    "    'RESET_ZERO': False,\n",
    "    'DECODING': 'potential',\n",
    "    'SPIKE_FN': 'ss'\n",
    "}\n",
    "\n",
    "secondconfig = {\n",
    "    'ALPHA': 0.7,\n",
    "    'BETA': 0.5, #0.95\n",
    "    'RESET_ZERO': False,\n",
    "    'DECODING': 'potential',\n",
    "    'SPIKE_FN': 'ss'\n",
    "}\n",
    "\n",
    "heavyside = {\n",
    "    'ALPHA': 0,\n",
    "    'BETA': 1, #0.95\n",
    "    'RESET_ZERO': False,\n",
    "    'SPIKE_FN': 'ss'\n",
    "}\n",
    "\n",
    "outconfig = {\n",
    "    'ALPHA': 0,\n",
    "    'BETA': 0,\n",
    "    'RESET_ZERO': False,\n",
    "    'DECODING': 'potential',\n",
    "    'SPIKE_FN': 'ss'\n",
    "}\n",
    "\n",
    "class Selector(nn.Module):\n",
    "    def __init__(self, params, size):\n",
    "        super().__init__()\n",
    "        self.start = params\n",
    "        self.end = params + size\n",
    "\n",
    "    def forward(self, x, h):\n",
    "        return x[:, self.start:self.end], ()\n",
    "\n",
    "    def get_initial_state(self, batch_size):\n",
    "        return ()\n",
    "\n",
    "architecture1 = OrderedDict([\n",
    "    ('input', [3]),\n",
    "    ('obs', [2, ['input'], Selector, 0, None]),\n",
    "    ('probe', [1, ['input'], Selector, 2, None]),\n",
    "    ('pre_mem', [128, ['obs', 'mem', 'short_mem'], Neurons.LIFNeuron, config, nn.Linear]),\n",
    "    ('mem', [64, ['pre_mem'], Neurons.CooldownNeuron, config, nn.Linear]), #CooldownNeuron 32\n",
    "    ('short_mem', [64, ['pre_mem'], Neurons.CooldownNeuron, secondconfig, nn.Linear]), #32\n",
    "    ('post_mem', [128, ['probe', 'mem', 'short_mem'], Neurons.LIFNeuron, config, nn.Linear]),\n",
    "    ('output', [2, ['post_mem'], Neurons.OutputNeuron, outconfig, nn.Linear]), #OutputNeuron\n",
    "])\n",
    "\n",
    "architecture0 = OrderedDict([\n",
    "    ('input', [3]),\n",
    "    ('obs', [2, ['input'], Selector, 0, None]),\n",
    "    ('probe', [1, ['input'], Selector, 2, None]),\n",
    "    ('pre_mem', [128, ['obs', 'mem'], Neurons.LIFNeuron, outconfig, nn.Linear]),\n",
    "    ('mem', [128, ['pre_mem'], Neurons.CooldownNeuron, heavyside, nn.Linear]), #CooldownNeuron 32\n",
    "    ('post_mem', [128, ['probe', 'mem'], Neurons.LIFNeuron, outconfig, nn.Linear]),\n",
    "    ('output', [2, ['post_mem'], Neurons.OutputNeuron, outconfig, nn.Linear]), #OutputNeuron\n",
    "])\n",
    "\n",
    "architecture2 = OrderedDict([\n",
    "    ('input', [3]),\n",
    "    ('obs', [2, ['input'], Selector, 0, None]),\n",
    "    ('probe', [1, ['input'], Selector, 2, None]),\n",
    "    ('pre_mem', [64, ['obs', 'mem', 'short_mem'], Neurons.LIFNeuron, config, nn.Linear]),\n",
    "    ('mem', [128, ['pre_mem'], Neurons.CooldownNeuron, config, nn.Linear]), #CooldownNeuron 32\n",
    "    ('short_mem', [128, ['pre_mem'], Neurons.CooldownNeuron, secondconfig, nn.Linear]), #32\n",
    "    ('post_mem', [64, ['probe', 'mem', 'short_mem'], Neurons.LIFNeuron, config, nn.Linear]),\n",
    "    ('secondproc', [64, ['post_mem'], Neurons.LIFNeuron, config, nn.Linear]),\n",
    "    ('output', [2, ['secondproc'], Neurons.OutputNeuron, outconfig, nn.Linear]), #OutputNeuron\n",
    "])\n",
    "\n",
    "architecturelstm0 = OrderedDict([\n",
    "    ('input', [3]),\n",
    "    ('obs', [2, ['input'], Selector, 0, None]),\n",
    "    ('probe', [1, ['input'], Selector, 2, None]),\n",
    "    ('lstm', [128, ['obs'], LSTMWrapper, None, nn.Linear]),\n",
    "    ('post_mem', [128, ['probe', 'lstm'], ReLuWrapper, None, nn.Linear]),\n",
    "    ('output', [2, ['post_mem'], Neurons.OutputNeuron, outconfig, nn.Linear]), #OutputNeuron\n",
    "])\n",
    "\n",
    "\n",
    "BATCH_SIZE = 1024\n",
    "SIM_TIME = 1\n",
    "MAX_ITER = 50\n",
    "\n",
    "\n"
   ],
   "metadata": {
    "collapsed": false,
    "pycharm": {
     "name": "#%%\n"
    }
   }
  },
  {
   "cell_type": "code",
   "execution_count": 3,
   "outputs": [],
   "source": [
    "device = torch.device('cuda')\n",
    "\n",
    "env = PassiveEnv(BATCH_SIZE, MAX_ITER, device)\n",
    "#model = lstmPolicyPredictor(1,32,64)\n",
    "\n",
    "#model = FullyConnected([1, 128, 128, 1])\n",
    "\n",
    "model_raw = DynNetwork(architecturelstm0, SIM_TIME)\n",
    "model = SequenceWrapper(model_raw, BATCH_SIZE, device, False)\n",
    "\n"
   ],
   "metadata": {
    "collapsed": false,
    "pycharm": {
     "name": "#%%\n"
    }
   }
  },
  {
   "cell_type": "code",
   "execution_count": 4,
   "outputs": [],
   "source": [
    "mse = nn.MSELoss(reduction='mean')\n",
    "optimizer = optim.Adam(model.parameters(), lr=5e-5)#0.000011e-6\n",
    "#optimizer = optim.Adam(model.model.layers['output_linear'].parameters(), lr=1e-4)#0.000011e-6"
   ],
   "metadata": {
    "collapsed": false,
    "pycharm": {
     "name": "#%%\n"
    }
   }
  },
  {
   "cell_type": "code",
   "execution_count": 5,
   "outputs": [
    {
     "name": "stdout",
     "output_type": "stream",
     "text": [
      "0.44402673840522766 0.8076158165931702 0\n",
      "0.30475252866744995 0.5456461906433105 100\n",
      "0.26499995589256287 0.47420331835746765 200\n",
      "0.25821569561958313 0.4648166596889496 300\n",
      "0.26339057087898254 0.4727363884449005 400\n",
      "0.2609795033931732 0.4643869996070862 500\n",
      "0.2565402686595917 0.46144288778305054 600\n",
      "0.26218268275260925 0.4628727436065674 700\n",
      "0.2490558922290802 0.4608836770057678 800\n",
      "0.25311094522476196 0.45142123103141785 900\n",
      "Total time:  266.6013057231903\n"
     ]
    }
   ],
   "source": [
    "start = time.time()\n",
    "\n",
    "for i in range(1000):\n",
    "    model.zero_grad()\n",
    "    inputs, targets = env.getBatch()\n",
    "    if i%100 == 0:\n",
    "        for p in model.parameters():\n",
    "            if torch.isnan(p).any():\n",
    "                raise Exception('Corrupted Model')\n",
    "    outputs, _ = model(inputs)\n",
    "    processed = torch.empty_like(outputs)\n",
    "    processed[:, :, 1] = outputs[:, :, 1]\n",
    "    processed[:, :, 0] = torch.sigmoid(outputs[:, :, 0])\n",
    "    loss = mse(processed, targets)\n",
    "    #loss = mse(outputs[..., 1], targets[..., 1])\n",
    "    loss.backward()\n",
    "    optimizer.step()\n",
    "    if i%100 == 0:\n",
    "        print(loss.item(), (loss/targets.view(-1).var()).item(), i)\n",
    "\n",
    "print('Total time: ', time.time()-start)\n",
    "\n",
    "\n"
   ],
   "metadata": {
    "collapsed": false,
    "pycharm": {
     "name": "#%%\n"
    }
   }
  },
  {
   "cell_type": "code",
   "execution_count": 28,
   "outputs": [
    {
     "name": "stdout",
     "output_type": "stream",
     "text": [
      "Using matplotlib backend: TkAgg\n"
     ]
    },
    {
     "data": {
      "text/plain": "<matplotlib.legend.Legend at 0x7fbeccdc5e10>"
     },
     "execution_count": 28,
     "metadata": {},
     "output_type": "execute_result"
    }
   ],
   "source": [
    "from matplotlib import pyplot as plt\n",
    "#model = torch.load('../models/snn_passive3')\n",
    "%matplotlib\n",
    "\n",
    "\n",
    "inputs, targets = env.getBatch()\n",
    "outputs, _ = model(inputs)\n",
    "plt.scatter(inputs[:, 0, 2].cpu(), targets[:, 0, 1].cpu(), label='Mean_Target')\n",
    "plt.scatter(inputs[:, 0, 2].cpu(), outputs[:, 0, 1].detach().cpu(), label='Mean')\n",
    "plt.scatter(inputs[:, 0, 2].cpu(), targets[:, 0, 0].cpu(), label='Var_Target')\n",
    "plt.scatter(inputs[:, 0, 2].cpu(), torch.sigmoid(outputs[:, 0, 0].cpu()).detach(), label='Var')\n",
    "plt.legend()\n"
   ],
   "metadata": {
    "collapsed": false,
    "pycharm": {
     "name": "#%%\n"
    }
   }
  },
  {
   "cell_type": "code",
   "execution_count": 25,
   "outputs": [
    {
     "name": "stderr",
     "output_type": "stream",
     "text": [
      "/opt/conda/lib/python3.6/site-packages/torch/serialization.py:354: UserWarning: Couldn't retrieve source code for container of type Selector. It won't be checked for correctness upon loading.\n",
      "  \"type \" + obj.__name__ + \". It won't be checked \"\n"
     ]
    }
   ],
   "source": [
    "torch.save(model, '../../models/rsnn_gppred2')\n"
   ],
   "metadata": {
    "collapsed": false,
    "pycharm": {
     "name": "#%%\n"
    }
   }
  },
  {
   "cell_type": "code",
   "execution_count": 7,
   "outputs": [],
   "source": [
    "obs, targets = env.getBatch()"
   ],
   "metadata": {
    "collapsed": false,
    "pycharm": {
     "name": "#%%\n"
    }
   }
  },
  {
   "cell_type": "code",
   "execution_count": 8,
   "outputs": [
    {
     "data": {
      "text/plain": "tensor([[ 0.0725,  1.3078,  0.7469],\n        [ 0.7469,  0.1004,  0.1551],\n        [ 0.1551,  0.7648,  0.5999],\n        [ 0.5999, -0.3369,  0.3660],\n        [ 0.3660,  0.6587,  0.2637],\n        [ 0.2637,  0.3779,  0.2201],\n        [ 0.2201,  0.3814,  0.1194],\n        [ 0.1194,  1.0581,  0.8709],\n        [ 0.8709,  0.5644,  0.1411],\n        [ 0.1411,  0.8821,  0.6016],\n        [ 0.6016, -0.3385,  0.0749],\n        [ 0.0749,  1.3016,  0.7182],\n        [ 0.7182, -0.0277,  0.5491],\n        [ 0.5491, -0.1718,  0.2822],\n        [ 0.2822,  0.4266,  0.7817],\n        [ 0.7817,  0.2554,  0.1489],\n        [ 0.1489,  0.8160,  0.9466],\n        [ 0.9466,  0.6245,  0.5037],\n        [ 0.5037,  0.1100,  0.6078],\n        [ 0.6078, -0.3423,  0.3834],\n        [ 0.3834,  0.6589,  0.1964],\n        [ 0.1964,  0.4742,  0.7783],\n        [ 0.7783,  0.2406,  0.3649],\n        [ 0.3649,  0.6579,  0.9045],\n        [ 0.9045,  0.6172,  0.5368],\n        [ 0.5368, -0.1034,  0.7161],\n        [ 0.7161, -0.0366,  0.4711],\n        [ 0.4711,  0.3251,  0.9820],\n        [ 0.9820,  0.5764,  0.4191],\n        [ 0.4191,  0.5849,  0.8393],\n        [ 0.8393,  0.4793,  0.6317],\n        [ 0.6317, -0.3269,  0.2778],\n        [ 0.2778,  0.4132,  0.2948],\n        [ 0.2948,  0.4687,  0.4170],\n        [ 0.4170,  0.5919,  0.8782],\n        [ 0.8782,  0.5793,  0.2520],\n        [ 0.2520,  0.3598,  0.0140],\n        [ 0.0140,  1.1842,  0.8415],\n        [ 0.8415,  0.4862,  0.4262],\n        [ 0.4262,  0.5586,  0.5436],\n        [ 0.5436, -0.1420,  0.9644],\n        [ 0.9644,  0.6065,  0.9086],\n        [ 0.9086,  0.6209,  0.5564],\n        [ 0.5564, -0.2085,  0.4671],\n        [ 0.4671,  0.3501,  0.0190],\n        [ 0.0190,  1.2139,  0.3513],\n        [ 0.3513,  0.6404,  0.3101],\n        [ 0.3101,  0.5235,  0.6660],\n        [ 0.6660, -0.2381,  0.3934],\n        [ 0.3934,  0.6482,  0.2089]], device='cuda:0')"
     },
     "execution_count": 8,
     "metadata": {},
     "output_type": "execute_result"
    }
   ],
   "source": [
    "obs[:, 0]\n"
   ],
   "metadata": {
    "collapsed": false,
    "pycharm": {
     "name": "#%%\n"
    }
   }
  },
  {
   "cell_type": "code",
   "execution_count": 9,
   "outputs": [
    {
     "data": {
      "text/plain": "tensor([[ 1.7684e-20,  1.7391e-10],\n        [ 5.0578e-01,  9.3009e-01],\n        [ 1.1508e-01,  3.4039e-02],\n        [ 2.4592e-02, -4.2329e-02],\n        [ 6.7668e-01,  4.2292e-01],\n        [ 9.8833e-01,  3.8013e-01],\n        [ 9.9864e-01,  1.0591e+00],\n        [ 2.3511e-01,  1.0906e-01],\n        [ 9.9999e-01,  8.8214e-01],\n        [ 9.9982e-01, -3.3843e-01],\n        [ 9.9999e-01,  1.3017e+00],\n        [ 9.8745e-01, -4.8751e-02],\n        [ 9.7186e-01, -1.9440e-01],\n        [ 9.9988e-01,  4.2651e-01],\n        [ 9.9765e-01,  2.5635e-01],\n        [ 9.9999e-01,  8.1605e-01],\n        [ 8.5181e-01,  5.0005e-01],\n        [ 9.9471e-01,  1.1237e-01],\n        [ 9.9999e-01, -3.4233e-01],\n        [ 9.9987e-01,  6.5898e-01],\n        [ 9.9999e-01,  4.7421e-01],\n        [ 9.9999e-01,  2.4056e-01],\n        [ 9.9999e-01,  6.5790e-01],\n        [ 9.9935e-01,  6.1698e-01],\n        [ 9.9999e-01, -1.0340e-01],\n        [ 9.9999e-01, -3.6590e-02],\n        [ 9.9994e-01,  3.2506e-01],\n        [ 9.9712e-01,  5.7741e-01],\n        [ 9.9997e-01,  5.8489e-01],\n        [ 9.9997e-01,  4.7928e-01],\n        [ 9.9997e-01, -3.2689e-01],\n        [ 9.9999e-01,  4.1316e-01],\n        [ 9.9999e-01,  4.6872e-01],\n        [ 9.9999e-01,  5.9194e-01],\n        [ 9.9999e-01,  5.7926e-01],\n        [ 9.9999e-01,  3.5976e-01],\n        [ 9.8402e-01,  1.2049e+00],\n        [ 9.9999e-01,  4.8617e-01],\n        [ 1.0000e+00,  5.5862e-01],\n        [ 1.0000e+00, -1.4203e-01],\n        [ 9.9999e-01,  6.0651e-01],\n        [ 9.9999e-01,  6.2090e-01],\n        [ 1.0000e+00, -2.0851e-01],\n        [ 9.9999e-01,  3.5007e-01],\n        [ 9.9998e-01,  1.2140e+00],\n        [ 9.9999e-01,  6.4043e-01],\n        [ 9.9999e-01,  5.2345e-01],\n        [ 9.9998e-01, -2.3806e-01],\n        [ 1.0000e+00,  6.4820e-01],\n        [ 1.0000e+00,  4.1728e-01]], device='cuda:0')"
     },
     "execution_count": 9,
     "metadata": {},
     "output_type": "execute_result"
    }
   ],
   "source": [
    "targets[:, 0]\n"
   ],
   "metadata": {
    "collapsed": false,
    "pycharm": {
     "name": "#%%\n"
    }
   }
  },
  {
   "cell_type": "code",
   "execution_count": 12,
   "outputs": [],
   "source": [
    "#model2 = torch.load('../../models/rsnn_gppred1')\n"
   ],
   "metadata": {
    "collapsed": false,
    "pycharm": {
     "name": "#%%\n"
    }
   }
  },
  {
   "cell_type": "code",
   "execution_count": 15,
   "outputs": [
    {
     "data": {
      "text/plain": "SequenceWrapper(\n  (pretrace): DynNetwork(\n    (layers): ModuleDict(\n      (obs): Selector()\n      (probe): Selector()\n      (pre_mem_linear): Linear(in_features=130, out_features=128, bias=True)\n      (pre_mem): LIFNeuron()\n      (mem_linear): Linear(in_features=128, out_features=128, bias=True)\n      (mem): CooldownNeuron(\n        (elu): ELU(alpha=1.0)\n      )\n      (post_mem_linear): Linear(in_features=129, out_features=128, bias=True)\n      (post_mem): LIFNeuron()\n      (output_linear): Linear(in_features=128, out_features=2, bias=True)\n      (output): OutputNeuron()\n    )\n  )\n  (model): DynNetwork(\n    (layers): ModuleDict(\n      (obs): Selector()\n      (probe): Selector()\n      (pre_mem_linear): Linear(in_features=130, out_features=128, bias=True)\n      (pre_mem): LIFNeuron()\n      (mem_linear): Linear(in_features=128, out_features=128, bias=True)\n      (mem): CooldownNeuron(\n        (elu): ELU(alpha=1.0)\n      )\n      (post_mem_linear): Linear(in_features=129, out_features=128, bias=True)\n      (post_mem): LIFNeuron()\n      (output_linear): Linear(in_features=128, out_features=2, bias=True)\n      (output): OutputNeuron()\n    )\n  )\n)"
     },
     "execution_count": 15,
     "metadata": {},
     "output_type": "execute_result"
    }
   ],
   "source": [
    "#model2.cpu()"
   ],
   "metadata": {
    "collapsed": false,
    "pycharm": {
     "name": "#%%\n"
    }
   }
  },
  {
   "cell_type": "code",
   "execution_count": 19,
   "outputs": [
    {
     "name": "stdout",
     "output_type": "stream",
     "text": [
      "torch.Size([2, 128])\n",
      "torch.Size([2])\n"
     ]
    }
   ],
   "source": [
    "for p in model.model.layers['output_linear'].parameters():\n",
    "    print(p.shape)"
   ],
   "metadata": {
    "collapsed": false,
    "pycharm": {
     "name": "#%%\n"
    }
   }
  },
  {
   "cell_type": "code",
   "execution_count": 18,
   "outputs": [
    {
     "data": {
      "text/plain": "<generator object Module.parameters at 0x7fbeccb995c8>"
     },
     "execution_count": 18,
     "metadata": {},
     "output_type": "execute_result"
    }
   ],
   "source": [
    "model.model.layers['output_linear'].parameters()"
   ],
   "metadata": {
    "collapsed": false,
    "pycharm": {
     "name": "#%%\n"
    }
   }
  },
  {
   "cell_type": "code",
   "execution_count": null,
   "outputs": [],
   "source": [
    "\n"
   ],
   "metadata": {
    "collapsed": false,
    "pycharm": {
     "name": "#%%\n"
    }
   }
  }
 ],
 "metadata": {
  "kernelspec": {
   "display_name": "Python 3",
   "language": "python",
   "name": "python3"
  },
  "language_info": {
   "codemirror_mode": {
    "name": "ipython",
    "version": 2
   },
   "file_extension": ".py",
   "mimetype": "text/x-python",
   "name": "python",
   "nbconvert_exporter": "python",
   "pygments_lexer": "ipython2",
   "version": "2.7.6"
  }
 },
 "nbformat": 4,
 "nbformat_minor": 0
}