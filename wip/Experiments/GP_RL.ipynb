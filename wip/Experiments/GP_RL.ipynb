{
 "cells": [
  {
   "cell_type": "code",
   "execution_count": 1,
   "metadata": {
    "collapsed": true
   },
   "outputs": [],
   "source": [
    "import sys\n",
    "sys.path.append('../../')\n",
    "import torch\n",
    "import torch.nn as nn\n",
    "import torch.optim as optim\n",
    "from Code.envs.GPEnv import MultiEnv\n",
    "from wip.Code.train_ac import make_dataset, backward_one\n",
    "import time\n",
    "from collections import OrderedDict"
   ]
  },
  {
   "cell_type": "code",
   "execution_count": 2,
   "outputs": [],
   "source": [
    "\n",
    "BATCH_SIZE = 512#64\n",
    "SIM_TIME = 1\n",
    "MAX_ITER = 10\n",
    "USE_JIT = False\n",
    "\n",
    "device = torch.device('cuda')\n",
    "\n",
    "env = MultiEnv(BATCH_SIZE, MAX_ITER, device)\n",
    "\n",
    "#torch.backends.cudnn.enabled = False\n"
   ],
   "metadata": {
    "collapsed": false,
    "pycharm": {
     "name": "#%%\n"
    }
   }
  },
  {
   "cell_type": "code",
   "execution_count": 3,
   "outputs": [],
   "source": [
    "from Code.Networks import OuterWrapper\n",
    "model = torch.load('../../models/rsnn_gppred4')\n",
    "model_memory = model.layers.mem_loop.model.model\n",
    "\n",
    "#model = OuterWrapper(model, device, USE_JIT)\n",
    "model_memory = OuterWrapper(model_memory, device, USE_JIT, two_dim=True)"
   ],
   "metadata": {
    "collapsed": false,
    "pycharm": {
     "name": "#%%\n"
    }
   }
  },
  {
   "cell_type": "code",
   "execution_count": 4,
   "outputs": [],
   "source": [
    "from Code.Networks import Selector, DynNetwork, OuterWrapper, LSTMWrapper, ReLuWrapper, DummyNeuron, make_SequenceWrapper\n",
    "from Code.NewNeurons import SeqOnlySpike, CooldownNeuron\n",
    "\n",
    "architecture = OrderedDict([\n",
    "    ('input', 128),\n",
    "    ('layer1', [['input'], ReLuWrapper(256), nn.Linear]),\n",
    "    ('layer2', [['layer1'], ReLuWrapper(128), nn.Linear]),\n",
    "    ('output', [['layer2'], DummyNeuron(1), nn.Linear]),\n",
    "])\n"
   ],
   "metadata": {
    "collapsed": false,
    "pycharm": {
     "name": "#%%\n"
    }
   }
  },
  {
   "cell_type": "code",
   "execution_count": 5,
   "outputs": [],
   "source": [
    "#144, 150, 137, 150\n",
    "\n",
    "v_model = OuterWrapper(DynNetwork(architecture), device, USE_JIT)\n",
    "p_model = OuterWrapper(DynNetwork(architecture), device, USE_JIT)\n",
    "\n",
    "#model = (OuterWrapper(DynNetwork(architecturelstm), device, True))\n",
    "\n"
   ],
   "metadata": {
    "collapsed": false,
    "pycharm": {
     "name": "#%%\n"
    }
   }
  },
  {
   "cell_type": "code",
   "execution_count": 11,
   "outputs": [],
   "source": [
    "params = list(v_model.parameters())+list(p_model.parameters())\n",
    "optimizer = optim.Adam(params, lr=1e-4)#0.00001\n",
    "\n"
   ],
   "metadata": {
    "collapsed": false,
    "pycharm": {
     "name": "#%%\n"
    }
   }
  },
  {
   "cell_type": "code",
   "execution_count": 12,
   "outputs": [],
   "source": [
    "def train_dataset(num_batches, num_epochs, var, gamma):\n",
    "    obs, mem, value, advantage, actions, avg_reward = make_dataset(num_batches, BATCH_SIZE, MAX_ITER, v_model, p_model, model_memory, device, env, var, gamma)\n",
    "    print('Avarage Reward: ', avg_reward)\n",
    "    print('Action Variance: ', actions.var(0).mean())\n",
    "    print('Avarage Start Value: ', value[0].mean())\n",
    "    for e in range(num_epochs):\n",
    "        start = time.time()\n",
    "        idc = torch.randperm(num_batches*BATCH_SIZE*MAX_ITER, device=device)\n",
    "        sum_v = 0\n",
    "        sum_p = 0\n",
    "        for i in range(num_batches*MAX_ITER):\n",
    "            base = i*BATCH_SIZE\n",
    "            batch_mem = mem.view(-1, 128)[idc[base:base + BATCH_SIZE]]\n",
    "            batch_value = value.view(-1, 1)[idc[base:base + BATCH_SIZE]]\n",
    "            batch_advantage = advantage.view(-1, 1)[idc[base:base + BATCH_SIZE]]\n",
    "            batch_action = actions.view(-1, 1)[idc[base:base + BATCH_SIZE]]\n",
    "            v_model.zero_grad()\n",
    "            p_model.zero_grad()\n",
    "            lossv, lossp = backward_one(batch_action, batch_mem, batch_value, batch_advantage, v_model, p_model, var, device)\n",
    "            sum_v += lossv\n",
    "            sum_p += lossp\n",
    "            optimizer.step()\n",
    "        for p in model.parameters():\n",
    "            if torch.isnan(p).any():\n",
    "                raise Exception('Corrupted Model')\n",
    "        print(sum_v / (num_batches*MAX_ITER), sum_p / (num_batches*MAX_ITER), time.time()-start)\n",
    "            #if i%10 == 0:\n",
    "                #print(loss.item(), (loss/targets.view(-1).var()).item(), i)"
   ],
   "metadata": {
    "collapsed": false,
    "pycharm": {
     "name": "#%%\n"
    }
   }
  },
  {
   "cell_type": "code",
   "execution_count": 13,
   "outputs": [
    {
     "name": "stdout",
     "output_type": "stream",
     "text": [
      "Bigstep:  0\n",
      "Avarage Reward:  tensor(1.0828, device='cuda:0')\n",
      "Action Variance:  tensor(0.0660, device='cuda:0')\n",
      "Avarage Start Value:  tensor(1.1360, device='cuda:0')\n",
      "0.035056493073236196 -1.5977934591174126 13.914553880691528\n",
      "0.03496322800125927 -1.615243112832308 13.910529375076294\n",
      "0.034918297711759805 -1.620216102719307 13.869561195373535\n",
      "0.03488223306136206 -1.6224966807067394 13.81372857093811\n",
      "0.03484676702786237 -1.6246550298333169 13.958468198776245\n",
      "Bigstep:  1\n",
      "Avarage Reward:  tensor(1.1232, device='cuda:0')\n",
      "Action Variance:  tensor(0.0798, device='cuda:0')\n",
      "Avarage Start Value:  tensor(1.1416, device='cuda:0')\n",
      "0.03774562927661464 -1.633888031333685 14.028120994567871\n",
      "0.03766349939396605 -1.6376285515427589 14.448374032974243\n",
      "0.03760733326524496 -1.6408463412523269 13.995349645614624\n",
      "0.037579819911625234 -1.6427839080691338 14.165680646896362\n",
      "0.03754527006763965 -1.6440905120670795 14.183635950088501\n",
      "Bigstep:  2\n",
      "Avarage Reward:  tensor(1.1236, device='cuda:0')\n",
      "Action Variance:  tensor(0.0901, device='cuda:0')\n",
      "Avarage Start Value:  tensor(1.1271, device='cuda:0')\n",
      "0.03821195592917502 -1.6150973119437695 14.153267860412598\n",
      "0.038142569675575944 -1.6194441980421543 14.25934386253357\n",
      "0.03810619159555063 -1.6226089219152928 14.187422037124634\n",
      "0.03807814580388367 -1.6248900240659714 13.810945272445679\n",
      "0.03804263475909829 -1.6253952039033175 13.807518482208252\n",
      "Bigstep:  3\n",
      "Avarage Reward:  tensor(1.1444, device='cuda:0')\n",
      "Action Variance:  tensor(0.0947, device='cuda:0')\n",
      "Avarage Start Value:  tensor(1.1182, device='cuda:0')\n",
      "0.039632855655625465 -1.6154576973617076 13.28195071220398\n",
      "0.03956359920743853 -1.6194349938333035 13.722218990325928\n",
      "0.03953051970945671 -1.6218247968554498 13.633110523223877\n",
      "0.03949765695258975 -1.6228686150312424 13.694535970687866\n",
      "0.03947227913606912 -1.6230898375809193 14.278033971786499\n",
      "Bigstep:  4\n",
      "Avarage Reward:  tensor(1.1501, device='cuda:0')\n",
      "Action Variance:  tensor(0.0967, device='cuda:0')\n",
      "Avarage Start Value:  tensor(1.1141, device='cuda:0')\n",
      "0.03990426527569071 -1.6181201489567756 14.255477905273438\n",
      "0.03984518892876804 -1.6213661341965198 14.289223194122314\n",
      "0.03981277160719037 -1.623462834239006 14.191924571990967\n",
      "0.03978517500730232 -1.6231740949749947 14.214723348617554\n",
      "0.039762841822579505 -1.6245315466523171 14.169540405273438\n",
      "Bigstep:  5\n",
      "Avarage Reward:  tensor(1.1591, device='cuda:0')\n",
      "Action Variance:  tensor(0.0970, device='cuda:0')\n",
      "Avarage Start Value:  tensor(1.1260, device='cuda:0')\n",
      "0.03959577217698097 -1.637416450470686 14.116580963134766\n",
      "0.03955857725348324 -1.6397340675294398 14.231988191604614\n",
      "0.0395085421865806 -1.6421360536515712 14.317554950714111\n",
      "0.03949686105502769 -1.6433158306479454 14.201491355895996\n",
      "0.039462623364292085 -1.6425403821766376 14.208865404129028\n",
      "Bigstep:  6\n",
      "Avarage Reward:  tensor(1.1561, device='cuda:0')\n",
      "Action Variance:  tensor(0.0975, device='cuda:0')\n",
      "Avarage Start Value:  tensor(1.1375, device='cuda:0')\n",
      "0.038645289822481575 -1.633647489219904 14.239282131195068\n",
      "0.03859939914755523 -1.6347772022783755 14.180082559585571\n",
      "0.03856557752843946 -1.6346755469739438 14.070877313613892\n",
      "0.03853982707532123 -1.63665354475379 14.134016036987305\n",
      "0.038520342770032585 -1.638421335875988 14.328266143798828\n",
      "Bigstep:  7\n",
      "Avarage Reward:  tensor(1.1628, device='cuda:0')\n",
      "Action Variance:  tensor(0.1004, device='cuda:0')\n",
      "Avarage Start Value:  tensor(1.1526, device='cuda:0')\n",
      "0.03884638295928016 -1.6429383080005646 14.160751819610596\n",
      "0.03879806962050498 -1.6434693232178688 14.197393417358398\n",
      "0.03876614302024245 -1.6472962996661662 14.130693197250366\n",
      "0.038738466187380256 -1.6467369796037674 14.176666975021362\n",
      "0.03871123291458935 -1.6479026400446892 14.173348665237427\n",
      "Bigstep:  8\n",
      "Avarage Reward:  tensor(1.1626, device='cuda:0')\n",
      "Action Variance:  tensor(0.1031, device='cuda:0')\n",
      "Avarage Start Value:  tensor(1.1617, device='cuda:0')\n",
      "0.038240537954028694 -1.6431252670884133 14.082436084747314\n",
      "0.03820319774700329 -1.647885443419218 14.145442962646484\n",
      "0.03816220489656553 -1.6483376549780369 14.11361837387085\n",
      "0.038147321776486935 -1.6509740918278695 13.89779019355774\n",
      "0.0381272884234786 -1.6531516931355 13.913618564605713\n",
      "Bigstep:  9\n",
      "Avarage Reward:  tensor(1.1597, device='cuda:0')\n",
      "Action Variance:  tensor(0.0924, device='cuda:0')\n",
      "Avarage Start Value:  tensor(1.1531, device='cuda:0')\n",
      "0.03809549362910911 -1.6429301990270615 13.938627481460571\n",
      "0.03804535803385079 -1.6469972289204597 13.903149604797363\n",
      "0.03801860319450498 -1.648237126082182 13.931364297866821\n",
      "0.03799174019088969 -1.6495315689444543 13.83691692352295\n",
      "0.03797184222191572 -1.6515075711905955 13.86612319946289\n",
      "Bigstep:  10\n",
      "Avarage Reward:  tensor(1.1667, device='cuda:0')\n",
      "Action Variance:  tensor(0.0986, device='cuda:0')\n",
      "Avarage Start Value:  tensor(1.1600, device='cuda:0')\n",
      "0.03852961098309606 -1.656261321514845 13.874409437179565\n",
      "0.03849297556793317 -1.6582405453622342 14.00670599937439\n",
      "0.038449079592712224 -1.659606494218111 13.834115743637085\n",
      "0.03842808055831119 -1.6602458582520485 13.85428500175476\n",
      "0.03840327377058566 -1.6620446737110615 13.898496866226196\n",
      "Bigstep:  11\n",
      "Avarage Reward:  tensor(1.1768, device='cuda:0')\n",
      "Action Variance:  tensor(0.0953, device='cuda:0')\n",
      "Avarage Start Value:  tensor(1.1643, device='cuda:0')\n",
      "0.03928612497728318 -1.6693975383341313 14.076385736465454\n",
      "0.03923799221822992 -1.6733452459275722 14.181217193603516\n",
      "0.03920302125439048 -1.675963461995125 14.20684552192688\n",
      "0.03917519844649359 -1.6760365264713764 14.214727401733398\n",
      "0.03915898845065385 -1.6782886546254159 14.212752103805542\n",
      "Bigstep:  12\n",
      "Avarage Reward:  tensor(1.1722, device='cuda:0')\n",
      "Action Variance:  tensor(0.0997, device='cuda:0')\n",
      "Avarage Start Value:  tensor(1.1636, device='cuda:0')\n",
      "0.03929894827818498 -1.6599456378817559 14.133221626281738\n",
      "0.03924416390154511 -1.662823067933321 14.22611117362976\n",
      "0.03921091548446566 -1.664297580808401 14.202862739562988\n",
      "0.03918084873072803 -1.6648130748271943 14.228346109390259\n",
      "0.039164893878158184 -1.6643713848888875 14.155434131622314\n",
      "Bigstep:  13\n",
      "Avarage Reward:  tensor(1.1747, device='cuda:0')\n",
      "Action Variance:  tensor(0.1028, device='cuda:0')\n",
      "Avarage Start Value:  tensor(1.1661, device='cuda:0')\n",
      "0.03940672455448657 -1.6656559284627437 14.253901481628418\n",
      "0.03935588172916323 -1.6691447474062442 14.241371154785156\n",
      "0.03933239678665996 -1.6711995240747928 14.163394451141357\n",
      "0.0392988182650879 -1.6730034419000148 14.122291088104248\n",
      "0.03927665475010872 -1.6724385812580584 14.25402021408081\n",
      "Bigstep:  14\n",
      "Avarage Reward:  tensor(1.1877, device='cuda:0')\n",
      "Action Variance:  tensor(0.0886, device='cuda:0')\n",
      "Avarage Start Value:  tensor(1.1727, device='cuda:0')\n",
      "0.039862159424461426 -1.688839130192995 14.113476037979126\n",
      "0.0398141293306835 -1.6926398113369943 14.160238027572632\n",
      "0.039781286460347474 -1.6944668685495854 13.692373275756836\n",
      "0.03976056385878474 -1.6955202297866345 13.808296918869019\n",
      "0.03974184543080628 -1.6959791236817836 13.329918384552002\n",
      "Bigstep:  15\n",
      "Avarage Reward:  tensor(1.1808, device='cuda:0')\n",
      "Action Variance:  tensor(0.0999, device='cuda:0')\n",
      "Avarage Start Value:  tensor(1.1743, device='cuda:0')\n",
      "0.038945599627215416 -1.6794556297957897 13.522451639175415\n",
      "0.038903084573335946 -1.680645470172167 13.883429765701294\n",
      "0.03888107118103653 -1.6823845390379428 13.773724555969238\n",
      "0.03885058582574129 -1.68374879270792 13.37711238861084\n",
      "0.03882805279362947 -1.6831856890916825 13.829991579055786\n",
      "Bigstep:  16\n",
      "Avarage Reward:  tensor(1.1835, device='cuda:0')\n",
      "Action Variance:  tensor(0.0958, device='cuda:0')\n",
      "Avarage Start Value:  tensor(1.1851, device='cuda:0')\n",
      "0.03886466681351885 -1.6850464995205403 13.903606653213501\n",
      "0.03881445044837892 -1.6896668595671653 13.982364177703857\n",
      "0.03878621975705027 -1.691924831032753 13.83923602104187\n",
      "0.0387626011245884 -1.6947902714014054 13.934926271438599\n",
      "0.03873989616706967 -1.69634185308218 13.917965650558472\n",
      "Bigstep:  17\n",
      "Avarage Reward:  tensor(1.1854, device='cuda:0')\n",
      "Action Variance:  tensor(0.0866, device='cuda:0')\n",
      "Avarage Start Value:  tensor(1.1847, device='cuda:0')\n",
      "0.03842981024179608 -1.690012988358736 13.873281240463257\n",
      "0.03838086824584752 -1.6956608238816262 13.9634428024292\n",
      "0.03834510621195659 -1.696594201773405 13.882670879364014\n",
      "0.038325323428958655 -1.6976063787341118 13.861363887786865\n",
      "0.03829972610808909 -1.6986048367321491 14.000899076461792\n",
      "Bigstep:  18\n",
      "Avarage Reward:  tensor(1.1791, device='cuda:0')\n",
      "Action Variance:  tensor(0.0887, device='cuda:0')\n",
      "Avarage Start Value:  tensor(1.1874, device='cuda:0')\n",
      "0.038504494972527024 -1.6796443357765674 13.827053308486938\n",
      "0.03845796272251755 -1.6813272538781165 13.941128730773926\n",
      "0.03843089530523867 -1.6839652800261975 13.892820596694946\n",
      "0.038401234664954244 -1.6852817401885987 13.831879377365112\n",
      "0.03838536012172699 -1.6872618802785873 13.809749364852905\n",
      "Bigstep:  19\n",
      "Avarage Reward:  tensor(1.1841, device='cuda:0')\n",
      "Action Variance:  tensor(0.0931, device='cuda:0')\n",
      "Avarage Start Value:  tensor(1.1914, device='cuda:0')\n",
      "0.03884936960414052 -1.682071275383234 13.897490978240967\n",
      "0.038811254038475455 -1.6854629534482957 13.900147914886475\n",
      "0.03876969415973872 -1.6883127167224885 13.970909833908081\n",
      "0.03874552143504843 -1.6897590959966182 13.957733869552612\n",
      "0.03871838300907984 -1.690679676234722 13.854423761367798\n",
      "Bigstep:  20\n",
      "Avarage Reward:  tensor(1.1816, device='cuda:0')\n",
      "Action Variance:  tensor(0.0939, device='cuda:0')\n",
      "Avarage Start Value:  tensor(1.1796, device='cuda:0')\n",
      "0.03926253380533308 -1.680715954720974 13.920836448669434\n",
      "0.0392115943050012 -1.683901156038046 13.909279346466064\n",
      "0.039180209832731634 -1.6865768382549287 13.970053911209106\n",
      "0.03914834403526038 -1.686993187725544 13.143150329589844\n",
      "0.03912735009565949 -1.6878215861022472 13.884737253189087\n",
      "Bigstep:  21\n",
      "Avarage Reward:  tensor(1.1821, device='cuda:0')\n",
      "Action Variance:  tensor(0.1014, device='cuda:0')\n",
      "Avarage Start Value:  tensor(1.1785, device='cuda:0')\n",
      "0.039398687317036094 -1.6750863963663578 13.94572114944458\n",
      "0.03934280566452071 -1.679693239927292 13.932297229766846\n",
      "0.03931271619303152 -1.6810936090648174 13.95430326461792\n",
      "0.039289168106392026 -1.6818382131457328 13.9149169921875\n",
      "0.03926152175012976 -1.6838704141378402 13.895708084106445\n",
      "Bigstep:  22\n",
      "Avarage Reward:  tensor(1.1771, device='cuda:0')\n",
      "Action Variance:  tensor(0.1039, device='cuda:0')\n",
      "Avarage Start Value:  tensor(1.1777, device='cuda:0')\n",
      "0.039298721884842965 -1.6735616782009601 13.797548294067383\n",
      "0.03923689545784145 -1.6779632970988752 13.942691326141357\n",
      "0.03919710301980376 -1.6793496496081353 13.925625562667847\n",
      "0.039173346751369534 -1.6813177815973759 14.011369705200195\n",
      "0.039151665369980035 -1.6830573354661464 13.880603075027466\n",
      "Bigstep:  23\n",
      "Avarage Reward:  tensor(1.1848, device='cuda:0')\n",
      "Action Variance:  tensor(0.0921, device='cuda:0')\n",
      "Avarage Start Value:  tensor(1.1822, device='cuda:0')\n",
      "0.03903786040470004 -1.6860240096449852 13.883118152618408\n",
      "0.03899316442292183 -1.6900005027651788 13.91850996017456\n",
      "0.03895816030912101 -1.6922200788259507 13.943926572799683\n",
      "0.03892693039961159 -1.6941832637786864 13.95307183265686\n",
      "0.03890494850836694 -1.6937760824561119 13.886906147003174\n",
      "Bigstep:  24\n",
      "Avarage Reward:  tensor(1.1720, device='cuda:0')\n",
      "Action Variance:  tensor(0.0903, device='cuda:0')\n",
      "Avarage Start Value:  tensor(1.1747, device='cuda:0')\n",
      "0.03864683172479272 -1.6769311603903772 13.891859531402588\n",
      "0.03858983890293166 -1.681330378293991 13.877228021621704\n",
      "0.038559180797077715 -1.6839924935400485 13.889069080352783\n",
      "0.038535847574472426 -1.6858824360966682 13.872170209884644\n",
      "0.03850951546151191 -1.6869983446896075 13.856919050216675\n",
      "Bigstep:  25\n",
      "Avarage Reward:  tensor(1.1752, device='cuda:0')\n",
      "Action Variance:  tensor(0.0973, device='cuda:0')\n",
      "Avarage Start Value:  tensor(1.1857, device='cuda:0')\n",
      "0.03868112326413393 -1.6746407492756843 14.004354476928711\n",
      "0.03862644161237404 -1.6776149504780768 13.901275396347046\n",
      "0.03859332571458071 -1.6777930202186107 13.824318170547485\n",
      "0.03856123357312754 -1.6815321243703365 13.882556200027466\n",
      "0.03853370093740523 -1.6834059413969518 13.997900485992432\n",
      "Bigstep:  26\n",
      "Avarage Reward:  tensor(1.1717, device='cuda:0')\n",
      "Action Variance:  tensor(0.1140, device='cuda:0')\n",
      "Avarage Start Value:  tensor(1.1796, device='cuda:0')\n",
      "0.03940334276668728 -1.6700819626748562 13.928961277008057\n",
      "0.03934204544965178 -1.674482032060623 13.831064462661743\n",
      "0.03930397797282785 -1.6765376566052437 13.809937715530396\n",
      "0.0392722425009124 -1.6787893022596836 13.890727519989014\n",
      "0.03925275285029784 -1.6792266885638236 13.928781032562256\n",
      "Bigstep:  27\n",
      "Avarage Reward:  tensor(1.1787, device='cuda:0')\n",
      "Action Variance:  tensor(0.0998, device='cuda:0')\n",
      "Avarage Start Value:  tensor(1.1759, device='cuda:0')\n",
      "0.03965617488976568 -1.6792534886002541 13.906369924545288\n",
      "0.03959867398068309 -1.6825263579189778 13.888252973556519\n",
      "0.03955867223255336 -1.6844315038621425 13.943416595458984\n",
      "0.03953554444108159 -1.6854823497831821 13.973346948623657\n",
      "0.03950616848561913 -1.6869413485825062 13.884727716445923\n",
      "Bigstep:  28\n",
      "Avarage Reward:  tensor(1.1727, device='cuda:0')\n",
      "Action Variance:  tensor(0.0873, device='cuda:0')\n",
      "Avarage Start Value:  tensor(1.1735, device='cuda:0')\n",
      "0.03890491816867143 -1.668924253553152 13.89232087135315\n",
      "0.03885989593435079 -1.6731840561330318 13.799981117248535\n",
      "0.03882960995286703 -1.673647674769163 13.929344892501831\n",
      "0.038795461282134056 -1.6757526991665364 13.874577760696411\n",
      "0.03877879812102765 -1.6762314461171628 13.94058084487915\n",
      "Bigstep:  29\n",
      "Avarage Reward:  tensor(1.1718, device='cuda:0')\n",
      "Action Variance:  tensor(0.0947, device='cuda:0')\n",
      "Avarage Start Value:  tensor(1.1640, device='cuda:0')\n",
      "0.03895925814285874 -1.6642673225998879 13.903655290603638\n",
      "0.038898539647459984 -1.6678616526126862 13.943877696990967\n",
      "0.03887334826402366 -1.671006581813097 13.011456727981567\n",
      "0.03884365400904789 -1.6716411311030388 13.802070379257202\n",
      "0.03881420208746567 -1.6710285562872886 13.933801651000977\n",
      "Bigstep:  30\n",
      "Avarage Reward:  tensor(1.1688, device='cuda:0')\n",
      "Action Variance:  tensor(0.0969, device='cuda:0')\n",
      "Avarage Start Value:  tensor(1.1509, device='cuda:0')\n",
      "0.0395400701132603 -1.6569021484851838 13.888402462005615\n",
      "0.039483019152656194 -1.6593654638230801 13.848315477371216\n",
      "0.03944385833246634 -1.6617684601545333 13.83837342262268\n",
      "0.03942070836108178 -1.6619545730948448 13.920663118362427\n",
      "0.03940227063652128 -1.6625614380538463 13.7933669090271\n",
      "Bigstep:  31\n",
      "Avarage Reward:  tensor(1.1773, device='cuda:0')\n",
      "Action Variance:  tensor(0.0976, device='cuda:0')\n",
      "Avarage Start Value:  tensor(1.1632, device='cuda:0')\n",
      "0.03964769699424505 -1.6736164213716984 13.936753988265991\n",
      "0.03958603245019913 -1.6768891656696796 13.90241813659668\n",
      "0.039547589864581824 -1.6780032848417759 13.943825244903564\n",
      "0.03952922296151519 -1.6797876777350902 13.921582460403442\n",
      "0.039501945904456076 -1.6822290655374528 13.874686479568481\n",
      "Bigstep:  32\n",
      "Avarage Reward:  tensor(1.1689, device='cuda:0')\n",
      "Action Variance:  tensor(0.0908, device='cuda:0')\n",
      "Avarage Start Value:  tensor(1.1528, device='cuda:0')\n",
      "0.039268539075739683 -1.6614209274053573 13.894279479980469\n",
      "0.03921716297557577 -1.662785974085331 13.809576511383057\n",
      "0.03918495332542807 -1.665153003334999 13.862415552139282\n",
      "0.03915652362909168 -1.6668686681091784 13.871850967407227\n",
      "0.039126795277930795 -1.6665377128720285 13.826416254043579\n",
      "Bigstep:  33\n",
      "Avarage Reward:  tensor(1.1769, device='cuda:0')\n",
      "Action Variance:  tensor(0.0945, device='cuda:0')\n",
      "Avarage Start Value:  tensor(1.1534, device='cuda:0')\n",
      "0.03999437804892659 -1.6694800549745559 13.876933097839355\n",
      "0.039943880322854966 -1.6739524376094341 13.850269556045532\n",
      "0.03991840389929712 -1.6737635982632637 13.833977699279785\n",
      "0.03989753711689264 -1.6763311175107956 13.84779167175293\n",
      "0.03986126012075692 -1.6759894394874573 13.954168558120728\n",
      "Bigstep:  34\n",
      "Avarage Reward:  tensor(1.1832, device='cuda:0')\n",
      "Action Variance:  tensor(0.0929, device='cuda:0')\n",
      "Avarage Start Value:  tensor(1.1621, device='cuda:0')\n",
      "0.039762991226278244 -1.6780298449099065 13.809242010116577\n",
      "0.03972133407089859 -1.6793783918321132 13.893620729446411\n",
      "0.03968595714867115 -1.6815635670125484 13.861613988876343\n",
      "0.039660606156568974 -1.68352581641078 13.931045770645142\n",
      "0.0396271608886309 -1.6857429480850696 13.875314712524414\n",
      "Bigstep:  35\n",
      "Avarage Reward:  tensor(1.1825, device='cuda:0')\n",
      "Action Variance:  tensor(0.0934, device='cuda:0')\n",
      "Avarage Start Value:  tensor(1.1712, device='cuda:0')\n",
      "0.039372034531552344 -1.6802884204685689 13.88250184059143\n",
      "0.039319867993704974 -1.6831708514392376 13.850820779800415\n",
      "0.0392783583374694 -1.6850183162093162 13.912359237670898\n",
      "0.03925293258670717 -1.6861910565197469 13.918835163116455\n",
      "0.03922959200432524 -1.6876933161318302 13.96748399734497\n",
      "Bigstep:  36\n",
      "Avarage Reward:  tensor(1.1879, device='cuda:0')\n",
      "Action Variance:  tensor(0.0916, device='cuda:0')\n",
      "Avarage Start Value:  tensor(1.1776, device='cuda:0')\n",
      "0.03995589360781014 -1.6868919296562672 13.870815515518188\n",
      "0.03989271745365113 -1.6904367268681526 13.906404495239258\n",
      "0.03986404461041093 -1.6913527379035949 13.895472764968872\n",
      "0.03983758480101824 -1.6923674370646478 13.87228274345398\n",
      "0.039805959600489584 -1.6931747114360332 13.909282922744751\n",
      "Bigstep:  37\n",
      "Avarage Reward:  tensor(1.1777, device='cuda:0')\n",
      "Action Variance:  tensor(0.0850, device='cuda:0')\n",
      "Avarage Start Value:  tensor(1.1750, device='cuda:0')\n",
      "0.03899565875995904 -1.6749116675555706 13.99626350402832\n",
      "0.03894223844166845 -1.6783576191961764 13.913488149642944\n",
      "0.038914034770336 -1.6805709886848927 13.902590990066528\n",
      "0.038882253191433847 -1.6815924132168294 13.980977058410645\n",
      "0.03886609024740756 -1.6834490577876569 13.822477579116821\n",
      "Bigstep:  38\n",
      "Avarage Reward:  tensor(1.1788, device='cuda:0')\n",
      "Action Variance:  tensor(0.0912, device='cuda:0')\n",
      "Avarage Start Value:  tensor(1.1700, device='cuda:0')\n",
      "0.03930417913384736 -1.6791907157301902 13.853917837142944\n",
      "0.039251913982443515 -1.6824678057134153 13.871505498886108\n",
      "0.03921984103415161 -1.6836208766400813 13.921831846237183\n",
      "0.039203816735185686 -1.6867600663602351 13.994414806365967\n",
      "0.03917016829084605 -1.6884437586069108 13.921628475189209\n",
      "Bigstep:  39\n",
      "Avarage Reward:  tensor(1.1874, device='cuda:0')\n",
      "Action Variance:  tensor(0.0902, device='cuda:0')\n",
      "Avarage Start Value:  tensor(1.1760, device='cuda:0')\n",
      "0.039676484162919225 -1.6895795834362506 13.882753133773804\n",
      "0.03963191160187125 -1.6917000882029534 13.883562088012695\n",
      "0.03959575430676341 -1.694763654112816 13.876159906387329\n",
      "0.039573654655367135 -1.6953696155250073 13.860841035842896\n",
      "0.03955043959617615 -1.6962196267843246 13.842182159423828\n",
      "Bigstep:  40\n",
      "Avarage Reward:  tensor(1.1801, device='cuda:0')\n",
      "Action Variance:  tensor(0.0954, device='cuda:0')\n",
      "Avarage Start Value:  tensor(1.1688, device='cuda:0')\n",
      "0.03952293640933931 -1.6751885232329369 13.875529527664185\n",
      "0.03947128997649998 -1.6779821490645408 13.79275131225586\n",
      "0.03943425537738949 -1.6764828283190727 13.946224212646484\n",
      "0.03940254138270393 -1.677170759767294 13.92389178276062\n",
      "0.03938026760146022 -1.6816833719611168 13.877761602401733\n",
      "Bigstep:  41\n",
      "Avarage Reward:  tensor(1.1811, device='cuda:0')\n",
      "Action Variance:  tensor(0.1008, device='cuda:0')\n",
      "Avarage Start Value:  tensor(1.1811, device='cuda:0')\n",
      "0.03898951935209334 -1.6823702591359615 13.863056898117065\n",
      "0.038928449027240276 -1.6857751741409301 13.828164100646973\n",
      "0.03889633704861626 -1.6876762554049491 13.919606924057007\n",
      "0.038879207659512756 -1.6886076524555682 13.878819942474365\n",
      "0.03884756492823362 -1.6906132633090019 13.932442665100098\n",
      "Bigstep:  42\n",
      "Avarage Reward:  tensor(1.1839, device='cuda:0')\n",
      "Action Variance:  tensor(0.0953, device='cuda:0')\n",
      "Avarage Start Value:  tensor(1.1915, device='cuda:0')\n",
      "0.03875498424656689 -1.6947964336872101 13.912832736968994\n",
      "0.038700764033943416 -1.6967080043256282 13.892430782318115\n",
      "0.038661401825957 -1.698530202269554 13.802629709243774\n",
      "0.03863146122265607 -1.7009762851595878 13.895530223846436\n",
      "0.03860856592655182 -1.7017527957558631 13.891445875167847\n",
      "Bigstep:  43\n",
      "Avarage Reward:  tensor(1.1775, device='cuda:0')\n",
      "Action Variance:  tensor(0.0968, device='cuda:0')\n",
      "Avarage Start Value:  tensor(1.1864, device='cuda:0')\n",
      "0.038727248743176464 -1.6824546855688096 13.792728185653687\n",
      "0.03866479968233034 -1.6864869438409806 13.878949403762817\n",
      "0.0386299996310845 -1.6886754783987998 13.93837594985962\n",
      "0.038605284468270835 -1.6920849555134774 13.866847038269043\n",
      "0.03857830224884674 -1.6945096814930438 13.855812549591064\n",
      "Bigstep:  44\n",
      "Avarage Reward:  tensor(1.1833, device='cuda:0')\n",
      "Action Variance:  tensor(0.0955, device='cuda:0')\n",
      "Avarage Start Value:  tensor(1.1799, device='cuda:0')\n",
      "0.039294259890913966 -1.6882359286248685 13.901020526885986\n",
      "0.039233064303174615 -1.692105860352516 13.870979070663452\n",
      "0.039199549835175276 -1.6944410796165466 13.908217191696167\n",
      "0.039174354866147044 -1.6955730797052384 13.861782550811768\n",
      "0.03915021284250542 -1.6976265525519847 13.89707350730896\n",
      "Bigstep:  45\n",
      "Avarage Reward:  tensor(1.1753, device='cuda:0')\n",
      "Action Variance:  tensor(0.0855, device='cuda:0')\n",
      "Avarage Start Value:  tensor(1.1794, device='cuda:0')\n",
      "0.03857512493385002 -1.6721088370382786 13.881030321121216\n",
      "0.03852307577710599 -1.6788386347293853 13.861047744750977\n",
      "0.038494225582107904 -1.679614558517933 13.946480989456177\n",
      "0.03846685527358204 -1.6811907088160516 13.89856219291687\n",
      "0.038443673643749204 -1.6838437305986882 13.889628410339355\n",
      "Bigstep:  46\n",
      "Avarage Reward:  tensor(1.1906, device='cuda:0')\n",
      "Action Variance:  tensor(0.0887, device='cuda:0')\n",
      "Avarage Start Value:  tensor(1.1912, device='cuda:0')\n",
      "0.03926482996437699 -1.6991116940975188 13.941346645355225\n",
      "0.03919471188634634 -1.702149523139 13.906553268432617\n",
      "0.03916894999658689 -1.7042679168879986 13.93522310256958\n",
      "0.039139874536544085 -1.7056402448415757 13.942506313323975\n",
      "0.0391072537782602 -1.7059064415693284 13.90448784828186\n",
      "Bigstep:  47\n",
      "Avarage Reward:  tensor(1.1884, device='cuda:0')\n",
      "Action Variance:  tensor(0.0964, device='cuda:0')\n",
      "Avarage Start Value:  tensor(1.1918, device='cuda:0')\n",
      "0.03917643422354013 -1.6906893450021743 13.868900060653687\n",
      "0.039118495989590885 -1.6927465971112252 13.952960729598999\n",
      "0.03908156143780798 -1.696674973487854 13.889682531356812\n",
      "0.03905009508598596 -1.7004009667336941 13.914124250411987\n",
      "0.03902975547220558 -1.7024343787431717 13.92399787902832\n",
      "Bigstep:  48\n",
      "Avarage Reward:  tensor(1.1834, device='cuda:0')\n",
      "Action Variance:  tensor(0.0825, device='cuda:0')\n",
      "Avarage Start Value:  tensor(1.1986, device='cuda:0')\n",
      "0.03821707190200686 -1.6970269824564457 13.895573616027832\n",
      "0.038168214054778216 -1.7017886506021023 14.080262660980225\n",
      "0.038128491553477944 -1.7048873548805714 13.958811521530151\n",
      "0.0381015845425427 -1.7049837777614594 13.837350606918335\n",
      "0.03807637452380732 -1.705866806536913 13.943609237670898\n",
      "Bigstep:  49\n",
      "Avarage Reward:  tensor(1.1924, device='cuda:0')\n",
      "Action Variance:  tensor(0.0844, device='cuda:0')\n",
      "Avarage Start Value:  tensor(1.1943, device='cuda:0')\n",
      "0.03867164748813957 -1.7029499126672745 14.019197225570679\n",
      "0.038612675643526016 -1.7053905908465385 13.935604095458984\n",
      "0.03857883241213858 -1.7061738994419575 14.033344507217407\n",
      "0.038552141061984 -1.708495164424181 14.217650651931763\n",
      "0.038526318152435124 -1.709537056416273 13.806982040405273\n",
      "Bigstep:  50\n",
      "Avarage Reward:  tensor(1.1960, device='cuda:0')\n",
      "Action Variance:  tensor(0.0957, device='cuda:0')\n",
      "Avarage Start Value:  tensor(1.1884, device='cuda:0')\n"
     ]
    },
    {
     "ename": "KeyboardInterrupt",
     "evalue": "",
     "output_type": "error",
     "traceback": [
      "\u001B[0;31m---------------------------------------------------------------------------\u001B[0m",
      "\u001B[0;31mKeyboardInterrupt\u001B[0m                         Traceback (most recent call last)",
      "\u001B[0;32m<ipython-input-13-54db6815b61e>\u001B[0m in \u001B[0;36m<module>\u001B[0;34m\u001B[0m\n\u001B[1;32m      1\u001B[0m \u001B[0;32mfor\u001B[0m \u001B[0mi\u001B[0m \u001B[0;32min\u001B[0m \u001B[0mrange\u001B[0m\u001B[0;34m(\u001B[0m\u001B[0;36m100\u001B[0m\u001B[0;34m)\u001B[0m\u001B[0;34m:\u001B[0m\u001B[0;34m\u001B[0m\u001B[0;34m\u001B[0m\u001B[0m\n\u001B[1;32m      2\u001B[0m     \u001B[0mprint\u001B[0m\u001B[0;34m(\u001B[0m\u001B[0;34m'Bigstep: '\u001B[0m\u001B[0;34m,\u001B[0m \u001B[0mi\u001B[0m\u001B[0;34m)\u001B[0m\u001B[0;34m\u001B[0m\u001B[0;34m\u001B[0m\u001B[0m\n\u001B[0;32m----> 3\u001B[0;31m     \u001B[0mtrain_dataset\u001B[0m\u001B[0;34m(\u001B[0m\u001B[0;36m200\u001B[0m\u001B[0;34m,\u001B[0m \u001B[0;36m5\u001B[0m\u001B[0;34m,\u001B[0m \u001B[0;36m0.02\u001B[0m\u001B[0;34m,\u001B[0m \u001B[0;36m1\u001B[0m\u001B[0;34m)\u001B[0m\u001B[0;34m\u001B[0m\u001B[0;34m\u001B[0m\u001B[0m\n\u001B[0m\u001B[1;32m      4\u001B[0m     \u001B[0;31m#env.render()\u001B[0m\u001B[0;34m\u001B[0m\u001B[0;34m\u001B[0m\u001B[0;34m\u001B[0m\u001B[0m\n\u001B[1;32m      5\u001B[0m \u001B[0;34m\u001B[0m\u001B[0m\n",
      "\u001B[0;32m<ipython-input-12-77856de8497a>\u001B[0m in \u001B[0;36mtrain_dataset\u001B[0;34m(num_batches, num_epochs, var, gamma)\u001B[0m\n\u001B[1;32m     17\u001B[0m             \u001B[0mv_model\u001B[0m\u001B[0;34m.\u001B[0m\u001B[0mzero_grad\u001B[0m\u001B[0;34m(\u001B[0m\u001B[0;34m)\u001B[0m\u001B[0;34m\u001B[0m\u001B[0;34m\u001B[0m\u001B[0m\n\u001B[1;32m     18\u001B[0m             \u001B[0mp_model\u001B[0m\u001B[0;34m.\u001B[0m\u001B[0mzero_grad\u001B[0m\u001B[0;34m(\u001B[0m\u001B[0;34m)\u001B[0m\u001B[0;34m\u001B[0m\u001B[0;34m\u001B[0m\u001B[0m\n\u001B[0;32m---> 19\u001B[0;31m             \u001B[0mlossv\u001B[0m\u001B[0;34m,\u001B[0m \u001B[0mlossp\u001B[0m \u001B[0;34m=\u001B[0m \u001B[0mbackward_one\u001B[0m\u001B[0;34m(\u001B[0m\u001B[0mbatch_action\u001B[0m\u001B[0;34m,\u001B[0m \u001B[0mbatch_mem\u001B[0m\u001B[0;34m,\u001B[0m \u001B[0mbatch_value\u001B[0m\u001B[0;34m,\u001B[0m \u001B[0mbatch_advantage\u001B[0m\u001B[0;34m,\u001B[0m \u001B[0mv_model\u001B[0m\u001B[0;34m,\u001B[0m \u001B[0mp_model\u001B[0m\u001B[0;34m,\u001B[0m \u001B[0mvar\u001B[0m\u001B[0;34m,\u001B[0m \u001B[0mdevice\u001B[0m\u001B[0;34m)\u001B[0m\u001B[0;34m\u001B[0m\u001B[0;34m\u001B[0m\u001B[0m\n\u001B[0m\u001B[1;32m     20\u001B[0m             \u001B[0msum_v\u001B[0m \u001B[0;34m+=\u001B[0m \u001B[0mlossv\u001B[0m\u001B[0;34m\u001B[0m\u001B[0;34m\u001B[0m\u001B[0m\n\u001B[1;32m     21\u001B[0m             \u001B[0msum_p\u001B[0m \u001B[0;34m+=\u001B[0m \u001B[0mlossp\u001B[0m\u001B[0;34m\u001B[0m\u001B[0;34m\u001B[0m\u001B[0m\n",
      "\u001B[0;32m~/wip/Code/train_ac.py\u001B[0m in \u001B[0;36mbackward_one\u001B[0;34m(action, mem, value, advantage, v_model, p_model, var, device)\u001B[0m\n\u001B[1;32m    143\u001B[0m     \u001B[0mlossp\u001B[0m \u001B[0;34m=\u001B[0m \u001B[0;34m(\u001B[0m\u001B[0;34m-\u001B[0m\u001B[0madvantage\u001B[0m \u001B[0;34m*\u001B[0m \u001B[0mtorch\u001B[0m\u001B[0;34m.\u001B[0m\u001B[0mexp\u001B[0m\u001B[0;34m(\u001B[0m\u001B[0mNormal\u001B[0m\u001B[0;34m(\u001B[0m\u001B[0mmean\u001B[0m\u001B[0;34m,\u001B[0m \u001B[0mvar\u001B[0m\u001B[0;34m)\u001B[0m\u001B[0;34m.\u001B[0m\u001B[0mlog_prob\u001B[0m\u001B[0;34m(\u001B[0m\u001B[0maction\u001B[0m\u001B[0;34m)\u001B[0m\u001B[0;34m)\u001B[0m\u001B[0;34m)\u001B[0m\u001B[0;34m.\u001B[0m\u001B[0mmean\u001B[0m\u001B[0;34m(\u001B[0m\u001B[0;34m)\u001B[0m\u001B[0;34m\u001B[0m\u001B[0;34m\u001B[0m\u001B[0m\n\u001B[1;32m    144\u001B[0m     \u001B[0mtloss\u001B[0m \u001B[0;34m=\u001B[0m \u001B[0mlossv\u001B[0m \u001B[0;34m+\u001B[0m \u001B[0mlossp\u001B[0m\u001B[0;34m\u001B[0m\u001B[0;34m\u001B[0m\u001B[0m\n\u001B[0;32m--> 145\u001B[0;31m     \u001B[0mtloss\u001B[0m\u001B[0;34m.\u001B[0m\u001B[0mbackward\u001B[0m\u001B[0;34m(\u001B[0m\u001B[0;34m)\u001B[0m\u001B[0;34m\u001B[0m\u001B[0;34m\u001B[0m\u001B[0m\n\u001B[0m\u001B[1;32m    146\u001B[0m     \u001B[0;32mreturn\u001B[0m \u001B[0mlossv\u001B[0m\u001B[0;34m.\u001B[0m\u001B[0mitem\u001B[0m\u001B[0;34m(\u001B[0m\u001B[0;34m)\u001B[0m\u001B[0;34m,\u001B[0m \u001B[0mlossp\u001B[0m\u001B[0;34m.\u001B[0m\u001B[0mitem\u001B[0m\u001B[0;34m(\u001B[0m\u001B[0;34m)\u001B[0m\u001B[0;34m\u001B[0m\u001B[0;34m\u001B[0m\u001B[0m\n\u001B[1;32m    147\u001B[0m \u001B[0;34m\u001B[0m\u001B[0m\n",
      "\u001B[0;32m/opt/conda/lib/python3.6/site-packages/torch/tensor.py\u001B[0m in \u001B[0;36mbackward\u001B[0;34m(self, gradient, retain_graph, create_graph)\u001B[0m\n\u001B[1;32m    193\u001B[0m                 \u001B[0mproducts\u001B[0m\u001B[0;34m.\u001B[0m \u001B[0mDefaults\u001B[0m \u001B[0mto\u001B[0m\u001B[0;31m \u001B[0m\u001B[0;31m`\u001B[0m\u001B[0;31m`\u001B[0m\u001B[0;32mFalse\u001B[0m\u001B[0;31m`\u001B[0m\u001B[0;31m`\u001B[0m\u001B[0;34m.\u001B[0m\u001B[0;34m\u001B[0m\u001B[0;34m\u001B[0m\u001B[0m\n\u001B[1;32m    194\u001B[0m         \"\"\"\n\u001B[0;32m--> 195\u001B[0;31m         \u001B[0mtorch\u001B[0m\u001B[0;34m.\u001B[0m\u001B[0mautograd\u001B[0m\u001B[0;34m.\u001B[0m\u001B[0mbackward\u001B[0m\u001B[0;34m(\u001B[0m\u001B[0mself\u001B[0m\u001B[0;34m,\u001B[0m \u001B[0mgradient\u001B[0m\u001B[0;34m,\u001B[0m \u001B[0mretain_graph\u001B[0m\u001B[0;34m,\u001B[0m \u001B[0mcreate_graph\u001B[0m\u001B[0;34m)\u001B[0m\u001B[0;34m\u001B[0m\u001B[0;34m\u001B[0m\u001B[0m\n\u001B[0m\u001B[1;32m    196\u001B[0m \u001B[0;34m\u001B[0m\u001B[0m\n\u001B[1;32m    197\u001B[0m     \u001B[0;32mdef\u001B[0m \u001B[0mregister_hook\u001B[0m\u001B[0;34m(\u001B[0m\u001B[0mself\u001B[0m\u001B[0;34m,\u001B[0m \u001B[0mhook\u001B[0m\u001B[0;34m)\u001B[0m\u001B[0;34m:\u001B[0m\u001B[0;34m\u001B[0m\u001B[0;34m\u001B[0m\u001B[0m\n",
      "\u001B[0;32m/opt/conda/lib/python3.6/site-packages/torch/autograd/__init__.py\u001B[0m in \u001B[0;36mbackward\u001B[0;34m(tensors, grad_tensors, retain_graph, create_graph, grad_variables)\u001B[0m\n\u001B[1;32m     97\u001B[0m     Variable._execution_engine.run_backward(\n\u001B[1;32m     98\u001B[0m         \u001B[0mtensors\u001B[0m\u001B[0;34m,\u001B[0m \u001B[0mgrad_tensors\u001B[0m\u001B[0;34m,\u001B[0m \u001B[0mretain_graph\u001B[0m\u001B[0;34m,\u001B[0m \u001B[0mcreate_graph\u001B[0m\u001B[0;34m,\u001B[0m\u001B[0;34m\u001B[0m\u001B[0;34m\u001B[0m\u001B[0m\n\u001B[0;32m---> 99\u001B[0;31m         allow_unreachable=True)  # allow_unreachable flag\n\u001B[0m\u001B[1;32m    100\u001B[0m \u001B[0;34m\u001B[0m\u001B[0m\n\u001B[1;32m    101\u001B[0m \u001B[0;34m\u001B[0m\u001B[0m\n",
      "\u001B[0;31mKeyboardInterrupt\u001B[0m: "
     ]
    }
   ],
   "source": [
    "for i in range(100):\n",
    "    print('Bigstep: ', i)\n",
    "    train_dataset(200, 5, 0.02, 1)\n",
    "    #env.render()"
   ],
   "metadata": {
    "collapsed": false,
    "pycharm": {
     "name": "#%%\n"
    }
   }
  },
  {
   "cell_type": "code",
   "execution_count": 14,
   "outputs": [
    {
     "data": {
      "text/plain": "<Figure size 432x288 with 1 Axes>",
      "image/png": "[encoded data removed]"
     },
     "metadata": {
      "needs_background": "light"
     },
     "output_type": "display_data"
    }
   ],
   "source": [
    "env.render()"
   ],
   "metadata": {
    "collapsed": false,
    "pycharm": {
     "name": "#%%\n"
    }
   }
  },
  {
   "cell_type": "code",
   "execution_count": null,
   "outputs": [],
   "source": [
    "model_memory"
   ],
   "metadata": {
    "collapsed": false,
    "pycharm": {
     "name": "#%%\n"
    }
   }
  },
  {
   "cell_type": "code",
   "execution_count": null,
   "outputs": [],
   "source": [
    "env.reset()"
   ],
   "metadata": {
    "collapsed": false,
    "pycharm": {
     "name": "#%%\n"
    }
   }
  },
  {
   "cell_type": "code",
   "execution_count": 18,
   "outputs": [],
   "source": [
    "testenv = MultiEnv(BATCH_SIZE, MAX_ITER, device)"
   ],
   "metadata": {
    "collapsed": false,
    "pycharm": {
     "name": "#%%\n"
    }
   }
  },
  {
   "cell_type": "code",
   "execution_count": 21,
   "outputs": [
    {
     "name": "stdout",
     "output_type": "stream",
     "text": [
      "tensor(1.1408, device='cuda:0')\n"
     ]
    }
   ],
   "source": [
    "cobs = testenv.reset()\n",
    "cmem, h = model_memory(cobs, None)\n",
    "v_old = 0\n",
    "r_sum = 0\n",
    "for k in range(MAX_ITER):\n",
    "    action = torch.tensor([k / (MAX_ITER-1)], dtype=torch.float, device=device).expand(BATCH_SIZE, 1)\n",
    "    cobs, reward, _ = testenv.step(action)\n",
    "    r_sum += reward.mean()\n",
    "print(r_sum)"
   ],
   "metadata": {
    "collapsed": false,
    "pycharm": {
     "name": "#%%\n"
    }
   }
  },
  {
   "cell_type": "code",
   "execution_count": 22,
   "outputs": [
    {
     "data": {
      "text/plain": "<Figure size 432x288 with 1 Axes>",
      "image/png": "[encoded data removed]"
     },
     "metadata": {
      "needs_background": "light"
     },
     "output_type": "display_data"
    }
   ],
   "source": [
    "testenv.render()"
   ],
   "metadata": {
    "collapsed": false,
    "pycharm": {
     "name": "#%%\n"
    }
   }
  },
  {
   "cell_type": "code",
   "execution_count": null,
   "outputs": [],
   "source": [
    "\n"
   ],
   "metadata": {
    "collapsed": false,
    "pycharm": {
     "name": "#%%\n"
    }
   }
  }
 ],
 "metadata": {
  "kernelspec": {
   "display_name": "Python 3",
   "language": "python",
   "name": "python3"
  },
  "language_info": {
   "codemirror_mode": {
    "name": "ipython",
    "version": 2
   },
   "file_extension": ".py",
   "mimetype": "text/x-python",
   "name": "python",
   "nbconvert_exporter": "python",
   "pygments_lexer": "ipython2",
   "version": "2.7.6"
  }
 },
 "nbformat": 4,
 "nbformat_minor": 0
}