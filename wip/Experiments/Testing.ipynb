{
 "cells": [
  {
   "cell_type": "markdown",
   "source": [
    "In the next cell, the agent is trained. The function we use, is exactly the same as for the DQN, the only difference is that the model we pass now is an instance of our SQN class, rather than the PyTorch neural network base class.\n",
    "\n",
    "Failed to reach OpenAIGymStandard\n",
    "Best 100 episode average:  tensor(81.9500)  reached at episode  109 . Model saved in folder best.\n",
    "Complete\n"
   ],
   "metadata": {
    "collapsed": false
   }
  },
  {
   "cell_type": "code",
   "execution_count": null,
   "outputs": [],
   "source": [
    "torch.manual_seed(467)\n",
    "random.seed(208)\n",
    "gym_seed = 216\n",
    "\n",
    "optimizer = optim.Adam(policy_net.parameters(), lr=LEARNING_RATE)\n",
    "\n",
    "train_agent.train_agent(env,policy_net,target_net,BATCH_SIZE,DISCOUNT_FACTOR,EPSILON_START,\n",
    "            EPSILON_END,EPSILON_DECAY,TARGET_UPDATE_FREQUENCY,optimizer,LEARNING_RATE,\n",
    "            REPLAY_MEMORY_SIZE,device,GYM_TARGET_AVG,GYM_TARGET_DURATION,num_episodes=NUM_EPISODES,\n",
    "            max_steps=MAX_STEPS,render=RENDER,double_q_learning=DOUBLE_Q,gradient_clipping=GRADIENT_CLIPPING,\n",
    "            initial_replay_size=INITIAL_REPLAY_SIZE,gym_seed=gym_seed)\n",
    "\n",
    "chris_policy = policy_net\n",
    "chris_target = target_net"
   ],
   "metadata": {
    "collapsed": false,
    "pycharm": {
     "name": "#%%\n"
    }
   }
  },
  {
   "cell_type": "code",
   "execution_count": null,
   "outputs": [],
   "source": [
    "policy_net = my_net\n",
    "target_net = my_target_net\n",
    "\n",
    "torch.manual_seed(467)\n",
    "random.seed(208)\n",
    "gym_seed = 216\n",
    "\n",
    "optimizer = optim.Adam(policy_net.parameters(), lr=LEARNING_RATE)\n",
    "\n",
    "train_agent.train_agent(env,policy_net,target_net,BATCH_SIZE,DISCOUNT_FACTOR,EPSILON_START,\n",
    "            EPSILON_END,EPSILON_DECAY,TARGET_UPDATE_FREQUENCY,optimizer,LEARNING_RATE,\n",
    "            REPLAY_MEMORY_SIZE,device,GYM_TARGET_AVG,GYM_TARGET_DURATION,num_episodes=NUM_EPISODES,\n",
    "            max_steps=MAX_STEPS,render=RENDER,double_q_learning=DOUBLE_Q,gradient_clipping=GRADIENT_CLIPPING,\n",
    "            initial_replay_size=INITIAL_REPLAY_SIZE,gym_seed=gym_seed)"
   ],
   "metadata": {
    "collapsed": false,
    "pycharm": {
     "name": "#%%\n"
    }
   }
  },
  {
   "cell_type": "code",
   "execution_count": null,
   "outputs": [],
   "source": [
    "testinp = torch.tensor([[.1,.1,.1,1]], dtype=torch.float)\n",
    "print(chris_policy.forward(testinp))\n",
    "print(policy_net.forward(testinp))\n"
   ],
   "metadata": {
    "collapsed": false,
    "pycharm": {
     "name": "#%%\n"
    }
   }
  },
  {
   "cell_type": "code",
   "execution_count": null,
   "outputs": [],
   "source": [],
   "metadata": {
    "collapsed": false,
    "pycharm": {
     "name": "#%%\n"
    }
   }
  },
  {
   "cell_type": "code",
   "execution_count": null,
   "outputs": [],
   "source": [
    "print(list(chris_policy.parameters())[0].grad[0,0])\n",
    "\n",
    "print(list(policy_net.parameters())[0].grad[0,0])"
   ],
   "metadata": {
    "collapsed": false,
    "pycharm": {
     "name": "#%%\n"
    }
   }
  },
  {
   "cell_type": "code",
   "execution_count": null,
   "outputs": [],
   "source": [
    "\n",
    "\n",
    "mp = list(my_net.parameters())\n",
    "hp = list(policy_net.parameters())\n",
    "mp[0].data = hp[0].data[:-1].T.detach().clone()\n",
    "mp[1].data = hp[0].data[-1].T.detach().clone()\n",
    "mp[2].data = hp[1].data.T.detach().clone()\n",
    "mp[3].data = hp[2].data.T.detach().clone()\n",
    "mp = list(my_target_net.parameters())\n",
    "mp[0].data = hp[0].data[:-1].T.detach().clone()\n",
    "mp[1].data = hp[0].data[-1].T.detach().clone()\n",
    "mp[2].data = hp[1].data.T.detach().clone()\n",
    "mp[3].data = hp[2].data.T.detach().clone()\n",
    "\n",
    "\n",
    "\n"
   ],
   "metadata": {
    "collapsed": false,
    "pycharm": {
     "name": "#%%\n"
    }
   }
  },
  {
   "cell_type": "markdown",
   "source": [
    "In the next cell, the agent is trained. The function we use, is exactly the same as for the DQN, the only difference is that the model we pass now is an instance of our SQN class, rather than the PyTorch neural network base class.\n",
    "\n",
    "Failed to reach OpenAIGymStandard\n",
    "Best 100 episode average:  tensor(81.9500)  reached at episode  109 . Model saved in folder best.\n",
    "Complete\n"
   ],
   "metadata": {
    "collapsed": false
   }
  },
  {
   "cell_type": "code",
   "execution_count": null,
   "outputs": [],
   "source": [
    "torch.manual_seed(467)\n",
    "random.seed(208)\n",
    "gym_seed = 216\n",
    "\n",
    "optimizer = optim.Adam(policy_net.parameters(), lr=LEARNING_RATE)\n",
    "\n",
    "train_agent.train_agent(env,policy_net,target_net,BATCH_SIZE,DISCOUNT_FACTOR,EPSILON_START,\n",
    "            EPSILON_END,EPSILON_DECAY,TARGET_UPDATE_FREQUENCY,optimizer,LEARNING_RATE,\n",
    "            REPLAY_MEMORY_SIZE,device,GYM_TARGET_AVG,GYM_TARGET_DURATION,num_episodes=NUM_EPISODES,\n",
    "            max_steps=MAX_STEPS,render=RENDER,double_q_learning=DOUBLE_Q,gradient_clipping=GRADIENT_CLIPPING,\n",
    "            initial_replay_size=INITIAL_REPLAY_SIZE,gym_seed=gym_seed)\n",
    "\n",
    "chris_policy = policy_net\n",
    "chris_target = target_net"
   ],
   "metadata": {
    "collapsed": false,
    "pycharm": {
     "name": "#%%\n"
    }
   }
  },
  {
   "cell_type": "code",
   "execution_count": null,
   "outputs": [],
   "source": [
    "policy_net = my_net\n",
    "target_net = my_target_net\n",
    "\n",
    "torch.manual_seed(467)\n",
    "random.seed(208)\n",
    "gym_seed = 216\n",
    "\n",
    "optimizer = optim.Adam(policy_net.parameters(), lr=LEARNING_RATE)\n",
    "\n",
    "train_agent.train_agent(env,policy_net,target_net,BATCH_SIZE,DISCOUNT_FACTOR,EPSILON_START,\n",
    "            EPSILON_END,EPSILON_DECAY,TARGET_UPDATE_FREQUENCY,optimizer,LEARNING_RATE,\n",
    "            REPLAY_MEMORY_SIZE,device,GYM_TARGET_AVG,GYM_TARGET_DURATION,num_episodes=NUM_EPISODES,\n",
    "            max_steps=MAX_STEPS,render=RENDER,double_q_learning=DOUBLE_Q,gradient_clipping=GRADIENT_CLIPPING,\n",
    "            initial_replay_size=INITIAL_REPLAY_SIZE,gym_seed=gym_seed)"
   ],
   "metadata": {
    "collapsed": false,
    "pycharm": {
     "name": "#%%\n"
    }
   }
  },
  {
   "cell_type": "code",
   "execution_count": null,
   "outputs": [],
   "source": [
    "testinp = torch.tensor([[.1,.1,.1,1]], dtype=torch.float)\n",
    "print(chris_policy.forward(testinp)[0,0].item())\n",
    "print(policy_net.forward(testinp)[0,0].item())\n"
   ],
   "metadata": {
    "collapsed": false,
    "pycharm": {
     "name": "#%%\n"
    }
   }
  },
  {
   "cell_type": "code",
   "execution_count": null,
   "outputs": [],
   "source": [
    "print(list(chris_policy.parameters())[1].grad[1,0].item())\n",
    "\n",
    "print(list(policy_net.parameters())[1].grad[0,1].item())\n"
   ],
   "metadata": {
    "collapsed": false,
    "pycharm": {
     "name": "#%%\n"
    }
   }
  },
  {
   "cell_type": "code",
   "execution_count": null,
   "outputs": [],
   "source": [
    "print(list(chris_policy.parameters())[0].grad[1,1].item())\n",
    "\n",
    "print(list(policy_net.parameters())[0].grad[1,1].item())"
   ],
   "metadata": {
    "collapsed": false,
    "pycharm": {
     "name": "#%%\n"
    }
   }
  },
  {
   "cell_type": "code",
   "execution_count": null,
   "outputs": [],
   "source": [
    "\n",
    "chris_policy.parameters()[0][0,0].item()"
   ],
   "metadata": {
    "collapsed": false,
    "pycharm": {
     "name": "#%%\n"
    }
   }
  },
  {
   "cell_type": "code",
   "execution_count": null,
   "outputs": [],
   "source": [
    "list(policy_net.parameters())[0][0,0].item()\n"
   ],
   "metadata": {
    "collapsed": false,
    "pycharm": {
     "name": "#%%\n"
    }
   }
  },
  {
   "cell_type": "code",
   "execution_count": null,
   "outputs": [],
   "source": [
    "my_net.input_linear.weight.T"
   ],
   "metadata": {
    "collapsed": false,
    "pycharm": {
     "name": "#%%\n"
    }
   }
  },
  {
   "cell_type": "code",
   "execution_count": null,
   "outputs": [],
   "source": [],
   "metadata": {
    "collapsed": false,
    "pycharm": {
     "name": "#%%\n"
    }
   }
  },
  {
   "cell_type": "code",
   "execution_count": null,
   "outputs": [],
   "source": [
    "A = torch.rand((2,10))\n",
    "B = torch.rand((10, 2))\n",
    "\n",
    "m1 = torch.einsum(\"ab,bc->ac\", A, B) \n",
    "m2 = torch.matmul(A,B)\n",
    "\n",
    "\n",
    "\n"
   ],
   "metadata": {
    "collapsed": false,
    "pycharm": {
     "name": "#%%\n"
    }
   }
  },
  {
   "cell_type": "code",
   "execution_count": null,
   "outputs": [],
   "source": [
    "m1.shape"
   ],
   "metadata": {
    "collapsed": false,
    "pycharm": {
     "name": "#%%\n"
    }
   }
  },
  {
   "cell_type": "code",
   "execution_count": null,
   "outputs": [],
   "source": [
    "m2.shape"
   ],
   "metadata": {
    "collapsed": false,
    "pycharm": {
     "name": "#%%\n"
    }
   }
  },
  {
   "cell_type": "code",
   "execution_count": null,
   "outputs": [],
   "source": [
    "m1-m2\n",
    "\n"
   ],
   "metadata": {
    "collapsed": false,
    "pycharm": {
     "name": "#%%\n"
    }
   }
  },
  {
   "cell_type": "code",
   "execution_count": null,
   "outputs": [],
   "source": [
    "print(list(chris_policy.parameters())[1].grad[1,0].item())\n",
    "\n",
    "print(list(policy_net.parameters())[1].grad[1,0].item())\n"
   ],
   "metadata": {
    "collapsed": false,
    "pycharm": {
     "name": "#%%\n"
    }
   }
  },
  {
   "cell_type": "code",
   "execution_count": null,
   "outputs": [],
   "source": [
    "print(list(chris_policy.parameters())[0].grad[1,1].item())\n",
    "\n",
    "print(list(policy_net.parameters())[0].grad[1,1].item())"
   ],
   "metadata": {
    "collapsed": false,
    "pycharm": {
     "name": "#%%\n"
    }
   }
  },
  {
   "cell_type": "code",
   "execution_count": null,
   "outputs": [],
   "source": [
    "\n",
    "chris_policy.parameters()[0][0,0].item()"
   ],
   "metadata": {
    "collapsed": false,
    "pycharm": {
     "name": "#%%\n"
    }
   }
  },
  {
   "cell_type": "code",
   "execution_count": null,
   "outputs": [],
   "source": [
    "list(policy_net.parameters())[0][0,0].item()\n",
    "\n"
   ],
   "metadata": {
    "collapsed": false,
    "pycharm": {
     "name": "#%%\n"
    }
   }
  },
  {
   "cell_type": "markdown",
   "source": [
    "We again set the seeds in a way such that the gym standard is reached. We obtained those seed from our experiments, where we saved the seeds upon succesfully reaching the gym standard."
   ],
   "metadata": {
    "collapsed": false
   }
  },
  {
   "cell_type": "code",
   "execution_count": null,
   "outputs": [],
   "source": [
    "# alternatively use the seeds gym: 240, torch: 18, random: 626 and a learning rate of 0.0005 \n",
    "# to get the same results as figure 4.9 in the thesis\n",
    "torch.manual_seed(467)\n",
    "random.seed(208)\n",
    "gym_seed = 216\n"
   ],
   "metadata": {
    "collapsed": false,
    "pycharm": {
     "name": "#%%\n"
    }
   }
  },
  {
   "cell_type": "markdown",
   "source": [
    "Now, we set up the neural network. Note, that SpyTorch does not support biases, so we instead add a constant input to each observation (equivalent to first layer biases) and add one additional neuron to each hidden layer to compensate for the missing biases."
   ],
   "metadata": {
    "collapsed": false
   }
  },
  {
   "cell_type": "code",
   "execution_count": null,
   "outputs": [],
   "source": [
    "architecture = [4,17,17,2]\n",
    "policy_net = SQN.SQN(architecture,device,alpha=ALPHA,beta=BETA,simulation_time=SIMULATION_TIME,add_bias_as_observation=True,\n",
    "                  encoding=ENCODING,decoding=DECODING,reset=RESET,threshold=THRESHOLD)\n",
    "# load the fixed initial weights, remove this line to get random initial weights\n",
    "#policy_net.load_state_dict(torch.load('./../../CartPole-v0/DSQN-Surrogate-Gradients/initial/model.pt'))\n",
    "\n",
    "target_net = SQN.SQN(architecture,device,alpha=0,beta=1,simulation_time=SIMULATION_TIME,add_bias_as_observation=True,\n",
    "                  encoding=ENCODING,decoding=DECODING,reset=RESET,threshold=THRESHOLD)\n",
    "target_net.load_state_dict(policy_net.state_dict())\n",
    "\n",
    "# initialize optimizer\n",
    "#optimizer = optim.Adam(policy_net.parameters(), lr=LEARNING_RATE)\n",
    "\n"
   ],
   "metadata": {
    "collapsed": false,
    "pycharm": {
     "name": "#%%\n"
    }
   }
  },
  {
   "cell_type": "markdown",
   "source": [
    "The plot again shows the rewards in each episode (blue) and the average reward over the last 100 episodes (orange).\n",
    "\n",
    "The next experiment in this series is Load-DQN.\n"
   ],
   "metadata": {
    "collapsed": false
   }
  },
  {
   "cell_type": "code",
   "execution_count": null,
   "outputs": [],
   "source": [
    "'''\n",
    "mp = list(my_net.parameters())\n",
    "hp = list(policy_net.parameters())\n",
    "mp[0].data = hp[0].data.T.detach().clone()\n",
    "mp[1].data = hp[1].data.T.detach().clone()\n",
    "mp[2].data = hp[2].data.T.detach().clone()\n",
    "mp = list(my_target_net.parameters())\n",
    "mp[0].data = hp[0].data.T.detach().clone()\n",
    "mp[1].data = hp[1].data.T.detach().clone()\n",
    "mp[2].data = hp[2].data.T.detach().clone()\n",
    "\n",
    "\n",
    "mp = list(my_net.parameters())\n",
    "hp = list(policy_net.parameters())\n",
    "mp[0].data = hp[0].data.detach().clone()\n",
    "mp[1].data = hp[1].data.detach().clone()\n",
    "mp[2].data = hp[2].data.detach().clone()\n",
    "mp = list(my_target_net.parameters())\n",
    "mp[0].data = hp[0].data.detach().clone()\n",
    "mp[1].data = hp[1].data.detach().clone()\n",
    "mp[2].data = hp[2].data.detach().clone()\n",
    "'''\n"
   ],
   "metadata": {
    "collapsed": false,
    "pycharm": {
     "name": "#%%\n"
    }
   }
  },
  {
   "cell_type": "code",
   "execution_count": null,
   "outputs": [],
   "source": [
    "testinp = torch.tensor([[.1,.1,.1,1], [.1,.3,.2,1]], dtype=torch.float, device=device)\n",
    "myout = my_net(testinp, None)\n",
    "print(\"-------------------------------------------------------------------------\")\n",
    "chrisout = policy_net.forward(testinp)\n",
    "my_net.zero_grad()\n",
    "policy_net.zero_grad()\n",
    "myout.sum().backward()\n",
    "print(\"-------------------------------------------------------------------------\")\n",
    "chrisout.sum().backward()\n",
    "print(myout-chrisout)\n",
    "print(list(my_net.parameters())[0].grad[0,0].item())\n",
    "print(list(policy_net.parameters())[0].grad[0,0].item())\n",
    "\n"
   ],
   "metadata": {
    "collapsed": false,
    "pycharm": {
     "name": "#%%\n"
    }
   }
  },
  {
   "cell_type": "code",
   "execution_count": null,
   "outputs": [],
   "source": [
    "\n",
    "\n"
   ],
   "metadata": {
    "collapsed": false,
    "pycharm": {
     "name": "#%%\n"
    }
   }
  },
  {
   "cell_type": "markdown",
   "source": [
    "In the next cell, the agent is trained. The function we use, is exactly the same as for the DQN, the only difference is that the model we pass now is an instance of our SQN class, rather than the PyTorch neural network base class.\n",
    "\n",
    "Failed to reach OpenAIGymStandard\n",
    "Best 100 episode average:  tensor(81.9500)  reached at episode  109 . Model saved in folder best.\n",
    "Complete\n",
    "\n"
   ],
   "metadata": {
    "collapsed": false
   }
  },
  {
   "cell_type": "code",
   "execution_count": null,
   "outputs": [],
   "source": [
    "torch.manual_seed(467)\n",
    "random.seed(208)\n",
    "gym_seed = 216\n",
    "\n",
    "optimizer = optim.Adam(policy_net.parameters(), lr=LEARNING_RATE)\n",
    "start = time.time()\n",
    "train_agent.train_agent(env,policy_net,target_net,BATCH_SIZE,DISCOUNT_FACTOR,EPSILON_START,\n",
    "            EPSILON_END,EPSILON_DECAY,TARGET_UPDATE_FREQUENCY,optimizer,LEARNING_RATE,\n",
    "            REPLAY_MEMORY_SIZE,device,GYM_TARGET_AVG,GYM_TARGET_DURATION,num_episodes=NUM_EPISODES,\n",
    "            max_steps=MAX_STEPS,render=RENDER,double_q_learning=DOUBLE_Q,gradient_clipping=GRADIENT_CLIPPING,\n",
    "            initial_replay_size=INITIAL_REPLAY_SIZE,gym_seed=gym_seed)\n",
    "\n",
    "chris_policy = policy_net\n",
    "chris_target = target_net"
   ],
   "metadata": {
    "collapsed": false,
    "pycharm": {
     "name": "#%%\n"
    }
   }
  },
  {
   "cell_type": "code",
   "execution_count": null,
   "outputs": [],
   "source": [
    "time.time()-start\n"
   ],
   "metadata": {
    "collapsed": false,
    "pycharm": {
     "name": "#%%\n"
    }
   }
  },
  {
   "cell_type": "code",
   "execution_count": null,
   "outputs": [],
   "source": [
    "testinp = torch.tensor([[.1,.1,.1,1]], dtype=torch.float, device=device)\n",
    "print(chris_policy.forward(testinp)[0,0].item())\n",
    "print(policy_net.forward(testinp)[0,0].item())\n",
    "\n",
    "start = time.time()\n",
    "for i in range(100):\n",
    "    #testinp2 = torch.rand((128,4), dtype=torch.float, device=device)\n",
    "    out = chris_policy.forward(testinp2)\n",
    "    out.sum().backward()\n",
    "print(time.time()-start)"
   ],
   "metadata": {
    "collapsed": false,
    "pycharm": {
     "name": "#%%\n"
    }
   }
  },
  {
   "cell_type": "markdown",
   "source": [
    "2.9331846237182617\n",
    "3.9955623149871826\n"
   ],
   "metadata": {
    "collapsed": false
   }
  },
  {
   "cell_type": "code",
   "execution_count": null,
   "outputs": [],
   "source": [
    "img = Image.new('L',(128,40),color=128)"
   ],
   "metadata": {
    "collapsed": false,
    "pycharm": {
     "name": "#%%\n"
    }
   }
  },
  {
   "cell_type": "code",
   "execution_count": null,
   "outputs": [],
   "source": [
    "for i in range(20):\n",
    "    for k in range(128):\n",
    "        img.putpixel((k, i), int(memories[i, 0, k])*255)\n",
    "for i in range(20):\n",
    "    for k in range(128):\n",
    "        img.putpixel((k, 39-i), int(memories_bw[i, 0, k])*255)"
   ],
   "metadata": {
    "collapsed": false,
    "pycharm": {
     "name": "#%%\n"
    }
   }
  },
  {
   "cell_type": "code",
   "execution_count": null,
   "outputs": [],
   "source": [
    "img.resize((512, 160))"
   ],
   "metadata": {
    "collapsed": false,
    "pycharm": {
     "name": "#%%\n"
    }
   }
  }
 ],
 "metadata": {
  "kernelspec": {
   "display_name": "Python 3",
   "language": "python",
   "name": "python3"
  },
  "language_info": {
   "codemirror_mode": {
    "name": "ipython",
    "version": 2
   },
   "file_extension": ".py",
   "mimetype": "text/x-python",
   "name": "python",
   "nbconvert_exporter": "python",
   "pygments_lexer": "ipython2",
   "version": "2.7.6"
  },
  "pycharm": {
   "stem_cell": {
    "cell_type": "raw",
    "source": [
     "\n",
     "    "
    ],
    "metadata": {
     "collapsed": false
    }
   }
  }
 },
 "nbformat": 4,
 "nbformat_minor": 0
}