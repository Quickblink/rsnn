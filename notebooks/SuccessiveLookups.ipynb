{
 "cells": [
  {
   "cell_type": "code",
   "execution_count": 1,
   "metadata": {
    "collapsed": true
   },
   "outputs": [],
   "source": [
    "import sys\n",
    "sys.path.append('../')\n",
    "from Code.envs.SuccessiveLookups import SuccessiveLookups\n",
    "from Code.train import train, OptWrapper\n",
    "import torch\n",
    "import torch.nn as nn"
   ]
  },
  {
   "cell_type": "code",
   "execution_count": 2,
   "outputs": [],
   "source": [
    "\n",
    "spec = {\n",
    "    'control_config': {\n",
    "        'neuron_type': 'LIF',\n",
    "        'n_neurons': 100,\n",
    "        'TAU': 5,\n",
    "        '1-beta': False, # feature used in bellec et al. (should be deactivated for better results)\n",
    "        'SPIKE_FN': 'bellec' #surrogate gradient function, either 'bellec' (better) or 'superspike'\n",
    "    },\n",
    "    'mem_config': {\n",
    "        'neuron_type': 'Cooldown', #Supported types: 'Adaptive', 'NoReset', 'Cooldown', 'LIF'\n",
    "        'n_neurons': 10,\n",
    "        'TAU': 25,\n",
    "        '1-beta': False,\n",
    "        'SPIKE_FN': 'bellec',\n",
    "        'GAMMA': 0.27,\n",
    "        'TAU_THR': 100,\n",
    "    },\n",
    "    'exp_config': {\n",
    "        'n_sequence': 30,\n",
    "        'val_sequence': 100,\n",
    "        'round_length': 50\n",
    "    },\n",
    "    'lr': 0.001,\n",
    "    'lr_decay': 1,\n",
    "    'iterations': 5000,\n",
    "    'batch_size': 64,\n",
    "    'architecture': '1L',\n",
    "    'device': 'cuda',\n",
    "    'validation_frequency': 100\n",
    "}"
   ],
   "metadata": {
    "collapsed": false,
    "pycharm": {
     "name": "#%%\n"
    }
   }
  },
  {
   "cell_type": "code",
   "execution_count": 3,
   "outputs": [],
   "source": [
    "DEVICE = torch.device(spec['device'])\n",
    "\n",
    "\n",
    "train_problem = SuccessiveLookups(spec['iterations'], spec['batch_size'], spec['exp_config']['n_sequence'],\n",
    "                               spec['exp_config']['round_length'], DEVICE)\n",
    "val_problem = SuccessiveLookups(1, spec['batch_size'], spec['exp_config']['val_sequence'],\n",
    "                               spec['exp_config']['round_length'], DEVICE)\n",
    "\n",
    "\n",
    "n_in, n_out, input_rate = train_problem.get_infos()\n",
    "\n",
    "\n"
   ],
   "metadata": {
    "collapsed": false,
    "pycharm": {
     "name": "#%%\n"
    }
   }
  },
  {
   "cell_type": "code",
   "execution_count": 4,
   "outputs": [
    {
     "data": {
      "text/plain": "OuterWrapper(\n  (model): SequentialNetwork(\n    (layers): ModuleDict(\n      (loop): SequenceWrapper(\n        (model): ParallelNetwork(\n          (layers): ModuleDict(\n            (control_synapse): Linear(in_features=168, out_features=100, bias=True)\n            (control): LIFNeuron()\n            (mem_synapse): Linear(in_features=168, out_features=10, bias=True)\n            (mem): CooldownNeuron()\n            (output): BaseNeuron()\n          )\n        )\n      )\n      (output_synapse): Linear(in_features=110, out_features=8, bias=True)\n      (output): BaseNeuron()\n    )\n  )\n)"
     },
     "execution_count": 4,
     "metadata": {},
     "output_type": "execute_result"
    }
   ],
   "source": [
    "from Code.networks import OuterWrapper, SequentialNetwork, ParallelNetwork, SequenceWrapper, BaseNeuron, build_standard_loop\n",
    "\n",
    "loop = build_standard_loop(spec, n_in)\n",
    "out_neuron_size = spec['control_config']['n_neurons'] + spec['mem_config']['n_neurons']\n",
    "\n",
    "outer = {\n",
    "    'input': n_in,\n",
    "    'loop': [['input'], SequenceWrapper(ParallelNetwork(loop)), None],\n",
    "    'output': [['loop'], BaseNeuron(n_out, None), nn.Linear]\n",
    "}\n",
    "\n",
    "model = OuterWrapper(SequentialNetwork(outer))\n",
    "model.to(DEVICE)"
   ],
   "metadata": {
    "collapsed": false,
    "pycharm": {
     "name": "#%%\n"
    }
   }
  },
  {
   "cell_type": "code",
   "execution_count": 5,
   "outputs": [],
   "source": [
    "optimizer = OptWrapper(model.parameters(), spec['lr'], spec['lr_decay'], 2500)"
   ],
   "metadata": {
    "collapsed": false,
    "pycharm": {
     "name": "#%%\n"
    }
   }
  },
  {
   "cell_type": "code",
   "execution_count": null,
   "outputs": [
    {
     "name": "stdout",
     "output_type": "stream",
     "text": [
      "Val Acc: 12.28% | Val Time: 4.0s | Time per it: 3.6s\n",
      "It:   20 | Loss: 2.082 | Acc: 13.03%\n",
      "It:   40 | Loss: 2.080 | Acc: 12.49%\n",
      "It:   60 | Loss: 2.078 | Acc: 12.08%\n"
     ]
    }
   ],
   "source": [
    "train(train_problem, val_problem, optimizer, model, None, validate_every=spec['validation_frequency'])"
   ],
   "metadata": {
    "collapsed": false,
    "pycharm": {
     "name": "#%%\n",
     "is_executing": true
    }
   }
  },
  {
   "cell_type": "code",
   "execution_count": null,
   "outputs": [],
   "source": [
    "\n"
   ],
   "metadata": {
    "collapsed": false,
    "pycharm": {
     "name": "#%%\n",
     "is_executing": true
    }
   }
  }
 ],
 "metadata": {
  "kernelspec": {
   "display_name": "Python 3",
   "language": "python",
   "name": "python3"
  },
  "language_info": {
   "codemirror_mode": {
    "name": "ipython",
    "version": 2
   },
   "file_extension": ".py",
   "mimetype": "text/x-python",
   "name": "python",
   "nbconvert_exporter": "python",
   "pygments_lexer": "ipython2",
   "version": "2.7.6"
  }
 },
 "nbformat": 4,
 "nbformat_minor": 0
}